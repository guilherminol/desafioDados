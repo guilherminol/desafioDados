{
 "cells": [
  {
   "attachments": {},
   "cell_type": "markdown",
   "metadata": {},
   "source": [
    "# INVESTIGANDO A POBREZA NO BRASIL\n",
    "\n",
    "Para investigar como a pobreza no brasil se comporta vamos analisar primeiramente como cada gênero e raca é afetado pela pobreza ou vulnerabilidade\n",
    "\n",
    "### Hipótese 1: A pobreza afeta mais as mulheres do que os homens. \n",
    "    Esta hipótese sugere que as mulheres são desproporcionalmente afetadas pela pobreza em comparação aos homens, possivelmente devido a fatores como discriminação de gênero, desigualdade salarial e responsabilidades familiares.\n",
    "\n",
    "### Hipótese 2: A pobreza afeta mais as pessoas de raça negra do que as de raça branca. \n",
    "    Esta hipótese propõe que as pessoas de raça negra são mais afetadas pela pobreza do que as de raça branca, possivelmente devido a fatores históricos e estruturais de desigualdade racial.\n",
    "\n",
    "### Hipótese 3: A interseção de gênero e raça tem um impacto significativo na pobreza. \n",
    "    Esta hipótese sugere que a combinação de gênero e raça pode ter um impacto significativo na experiência da pobreza. Por exemplo, uma mulher negra pode enfrentar desafios únicos que são diferentes dos enfrentados por um homem branco ou uma mulher branca.\n",
    "\n",
    "### Hipótese 4: A disparidade na pobreza entre diferentes grupos raciais é maior entre as mulheres do que entre os homens. \n",
    "    Esta hipótese sugere que a diferença na experiência da pobreza entre diferentes grupos raciais é mais pronunciada entre as mulheres do que entre os homens. Por exemplo, a diferença na taxa de pobreza entre mulheres negras e mulheres brancas pode ser maior do que a diferença entre homens negros e homens brancos.\n",
    "\n",
    "Para iniciar nossa analise vamos iniciar nossa base de dados \"UF_AgregadoporSexoRaca_20230419.csv\"\n",
    "\n",
    "Além disso vamos verificar inconsistências no databse "
   ]
  },
  {
   "cell_type": "code",
   "execution_count": 60,
   "metadata": {},
   "outputs": [
    {
     "name": "stdout",
     "output_type": "stream",
     "text": [
      "Coluna qtd_pes_pobres tem 116 inconsistencias\n",
      "Coluna qtd_pes_pob_vul tem 123 inconsistencias\n"
     ]
    }
   ],
   "source": [
    "import pandas as pd\n",
    "import plotly.express as px\n",
    "import plotly.subplots as sp\n",
    "import matplotlib.pyplot as plt\n",
    "import seaborn as sns\n",
    "\n",
    "# import warnings\n",
    "# warnings.filterwarnings('ignore')\n",
    "\n",
    "\n",
    "\n",
    "dataframeBase = pd.read_csv(\"./Agregações sexo e raça/UF_AgregadoporSexoRaca_20230419.csv\", sep=\",\")\n",
    "\n",
    "zeros_por_coluna = dataframeBase.apply(lambda coluna: (coluna == 0).sum())\n",
    "colunas = dataframeBase.columns.tolist()\n",
    "\n",
    "for i,coluna in enumerate(zeros_por_coluna):\n",
    "    if coluna != 0 and colunas[i] != \"local\":\n",
    "        print(f\"Coluna {colunas[i]} tem {coluna} zeros\")\n",
    "\n",
    "tmpDF = dataframeBase[[\"qtd_pes_pobres\", \"qtd_pes_vulneraveis\", \"qtd_pes_pob_vul\",\"qtd_0a11\",\"qtd_pessoas\"]]\n",
    "\n",
    "colunas = tmpDF.columns.tolist()\n",
    "        \n",
    "zeros_por_coluna = tmpDF.apply(lambda coluna: (coluna > tmpDF['qtd_pessoas']).sum())\n",
    "for i,coluna in enumerate(zeros_por_coluna):\n",
    "    if coluna != 0 and colunas[i] != \"local\":\n",
    "        print(f\"Coluna {colunas[i]} tem {coluna} inconsistencias\")\n"
   ]
  },
  {
   "attachments": {},
   "cell_type": "markdown",
   "metadata": {},
   "source": [
    "### Checamos a quantidade de infos vazias na nossa database e chegamos a conclusão que todos os dados estão completos! mas ...\n",
    "    Verificamos a quantidade de 0 indesejados no nosso database e algumas inconsistências em que o numero de pessoas pobres ou em vulnerabilidade é maior do que o numero de pessoas, entretanto nossos dados do Brasil inteiro (linha 1) estão completos, então vamos utilizar eles para uma primeira analise\n",
    "#### Agora vamos selecionar os dados que queremos comparar em um novo database, sao eles apenas:\n",
    "    sxraca\n",
    "    qtd_pessoas\n",
    "    qtd_pes_pobres\n",
    "    qtd_pes_vulneraveis\n",
    "    qtd_pes_pob_vul\n",
    "    qtd_0a11"
   ]
  },
  {
   "cell_type": "code",
   "execution_count": 61,
   "metadata": {},
   "outputs": [],
   "source": [
    "newDataframe = dataframeBase[[\"local\",\"sxraca\", \"qtd_pessoas\", \"qtd_pes_pobres\", \"qtd_pes_vulneraveis\", \"qtd_pes_pob_vul\",\"qtd_0a11\"]]"
   ]
  },
  {
   "attachments": {},
   "cell_type": "markdown",
   "metadata": {},
   "source": [
    "## Hora de plotar!!\n",
    "\n",
    "vamos analisar como cada grupo esta relacionado com a pobreza"
   ]
  },
  {
   "cell_type": "code",
   "execution_count": 62,
   "metadata": {},
   "outputs": [
    {
     "name": "stderr",
     "output_type": "stream",
     "text": [
      "/var/folders/qr/gzc51r8560v_3fjtkyl6bdvc0000gn/T/ipykernel_92206/4271452727.py:13: SettingWithCopyWarning:\n",
      "\n",
      "\n",
      "A value is trying to be set on a copy of a slice from a DataFrame.\n",
      "Try using .loc[row_indexer,col_indexer] = value instead\n",
      "\n",
      "See the caveats in the documentation: https://pandas.pydata.org/pandas-docs/stable/user_guide/indexing.html#returning-a-view-versus-a-copy\n",
      "\n"
     ]
    },
    {
     "data": {
      "application/vnd.plotly.v1+json": {
       "config": {
        "plotlyServerURL": "https://plot.ly"
       },
       "data": [
        {
         "alignmentgroup": "True",
         "hovertemplate": "sxraca=%{x}<br>qtd_pessoas=%{y}<extra></extra>",
         "legendgroup": "",
         "marker": {
          "color": "#636efa",
          "pattern": {
           "shape": ""
          }
         },
         "name": "",
         "offsetgroup": "",
         "orientation": "v",
         "showlegend": false,
         "textposition": "auto",
         "type": "bar",
         "x": [
          "Homem Branco",
          "Mulher Branca",
          "Homem Negro",
          "Mulher Negra"
         ],
         "xaxis": "x",
         "y": [
          43426847,
          47194434,
          48588682,
          48582930
         ],
         "yaxis": "y"
        },
        {
         "alignmentgroup": "True",
         "hovertemplate": "sxraca=%{x}<br>qtd_pes_pobres=%{y}<extra></extra>",
         "legendgroup": "",
         "marker": {
          "color": "#636efa",
          "pattern": {
           "shape": ""
          }
         },
         "name": "",
         "offsetgroup": "",
         "orientation": "v",
         "showlegend": false,
         "textposition": "auto",
         "type": "bar",
         "x": [
          "Homem Branco",
          "Mulher Branca",
          "Homem Negro",
          "Mulher Negra"
         ],
         "xaxis": "x2",
         "y": [
          18497,
          1101481,
          8930449,
          6660391
         ],
         "yaxis": "y2"
        },
        {
         "alignmentgroup": "True",
         "hovertemplate": "sxraca=%{x}<br>qtd_pes_vulneraveis=%{y}<extra></extra>",
         "legendgroup": "",
         "marker": {
          "color": "#636efa",
          "pattern": {
           "shape": ""
          }
         },
         "name": "",
         "offsetgroup": "",
         "orientation": "v",
         "showlegend": false,
         "textposition": "auto",
         "type": "bar",
         "x": [
          "Homem Branco",
          "Mulher Branca",
          "Homem Negro",
          "Mulher Negra"
         ],
         "xaxis": "x3",
         "y": [
          6898650,
          6657896,
          15709513,
          14673913
         ],
         "yaxis": "y3"
        },
        {
         "alignmentgroup": "True",
         "hovertemplate": "sxraca=%{x}<br>qtd_pes_pob_vul=%{y}<extra></extra>",
         "legendgroup": "",
         "marker": {
          "color": "#636efa",
          "pattern": {
           "shape": ""
          }
         },
         "name": "",
         "offsetgroup": "",
         "orientation": "v",
         "showlegend": false,
         "textposition": "auto",
         "type": "bar",
         "x": [
          "Homem Branco",
          "Mulher Branca",
          "Homem Negro",
          "Mulher Negra"
         ],
         "xaxis": "x4",
         "y": [
          21945199,
          95450001,
          9708784,
          7407237
         ],
         "yaxis": "y4"
        }
       ],
       "layout": {
        "height": 1000,
        "template": {
         "data": {
          "bar": [
           {
            "error_x": {
             "color": "#2a3f5f"
            },
            "error_y": {
             "color": "#2a3f5f"
            },
            "marker": {
             "line": {
              "color": "#E5ECF6",
              "width": 0.5
             },
             "pattern": {
              "fillmode": "overlay",
              "size": 10,
              "solidity": 0.2
             }
            },
            "type": "bar"
           }
          ],
          "barpolar": [
           {
            "marker": {
             "line": {
              "color": "#E5ECF6",
              "width": 0.5
             },
             "pattern": {
              "fillmode": "overlay",
              "size": 10,
              "solidity": 0.2
             }
            },
            "type": "barpolar"
           }
          ],
          "carpet": [
           {
            "aaxis": {
             "endlinecolor": "#2a3f5f",
             "gridcolor": "white",
             "linecolor": "white",
             "minorgridcolor": "white",
             "startlinecolor": "#2a3f5f"
            },
            "baxis": {
             "endlinecolor": "#2a3f5f",
             "gridcolor": "white",
             "linecolor": "white",
             "minorgridcolor": "white",
             "startlinecolor": "#2a3f5f"
            },
            "type": "carpet"
           }
          ],
          "choropleth": [
           {
            "colorbar": {
             "outlinewidth": 0,
             "ticks": ""
            },
            "type": "choropleth"
           }
          ],
          "contour": [
           {
            "colorbar": {
             "outlinewidth": 0,
             "ticks": ""
            },
            "colorscale": [
             [
              0,
              "#0d0887"
             ],
             [
              0.1111111111111111,
              "#46039f"
             ],
             [
              0.2222222222222222,
              "#7201a8"
             ],
             [
              0.3333333333333333,
              "#9c179e"
             ],
             [
              0.4444444444444444,
              "#bd3786"
             ],
             [
              0.5555555555555556,
              "#d8576b"
             ],
             [
              0.6666666666666666,
              "#ed7953"
             ],
             [
              0.7777777777777778,
              "#fb9f3a"
             ],
             [
              0.8888888888888888,
              "#fdca26"
             ],
             [
              1,
              "#f0f921"
             ]
            ],
            "type": "contour"
           }
          ],
          "contourcarpet": [
           {
            "colorbar": {
             "outlinewidth": 0,
             "ticks": ""
            },
            "type": "contourcarpet"
           }
          ],
          "heatmap": [
           {
            "colorbar": {
             "outlinewidth": 0,
             "ticks": ""
            },
            "colorscale": [
             [
              0,
              "#0d0887"
             ],
             [
              0.1111111111111111,
              "#46039f"
             ],
             [
              0.2222222222222222,
              "#7201a8"
             ],
             [
              0.3333333333333333,
              "#9c179e"
             ],
             [
              0.4444444444444444,
              "#bd3786"
             ],
             [
              0.5555555555555556,
              "#d8576b"
             ],
             [
              0.6666666666666666,
              "#ed7953"
             ],
             [
              0.7777777777777778,
              "#fb9f3a"
             ],
             [
              0.8888888888888888,
              "#fdca26"
             ],
             [
              1,
              "#f0f921"
             ]
            ],
            "type": "heatmap"
           }
          ],
          "heatmapgl": [
           {
            "colorbar": {
             "outlinewidth": 0,
             "ticks": ""
            },
            "colorscale": [
             [
              0,
              "#0d0887"
             ],
             [
              0.1111111111111111,
              "#46039f"
             ],
             [
              0.2222222222222222,
              "#7201a8"
             ],
             [
              0.3333333333333333,
              "#9c179e"
             ],
             [
              0.4444444444444444,
              "#bd3786"
             ],
             [
              0.5555555555555556,
              "#d8576b"
             ],
             [
              0.6666666666666666,
              "#ed7953"
             ],
             [
              0.7777777777777778,
              "#fb9f3a"
             ],
             [
              0.8888888888888888,
              "#fdca26"
             ],
             [
              1,
              "#f0f921"
             ]
            ],
            "type": "heatmapgl"
           }
          ],
          "histogram": [
           {
            "marker": {
             "pattern": {
              "fillmode": "overlay",
              "size": 10,
              "solidity": 0.2
             }
            },
            "type": "histogram"
           }
          ],
          "histogram2d": [
           {
            "colorbar": {
             "outlinewidth": 0,
             "ticks": ""
            },
            "colorscale": [
             [
              0,
              "#0d0887"
             ],
             [
              0.1111111111111111,
              "#46039f"
             ],
             [
              0.2222222222222222,
              "#7201a8"
             ],
             [
              0.3333333333333333,
              "#9c179e"
             ],
             [
              0.4444444444444444,
              "#bd3786"
             ],
             [
              0.5555555555555556,
              "#d8576b"
             ],
             [
              0.6666666666666666,
              "#ed7953"
             ],
             [
              0.7777777777777778,
              "#fb9f3a"
             ],
             [
              0.8888888888888888,
              "#fdca26"
             ],
             [
              1,
              "#f0f921"
             ]
            ],
            "type": "histogram2d"
           }
          ],
          "histogram2dcontour": [
           {
            "colorbar": {
             "outlinewidth": 0,
             "ticks": ""
            },
            "colorscale": [
             [
              0,
              "#0d0887"
             ],
             [
              0.1111111111111111,
              "#46039f"
             ],
             [
              0.2222222222222222,
              "#7201a8"
             ],
             [
              0.3333333333333333,
              "#9c179e"
             ],
             [
              0.4444444444444444,
              "#bd3786"
             ],
             [
              0.5555555555555556,
              "#d8576b"
             ],
             [
              0.6666666666666666,
              "#ed7953"
             ],
             [
              0.7777777777777778,
              "#fb9f3a"
             ],
             [
              0.8888888888888888,
              "#fdca26"
             ],
             [
              1,
              "#f0f921"
             ]
            ],
            "type": "histogram2dcontour"
           }
          ],
          "mesh3d": [
           {
            "colorbar": {
             "outlinewidth": 0,
             "ticks": ""
            },
            "type": "mesh3d"
           }
          ],
          "parcoords": [
           {
            "line": {
             "colorbar": {
              "outlinewidth": 0,
              "ticks": ""
             }
            },
            "type": "parcoords"
           }
          ],
          "pie": [
           {
            "automargin": true,
            "type": "pie"
           }
          ],
          "scatter": [
           {
            "fillpattern": {
             "fillmode": "overlay",
             "size": 10,
             "solidity": 0.2
            },
            "type": "scatter"
           }
          ],
          "scatter3d": [
           {
            "line": {
             "colorbar": {
              "outlinewidth": 0,
              "ticks": ""
             }
            },
            "marker": {
             "colorbar": {
              "outlinewidth": 0,
              "ticks": ""
             }
            },
            "type": "scatter3d"
           }
          ],
          "scattercarpet": [
           {
            "marker": {
             "colorbar": {
              "outlinewidth": 0,
              "ticks": ""
             }
            },
            "type": "scattercarpet"
           }
          ],
          "scattergeo": [
           {
            "marker": {
             "colorbar": {
              "outlinewidth": 0,
              "ticks": ""
             }
            },
            "type": "scattergeo"
           }
          ],
          "scattergl": [
           {
            "marker": {
             "colorbar": {
              "outlinewidth": 0,
              "ticks": ""
             }
            },
            "type": "scattergl"
           }
          ],
          "scattermapbox": [
           {
            "marker": {
             "colorbar": {
              "outlinewidth": 0,
              "ticks": ""
             }
            },
            "type": "scattermapbox"
           }
          ],
          "scatterpolar": [
           {
            "marker": {
             "colorbar": {
              "outlinewidth": 0,
              "ticks": ""
             }
            },
            "type": "scatterpolar"
           }
          ],
          "scatterpolargl": [
           {
            "marker": {
             "colorbar": {
              "outlinewidth": 0,
              "ticks": ""
             }
            },
            "type": "scatterpolargl"
           }
          ],
          "scatterternary": [
           {
            "marker": {
             "colorbar": {
              "outlinewidth": 0,
              "ticks": ""
             }
            },
            "type": "scatterternary"
           }
          ],
          "surface": [
           {
            "colorbar": {
             "outlinewidth": 0,
             "ticks": ""
            },
            "colorscale": [
             [
              0,
              "#0d0887"
             ],
             [
              0.1111111111111111,
              "#46039f"
             ],
             [
              0.2222222222222222,
              "#7201a8"
             ],
             [
              0.3333333333333333,
              "#9c179e"
             ],
             [
              0.4444444444444444,
              "#bd3786"
             ],
             [
              0.5555555555555556,
              "#d8576b"
             ],
             [
              0.6666666666666666,
              "#ed7953"
             ],
             [
              0.7777777777777778,
              "#fb9f3a"
             ],
             [
              0.8888888888888888,
              "#fdca26"
             ],
             [
              1,
              "#f0f921"
             ]
            ],
            "type": "surface"
           }
          ],
          "table": [
           {
            "cells": {
             "fill": {
              "color": "#EBF0F8"
             },
             "line": {
              "color": "white"
             }
            },
            "header": {
             "fill": {
              "color": "#C8D4E3"
             },
             "line": {
              "color": "white"
             }
            },
            "type": "table"
           }
          ]
         },
         "layout": {
          "annotationdefaults": {
           "arrowcolor": "#2a3f5f",
           "arrowhead": 0,
           "arrowwidth": 1
          },
          "autotypenumbers": "strict",
          "coloraxis": {
           "colorbar": {
            "outlinewidth": 0,
            "ticks": ""
           }
          },
          "colorscale": {
           "diverging": [
            [
             0,
             "#8e0152"
            ],
            [
             0.1,
             "#c51b7d"
            ],
            [
             0.2,
             "#de77ae"
            ],
            [
             0.3,
             "#f1b6da"
            ],
            [
             0.4,
             "#fde0ef"
            ],
            [
             0.5,
             "#f7f7f7"
            ],
            [
             0.6,
             "#e6f5d0"
            ],
            [
             0.7,
             "#b8e186"
            ],
            [
             0.8,
             "#7fbc41"
            ],
            [
             0.9,
             "#4d9221"
            ],
            [
             1,
             "#276419"
            ]
           ],
           "sequential": [
            [
             0,
             "#0d0887"
            ],
            [
             0.1111111111111111,
             "#46039f"
            ],
            [
             0.2222222222222222,
             "#7201a8"
            ],
            [
             0.3333333333333333,
             "#9c179e"
            ],
            [
             0.4444444444444444,
             "#bd3786"
            ],
            [
             0.5555555555555556,
             "#d8576b"
            ],
            [
             0.6666666666666666,
             "#ed7953"
            ],
            [
             0.7777777777777778,
             "#fb9f3a"
            ],
            [
             0.8888888888888888,
             "#fdca26"
            ],
            [
             1,
             "#f0f921"
            ]
           ],
           "sequentialminus": [
            [
             0,
             "#0d0887"
            ],
            [
             0.1111111111111111,
             "#46039f"
            ],
            [
             0.2222222222222222,
             "#7201a8"
            ],
            [
             0.3333333333333333,
             "#9c179e"
            ],
            [
             0.4444444444444444,
             "#bd3786"
            ],
            [
             0.5555555555555556,
             "#d8576b"
            ],
            [
             0.6666666666666666,
             "#ed7953"
            ],
            [
             0.7777777777777778,
             "#fb9f3a"
            ],
            [
             0.8888888888888888,
             "#fdca26"
            ],
            [
             1,
             "#f0f921"
            ]
           ]
          },
          "colorway": [
           "#636efa",
           "#EF553B",
           "#00cc96",
           "#ab63fa",
           "#FFA15A",
           "#19d3f3",
           "#FF6692",
           "#B6E880",
           "#FF97FF",
           "#FECB52"
          ],
          "font": {
           "color": "#2a3f5f"
          },
          "geo": {
           "bgcolor": "white",
           "lakecolor": "white",
           "landcolor": "#E5ECF6",
           "showlakes": true,
           "showland": true,
           "subunitcolor": "white"
          },
          "hoverlabel": {
           "align": "left"
          },
          "hovermode": "closest",
          "mapbox": {
           "style": "light"
          },
          "paper_bgcolor": "white",
          "plot_bgcolor": "#E5ECF6",
          "polar": {
           "angularaxis": {
            "gridcolor": "white",
            "linecolor": "white",
            "ticks": ""
           },
           "bgcolor": "#E5ECF6",
           "radialaxis": {
            "gridcolor": "white",
            "linecolor": "white",
            "ticks": ""
           }
          },
          "scene": {
           "xaxis": {
            "backgroundcolor": "#E5ECF6",
            "gridcolor": "white",
            "gridwidth": 2,
            "linecolor": "white",
            "showbackground": true,
            "ticks": "",
            "zerolinecolor": "white"
           },
           "yaxis": {
            "backgroundcolor": "#E5ECF6",
            "gridcolor": "white",
            "gridwidth": 2,
            "linecolor": "white",
            "showbackground": true,
            "ticks": "",
            "zerolinecolor": "white"
           },
           "zaxis": {
            "backgroundcolor": "#E5ECF6",
            "gridcolor": "white",
            "gridwidth": 2,
            "linecolor": "white",
            "showbackground": true,
            "ticks": "",
            "zerolinecolor": "white"
           }
          },
          "shapedefaults": {
           "line": {
            "color": "#2a3f5f"
           }
          },
          "ternary": {
           "aaxis": {
            "gridcolor": "white",
            "linecolor": "white",
            "ticks": ""
           },
           "baxis": {
            "gridcolor": "white",
            "linecolor": "white",
            "ticks": ""
           },
           "bgcolor": "#E5ECF6",
           "caxis": {
            "gridcolor": "white",
            "linecolor": "white",
            "ticks": ""
           }
          },
          "title": {
           "x": 0.05
          },
          "xaxis": {
           "automargin": true,
           "gridcolor": "white",
           "linecolor": "white",
           "ticks": "",
           "title": {
            "standoff": 15
           },
           "zerolinecolor": "white",
           "zerolinewidth": 2
          },
          "yaxis": {
           "automargin": true,
           "gridcolor": "white",
           "linecolor": "white",
           "ticks": "",
           "title": {
            "standoff": 15
           },
           "zerolinecolor": "white",
           "zerolinewidth": 2
          }
         }
        },
        "xaxis": {
         "anchor": "y",
         "domain": [
          0,
          0.45
         ]
        },
        "xaxis2": {
         "anchor": "y2",
         "domain": [
          0.55,
          1
         ]
        },
        "xaxis3": {
         "anchor": "y3",
         "domain": [
          0,
          0.45
         ]
        },
        "xaxis4": {
         "anchor": "y4",
         "domain": [
          0.55,
          1
         ]
        },
        "yaxis": {
         "anchor": "x",
         "domain": [
          0.575,
          1
         ],
         "title": {
          "text": "Quantidade de Pessoas"
         }
        },
        "yaxis2": {
         "anchor": "x2",
         "domain": [
          0.575,
          1
         ],
         "title": {
          "text": "Quantidade de Pessoas Pobres"
         }
        },
        "yaxis3": {
         "anchor": "x3",
         "domain": [
          0,
          0.425
         ],
         "title": {
          "text": "Quantidade de Pessoas Vulneráveis"
         }
        },
        "yaxis4": {
         "anchor": "x4",
         "domain": [
          0,
          0.425
         ],
         "title": {
          "text": "Quantidade de Pessoas Pobres ou vulneráveis"
         }
        }
       }
      }
     },
     "metadata": {},
     "output_type": "display_data"
    }
   ],
   "source": [
    "dftemp = newDataframe\n",
    "\n",
    "dftemp = dftemp[(dftemp['local']== 0)]\n",
    "\n",
    "\n",
    "mapeamento = {\n",
    "    1: 'Homem Branco',\n",
    "    2: 'Mulher Branca',\n",
    "    3: 'Homem Negro',\n",
    "    4: 'Mulher Negra'\n",
    "}\n",
    "\n",
    "dftemp['sxraca'] = dftemp['sxraca'].map(mapeamento)\n",
    "\n",
    "\n",
    "fig = sp.make_subplots(rows=2, cols=2)\n",
    "\n",
    "fig1 = px.bar(dftemp, x='sxraca', y='qtd_pessoas')\n",
    "fig.add_trace(fig1['data'][0], row=1, col=1)\n",
    "\n",
    "fig2 = px.bar(dftemp, x='sxraca', y='qtd_pes_pobres')\n",
    "fig.add_trace(fig2['data'][0], row=1, col=2)\n",
    "\n",
    "fig3 = px.bar(dftemp, x='sxraca', y='qtd_pes_vulneraveis')\n",
    "fig.add_trace(fig3['data'][0], row=2, col=1)\n",
    "\n",
    "fig4 = px.bar(dftemp, x='sxraca', y='qtd_pes_pob_vul')\n",
    "fig.add_trace(fig4['data'][0], row=2, col=2)\n",
    "\n",
    "fig.update_yaxes(title_text='Quantidade de Pessoas', row=1, col=1)\n",
    "fig.update_yaxes(title_text='Quantidade de Pessoas Pobres', row=1, col=2)\n",
    "\n",
    "fig.update_yaxes(title_text='Quantidade de Pessoas Vulneráveis', row=2, col=1)\n",
    "fig.update_yaxes(title_text='Quantidade de Pessoas Pobres ou vulneráveis', row=2, col=2)\n",
    "fig.update_layout(height=1000)\n",
    "fig.show()\n"
   ]
  },
  {
   "attachments": {},
   "cell_type": "markdown",
   "metadata": {},
   "source": [
    "### Com isso conseguimos analizar nossos dados ainda estao incosistentes...\n",
    "    Repare que nossa base de dados tem mais mulheres brancas em situação de pob ou vul do que existe de mulheres brancas.\n",
    "    Para resolver isso vamos deduzir que: \n",
    "\n",
    "    qtd_pes_pob_vul = qtd_pes_pobres + qtd_pes_vulneraveis"
   ]
  },
  {
   "cell_type": "code",
   "execution_count": 63,
   "metadata": {},
   "outputs": [
    {
     "name": "stderr",
     "output_type": "stream",
     "text": [
      "/var/folders/qr/gzc51r8560v_3fjtkyl6bdvc0000gn/T/ipykernel_92206/2042387282.py:1: SettingWithCopyWarning:\n",
      "\n",
      "\n",
      "A value is trying to be set on a copy of a slice from a DataFrame.\n",
      "Try using .loc[row_indexer,col_indexer] = value instead\n",
      "\n",
      "See the caveats in the documentation: https://pandas.pydata.org/pandas-docs/stable/user_guide/indexing.html#returning-a-view-versus-a-copy\n",
      "\n"
     ]
    }
   ],
   "source": [
    "dftemp['qtd_pes_pob_vul'] = dftemp[\"qtd_pes_pobres\"] + dftemp[\"qtd_pes_vulneraveis\"]"
   ]
  },
  {
   "cell_type": "code",
   "execution_count": 64,
   "metadata": {},
   "outputs": [
    {
     "data": {
      "application/vnd.plotly.v1+json": {
       "config": {
        "plotlyServerURL": "https://plot.ly"
       },
       "data": [
        {
         "alignmentgroup": "True",
         "hovertemplate": "sxraca=%{x}<br>qtd_pessoas=%{y}<extra></extra>",
         "legendgroup": "",
         "marker": {
          "color": "#636efa",
          "pattern": {
           "shape": ""
          }
         },
         "name": "",
         "offsetgroup": "",
         "orientation": "v",
         "showlegend": false,
         "textposition": "auto",
         "type": "bar",
         "x": [
          "Homem Branco",
          "Mulher Branca",
          "Homem Negro",
          "Mulher Negra"
         ],
         "xaxis": "x",
         "y": [
          43426847,
          47194434,
          48588682,
          48582930
         ],
         "yaxis": "y"
        },
        {
         "alignmentgroup": "True",
         "hovertemplate": "sxraca=%{x}<br>qtd_pes_pobres=%{y}<extra></extra>",
         "legendgroup": "",
         "marker": {
          "color": "#636efa",
          "pattern": {
           "shape": ""
          }
         },
         "name": "",
         "offsetgroup": "",
         "orientation": "v",
         "showlegend": false,
         "textposition": "auto",
         "type": "bar",
         "x": [
          "Homem Branco",
          "Mulher Branca",
          "Homem Negro",
          "Mulher Negra"
         ],
         "xaxis": "x2",
         "y": [
          18497,
          1101481,
          8930449,
          6660391
         ],
         "yaxis": "y2"
        },
        {
         "alignmentgroup": "True",
         "hovertemplate": "sxraca=%{x}<br>qtd_pes_vulneraveis=%{y}<extra></extra>",
         "legendgroup": "",
         "marker": {
          "color": "#636efa",
          "pattern": {
           "shape": ""
          }
         },
         "name": "",
         "offsetgroup": "",
         "orientation": "v",
         "showlegend": false,
         "textposition": "auto",
         "type": "bar",
         "x": [
          "Homem Branco",
          "Mulher Branca",
          "Homem Negro",
          "Mulher Negra"
         ],
         "xaxis": "x3",
         "y": [
          6898650,
          6657896,
          15709513,
          14673913
         ],
         "yaxis": "y3"
        },
        {
         "alignmentgroup": "True",
         "hovertemplate": "sxraca=%{x}<br>qtd_pes_pob_vul=%{y}<extra></extra>",
         "legendgroup": "",
         "marker": {
          "color": "#636efa",
          "pattern": {
           "shape": ""
          }
         },
         "name": "",
         "offsetgroup": "",
         "orientation": "v",
         "showlegend": false,
         "textposition": "auto",
         "type": "bar",
         "x": [
          "Homem Branco",
          "Mulher Branca",
          "Homem Negro",
          "Mulher Negra"
         ],
         "xaxis": "x4",
         "y": [
          6917147,
          7759377,
          24639962,
          21334304
         ],
         "yaxis": "y4"
        }
       ],
       "layout": {
        "height": 1000,
        "template": {
         "data": {
          "bar": [
           {
            "error_x": {
             "color": "#2a3f5f"
            },
            "error_y": {
             "color": "#2a3f5f"
            },
            "marker": {
             "line": {
              "color": "#E5ECF6",
              "width": 0.5
             },
             "pattern": {
              "fillmode": "overlay",
              "size": 10,
              "solidity": 0.2
             }
            },
            "type": "bar"
           }
          ],
          "barpolar": [
           {
            "marker": {
             "line": {
              "color": "#E5ECF6",
              "width": 0.5
             },
             "pattern": {
              "fillmode": "overlay",
              "size": 10,
              "solidity": 0.2
             }
            },
            "type": "barpolar"
           }
          ],
          "carpet": [
           {
            "aaxis": {
             "endlinecolor": "#2a3f5f",
             "gridcolor": "white",
             "linecolor": "white",
             "minorgridcolor": "white",
             "startlinecolor": "#2a3f5f"
            },
            "baxis": {
             "endlinecolor": "#2a3f5f",
             "gridcolor": "white",
             "linecolor": "white",
             "minorgridcolor": "white",
             "startlinecolor": "#2a3f5f"
            },
            "type": "carpet"
           }
          ],
          "choropleth": [
           {
            "colorbar": {
             "outlinewidth": 0,
             "ticks": ""
            },
            "type": "choropleth"
           }
          ],
          "contour": [
           {
            "colorbar": {
             "outlinewidth": 0,
             "ticks": ""
            },
            "colorscale": [
             [
              0,
              "#0d0887"
             ],
             [
              0.1111111111111111,
              "#46039f"
             ],
             [
              0.2222222222222222,
              "#7201a8"
             ],
             [
              0.3333333333333333,
              "#9c179e"
             ],
             [
              0.4444444444444444,
              "#bd3786"
             ],
             [
              0.5555555555555556,
              "#d8576b"
             ],
             [
              0.6666666666666666,
              "#ed7953"
             ],
             [
              0.7777777777777778,
              "#fb9f3a"
             ],
             [
              0.8888888888888888,
              "#fdca26"
             ],
             [
              1,
              "#f0f921"
             ]
            ],
            "type": "contour"
           }
          ],
          "contourcarpet": [
           {
            "colorbar": {
             "outlinewidth": 0,
             "ticks": ""
            },
            "type": "contourcarpet"
           }
          ],
          "heatmap": [
           {
            "colorbar": {
             "outlinewidth": 0,
             "ticks": ""
            },
            "colorscale": [
             [
              0,
              "#0d0887"
             ],
             [
              0.1111111111111111,
              "#46039f"
             ],
             [
              0.2222222222222222,
              "#7201a8"
             ],
             [
              0.3333333333333333,
              "#9c179e"
             ],
             [
              0.4444444444444444,
              "#bd3786"
             ],
             [
              0.5555555555555556,
              "#d8576b"
             ],
             [
              0.6666666666666666,
              "#ed7953"
             ],
             [
              0.7777777777777778,
              "#fb9f3a"
             ],
             [
              0.8888888888888888,
              "#fdca26"
             ],
             [
              1,
              "#f0f921"
             ]
            ],
            "type": "heatmap"
           }
          ],
          "heatmapgl": [
           {
            "colorbar": {
             "outlinewidth": 0,
             "ticks": ""
            },
            "colorscale": [
             [
              0,
              "#0d0887"
             ],
             [
              0.1111111111111111,
              "#46039f"
             ],
             [
              0.2222222222222222,
              "#7201a8"
             ],
             [
              0.3333333333333333,
              "#9c179e"
             ],
             [
              0.4444444444444444,
              "#bd3786"
             ],
             [
              0.5555555555555556,
              "#d8576b"
             ],
             [
              0.6666666666666666,
              "#ed7953"
             ],
             [
              0.7777777777777778,
              "#fb9f3a"
             ],
             [
              0.8888888888888888,
              "#fdca26"
             ],
             [
              1,
              "#f0f921"
             ]
            ],
            "type": "heatmapgl"
           }
          ],
          "histogram": [
           {
            "marker": {
             "pattern": {
              "fillmode": "overlay",
              "size": 10,
              "solidity": 0.2
             }
            },
            "type": "histogram"
           }
          ],
          "histogram2d": [
           {
            "colorbar": {
             "outlinewidth": 0,
             "ticks": ""
            },
            "colorscale": [
             [
              0,
              "#0d0887"
             ],
             [
              0.1111111111111111,
              "#46039f"
             ],
             [
              0.2222222222222222,
              "#7201a8"
             ],
             [
              0.3333333333333333,
              "#9c179e"
             ],
             [
              0.4444444444444444,
              "#bd3786"
             ],
             [
              0.5555555555555556,
              "#d8576b"
             ],
             [
              0.6666666666666666,
              "#ed7953"
             ],
             [
              0.7777777777777778,
              "#fb9f3a"
             ],
             [
              0.8888888888888888,
              "#fdca26"
             ],
             [
              1,
              "#f0f921"
             ]
            ],
            "type": "histogram2d"
           }
          ],
          "histogram2dcontour": [
           {
            "colorbar": {
             "outlinewidth": 0,
             "ticks": ""
            },
            "colorscale": [
             [
              0,
              "#0d0887"
             ],
             [
              0.1111111111111111,
              "#46039f"
             ],
             [
              0.2222222222222222,
              "#7201a8"
             ],
             [
              0.3333333333333333,
              "#9c179e"
             ],
             [
              0.4444444444444444,
              "#bd3786"
             ],
             [
              0.5555555555555556,
              "#d8576b"
             ],
             [
              0.6666666666666666,
              "#ed7953"
             ],
             [
              0.7777777777777778,
              "#fb9f3a"
             ],
             [
              0.8888888888888888,
              "#fdca26"
             ],
             [
              1,
              "#f0f921"
             ]
            ],
            "type": "histogram2dcontour"
           }
          ],
          "mesh3d": [
           {
            "colorbar": {
             "outlinewidth": 0,
             "ticks": ""
            },
            "type": "mesh3d"
           }
          ],
          "parcoords": [
           {
            "line": {
             "colorbar": {
              "outlinewidth": 0,
              "ticks": ""
             }
            },
            "type": "parcoords"
           }
          ],
          "pie": [
           {
            "automargin": true,
            "type": "pie"
           }
          ],
          "scatter": [
           {
            "fillpattern": {
             "fillmode": "overlay",
             "size": 10,
             "solidity": 0.2
            },
            "type": "scatter"
           }
          ],
          "scatter3d": [
           {
            "line": {
             "colorbar": {
              "outlinewidth": 0,
              "ticks": ""
             }
            },
            "marker": {
             "colorbar": {
              "outlinewidth": 0,
              "ticks": ""
             }
            },
            "type": "scatter3d"
           }
          ],
          "scattercarpet": [
           {
            "marker": {
             "colorbar": {
              "outlinewidth": 0,
              "ticks": ""
             }
            },
            "type": "scattercarpet"
           }
          ],
          "scattergeo": [
           {
            "marker": {
             "colorbar": {
              "outlinewidth": 0,
              "ticks": ""
             }
            },
            "type": "scattergeo"
           }
          ],
          "scattergl": [
           {
            "marker": {
             "colorbar": {
              "outlinewidth": 0,
              "ticks": ""
             }
            },
            "type": "scattergl"
           }
          ],
          "scattermapbox": [
           {
            "marker": {
             "colorbar": {
              "outlinewidth": 0,
              "ticks": ""
             }
            },
            "type": "scattermapbox"
           }
          ],
          "scatterpolar": [
           {
            "marker": {
             "colorbar": {
              "outlinewidth": 0,
              "ticks": ""
             }
            },
            "type": "scatterpolar"
           }
          ],
          "scatterpolargl": [
           {
            "marker": {
             "colorbar": {
              "outlinewidth": 0,
              "ticks": ""
             }
            },
            "type": "scatterpolargl"
           }
          ],
          "scatterternary": [
           {
            "marker": {
             "colorbar": {
              "outlinewidth": 0,
              "ticks": ""
             }
            },
            "type": "scatterternary"
           }
          ],
          "surface": [
           {
            "colorbar": {
             "outlinewidth": 0,
             "ticks": ""
            },
            "colorscale": [
             [
              0,
              "#0d0887"
             ],
             [
              0.1111111111111111,
              "#46039f"
             ],
             [
              0.2222222222222222,
              "#7201a8"
             ],
             [
              0.3333333333333333,
              "#9c179e"
             ],
             [
              0.4444444444444444,
              "#bd3786"
             ],
             [
              0.5555555555555556,
              "#d8576b"
             ],
             [
              0.6666666666666666,
              "#ed7953"
             ],
             [
              0.7777777777777778,
              "#fb9f3a"
             ],
             [
              0.8888888888888888,
              "#fdca26"
             ],
             [
              1,
              "#f0f921"
             ]
            ],
            "type": "surface"
           }
          ],
          "table": [
           {
            "cells": {
             "fill": {
              "color": "#EBF0F8"
             },
             "line": {
              "color": "white"
             }
            },
            "header": {
             "fill": {
              "color": "#C8D4E3"
             },
             "line": {
              "color": "white"
             }
            },
            "type": "table"
           }
          ]
         },
         "layout": {
          "annotationdefaults": {
           "arrowcolor": "#2a3f5f",
           "arrowhead": 0,
           "arrowwidth": 1
          },
          "autotypenumbers": "strict",
          "coloraxis": {
           "colorbar": {
            "outlinewidth": 0,
            "ticks": ""
           }
          },
          "colorscale": {
           "diverging": [
            [
             0,
             "#8e0152"
            ],
            [
             0.1,
             "#c51b7d"
            ],
            [
             0.2,
             "#de77ae"
            ],
            [
             0.3,
             "#f1b6da"
            ],
            [
             0.4,
             "#fde0ef"
            ],
            [
             0.5,
             "#f7f7f7"
            ],
            [
             0.6,
             "#e6f5d0"
            ],
            [
             0.7,
             "#b8e186"
            ],
            [
             0.8,
             "#7fbc41"
            ],
            [
             0.9,
             "#4d9221"
            ],
            [
             1,
             "#276419"
            ]
           ],
           "sequential": [
            [
             0,
             "#0d0887"
            ],
            [
             0.1111111111111111,
             "#46039f"
            ],
            [
             0.2222222222222222,
             "#7201a8"
            ],
            [
             0.3333333333333333,
             "#9c179e"
            ],
            [
             0.4444444444444444,
             "#bd3786"
            ],
            [
             0.5555555555555556,
             "#d8576b"
            ],
            [
             0.6666666666666666,
             "#ed7953"
            ],
            [
             0.7777777777777778,
             "#fb9f3a"
            ],
            [
             0.8888888888888888,
             "#fdca26"
            ],
            [
             1,
             "#f0f921"
            ]
           ],
           "sequentialminus": [
            [
             0,
             "#0d0887"
            ],
            [
             0.1111111111111111,
             "#46039f"
            ],
            [
             0.2222222222222222,
             "#7201a8"
            ],
            [
             0.3333333333333333,
             "#9c179e"
            ],
            [
             0.4444444444444444,
             "#bd3786"
            ],
            [
             0.5555555555555556,
             "#d8576b"
            ],
            [
             0.6666666666666666,
             "#ed7953"
            ],
            [
             0.7777777777777778,
             "#fb9f3a"
            ],
            [
             0.8888888888888888,
             "#fdca26"
            ],
            [
             1,
             "#f0f921"
            ]
           ]
          },
          "colorway": [
           "#636efa",
           "#EF553B",
           "#00cc96",
           "#ab63fa",
           "#FFA15A",
           "#19d3f3",
           "#FF6692",
           "#B6E880",
           "#FF97FF",
           "#FECB52"
          ],
          "font": {
           "color": "#2a3f5f"
          },
          "geo": {
           "bgcolor": "white",
           "lakecolor": "white",
           "landcolor": "#E5ECF6",
           "showlakes": true,
           "showland": true,
           "subunitcolor": "white"
          },
          "hoverlabel": {
           "align": "left"
          },
          "hovermode": "closest",
          "mapbox": {
           "style": "light"
          },
          "paper_bgcolor": "white",
          "plot_bgcolor": "#E5ECF6",
          "polar": {
           "angularaxis": {
            "gridcolor": "white",
            "linecolor": "white",
            "ticks": ""
           },
           "bgcolor": "#E5ECF6",
           "radialaxis": {
            "gridcolor": "white",
            "linecolor": "white",
            "ticks": ""
           }
          },
          "scene": {
           "xaxis": {
            "backgroundcolor": "#E5ECF6",
            "gridcolor": "white",
            "gridwidth": 2,
            "linecolor": "white",
            "showbackground": true,
            "ticks": "",
            "zerolinecolor": "white"
           },
           "yaxis": {
            "backgroundcolor": "#E5ECF6",
            "gridcolor": "white",
            "gridwidth": 2,
            "linecolor": "white",
            "showbackground": true,
            "ticks": "",
            "zerolinecolor": "white"
           },
           "zaxis": {
            "backgroundcolor": "#E5ECF6",
            "gridcolor": "white",
            "gridwidth": 2,
            "linecolor": "white",
            "showbackground": true,
            "ticks": "",
            "zerolinecolor": "white"
           }
          },
          "shapedefaults": {
           "line": {
            "color": "#2a3f5f"
           }
          },
          "ternary": {
           "aaxis": {
            "gridcolor": "white",
            "linecolor": "white",
            "ticks": ""
           },
           "baxis": {
            "gridcolor": "white",
            "linecolor": "white",
            "ticks": ""
           },
           "bgcolor": "#E5ECF6",
           "caxis": {
            "gridcolor": "white",
            "linecolor": "white",
            "ticks": ""
           }
          },
          "title": {
           "x": 0.05
          },
          "xaxis": {
           "automargin": true,
           "gridcolor": "white",
           "linecolor": "white",
           "ticks": "",
           "title": {
            "standoff": 15
           },
           "zerolinecolor": "white",
           "zerolinewidth": 2
          },
          "yaxis": {
           "automargin": true,
           "gridcolor": "white",
           "linecolor": "white",
           "ticks": "",
           "title": {
            "standoff": 15
           },
           "zerolinecolor": "white",
           "zerolinewidth": 2
          }
         }
        },
        "xaxis": {
         "anchor": "y",
         "domain": [
          0,
          0.45
         ]
        },
        "xaxis2": {
         "anchor": "y2",
         "domain": [
          0.55,
          1
         ]
        },
        "xaxis3": {
         "anchor": "y3",
         "domain": [
          0,
          0.45
         ]
        },
        "xaxis4": {
         "anchor": "y4",
         "domain": [
          0.55,
          1
         ]
        },
        "yaxis": {
         "anchor": "x",
         "domain": [
          0.575,
          1
         ],
         "title": {
          "text": "Quantidade de Pessoas"
         }
        },
        "yaxis2": {
         "anchor": "x2",
         "domain": [
          0.575,
          1
         ],
         "title": {
          "text": "Quantidade de Pessoas Pobres"
         }
        },
        "yaxis3": {
         "anchor": "x3",
         "domain": [
          0,
          0.425
         ],
         "title": {
          "text": "Quantidade de Pessoas Vulneráveis"
         }
        },
        "yaxis4": {
         "anchor": "x4",
         "domain": [
          0,
          0.425
         ],
         "title": {
          "text": "Quantidade de Pessoas Pobres ou vulneráveis"
         }
        }
       }
      }
     },
     "metadata": {},
     "output_type": "display_data"
    }
   ],
   "source": [
    "fig = sp.make_subplots(rows=2, cols=2)\n",
    "\n",
    "fig1 = px.bar(dftemp, x='sxraca', y='qtd_pessoas')\n",
    "fig.add_trace(fig1['data'][0], row=1, col=1)\n",
    "\n",
    "fig2 = px.bar(dftemp, x='sxraca', y='qtd_pes_pobres')\n",
    "fig.add_trace(fig2['data'][0], row=1, col=2)\n",
    "\n",
    "fig3 = px.bar(dftemp, x='sxraca', y='qtd_pes_vulneraveis')\n",
    "fig.add_trace(fig3['data'][0], row=2, col=1)\n",
    "\n",
    "fig4 = px.bar(dftemp, x='sxraca', y='qtd_pes_pob_vul')\n",
    "fig.add_trace(fig4['data'][0], row=2, col=2)\n",
    "\n",
    "fig.update_yaxes(title_text='Quantidade de Pessoas', row=1, col=1)\n",
    "fig.update_yaxes(title_text='Quantidade de Pessoas Pobres', row=1, col=2)\n",
    "\n",
    "fig.update_yaxes(title_text='Quantidade de Pessoas Vulneráveis', row=2, col=1)\n",
    "fig.update_yaxes(title_text='Quantidade de Pessoas Pobres ou vulneráveis', row=2, col=2)\n",
    "fig.update_layout(height=1000)\n",
    "fig.show()"
   ]
  },
  {
   "attachments": {},
   "cell_type": "markdown",
   "metadata": {},
   "source": [
    "### Com esses graficos conseguimos analisar que: \n",
    "\n",
    "    O grupo de homens brancos é o menos suscetível a estar em situação de vulnerabilidade e pobreza, enquanto o homem negro é o mais presente nesse grupo\n",
    "\n",
    "    Entre brancos existem mais mulheres em situação de vulnerabilidade ou pobreza, enquanto entre negros os homens predominam\n",
    "\n",
    "    Homens brancos praticamente nao sofrem com a pobreza, a mulher branca aparece com mais frequência em situação de pobreza\n",
    "\n",
    "    A raca parece ser um fator de importância ao se estudar pessoas em situação de vulnerabilidade ou pobreza, entretanto o gênero nao parece ser um fator de grande relevância\n",
    "\n",
    "## Vamos estudar mais de perto como o gênero e raca se relacionam com pobreza e vulnerabilidade para tirar nossas conclusões"
   ]
  },
  {
   "cell_type": "code",
   "execution_count": 65,
   "metadata": {},
   "outputs": [
    {
     "data": {
      "application/vnd.plotly.v1+json": {
       "config": {
        "plotlyServerURL": "https://plot.ly"
       },
       "data": [
        {
         "alignmentgroup": "True",
         "hovertemplate": "sxraca=%{x}<br>qtd_pessoas=%{y}<extra></extra>",
         "legendgroup": "",
         "marker": {
          "color": "#636efa",
          "pattern": {
           "shape": ""
          }
         },
         "name": "",
         "offsetgroup": "",
         "orientation": "v",
         "showlegend": false,
         "textposition": "auto",
         "type": "bar",
         "x": [
          "Homem",
          "Mulher"
         ],
         "xaxis": "x",
         "y": [
          92015529,
          95777364
         ],
         "yaxis": "y"
        },
        {
         "alignmentgroup": "True",
         "hovertemplate": "sxraca=%{x}<br>qtd_pes_pobres=%{y}<extra></extra>",
         "legendgroup": "",
         "marker": {
          "color": "#636efa",
          "pattern": {
           "shape": ""
          }
         },
         "name": "",
         "offsetgroup": "",
         "orientation": "v",
         "showlegend": false,
         "textposition": "auto",
         "type": "bar",
         "x": [
          "Homem",
          "Mulher"
         ],
         "xaxis": "x2",
         "y": [
          8948946,
          7761872
         ],
         "yaxis": "y2"
        },
        {
         "alignmentgroup": "True",
         "hovertemplate": "sxraca=%{x}<br>qtd_pes_vulneraveis=%{y}<extra></extra>",
         "legendgroup": "",
         "marker": {
          "color": "#636efa",
          "pattern": {
           "shape": ""
          }
         },
         "name": "",
         "offsetgroup": "",
         "orientation": "v",
         "showlegend": false,
         "textposition": "auto",
         "type": "bar",
         "x": [
          "Homem",
          "Mulher"
         ],
         "xaxis": "x3",
         "y": [
          22608163,
          21331809
         ],
         "yaxis": "y3"
        },
        {
         "alignmentgroup": "True",
         "hovertemplate": "sxraca=%{x}<br>qtd_pes_pob_vul=%{y}<extra></extra>",
         "legendgroup": "",
         "marker": {
          "color": "#636efa",
          "pattern": {
           "shape": ""
          }
         },
         "name": "",
         "offsetgroup": "",
         "orientation": "v",
         "showlegend": false,
         "textposition": "auto",
         "type": "bar",
         "x": [
          "Homem",
          "Mulher"
         ],
         "xaxis": "x4",
         "y": [
          31557109,
          29093681
         ],
         "yaxis": "y4"
        }
       ],
       "layout": {
        "height": 1000,
        "template": {
         "data": {
          "bar": [
           {
            "error_x": {
             "color": "#2a3f5f"
            },
            "error_y": {
             "color": "#2a3f5f"
            },
            "marker": {
             "line": {
              "color": "#E5ECF6",
              "width": 0.5
             },
             "pattern": {
              "fillmode": "overlay",
              "size": 10,
              "solidity": 0.2
             }
            },
            "type": "bar"
           }
          ],
          "barpolar": [
           {
            "marker": {
             "line": {
              "color": "#E5ECF6",
              "width": 0.5
             },
             "pattern": {
              "fillmode": "overlay",
              "size": 10,
              "solidity": 0.2
             }
            },
            "type": "barpolar"
           }
          ],
          "carpet": [
           {
            "aaxis": {
             "endlinecolor": "#2a3f5f",
             "gridcolor": "white",
             "linecolor": "white",
             "minorgridcolor": "white",
             "startlinecolor": "#2a3f5f"
            },
            "baxis": {
             "endlinecolor": "#2a3f5f",
             "gridcolor": "white",
             "linecolor": "white",
             "minorgridcolor": "white",
             "startlinecolor": "#2a3f5f"
            },
            "type": "carpet"
           }
          ],
          "choropleth": [
           {
            "colorbar": {
             "outlinewidth": 0,
             "ticks": ""
            },
            "type": "choropleth"
           }
          ],
          "contour": [
           {
            "colorbar": {
             "outlinewidth": 0,
             "ticks": ""
            },
            "colorscale": [
             [
              0,
              "#0d0887"
             ],
             [
              0.1111111111111111,
              "#46039f"
             ],
             [
              0.2222222222222222,
              "#7201a8"
             ],
             [
              0.3333333333333333,
              "#9c179e"
             ],
             [
              0.4444444444444444,
              "#bd3786"
             ],
             [
              0.5555555555555556,
              "#d8576b"
             ],
             [
              0.6666666666666666,
              "#ed7953"
             ],
             [
              0.7777777777777778,
              "#fb9f3a"
             ],
             [
              0.8888888888888888,
              "#fdca26"
             ],
             [
              1,
              "#f0f921"
             ]
            ],
            "type": "contour"
           }
          ],
          "contourcarpet": [
           {
            "colorbar": {
             "outlinewidth": 0,
             "ticks": ""
            },
            "type": "contourcarpet"
           }
          ],
          "heatmap": [
           {
            "colorbar": {
             "outlinewidth": 0,
             "ticks": ""
            },
            "colorscale": [
             [
              0,
              "#0d0887"
             ],
             [
              0.1111111111111111,
              "#46039f"
             ],
             [
              0.2222222222222222,
              "#7201a8"
             ],
             [
              0.3333333333333333,
              "#9c179e"
             ],
             [
              0.4444444444444444,
              "#bd3786"
             ],
             [
              0.5555555555555556,
              "#d8576b"
             ],
             [
              0.6666666666666666,
              "#ed7953"
             ],
             [
              0.7777777777777778,
              "#fb9f3a"
             ],
             [
              0.8888888888888888,
              "#fdca26"
             ],
             [
              1,
              "#f0f921"
             ]
            ],
            "type": "heatmap"
           }
          ],
          "heatmapgl": [
           {
            "colorbar": {
             "outlinewidth": 0,
             "ticks": ""
            },
            "colorscale": [
             [
              0,
              "#0d0887"
             ],
             [
              0.1111111111111111,
              "#46039f"
             ],
             [
              0.2222222222222222,
              "#7201a8"
             ],
             [
              0.3333333333333333,
              "#9c179e"
             ],
             [
              0.4444444444444444,
              "#bd3786"
             ],
             [
              0.5555555555555556,
              "#d8576b"
             ],
             [
              0.6666666666666666,
              "#ed7953"
             ],
             [
              0.7777777777777778,
              "#fb9f3a"
             ],
             [
              0.8888888888888888,
              "#fdca26"
             ],
             [
              1,
              "#f0f921"
             ]
            ],
            "type": "heatmapgl"
           }
          ],
          "histogram": [
           {
            "marker": {
             "pattern": {
              "fillmode": "overlay",
              "size": 10,
              "solidity": 0.2
             }
            },
            "type": "histogram"
           }
          ],
          "histogram2d": [
           {
            "colorbar": {
             "outlinewidth": 0,
             "ticks": ""
            },
            "colorscale": [
             [
              0,
              "#0d0887"
             ],
             [
              0.1111111111111111,
              "#46039f"
             ],
             [
              0.2222222222222222,
              "#7201a8"
             ],
             [
              0.3333333333333333,
              "#9c179e"
             ],
             [
              0.4444444444444444,
              "#bd3786"
             ],
             [
              0.5555555555555556,
              "#d8576b"
             ],
             [
              0.6666666666666666,
              "#ed7953"
             ],
             [
              0.7777777777777778,
              "#fb9f3a"
             ],
             [
              0.8888888888888888,
              "#fdca26"
             ],
             [
              1,
              "#f0f921"
             ]
            ],
            "type": "histogram2d"
           }
          ],
          "histogram2dcontour": [
           {
            "colorbar": {
             "outlinewidth": 0,
             "ticks": ""
            },
            "colorscale": [
             [
              0,
              "#0d0887"
             ],
             [
              0.1111111111111111,
              "#46039f"
             ],
             [
              0.2222222222222222,
              "#7201a8"
             ],
             [
              0.3333333333333333,
              "#9c179e"
             ],
             [
              0.4444444444444444,
              "#bd3786"
             ],
             [
              0.5555555555555556,
              "#d8576b"
             ],
             [
              0.6666666666666666,
              "#ed7953"
             ],
             [
              0.7777777777777778,
              "#fb9f3a"
             ],
             [
              0.8888888888888888,
              "#fdca26"
             ],
             [
              1,
              "#f0f921"
             ]
            ],
            "type": "histogram2dcontour"
           }
          ],
          "mesh3d": [
           {
            "colorbar": {
             "outlinewidth": 0,
             "ticks": ""
            },
            "type": "mesh3d"
           }
          ],
          "parcoords": [
           {
            "line": {
             "colorbar": {
              "outlinewidth": 0,
              "ticks": ""
             }
            },
            "type": "parcoords"
           }
          ],
          "pie": [
           {
            "automargin": true,
            "type": "pie"
           }
          ],
          "scatter": [
           {
            "fillpattern": {
             "fillmode": "overlay",
             "size": 10,
             "solidity": 0.2
            },
            "type": "scatter"
           }
          ],
          "scatter3d": [
           {
            "line": {
             "colorbar": {
              "outlinewidth": 0,
              "ticks": ""
             }
            },
            "marker": {
             "colorbar": {
              "outlinewidth": 0,
              "ticks": ""
             }
            },
            "type": "scatter3d"
           }
          ],
          "scattercarpet": [
           {
            "marker": {
             "colorbar": {
              "outlinewidth": 0,
              "ticks": ""
             }
            },
            "type": "scattercarpet"
           }
          ],
          "scattergeo": [
           {
            "marker": {
             "colorbar": {
              "outlinewidth": 0,
              "ticks": ""
             }
            },
            "type": "scattergeo"
           }
          ],
          "scattergl": [
           {
            "marker": {
             "colorbar": {
              "outlinewidth": 0,
              "ticks": ""
             }
            },
            "type": "scattergl"
           }
          ],
          "scattermapbox": [
           {
            "marker": {
             "colorbar": {
              "outlinewidth": 0,
              "ticks": ""
             }
            },
            "type": "scattermapbox"
           }
          ],
          "scatterpolar": [
           {
            "marker": {
             "colorbar": {
              "outlinewidth": 0,
              "ticks": ""
             }
            },
            "type": "scatterpolar"
           }
          ],
          "scatterpolargl": [
           {
            "marker": {
             "colorbar": {
              "outlinewidth": 0,
              "ticks": ""
             }
            },
            "type": "scatterpolargl"
           }
          ],
          "scatterternary": [
           {
            "marker": {
             "colorbar": {
              "outlinewidth": 0,
              "ticks": ""
             }
            },
            "type": "scatterternary"
           }
          ],
          "surface": [
           {
            "colorbar": {
             "outlinewidth": 0,
             "ticks": ""
            },
            "colorscale": [
             [
              0,
              "#0d0887"
             ],
             [
              0.1111111111111111,
              "#46039f"
             ],
             [
              0.2222222222222222,
              "#7201a8"
             ],
             [
              0.3333333333333333,
              "#9c179e"
             ],
             [
              0.4444444444444444,
              "#bd3786"
             ],
             [
              0.5555555555555556,
              "#d8576b"
             ],
             [
              0.6666666666666666,
              "#ed7953"
             ],
             [
              0.7777777777777778,
              "#fb9f3a"
             ],
             [
              0.8888888888888888,
              "#fdca26"
             ],
             [
              1,
              "#f0f921"
             ]
            ],
            "type": "surface"
           }
          ],
          "table": [
           {
            "cells": {
             "fill": {
              "color": "#EBF0F8"
             },
             "line": {
              "color": "white"
             }
            },
            "header": {
             "fill": {
              "color": "#C8D4E3"
             },
             "line": {
              "color": "white"
             }
            },
            "type": "table"
           }
          ]
         },
         "layout": {
          "annotationdefaults": {
           "arrowcolor": "#2a3f5f",
           "arrowhead": 0,
           "arrowwidth": 1
          },
          "autotypenumbers": "strict",
          "coloraxis": {
           "colorbar": {
            "outlinewidth": 0,
            "ticks": ""
           }
          },
          "colorscale": {
           "diverging": [
            [
             0,
             "#8e0152"
            ],
            [
             0.1,
             "#c51b7d"
            ],
            [
             0.2,
             "#de77ae"
            ],
            [
             0.3,
             "#f1b6da"
            ],
            [
             0.4,
             "#fde0ef"
            ],
            [
             0.5,
             "#f7f7f7"
            ],
            [
             0.6,
             "#e6f5d0"
            ],
            [
             0.7,
             "#b8e186"
            ],
            [
             0.8,
             "#7fbc41"
            ],
            [
             0.9,
             "#4d9221"
            ],
            [
             1,
             "#276419"
            ]
           ],
           "sequential": [
            [
             0,
             "#0d0887"
            ],
            [
             0.1111111111111111,
             "#46039f"
            ],
            [
             0.2222222222222222,
             "#7201a8"
            ],
            [
             0.3333333333333333,
             "#9c179e"
            ],
            [
             0.4444444444444444,
             "#bd3786"
            ],
            [
             0.5555555555555556,
             "#d8576b"
            ],
            [
             0.6666666666666666,
             "#ed7953"
            ],
            [
             0.7777777777777778,
             "#fb9f3a"
            ],
            [
             0.8888888888888888,
             "#fdca26"
            ],
            [
             1,
             "#f0f921"
            ]
           ],
           "sequentialminus": [
            [
             0,
             "#0d0887"
            ],
            [
             0.1111111111111111,
             "#46039f"
            ],
            [
             0.2222222222222222,
             "#7201a8"
            ],
            [
             0.3333333333333333,
             "#9c179e"
            ],
            [
             0.4444444444444444,
             "#bd3786"
            ],
            [
             0.5555555555555556,
             "#d8576b"
            ],
            [
             0.6666666666666666,
             "#ed7953"
            ],
            [
             0.7777777777777778,
             "#fb9f3a"
            ],
            [
             0.8888888888888888,
             "#fdca26"
            ],
            [
             1,
             "#f0f921"
            ]
           ]
          },
          "colorway": [
           "#636efa",
           "#EF553B",
           "#00cc96",
           "#ab63fa",
           "#FFA15A",
           "#19d3f3",
           "#FF6692",
           "#B6E880",
           "#FF97FF",
           "#FECB52"
          ],
          "font": {
           "color": "#2a3f5f"
          },
          "geo": {
           "bgcolor": "white",
           "lakecolor": "white",
           "landcolor": "#E5ECF6",
           "showlakes": true,
           "showland": true,
           "subunitcolor": "white"
          },
          "hoverlabel": {
           "align": "left"
          },
          "hovermode": "closest",
          "mapbox": {
           "style": "light"
          },
          "paper_bgcolor": "white",
          "plot_bgcolor": "#E5ECF6",
          "polar": {
           "angularaxis": {
            "gridcolor": "white",
            "linecolor": "white",
            "ticks": ""
           },
           "bgcolor": "#E5ECF6",
           "radialaxis": {
            "gridcolor": "white",
            "linecolor": "white",
            "ticks": ""
           }
          },
          "scene": {
           "xaxis": {
            "backgroundcolor": "#E5ECF6",
            "gridcolor": "white",
            "gridwidth": 2,
            "linecolor": "white",
            "showbackground": true,
            "ticks": "",
            "zerolinecolor": "white"
           },
           "yaxis": {
            "backgroundcolor": "#E5ECF6",
            "gridcolor": "white",
            "gridwidth": 2,
            "linecolor": "white",
            "showbackground": true,
            "ticks": "",
            "zerolinecolor": "white"
           },
           "zaxis": {
            "backgroundcolor": "#E5ECF6",
            "gridcolor": "white",
            "gridwidth": 2,
            "linecolor": "white",
            "showbackground": true,
            "ticks": "",
            "zerolinecolor": "white"
           }
          },
          "shapedefaults": {
           "line": {
            "color": "#2a3f5f"
           }
          },
          "ternary": {
           "aaxis": {
            "gridcolor": "white",
            "linecolor": "white",
            "ticks": ""
           },
           "baxis": {
            "gridcolor": "white",
            "linecolor": "white",
            "ticks": ""
           },
           "bgcolor": "#E5ECF6",
           "caxis": {
            "gridcolor": "white",
            "linecolor": "white",
            "ticks": ""
           }
          },
          "title": {
           "x": 0.05
          },
          "xaxis": {
           "automargin": true,
           "gridcolor": "white",
           "linecolor": "white",
           "ticks": "",
           "title": {
            "standoff": 15
           },
           "zerolinecolor": "white",
           "zerolinewidth": 2
          },
          "yaxis": {
           "automargin": true,
           "gridcolor": "white",
           "linecolor": "white",
           "ticks": "",
           "title": {
            "standoff": 15
           },
           "zerolinecolor": "white",
           "zerolinewidth": 2
          }
         }
        },
        "xaxis": {
         "anchor": "y",
         "domain": [
          0,
          0.45
         ]
        },
        "xaxis2": {
         "anchor": "y2",
         "domain": [
          0.55,
          1
         ]
        },
        "xaxis3": {
         "anchor": "y3",
         "domain": [
          0,
          0.45
         ]
        },
        "xaxis4": {
         "anchor": "y4",
         "domain": [
          0.55,
          1
         ]
        },
        "yaxis": {
         "anchor": "x",
         "domain": [
          0.575,
          1
         ],
         "title": {
          "text": "Quantidade de Pessoas"
         }
        },
        "yaxis2": {
         "anchor": "x2",
         "domain": [
          0.575,
          1
         ],
         "title": {
          "text": "Quantidade de Pessoas Pobres"
         }
        },
        "yaxis3": {
         "anchor": "x3",
         "domain": [
          0,
          0.425
         ],
         "title": {
          "text": "Quantidade de Pessoas Vulneráveis"
         }
        },
        "yaxis4": {
         "anchor": "x4",
         "domain": [
          0,
          0.425
         ],
         "title": {
          "text": "Quantidade de Pessoas Pobres ou vulneráveis"
         }
        }
       }
      }
     },
     "metadata": {},
     "output_type": "display_data"
    }
   ],
   "source": [
    "\n",
    "\n",
    "dfGenero = dftemp.copy()\n",
    "mapeamento = {\n",
    "     'Homem Branco' :\"Homem\",\n",
    "     'Mulher Branca' :\"Mulher\",\n",
    "     'Homem Negro' :\"Homem\",\n",
    "     'Mulher Negra' :\"Mulher\"\n",
    "}\n",
    "\n",
    "dfGenero['sxraca'] = dfGenero['sxraca'].replace(mapeamento)\n",
    "\n",
    "\n",
    "dfGenero = dfGenero.groupby('sxraca').sum().reset_index()\n",
    "\n",
    "fig = sp.make_subplots(rows=2, cols=2)\n",
    "\n",
    "fig1 = px.bar(dfGenero, x='sxraca', y='qtd_pessoas')\n",
    "fig.add_trace(fig1['data'][0], row=1, col=1)\n",
    "\n",
    "fig2 = px.bar(dfGenero, x='sxraca', y='qtd_pes_pobres')\n",
    "fig.add_trace(fig2['data'][0], row=1, col=2)\n",
    "\n",
    "fig3 = px.bar(dfGenero, x='sxraca', y='qtd_pes_vulneraveis')\n",
    "fig.add_trace(fig3['data'][0], row=2, col=1)\n",
    "\n",
    "fig4 = px.bar(dfGenero, x='sxraca', y='qtd_pes_pob_vul')\n",
    "fig.add_trace(fig4['data'][0], row=2, col=2)\n",
    "\n",
    "fig.update_yaxes(title_text='Quantidade de Pessoas', row=1, col=1)\n",
    "fig.update_yaxes(title_text='Quantidade de Pessoas Pobres', row=1, col=2)\n",
    "\n",
    "fig.update_yaxes(title_text='Quantidade de Pessoas Vulneráveis', row=2, col=1)\n",
    "fig.update_yaxes(title_text='Quantidade de Pessoas Pobres ou vulneráveis', row=2, col=2)\n",
    "fig.update_layout(height=1000)\n",
    "fig.show()\n"
   ]
  },
  {
   "attachments": {},
   "cell_type": "markdown",
   "metadata": {},
   "source": [
    "    A análise estatística revela que, apesar dos homens serem mais afetados por pobreza e vulnerabilidade, há uma distribuição semelhante entre os gêneros. Isso sugere que a pobreza e a vulnerabilidade não discriminam com base no gênero, afetando homens e mulheres de maneira quase igual.\n",
    "\n",
    "    Agora vamos estudar mais sobre a raca..."
   ]
  },
  {
   "cell_type": "code",
   "execution_count": 66,
   "metadata": {},
   "outputs": [
    {
     "data": {
      "application/vnd.plotly.v1+json": {
       "config": {
        "plotlyServerURL": "https://plot.ly"
       },
       "data": [
        {
         "alignmentgroup": "True",
         "hovertemplate": "sxraca=%{x}<br>qtd_pessoas=%{y}<extra></extra>",
         "legendgroup": "",
         "marker": {
          "color": "#636efa",
          "pattern": {
           "shape": ""
          }
         },
         "name": "",
         "offsetgroup": "",
         "orientation": "v",
         "showlegend": false,
         "textposition": "auto",
         "type": "bar",
         "x": [
          "Branco",
          "Negro"
         ],
         "xaxis": "x",
         "y": [
          90621281,
          97171612
         ],
         "yaxis": "y"
        },
        {
         "alignmentgroup": "True",
         "hovertemplate": "sxraca=%{x}<br>qtd_pes_pobres=%{y}<extra></extra>",
         "legendgroup": "",
         "marker": {
          "color": "#636efa",
          "pattern": {
           "shape": ""
          }
         },
         "name": "",
         "offsetgroup": "",
         "orientation": "v",
         "showlegend": false,
         "textposition": "auto",
         "type": "bar",
         "x": [
          "Branco",
          "Negro"
         ],
         "xaxis": "x2",
         "y": [
          1119978,
          15590840
         ],
         "yaxis": "y2"
        },
        {
         "alignmentgroup": "True",
         "hovertemplate": "sxraca=%{x}<br>qtd_pes_vulneraveis=%{y}<extra></extra>",
         "legendgroup": "",
         "marker": {
          "color": "#636efa",
          "pattern": {
           "shape": ""
          }
         },
         "name": "",
         "offsetgroup": "",
         "orientation": "v",
         "showlegend": false,
         "textposition": "auto",
         "type": "bar",
         "x": [
          "Branco",
          "Negro"
         ],
         "xaxis": "x3",
         "y": [
          13556546,
          30383426
         ],
         "yaxis": "y3"
        },
        {
         "alignmentgroup": "True",
         "hovertemplate": "sxraca=%{x}<br>qtd_pes_pob_vul=%{y}<extra></extra>",
         "legendgroup": "",
         "marker": {
          "color": "#636efa",
          "pattern": {
           "shape": ""
          }
         },
         "name": "",
         "offsetgroup": "",
         "orientation": "v",
         "showlegend": false,
         "textposition": "auto",
         "type": "bar",
         "x": [
          "Branco",
          "Negro"
         ],
         "xaxis": "x4",
         "y": [
          14676524,
          45974266
         ],
         "yaxis": "y4"
        }
       ],
       "layout": {
        "height": 1000,
        "template": {
         "data": {
          "bar": [
           {
            "error_x": {
             "color": "#2a3f5f"
            },
            "error_y": {
             "color": "#2a3f5f"
            },
            "marker": {
             "line": {
              "color": "#E5ECF6",
              "width": 0.5
             },
             "pattern": {
              "fillmode": "overlay",
              "size": 10,
              "solidity": 0.2
             }
            },
            "type": "bar"
           }
          ],
          "barpolar": [
           {
            "marker": {
             "line": {
              "color": "#E5ECF6",
              "width": 0.5
             },
             "pattern": {
              "fillmode": "overlay",
              "size": 10,
              "solidity": 0.2
             }
            },
            "type": "barpolar"
           }
          ],
          "carpet": [
           {
            "aaxis": {
             "endlinecolor": "#2a3f5f",
             "gridcolor": "white",
             "linecolor": "white",
             "minorgridcolor": "white",
             "startlinecolor": "#2a3f5f"
            },
            "baxis": {
             "endlinecolor": "#2a3f5f",
             "gridcolor": "white",
             "linecolor": "white",
             "minorgridcolor": "white",
             "startlinecolor": "#2a3f5f"
            },
            "type": "carpet"
           }
          ],
          "choropleth": [
           {
            "colorbar": {
             "outlinewidth": 0,
             "ticks": ""
            },
            "type": "choropleth"
           }
          ],
          "contour": [
           {
            "colorbar": {
             "outlinewidth": 0,
             "ticks": ""
            },
            "colorscale": [
             [
              0,
              "#0d0887"
             ],
             [
              0.1111111111111111,
              "#46039f"
             ],
             [
              0.2222222222222222,
              "#7201a8"
             ],
             [
              0.3333333333333333,
              "#9c179e"
             ],
             [
              0.4444444444444444,
              "#bd3786"
             ],
             [
              0.5555555555555556,
              "#d8576b"
             ],
             [
              0.6666666666666666,
              "#ed7953"
             ],
             [
              0.7777777777777778,
              "#fb9f3a"
             ],
             [
              0.8888888888888888,
              "#fdca26"
             ],
             [
              1,
              "#f0f921"
             ]
            ],
            "type": "contour"
           }
          ],
          "contourcarpet": [
           {
            "colorbar": {
             "outlinewidth": 0,
             "ticks": ""
            },
            "type": "contourcarpet"
           }
          ],
          "heatmap": [
           {
            "colorbar": {
             "outlinewidth": 0,
             "ticks": ""
            },
            "colorscale": [
             [
              0,
              "#0d0887"
             ],
             [
              0.1111111111111111,
              "#46039f"
             ],
             [
              0.2222222222222222,
              "#7201a8"
             ],
             [
              0.3333333333333333,
              "#9c179e"
             ],
             [
              0.4444444444444444,
              "#bd3786"
             ],
             [
              0.5555555555555556,
              "#d8576b"
             ],
             [
              0.6666666666666666,
              "#ed7953"
             ],
             [
              0.7777777777777778,
              "#fb9f3a"
             ],
             [
              0.8888888888888888,
              "#fdca26"
             ],
             [
              1,
              "#f0f921"
             ]
            ],
            "type": "heatmap"
           }
          ],
          "heatmapgl": [
           {
            "colorbar": {
             "outlinewidth": 0,
             "ticks": ""
            },
            "colorscale": [
             [
              0,
              "#0d0887"
             ],
             [
              0.1111111111111111,
              "#46039f"
             ],
             [
              0.2222222222222222,
              "#7201a8"
             ],
             [
              0.3333333333333333,
              "#9c179e"
             ],
             [
              0.4444444444444444,
              "#bd3786"
             ],
             [
              0.5555555555555556,
              "#d8576b"
             ],
             [
              0.6666666666666666,
              "#ed7953"
             ],
             [
              0.7777777777777778,
              "#fb9f3a"
             ],
             [
              0.8888888888888888,
              "#fdca26"
             ],
             [
              1,
              "#f0f921"
             ]
            ],
            "type": "heatmapgl"
           }
          ],
          "histogram": [
           {
            "marker": {
             "pattern": {
              "fillmode": "overlay",
              "size": 10,
              "solidity": 0.2
             }
            },
            "type": "histogram"
           }
          ],
          "histogram2d": [
           {
            "colorbar": {
             "outlinewidth": 0,
             "ticks": ""
            },
            "colorscale": [
             [
              0,
              "#0d0887"
             ],
             [
              0.1111111111111111,
              "#46039f"
             ],
             [
              0.2222222222222222,
              "#7201a8"
             ],
             [
              0.3333333333333333,
              "#9c179e"
             ],
             [
              0.4444444444444444,
              "#bd3786"
             ],
             [
              0.5555555555555556,
              "#d8576b"
             ],
             [
              0.6666666666666666,
              "#ed7953"
             ],
             [
              0.7777777777777778,
              "#fb9f3a"
             ],
             [
              0.8888888888888888,
              "#fdca26"
             ],
             [
              1,
              "#f0f921"
             ]
            ],
            "type": "histogram2d"
           }
          ],
          "histogram2dcontour": [
           {
            "colorbar": {
             "outlinewidth": 0,
             "ticks": ""
            },
            "colorscale": [
             [
              0,
              "#0d0887"
             ],
             [
              0.1111111111111111,
              "#46039f"
             ],
             [
              0.2222222222222222,
              "#7201a8"
             ],
             [
              0.3333333333333333,
              "#9c179e"
             ],
             [
              0.4444444444444444,
              "#bd3786"
             ],
             [
              0.5555555555555556,
              "#d8576b"
             ],
             [
              0.6666666666666666,
              "#ed7953"
             ],
             [
              0.7777777777777778,
              "#fb9f3a"
             ],
             [
              0.8888888888888888,
              "#fdca26"
             ],
             [
              1,
              "#f0f921"
             ]
            ],
            "type": "histogram2dcontour"
           }
          ],
          "mesh3d": [
           {
            "colorbar": {
             "outlinewidth": 0,
             "ticks": ""
            },
            "type": "mesh3d"
           }
          ],
          "parcoords": [
           {
            "line": {
             "colorbar": {
              "outlinewidth": 0,
              "ticks": ""
             }
            },
            "type": "parcoords"
           }
          ],
          "pie": [
           {
            "automargin": true,
            "type": "pie"
           }
          ],
          "scatter": [
           {
            "fillpattern": {
             "fillmode": "overlay",
             "size": 10,
             "solidity": 0.2
            },
            "type": "scatter"
           }
          ],
          "scatter3d": [
           {
            "line": {
             "colorbar": {
              "outlinewidth": 0,
              "ticks": ""
             }
            },
            "marker": {
             "colorbar": {
              "outlinewidth": 0,
              "ticks": ""
             }
            },
            "type": "scatter3d"
           }
          ],
          "scattercarpet": [
           {
            "marker": {
             "colorbar": {
              "outlinewidth": 0,
              "ticks": ""
             }
            },
            "type": "scattercarpet"
           }
          ],
          "scattergeo": [
           {
            "marker": {
             "colorbar": {
              "outlinewidth": 0,
              "ticks": ""
             }
            },
            "type": "scattergeo"
           }
          ],
          "scattergl": [
           {
            "marker": {
             "colorbar": {
              "outlinewidth": 0,
              "ticks": ""
             }
            },
            "type": "scattergl"
           }
          ],
          "scattermapbox": [
           {
            "marker": {
             "colorbar": {
              "outlinewidth": 0,
              "ticks": ""
             }
            },
            "type": "scattermapbox"
           }
          ],
          "scatterpolar": [
           {
            "marker": {
             "colorbar": {
              "outlinewidth": 0,
              "ticks": ""
             }
            },
            "type": "scatterpolar"
           }
          ],
          "scatterpolargl": [
           {
            "marker": {
             "colorbar": {
              "outlinewidth": 0,
              "ticks": ""
             }
            },
            "type": "scatterpolargl"
           }
          ],
          "scatterternary": [
           {
            "marker": {
             "colorbar": {
              "outlinewidth": 0,
              "ticks": ""
             }
            },
            "type": "scatterternary"
           }
          ],
          "surface": [
           {
            "colorbar": {
             "outlinewidth": 0,
             "ticks": ""
            },
            "colorscale": [
             [
              0,
              "#0d0887"
             ],
             [
              0.1111111111111111,
              "#46039f"
             ],
             [
              0.2222222222222222,
              "#7201a8"
             ],
             [
              0.3333333333333333,
              "#9c179e"
             ],
             [
              0.4444444444444444,
              "#bd3786"
             ],
             [
              0.5555555555555556,
              "#d8576b"
             ],
             [
              0.6666666666666666,
              "#ed7953"
             ],
             [
              0.7777777777777778,
              "#fb9f3a"
             ],
             [
              0.8888888888888888,
              "#fdca26"
             ],
             [
              1,
              "#f0f921"
             ]
            ],
            "type": "surface"
           }
          ],
          "table": [
           {
            "cells": {
             "fill": {
              "color": "#EBF0F8"
             },
             "line": {
              "color": "white"
             }
            },
            "header": {
             "fill": {
              "color": "#C8D4E3"
             },
             "line": {
              "color": "white"
             }
            },
            "type": "table"
           }
          ]
         },
         "layout": {
          "annotationdefaults": {
           "arrowcolor": "#2a3f5f",
           "arrowhead": 0,
           "arrowwidth": 1
          },
          "autotypenumbers": "strict",
          "coloraxis": {
           "colorbar": {
            "outlinewidth": 0,
            "ticks": ""
           }
          },
          "colorscale": {
           "diverging": [
            [
             0,
             "#8e0152"
            ],
            [
             0.1,
             "#c51b7d"
            ],
            [
             0.2,
             "#de77ae"
            ],
            [
             0.3,
             "#f1b6da"
            ],
            [
             0.4,
             "#fde0ef"
            ],
            [
             0.5,
             "#f7f7f7"
            ],
            [
             0.6,
             "#e6f5d0"
            ],
            [
             0.7,
             "#b8e186"
            ],
            [
             0.8,
             "#7fbc41"
            ],
            [
             0.9,
             "#4d9221"
            ],
            [
             1,
             "#276419"
            ]
           ],
           "sequential": [
            [
             0,
             "#0d0887"
            ],
            [
             0.1111111111111111,
             "#46039f"
            ],
            [
             0.2222222222222222,
             "#7201a8"
            ],
            [
             0.3333333333333333,
             "#9c179e"
            ],
            [
             0.4444444444444444,
             "#bd3786"
            ],
            [
             0.5555555555555556,
             "#d8576b"
            ],
            [
             0.6666666666666666,
             "#ed7953"
            ],
            [
             0.7777777777777778,
             "#fb9f3a"
            ],
            [
             0.8888888888888888,
             "#fdca26"
            ],
            [
             1,
             "#f0f921"
            ]
           ],
           "sequentialminus": [
            [
             0,
             "#0d0887"
            ],
            [
             0.1111111111111111,
             "#46039f"
            ],
            [
             0.2222222222222222,
             "#7201a8"
            ],
            [
             0.3333333333333333,
             "#9c179e"
            ],
            [
             0.4444444444444444,
             "#bd3786"
            ],
            [
             0.5555555555555556,
             "#d8576b"
            ],
            [
             0.6666666666666666,
             "#ed7953"
            ],
            [
             0.7777777777777778,
             "#fb9f3a"
            ],
            [
             0.8888888888888888,
             "#fdca26"
            ],
            [
             1,
             "#f0f921"
            ]
           ]
          },
          "colorway": [
           "#636efa",
           "#EF553B",
           "#00cc96",
           "#ab63fa",
           "#FFA15A",
           "#19d3f3",
           "#FF6692",
           "#B6E880",
           "#FF97FF",
           "#FECB52"
          ],
          "font": {
           "color": "#2a3f5f"
          },
          "geo": {
           "bgcolor": "white",
           "lakecolor": "white",
           "landcolor": "#E5ECF6",
           "showlakes": true,
           "showland": true,
           "subunitcolor": "white"
          },
          "hoverlabel": {
           "align": "left"
          },
          "hovermode": "closest",
          "mapbox": {
           "style": "light"
          },
          "paper_bgcolor": "white",
          "plot_bgcolor": "#E5ECF6",
          "polar": {
           "angularaxis": {
            "gridcolor": "white",
            "linecolor": "white",
            "ticks": ""
           },
           "bgcolor": "#E5ECF6",
           "radialaxis": {
            "gridcolor": "white",
            "linecolor": "white",
            "ticks": ""
           }
          },
          "scene": {
           "xaxis": {
            "backgroundcolor": "#E5ECF6",
            "gridcolor": "white",
            "gridwidth": 2,
            "linecolor": "white",
            "showbackground": true,
            "ticks": "",
            "zerolinecolor": "white"
           },
           "yaxis": {
            "backgroundcolor": "#E5ECF6",
            "gridcolor": "white",
            "gridwidth": 2,
            "linecolor": "white",
            "showbackground": true,
            "ticks": "",
            "zerolinecolor": "white"
           },
           "zaxis": {
            "backgroundcolor": "#E5ECF6",
            "gridcolor": "white",
            "gridwidth": 2,
            "linecolor": "white",
            "showbackground": true,
            "ticks": "",
            "zerolinecolor": "white"
           }
          },
          "shapedefaults": {
           "line": {
            "color": "#2a3f5f"
           }
          },
          "ternary": {
           "aaxis": {
            "gridcolor": "white",
            "linecolor": "white",
            "ticks": ""
           },
           "baxis": {
            "gridcolor": "white",
            "linecolor": "white",
            "ticks": ""
           },
           "bgcolor": "#E5ECF6",
           "caxis": {
            "gridcolor": "white",
            "linecolor": "white",
            "ticks": ""
           }
          },
          "title": {
           "x": 0.05
          },
          "xaxis": {
           "automargin": true,
           "gridcolor": "white",
           "linecolor": "white",
           "ticks": "",
           "title": {
            "standoff": 15
           },
           "zerolinecolor": "white",
           "zerolinewidth": 2
          },
          "yaxis": {
           "automargin": true,
           "gridcolor": "white",
           "linecolor": "white",
           "ticks": "",
           "title": {
            "standoff": 15
           },
           "zerolinecolor": "white",
           "zerolinewidth": 2
          }
         }
        },
        "xaxis": {
         "anchor": "y",
         "domain": [
          0,
          0.45
         ]
        },
        "xaxis2": {
         "anchor": "y2",
         "domain": [
          0.55,
          1
         ]
        },
        "xaxis3": {
         "anchor": "y3",
         "domain": [
          0,
          0.45
         ]
        },
        "xaxis4": {
         "anchor": "y4",
         "domain": [
          0.55,
          1
         ]
        },
        "yaxis": {
         "anchor": "x",
         "domain": [
          0.575,
          1
         ],
         "title": {
          "text": "Quantidade de Pessoas"
         }
        },
        "yaxis2": {
         "anchor": "x2",
         "domain": [
          0.575,
          1
         ],
         "title": {
          "text": "Quantidade de Pessoas Pobres"
         }
        },
        "yaxis3": {
         "anchor": "x3",
         "domain": [
          0,
          0.425
         ],
         "title": {
          "text": "Quantidade de Pessoas Vulneráveis"
         }
        },
        "yaxis4": {
         "anchor": "x4",
         "domain": [
          0,
          0.425
         ],
         "title": {
          "text": "Quantidade de Pessoas Pobres ou vulneráveis"
         }
        }
       }
      }
     },
     "metadata": {},
     "output_type": "display_data"
    }
   ],
   "source": [
    "\n",
    "\n",
    "dfRaca = dftemp.copy()\n",
    "mapeamento = {\n",
    "     'Homem Branco' :\"Branco\",\n",
    "     'Mulher Branca' :\"Branco\",\n",
    "     'Homem Negro' :\"Negro\",\n",
    "     'Mulher Negra' :\"Negro\"\n",
    "}\n",
    "\n",
    "dfRaca['sxraca'] = dfRaca['sxraca'].replace(mapeamento)\n",
    "\n",
    "\n",
    "dfRaca = dfRaca.groupby('sxraca').sum().reset_index()\n",
    "\n",
    "fig = sp.make_subplots(rows=2, cols=2)\n",
    "\n",
    "fig1 = px.bar(dfRaca, x='sxraca', y='qtd_pessoas')\n",
    "fig.add_trace(fig1['data'][0], row=1, col=1)\n",
    "\n",
    "fig2 = px.bar(dfRaca, x='sxraca', y='qtd_pes_pobres')\n",
    "fig.add_trace(fig2['data'][0], row=1, col=2)\n",
    "\n",
    "fig3 = px.bar(dfRaca, x='sxraca', y='qtd_pes_vulneraveis')\n",
    "fig.add_trace(fig3['data'][0], row=2, col=1)\n",
    "\n",
    "fig4 = px.bar(dfRaca, x='sxraca', y='qtd_pes_pob_vul')\n",
    "fig.add_trace(fig4['data'][0], row=2, col=2)\n",
    "\n",
    "fig.update_yaxes(title_text='Quantidade de Pessoas', row=1, col=1)\n",
    "fig.update_yaxes(title_text='Quantidade de Pessoas Pobres', row=1, col=2)\n",
    "fig.update_yaxes(title_text='Quantidade de Pessoas Vulneráveis', row=2, col=1)\n",
    "fig.update_yaxes(title_text='Quantidade de Pessoas Pobres ou vulneráveis', row=2, col=2)\n",
    "\n",
    "fig.update_layout(height=1000)\n",
    "fig.show()\n"
   ]
  },
  {
   "attachments": {},
   "cell_type": "markdown",
   "metadata": {},
   "source": [
    "    A análise estatística indica que, embora a pobreza e a vulnerabilidade afetem todos os grupos demográficos, os negros são exorbitantemente mais afetados do que os brancos. Isso sugere que a pobreza e a vulnerabilidade, infelizmente, discriminam com base na raça, impactando desproporcionalmente a população negra.\n",
    "\n",
    "\n",
    "\n",
    "\n",
    "    "
   ]
  },
  {
   "attachments": {},
   "cell_type": "markdown",
   "metadata": {},
   "source": [
    "### Agora vamos estudar o comportamento por região!\n",
    "\n",
    "    Sabendo da inconsistência em muitas linhas da base escolhida, vamos usar agora uma outra planilha para analisar a distribuição de pobreza por região brasileira"
   ]
  },
  {
   "cell_type": "code",
   "execution_count": 67,
   "metadata": {},
   "outputs": [
    {
     "data": {
      "application/vnd.plotly.v1+json": {
       "config": {
        "plotlyServerURL": "https://plot.ly"
       },
       "data": [
        {
         "alignmentgroup": "True",
         "hovertemplate": "cod_local=%{x}<br>qtd_pes=%{y}<extra></extra>",
         "legendgroup": "",
         "marker": {
          "color": "#636efa",
          "pattern": {
           "shape": ""
          }
         },
         "name": "",
         "offsetgroup": "",
         "orientation": "v",
         "showlegend": false,
         "textposition": "auto",
         "type": "bar",
         "x": [
          "Norte",
          "Nordeste",
          "Sudeste",
          "Sul",
          "Centro-Oeste"
         ],
         "xaxis": "x",
         "y": [
          15864454,
          53081950.0000001,
          80364410.0000006,
          27386891.0000001,
          14058094.0000001
         ],
         "yaxis": "y"
        },
        {
         "alignmentgroup": "True",
         "hovertemplate": "cod_local=%{x}<br>qtd_pes_pob_vul=%{y}<extra></extra>",
         "legendgroup": "",
         "marker": {
          "color": "#636efa",
          "pattern": {
           "shape": ""
          }
         },
         "name": "",
         "offsetgroup": "",
         "orientation": "v",
         "showlegend": false,
         "textposition": "auto",
         "type": "bar",
         "x": [
          "Norte",
          "Nordeste",
          "Sudeste",
          "Sul",
          "Centro-Oeste"
         ],
         "xaxis": "x2",
         "y": [
          11130011.6324594,
          29981103.7280046,
          15839858.5313583,
          8030031.58337895,
          5149908.89955568
         ],
         "yaxis": "y2"
        }
       ],
       "layout": {
        "template": {
         "data": {
          "bar": [
           {
            "error_x": {
             "color": "#2a3f5f"
            },
            "error_y": {
             "color": "#2a3f5f"
            },
            "marker": {
             "line": {
              "color": "#E5ECF6",
              "width": 0.5
             },
             "pattern": {
              "fillmode": "overlay",
              "size": 10,
              "solidity": 0.2
             }
            },
            "type": "bar"
           }
          ],
          "barpolar": [
           {
            "marker": {
             "line": {
              "color": "#E5ECF6",
              "width": 0.5
             },
             "pattern": {
              "fillmode": "overlay",
              "size": 10,
              "solidity": 0.2
             }
            },
            "type": "barpolar"
           }
          ],
          "carpet": [
           {
            "aaxis": {
             "endlinecolor": "#2a3f5f",
             "gridcolor": "white",
             "linecolor": "white",
             "minorgridcolor": "white",
             "startlinecolor": "#2a3f5f"
            },
            "baxis": {
             "endlinecolor": "#2a3f5f",
             "gridcolor": "white",
             "linecolor": "white",
             "minorgridcolor": "white",
             "startlinecolor": "#2a3f5f"
            },
            "type": "carpet"
           }
          ],
          "choropleth": [
           {
            "colorbar": {
             "outlinewidth": 0,
             "ticks": ""
            },
            "type": "choropleth"
           }
          ],
          "contour": [
           {
            "colorbar": {
             "outlinewidth": 0,
             "ticks": ""
            },
            "colorscale": [
             [
              0,
              "#0d0887"
             ],
             [
              0.1111111111111111,
              "#46039f"
             ],
             [
              0.2222222222222222,
              "#7201a8"
             ],
             [
              0.3333333333333333,
              "#9c179e"
             ],
             [
              0.4444444444444444,
              "#bd3786"
             ],
             [
              0.5555555555555556,
              "#d8576b"
             ],
             [
              0.6666666666666666,
              "#ed7953"
             ],
             [
              0.7777777777777778,
              "#fb9f3a"
             ],
             [
              0.8888888888888888,
              "#fdca26"
             ],
             [
              1,
              "#f0f921"
             ]
            ],
            "type": "contour"
           }
          ],
          "contourcarpet": [
           {
            "colorbar": {
             "outlinewidth": 0,
             "ticks": ""
            },
            "type": "contourcarpet"
           }
          ],
          "heatmap": [
           {
            "colorbar": {
             "outlinewidth": 0,
             "ticks": ""
            },
            "colorscale": [
             [
              0,
              "#0d0887"
             ],
             [
              0.1111111111111111,
              "#46039f"
             ],
             [
              0.2222222222222222,
              "#7201a8"
             ],
             [
              0.3333333333333333,
              "#9c179e"
             ],
             [
              0.4444444444444444,
              "#bd3786"
             ],
             [
              0.5555555555555556,
              "#d8576b"
             ],
             [
              0.6666666666666666,
              "#ed7953"
             ],
             [
              0.7777777777777778,
              "#fb9f3a"
             ],
             [
              0.8888888888888888,
              "#fdca26"
             ],
             [
              1,
              "#f0f921"
             ]
            ],
            "type": "heatmap"
           }
          ],
          "heatmapgl": [
           {
            "colorbar": {
             "outlinewidth": 0,
             "ticks": ""
            },
            "colorscale": [
             [
              0,
              "#0d0887"
             ],
             [
              0.1111111111111111,
              "#46039f"
             ],
             [
              0.2222222222222222,
              "#7201a8"
             ],
             [
              0.3333333333333333,
              "#9c179e"
             ],
             [
              0.4444444444444444,
              "#bd3786"
             ],
             [
              0.5555555555555556,
              "#d8576b"
             ],
             [
              0.6666666666666666,
              "#ed7953"
             ],
             [
              0.7777777777777778,
              "#fb9f3a"
             ],
             [
              0.8888888888888888,
              "#fdca26"
             ],
             [
              1,
              "#f0f921"
             ]
            ],
            "type": "heatmapgl"
           }
          ],
          "histogram": [
           {
            "marker": {
             "pattern": {
              "fillmode": "overlay",
              "size": 10,
              "solidity": 0.2
             }
            },
            "type": "histogram"
           }
          ],
          "histogram2d": [
           {
            "colorbar": {
             "outlinewidth": 0,
             "ticks": ""
            },
            "colorscale": [
             [
              0,
              "#0d0887"
             ],
             [
              0.1111111111111111,
              "#46039f"
             ],
             [
              0.2222222222222222,
              "#7201a8"
             ],
             [
              0.3333333333333333,
              "#9c179e"
             ],
             [
              0.4444444444444444,
              "#bd3786"
             ],
             [
              0.5555555555555556,
              "#d8576b"
             ],
             [
              0.6666666666666666,
              "#ed7953"
             ],
             [
              0.7777777777777778,
              "#fb9f3a"
             ],
             [
              0.8888888888888888,
              "#fdca26"
             ],
             [
              1,
              "#f0f921"
             ]
            ],
            "type": "histogram2d"
           }
          ],
          "histogram2dcontour": [
           {
            "colorbar": {
             "outlinewidth": 0,
             "ticks": ""
            },
            "colorscale": [
             [
              0,
              "#0d0887"
             ],
             [
              0.1111111111111111,
              "#46039f"
             ],
             [
              0.2222222222222222,
              "#7201a8"
             ],
             [
              0.3333333333333333,
              "#9c179e"
             ],
             [
              0.4444444444444444,
              "#bd3786"
             ],
             [
              0.5555555555555556,
              "#d8576b"
             ],
             [
              0.6666666666666666,
              "#ed7953"
             ],
             [
              0.7777777777777778,
              "#fb9f3a"
             ],
             [
              0.8888888888888888,
              "#fdca26"
             ],
             [
              1,
              "#f0f921"
             ]
            ],
            "type": "histogram2dcontour"
           }
          ],
          "mesh3d": [
           {
            "colorbar": {
             "outlinewidth": 0,
             "ticks": ""
            },
            "type": "mesh3d"
           }
          ],
          "parcoords": [
           {
            "line": {
             "colorbar": {
              "outlinewidth": 0,
              "ticks": ""
             }
            },
            "type": "parcoords"
           }
          ],
          "pie": [
           {
            "automargin": true,
            "type": "pie"
           }
          ],
          "scatter": [
           {
            "fillpattern": {
             "fillmode": "overlay",
             "size": 10,
             "solidity": 0.2
            },
            "type": "scatter"
           }
          ],
          "scatter3d": [
           {
            "line": {
             "colorbar": {
              "outlinewidth": 0,
              "ticks": ""
             }
            },
            "marker": {
             "colorbar": {
              "outlinewidth": 0,
              "ticks": ""
             }
            },
            "type": "scatter3d"
           }
          ],
          "scattercarpet": [
           {
            "marker": {
             "colorbar": {
              "outlinewidth": 0,
              "ticks": ""
             }
            },
            "type": "scattercarpet"
           }
          ],
          "scattergeo": [
           {
            "marker": {
             "colorbar": {
              "outlinewidth": 0,
              "ticks": ""
             }
            },
            "type": "scattergeo"
           }
          ],
          "scattergl": [
           {
            "marker": {
             "colorbar": {
              "outlinewidth": 0,
              "ticks": ""
             }
            },
            "type": "scattergl"
           }
          ],
          "scattermapbox": [
           {
            "marker": {
             "colorbar": {
              "outlinewidth": 0,
              "ticks": ""
             }
            },
            "type": "scattermapbox"
           }
          ],
          "scatterpolar": [
           {
            "marker": {
             "colorbar": {
              "outlinewidth": 0,
              "ticks": ""
             }
            },
            "type": "scatterpolar"
           }
          ],
          "scatterpolargl": [
           {
            "marker": {
             "colorbar": {
              "outlinewidth": 0,
              "ticks": ""
             }
            },
            "type": "scatterpolargl"
           }
          ],
          "scatterternary": [
           {
            "marker": {
             "colorbar": {
              "outlinewidth": 0,
              "ticks": ""
             }
            },
            "type": "scatterternary"
           }
          ],
          "surface": [
           {
            "colorbar": {
             "outlinewidth": 0,
             "ticks": ""
            },
            "colorscale": [
             [
              0,
              "#0d0887"
             ],
             [
              0.1111111111111111,
              "#46039f"
             ],
             [
              0.2222222222222222,
              "#7201a8"
             ],
             [
              0.3333333333333333,
              "#9c179e"
             ],
             [
              0.4444444444444444,
              "#bd3786"
             ],
             [
              0.5555555555555556,
              "#d8576b"
             ],
             [
              0.6666666666666666,
              "#ed7953"
             ],
             [
              0.7777777777777778,
              "#fb9f3a"
             ],
             [
              0.8888888888888888,
              "#fdca26"
             ],
             [
              1,
              "#f0f921"
             ]
            ],
            "type": "surface"
           }
          ],
          "table": [
           {
            "cells": {
             "fill": {
              "color": "#EBF0F8"
             },
             "line": {
              "color": "white"
             }
            },
            "header": {
             "fill": {
              "color": "#C8D4E3"
             },
             "line": {
              "color": "white"
             }
            },
            "type": "table"
           }
          ]
         },
         "layout": {
          "annotationdefaults": {
           "arrowcolor": "#2a3f5f",
           "arrowhead": 0,
           "arrowwidth": 1
          },
          "autotypenumbers": "strict",
          "coloraxis": {
           "colorbar": {
            "outlinewidth": 0,
            "ticks": ""
           }
          },
          "colorscale": {
           "diverging": [
            [
             0,
             "#8e0152"
            ],
            [
             0.1,
             "#c51b7d"
            ],
            [
             0.2,
             "#de77ae"
            ],
            [
             0.3,
             "#f1b6da"
            ],
            [
             0.4,
             "#fde0ef"
            ],
            [
             0.5,
             "#f7f7f7"
            ],
            [
             0.6,
             "#e6f5d0"
            ],
            [
             0.7,
             "#b8e186"
            ],
            [
             0.8,
             "#7fbc41"
            ],
            [
             0.9,
             "#4d9221"
            ],
            [
             1,
             "#276419"
            ]
           ],
           "sequential": [
            [
             0,
             "#0d0887"
            ],
            [
             0.1111111111111111,
             "#46039f"
            ],
            [
             0.2222222222222222,
             "#7201a8"
            ],
            [
             0.3333333333333333,
             "#9c179e"
            ],
            [
             0.4444444444444444,
             "#bd3786"
            ],
            [
             0.5555555555555556,
             "#d8576b"
            ],
            [
             0.6666666666666666,
             "#ed7953"
            ],
            [
             0.7777777777777778,
             "#fb9f3a"
            ],
            [
             0.8888888888888888,
             "#fdca26"
            ],
            [
             1,
             "#f0f921"
            ]
           ],
           "sequentialminus": [
            [
             0,
             "#0d0887"
            ],
            [
             0.1111111111111111,
             "#46039f"
            ],
            [
             0.2222222222222222,
             "#7201a8"
            ],
            [
             0.3333333333333333,
             "#9c179e"
            ],
            [
             0.4444444444444444,
             "#bd3786"
            ],
            [
             0.5555555555555556,
             "#d8576b"
            ],
            [
             0.6666666666666666,
             "#ed7953"
            ],
            [
             0.7777777777777778,
             "#fb9f3a"
            ],
            [
             0.8888888888888888,
             "#fdca26"
            ],
            [
             1,
             "#f0f921"
            ]
           ]
          },
          "colorway": [
           "#636efa",
           "#EF553B",
           "#00cc96",
           "#ab63fa",
           "#FFA15A",
           "#19d3f3",
           "#FF6692",
           "#B6E880",
           "#FF97FF",
           "#FECB52"
          ],
          "font": {
           "color": "#2a3f5f"
          },
          "geo": {
           "bgcolor": "white",
           "lakecolor": "white",
           "landcolor": "#E5ECF6",
           "showlakes": true,
           "showland": true,
           "subunitcolor": "white"
          },
          "hoverlabel": {
           "align": "left"
          },
          "hovermode": "closest",
          "mapbox": {
           "style": "light"
          },
          "paper_bgcolor": "white",
          "plot_bgcolor": "#E5ECF6",
          "polar": {
           "angularaxis": {
            "gridcolor": "white",
            "linecolor": "white",
            "ticks": ""
           },
           "bgcolor": "#E5ECF6",
           "radialaxis": {
            "gridcolor": "white",
            "linecolor": "white",
            "ticks": ""
           }
          },
          "scene": {
           "xaxis": {
            "backgroundcolor": "#E5ECF6",
            "gridcolor": "white",
            "gridwidth": 2,
            "linecolor": "white",
            "showbackground": true,
            "ticks": "",
            "zerolinecolor": "white"
           },
           "yaxis": {
            "backgroundcolor": "#E5ECF6",
            "gridcolor": "white",
            "gridwidth": 2,
            "linecolor": "white",
            "showbackground": true,
            "ticks": "",
            "zerolinecolor": "white"
           },
           "zaxis": {
            "backgroundcolor": "#E5ECF6",
            "gridcolor": "white",
            "gridwidth": 2,
            "linecolor": "white",
            "showbackground": true,
            "ticks": "",
            "zerolinecolor": "white"
           }
          },
          "shapedefaults": {
           "line": {
            "color": "#2a3f5f"
           }
          },
          "ternary": {
           "aaxis": {
            "gridcolor": "white",
            "linecolor": "white",
            "ticks": ""
           },
           "baxis": {
            "gridcolor": "white",
            "linecolor": "white",
            "ticks": ""
           },
           "bgcolor": "#E5ECF6",
           "caxis": {
            "gridcolor": "white",
            "linecolor": "white",
            "ticks": ""
           }
          },
          "title": {
           "x": 0.05
          },
          "xaxis": {
           "automargin": true,
           "gridcolor": "white",
           "linecolor": "white",
           "ticks": "",
           "title": {
            "standoff": 15
           },
           "zerolinecolor": "white",
           "zerolinewidth": 2
          },
          "yaxis": {
           "automargin": true,
           "gridcolor": "white",
           "linecolor": "white",
           "ticks": "",
           "title": {
            "standoff": 15
           },
           "zerolinecolor": "white",
           "zerolinewidth": 2
          }
         }
        },
        "xaxis": {
         "anchor": "y",
         "domain": [
          0,
          0.45
         ]
        },
        "xaxis2": {
         "anchor": "y2",
         "domain": [
          0.55,
          1
         ]
        },
        "yaxis": {
         "anchor": "x",
         "domain": [
          0,
          1
         ],
         "title": {
          "text": "Quantidade de Pessoas"
         }
        },
        "yaxis2": {
         "anchor": "x2",
         "domain": [
          0,
          1
         ],
         "title": {
          "text": "Quantidade de Pessoas pobres ou vulneráveis"
         }
        }
       }
      }
     },
     "metadata": {},
     "output_type": "display_data"
    }
   ],
   "source": [
    "dataframeBase = pd.read_excel(\"./Agregações GR UF Brasil/Grandes Regiões.ods\",engine='odf')\n",
    "\n",
    "newDataframe = dataframeBase[[\"cod_local\", \"qtd_pes\", \"qtd_pes_pobres\", \"qtd_pes_vulneraveis\", \"qtd_pes_pob_vul\",\"qtd_0a11\"]].copy()\n",
    "\n",
    "mapeamento = {\n",
    "1: \"Norte\",\n",
    "2: \"Nordeste\",\n",
    "3: \"Sudeste\",\n",
    "4: \"Sul\",\n",
    "5: \"Centro-Oeste\"\n",
    "}\n",
    "newDataframe['cod_local'] = newDataframe['cod_local'].replace(mapeamento)\n",
    "\n",
    "\n",
    "\n",
    "fig = sp.make_subplots(rows=1, cols=2)\n",
    "\n",
    "fig1 = px.bar(newDataframe, x = 'cod_local', y = 'qtd_pes')\n",
    "fig.add_trace(fig1['data'][0], row=1, col=1)\n",
    "\n",
    "fig1 = px.bar(newDataframe, x = 'cod_local', y = 'qtd_pes_pob_vul')\n",
    "fig.add_trace(fig1['data'][0], row=1, col=2)\n",
    "\n",
    "\n",
    "fig.update_yaxes(title_text='Quantidade de Pessoas',row=1, col=1,)\n",
    "fig.update_yaxes(title_text='Quantidade de Pessoas pobres ou vulneráveis',row=1, col=2,)\n",
    "\n",
    "fig.show()\n"
   ]
  },
  {
   "cell_type": "code",
   "execution_count": 69,
   "metadata": {},
   "outputs": [
    {
     "data": {
      "application/vnd.plotly.v1+json": {
       "config": {
        "plotlyServerURL": "https://plot.ly"
       },
       "data": [
        {
         "alignmentgroup": "True",
         "hovertemplate": "cod_local=%{x}<br>qtd_pes=%{y}<extra></extra>",
         "legendgroup": "",
         "marker": {
          "color": "#636efa",
          "pattern": {
           "shape": ""
          }
         },
         "name": "",
         "offsetgroup": "",
         "orientation": "v",
         "showlegend": false,
         "textposition": "auto",
         "type": "bar",
         "x": [
          "Rondônia",
          "Acre",
          "Amazonas",
          "Roraima",
          "Pará",
          "Amapá",
          "Tocantins",
          "Maranhão",
          "Piauí",
          "Ceará",
          "Rio Grande do Norte",
          "Paraíba",
          "Pernambuco",
          "Alagoas",
          "Sergipe",
          "Bahia",
          "Minas Gerais",
          "Espírito Santo",
          "Rio de Janeiro",
          "São Paulo",
          "Paraná",
          "Santa Catarina",
          "Rio Grande do Sul",
          "Mato Grosso do Sul",
          "Mato Grosso",
          "Goiás",
          "Distrito Federal"
         ],
         "xaxis": "x",
         "y": [
          1562408.99999999,
          733559.000000009,
          3483985.00000002,
          450479.000000003,
          7581051,
          669526.000000004,
          1383445,
          6574788.99999998,
          3118359.99999995,
          8452381.00000009,
          3168027,
          3766528,
          8796447.99999998,
          3120494.00000001,
          2068016.99999999,
          14016906.0000001,
          19597329.9999999,
          3514951.99999998,
          15989929,
          41262199.0000007,
          10444526.0000001,
          6248436.00000001,
          10693929,
          2449024.00000002,
          3035121.99999999,
          6003788.00000004,
          2570160.00000001
         ],
         "yaxis": "y"
        }
       ],
       "layout": {
        "barmode": "relative",
        "legend": {
         "tracegroupgap": 0
        },
        "margin": {
         "t": 60
        },
        "template": {
         "data": {
          "bar": [
           {
            "error_x": {
             "color": "#2a3f5f"
            },
            "error_y": {
             "color": "#2a3f5f"
            },
            "marker": {
             "line": {
              "color": "#E5ECF6",
              "width": 0.5
             },
             "pattern": {
              "fillmode": "overlay",
              "size": 10,
              "solidity": 0.2
             }
            },
            "type": "bar"
           }
          ],
          "barpolar": [
           {
            "marker": {
             "line": {
              "color": "#E5ECF6",
              "width": 0.5
             },
             "pattern": {
              "fillmode": "overlay",
              "size": 10,
              "solidity": 0.2
             }
            },
            "type": "barpolar"
           }
          ],
          "carpet": [
           {
            "aaxis": {
             "endlinecolor": "#2a3f5f",
             "gridcolor": "white",
             "linecolor": "white",
             "minorgridcolor": "white",
             "startlinecolor": "#2a3f5f"
            },
            "baxis": {
             "endlinecolor": "#2a3f5f",
             "gridcolor": "white",
             "linecolor": "white",
             "minorgridcolor": "white",
             "startlinecolor": "#2a3f5f"
            },
            "type": "carpet"
           }
          ],
          "choropleth": [
           {
            "colorbar": {
             "outlinewidth": 0,
             "ticks": ""
            },
            "type": "choropleth"
           }
          ],
          "contour": [
           {
            "colorbar": {
             "outlinewidth": 0,
             "ticks": ""
            },
            "colorscale": [
             [
              0,
              "#0d0887"
             ],
             [
              0.1111111111111111,
              "#46039f"
             ],
             [
              0.2222222222222222,
              "#7201a8"
             ],
             [
              0.3333333333333333,
              "#9c179e"
             ],
             [
              0.4444444444444444,
              "#bd3786"
             ],
             [
              0.5555555555555556,
              "#d8576b"
             ],
             [
              0.6666666666666666,
              "#ed7953"
             ],
             [
              0.7777777777777778,
              "#fb9f3a"
             ],
             [
              0.8888888888888888,
              "#fdca26"
             ],
             [
              1,
              "#f0f921"
             ]
            ],
            "type": "contour"
           }
          ],
          "contourcarpet": [
           {
            "colorbar": {
             "outlinewidth": 0,
             "ticks": ""
            },
            "type": "contourcarpet"
           }
          ],
          "heatmap": [
           {
            "colorbar": {
             "outlinewidth": 0,
             "ticks": ""
            },
            "colorscale": [
             [
              0,
              "#0d0887"
             ],
             [
              0.1111111111111111,
              "#46039f"
             ],
             [
              0.2222222222222222,
              "#7201a8"
             ],
             [
              0.3333333333333333,
              "#9c179e"
             ],
             [
              0.4444444444444444,
              "#bd3786"
             ],
             [
              0.5555555555555556,
              "#d8576b"
             ],
             [
              0.6666666666666666,
              "#ed7953"
             ],
             [
              0.7777777777777778,
              "#fb9f3a"
             ],
             [
              0.8888888888888888,
              "#fdca26"
             ],
             [
              1,
              "#f0f921"
             ]
            ],
            "type": "heatmap"
           }
          ],
          "heatmapgl": [
           {
            "colorbar": {
             "outlinewidth": 0,
             "ticks": ""
            },
            "colorscale": [
             [
              0,
              "#0d0887"
             ],
             [
              0.1111111111111111,
              "#46039f"
             ],
             [
              0.2222222222222222,
              "#7201a8"
             ],
             [
              0.3333333333333333,
              "#9c179e"
             ],
             [
              0.4444444444444444,
              "#bd3786"
             ],
             [
              0.5555555555555556,
              "#d8576b"
             ],
             [
              0.6666666666666666,
              "#ed7953"
             ],
             [
              0.7777777777777778,
              "#fb9f3a"
             ],
             [
              0.8888888888888888,
              "#fdca26"
             ],
             [
              1,
              "#f0f921"
             ]
            ],
            "type": "heatmapgl"
           }
          ],
          "histogram": [
           {
            "marker": {
             "pattern": {
              "fillmode": "overlay",
              "size": 10,
              "solidity": 0.2
             }
            },
            "type": "histogram"
           }
          ],
          "histogram2d": [
           {
            "colorbar": {
             "outlinewidth": 0,
             "ticks": ""
            },
            "colorscale": [
             [
              0,
              "#0d0887"
             ],
             [
              0.1111111111111111,
              "#46039f"
             ],
             [
              0.2222222222222222,
              "#7201a8"
             ],
             [
              0.3333333333333333,
              "#9c179e"
             ],
             [
              0.4444444444444444,
              "#bd3786"
             ],
             [
              0.5555555555555556,
              "#d8576b"
             ],
             [
              0.6666666666666666,
              "#ed7953"
             ],
             [
              0.7777777777777778,
              "#fb9f3a"
             ],
             [
              0.8888888888888888,
              "#fdca26"
             ],
             [
              1,
              "#f0f921"
             ]
            ],
            "type": "histogram2d"
           }
          ],
          "histogram2dcontour": [
           {
            "colorbar": {
             "outlinewidth": 0,
             "ticks": ""
            },
            "colorscale": [
             [
              0,
              "#0d0887"
             ],
             [
              0.1111111111111111,
              "#46039f"
             ],
             [
              0.2222222222222222,
              "#7201a8"
             ],
             [
              0.3333333333333333,
              "#9c179e"
             ],
             [
              0.4444444444444444,
              "#bd3786"
             ],
             [
              0.5555555555555556,
              "#d8576b"
             ],
             [
              0.6666666666666666,
              "#ed7953"
             ],
             [
              0.7777777777777778,
              "#fb9f3a"
             ],
             [
              0.8888888888888888,
              "#fdca26"
             ],
             [
              1,
              "#f0f921"
             ]
            ],
            "type": "histogram2dcontour"
           }
          ],
          "mesh3d": [
           {
            "colorbar": {
             "outlinewidth": 0,
             "ticks": ""
            },
            "type": "mesh3d"
           }
          ],
          "parcoords": [
           {
            "line": {
             "colorbar": {
              "outlinewidth": 0,
              "ticks": ""
             }
            },
            "type": "parcoords"
           }
          ],
          "pie": [
           {
            "automargin": true,
            "type": "pie"
           }
          ],
          "scatter": [
           {
            "fillpattern": {
             "fillmode": "overlay",
             "size": 10,
             "solidity": 0.2
            },
            "type": "scatter"
           }
          ],
          "scatter3d": [
           {
            "line": {
             "colorbar": {
              "outlinewidth": 0,
              "ticks": ""
             }
            },
            "marker": {
             "colorbar": {
              "outlinewidth": 0,
              "ticks": ""
             }
            },
            "type": "scatter3d"
           }
          ],
          "scattercarpet": [
           {
            "marker": {
             "colorbar": {
              "outlinewidth": 0,
              "ticks": ""
             }
            },
            "type": "scattercarpet"
           }
          ],
          "scattergeo": [
           {
            "marker": {
             "colorbar": {
              "outlinewidth": 0,
              "ticks": ""
             }
            },
            "type": "scattergeo"
           }
          ],
          "scattergl": [
           {
            "marker": {
             "colorbar": {
              "outlinewidth": 0,
              "ticks": ""
             }
            },
            "type": "scattergl"
           }
          ],
          "scattermapbox": [
           {
            "marker": {
             "colorbar": {
              "outlinewidth": 0,
              "ticks": ""
             }
            },
            "type": "scattermapbox"
           }
          ],
          "scatterpolar": [
           {
            "marker": {
             "colorbar": {
              "outlinewidth": 0,
              "ticks": ""
             }
            },
            "type": "scatterpolar"
           }
          ],
          "scatterpolargl": [
           {
            "marker": {
             "colorbar": {
              "outlinewidth": 0,
              "ticks": ""
             }
            },
            "type": "scatterpolargl"
           }
          ],
          "scatterternary": [
           {
            "marker": {
             "colorbar": {
              "outlinewidth": 0,
              "ticks": ""
             }
            },
            "type": "scatterternary"
           }
          ],
          "surface": [
           {
            "colorbar": {
             "outlinewidth": 0,
             "ticks": ""
            },
            "colorscale": [
             [
              0,
              "#0d0887"
             ],
             [
              0.1111111111111111,
              "#46039f"
             ],
             [
              0.2222222222222222,
              "#7201a8"
             ],
             [
              0.3333333333333333,
              "#9c179e"
             ],
             [
              0.4444444444444444,
              "#bd3786"
             ],
             [
              0.5555555555555556,
              "#d8576b"
             ],
             [
              0.6666666666666666,
              "#ed7953"
             ],
             [
              0.7777777777777778,
              "#fb9f3a"
             ],
             [
              0.8888888888888888,
              "#fdca26"
             ],
             [
              1,
              "#f0f921"
             ]
            ],
            "type": "surface"
           }
          ],
          "table": [
           {
            "cells": {
             "fill": {
              "color": "#EBF0F8"
             },
             "line": {
              "color": "white"
             }
            },
            "header": {
             "fill": {
              "color": "#C8D4E3"
             },
             "line": {
              "color": "white"
             }
            },
            "type": "table"
           }
          ]
         },
         "layout": {
          "annotationdefaults": {
           "arrowcolor": "#2a3f5f",
           "arrowhead": 0,
           "arrowwidth": 1
          },
          "autotypenumbers": "strict",
          "coloraxis": {
           "colorbar": {
            "outlinewidth": 0,
            "ticks": ""
           }
          },
          "colorscale": {
           "diverging": [
            [
             0,
             "#8e0152"
            ],
            [
             0.1,
             "#c51b7d"
            ],
            [
             0.2,
             "#de77ae"
            ],
            [
             0.3,
             "#f1b6da"
            ],
            [
             0.4,
             "#fde0ef"
            ],
            [
             0.5,
             "#f7f7f7"
            ],
            [
             0.6,
             "#e6f5d0"
            ],
            [
             0.7,
             "#b8e186"
            ],
            [
             0.8,
             "#7fbc41"
            ],
            [
             0.9,
             "#4d9221"
            ],
            [
             1,
             "#276419"
            ]
           ],
           "sequential": [
            [
             0,
             "#0d0887"
            ],
            [
             0.1111111111111111,
             "#46039f"
            ],
            [
             0.2222222222222222,
             "#7201a8"
            ],
            [
             0.3333333333333333,
             "#9c179e"
            ],
            [
             0.4444444444444444,
             "#bd3786"
            ],
            [
             0.5555555555555556,
             "#d8576b"
            ],
            [
             0.6666666666666666,
             "#ed7953"
            ],
            [
             0.7777777777777778,
             "#fb9f3a"
            ],
            [
             0.8888888888888888,
             "#fdca26"
            ],
            [
             1,
             "#f0f921"
            ]
           ],
           "sequentialminus": [
            [
             0,
             "#0d0887"
            ],
            [
             0.1111111111111111,
             "#46039f"
            ],
            [
             0.2222222222222222,
             "#7201a8"
            ],
            [
             0.3333333333333333,
             "#9c179e"
            ],
            [
             0.4444444444444444,
             "#bd3786"
            ],
            [
             0.5555555555555556,
             "#d8576b"
            ],
            [
             0.6666666666666666,
             "#ed7953"
            ],
            [
             0.7777777777777778,
             "#fb9f3a"
            ],
            [
             0.8888888888888888,
             "#fdca26"
            ],
            [
             1,
             "#f0f921"
            ]
           ]
          },
          "colorway": [
           "#636efa",
           "#EF553B",
           "#00cc96",
           "#ab63fa",
           "#FFA15A",
           "#19d3f3",
           "#FF6692",
           "#B6E880",
           "#FF97FF",
           "#FECB52"
          ],
          "font": {
           "color": "#2a3f5f"
          },
          "geo": {
           "bgcolor": "white",
           "lakecolor": "white",
           "landcolor": "#E5ECF6",
           "showlakes": true,
           "showland": true,
           "subunitcolor": "white"
          },
          "hoverlabel": {
           "align": "left"
          },
          "hovermode": "closest",
          "mapbox": {
           "style": "light"
          },
          "paper_bgcolor": "white",
          "plot_bgcolor": "#E5ECF6",
          "polar": {
           "angularaxis": {
            "gridcolor": "white",
            "linecolor": "white",
            "ticks": ""
           },
           "bgcolor": "#E5ECF6",
           "radialaxis": {
            "gridcolor": "white",
            "linecolor": "white",
            "ticks": ""
           }
          },
          "scene": {
           "xaxis": {
            "backgroundcolor": "#E5ECF6",
            "gridcolor": "white",
            "gridwidth": 2,
            "linecolor": "white",
            "showbackground": true,
            "ticks": "",
            "zerolinecolor": "white"
           },
           "yaxis": {
            "backgroundcolor": "#E5ECF6",
            "gridcolor": "white",
            "gridwidth": 2,
            "linecolor": "white",
            "showbackground": true,
            "ticks": "",
            "zerolinecolor": "white"
           },
           "zaxis": {
            "backgroundcolor": "#E5ECF6",
            "gridcolor": "white",
            "gridwidth": 2,
            "linecolor": "white",
            "showbackground": true,
            "ticks": "",
            "zerolinecolor": "white"
           }
          },
          "shapedefaults": {
           "line": {
            "color": "#2a3f5f"
           }
          },
          "ternary": {
           "aaxis": {
            "gridcolor": "white",
            "linecolor": "white",
            "ticks": ""
           },
           "baxis": {
            "gridcolor": "white",
            "linecolor": "white",
            "ticks": ""
           },
           "bgcolor": "#E5ECF6",
           "caxis": {
            "gridcolor": "white",
            "linecolor": "white",
            "ticks": ""
           }
          },
          "title": {
           "x": 0.05
          },
          "xaxis": {
           "automargin": true,
           "gridcolor": "white",
           "linecolor": "white",
           "ticks": "",
           "title": {
            "standoff": 15
           },
           "zerolinecolor": "white",
           "zerolinewidth": 2
          },
          "yaxis": {
           "automargin": true,
           "gridcolor": "white",
           "linecolor": "white",
           "ticks": "",
           "title": {
            "standoff": 15
           },
           "zerolinecolor": "white",
           "zerolinewidth": 2
          }
         }
        },
        "xaxis": {
         "anchor": "y",
         "domain": [
          0,
          1
         ],
         "title": {
          "text": "Estado"
         }
        },
        "yaxis": {
         "anchor": "x",
         "domain": [
          0,
          1
         ],
         "title": {
          "text": "Quantidade de Pessoas"
         }
        }
       }
      }
     },
     "metadata": {},
     "output_type": "display_data"
    },
    {
     "data": {
      "application/vnd.plotly.v1+json": {
       "config": {
        "plotlyServerURL": "https://plot.ly"
       },
       "data": [
        {
         "alignmentgroup": "True",
         "hovertemplate": "cod_local=%{x}<br>qtd_pes_pob_vul=%{y}<extra></extra>",
         "legendgroup": "",
         "marker": {
          "color": "#636efa",
          "pattern": {
           "shape": ""
          }
         },
         "name": "",
         "offsetgroup": "",
         "orientation": "v",
         "showlegend": false,
         "textposition": "auto",
         "type": "bar",
         "x": [
          "Rondônia",
          "Acre",
          "Amazonas",
          "Roraima",
          "Pará",
          "Amapá",
          "Tocantins",
          "Maranhão",
          "Piauí",
          "Ceará",
          "Rio Grande do Norte",
          "Paraíba",
          "Pernambuco",
          "Alagoas",
          "Sergipe",
          "Bahia",
          "Minas Gerais",
          "Espírito Santo",
          "Rio de Janeiro",
          "São Paulo",
          "Paraná",
          "Santa Catarina",
          "Rio Grande do Sul",
          "Mato Grosso do Sul",
          "Mato Grosso",
          "Goiás",
          "Distrito Federal"
         ],
         "xaxis": "x",
         "y": [
          1102947.38119301,
          529091.099062404,
          2238651.20271216,
          249818.421017989,
          5768848.3398803,
          471188.169968537,
          769467.018625006,
          4868647.12405155,
          2135130.37635287,
          4773806.30250657,
          1545070.49834245,
          1981774.00320407,
          4326558.4622765,
          1927879.0385357,
          1045256.10825007,
          7376981.81448479,
          5409799.67829345,
          1047711.4467893,
          3459497.8210528,
          5922849.58522276,
          3175271.55316821,
          1815767.29612963,
          3038992.7340811,
          1029855.90214826,
          1482633.14713591,
          2252144.1363077,
          385275.713963804
         ],
         "yaxis": "y"
        }
       ],
       "layout": {
        "barmode": "relative",
        "legend": {
         "tracegroupgap": 0
        },
        "margin": {
         "t": 60
        },
        "template": {
         "data": {
          "bar": [
           {
            "error_x": {
             "color": "#2a3f5f"
            },
            "error_y": {
             "color": "#2a3f5f"
            },
            "marker": {
             "line": {
              "color": "#E5ECF6",
              "width": 0.5
             },
             "pattern": {
              "fillmode": "overlay",
              "size": 10,
              "solidity": 0.2
             }
            },
            "type": "bar"
           }
          ],
          "barpolar": [
           {
            "marker": {
             "line": {
              "color": "#E5ECF6",
              "width": 0.5
             },
             "pattern": {
              "fillmode": "overlay",
              "size": 10,
              "solidity": 0.2
             }
            },
            "type": "barpolar"
           }
          ],
          "carpet": [
           {
            "aaxis": {
             "endlinecolor": "#2a3f5f",
             "gridcolor": "white",
             "linecolor": "white",
             "minorgridcolor": "white",
             "startlinecolor": "#2a3f5f"
            },
            "baxis": {
             "endlinecolor": "#2a3f5f",
             "gridcolor": "white",
             "linecolor": "white",
             "minorgridcolor": "white",
             "startlinecolor": "#2a3f5f"
            },
            "type": "carpet"
           }
          ],
          "choropleth": [
           {
            "colorbar": {
             "outlinewidth": 0,
             "ticks": ""
            },
            "type": "choropleth"
           }
          ],
          "contour": [
           {
            "colorbar": {
             "outlinewidth": 0,
             "ticks": ""
            },
            "colorscale": [
             [
              0,
              "#0d0887"
             ],
             [
              0.1111111111111111,
              "#46039f"
             ],
             [
              0.2222222222222222,
              "#7201a8"
             ],
             [
              0.3333333333333333,
              "#9c179e"
             ],
             [
              0.4444444444444444,
              "#bd3786"
             ],
             [
              0.5555555555555556,
              "#d8576b"
             ],
             [
              0.6666666666666666,
              "#ed7953"
             ],
             [
              0.7777777777777778,
              "#fb9f3a"
             ],
             [
              0.8888888888888888,
              "#fdca26"
             ],
             [
              1,
              "#f0f921"
             ]
            ],
            "type": "contour"
           }
          ],
          "contourcarpet": [
           {
            "colorbar": {
             "outlinewidth": 0,
             "ticks": ""
            },
            "type": "contourcarpet"
           }
          ],
          "heatmap": [
           {
            "colorbar": {
             "outlinewidth": 0,
             "ticks": ""
            },
            "colorscale": [
             [
              0,
              "#0d0887"
             ],
             [
              0.1111111111111111,
              "#46039f"
             ],
             [
              0.2222222222222222,
              "#7201a8"
             ],
             [
              0.3333333333333333,
              "#9c179e"
             ],
             [
              0.4444444444444444,
              "#bd3786"
             ],
             [
              0.5555555555555556,
              "#d8576b"
             ],
             [
              0.6666666666666666,
              "#ed7953"
             ],
             [
              0.7777777777777778,
              "#fb9f3a"
             ],
             [
              0.8888888888888888,
              "#fdca26"
             ],
             [
              1,
              "#f0f921"
             ]
            ],
            "type": "heatmap"
           }
          ],
          "heatmapgl": [
           {
            "colorbar": {
             "outlinewidth": 0,
             "ticks": ""
            },
            "colorscale": [
             [
              0,
              "#0d0887"
             ],
             [
              0.1111111111111111,
              "#46039f"
             ],
             [
              0.2222222222222222,
              "#7201a8"
             ],
             [
              0.3333333333333333,
              "#9c179e"
             ],
             [
              0.4444444444444444,
              "#bd3786"
             ],
             [
              0.5555555555555556,
              "#d8576b"
             ],
             [
              0.6666666666666666,
              "#ed7953"
             ],
             [
              0.7777777777777778,
              "#fb9f3a"
             ],
             [
              0.8888888888888888,
              "#fdca26"
             ],
             [
              1,
              "#f0f921"
             ]
            ],
            "type": "heatmapgl"
           }
          ],
          "histogram": [
           {
            "marker": {
             "pattern": {
              "fillmode": "overlay",
              "size": 10,
              "solidity": 0.2
             }
            },
            "type": "histogram"
           }
          ],
          "histogram2d": [
           {
            "colorbar": {
             "outlinewidth": 0,
             "ticks": ""
            },
            "colorscale": [
             [
              0,
              "#0d0887"
             ],
             [
              0.1111111111111111,
              "#46039f"
             ],
             [
              0.2222222222222222,
              "#7201a8"
             ],
             [
              0.3333333333333333,
              "#9c179e"
             ],
             [
              0.4444444444444444,
              "#bd3786"
             ],
             [
              0.5555555555555556,
              "#d8576b"
             ],
             [
              0.6666666666666666,
              "#ed7953"
             ],
             [
              0.7777777777777778,
              "#fb9f3a"
             ],
             [
              0.8888888888888888,
              "#fdca26"
             ],
             [
              1,
              "#f0f921"
             ]
            ],
            "type": "histogram2d"
           }
          ],
          "histogram2dcontour": [
           {
            "colorbar": {
             "outlinewidth": 0,
             "ticks": ""
            },
            "colorscale": [
             [
              0,
              "#0d0887"
             ],
             [
              0.1111111111111111,
              "#46039f"
             ],
             [
              0.2222222222222222,
              "#7201a8"
             ],
             [
              0.3333333333333333,
              "#9c179e"
             ],
             [
              0.4444444444444444,
              "#bd3786"
             ],
             [
              0.5555555555555556,
              "#d8576b"
             ],
             [
              0.6666666666666666,
              "#ed7953"
             ],
             [
              0.7777777777777778,
              "#fb9f3a"
             ],
             [
              0.8888888888888888,
              "#fdca26"
             ],
             [
              1,
              "#f0f921"
             ]
            ],
            "type": "histogram2dcontour"
           }
          ],
          "mesh3d": [
           {
            "colorbar": {
             "outlinewidth": 0,
             "ticks": ""
            },
            "type": "mesh3d"
           }
          ],
          "parcoords": [
           {
            "line": {
             "colorbar": {
              "outlinewidth": 0,
              "ticks": ""
             }
            },
            "type": "parcoords"
           }
          ],
          "pie": [
           {
            "automargin": true,
            "type": "pie"
           }
          ],
          "scatter": [
           {
            "fillpattern": {
             "fillmode": "overlay",
             "size": 10,
             "solidity": 0.2
            },
            "type": "scatter"
           }
          ],
          "scatter3d": [
           {
            "line": {
             "colorbar": {
              "outlinewidth": 0,
              "ticks": ""
             }
            },
            "marker": {
             "colorbar": {
              "outlinewidth": 0,
              "ticks": ""
             }
            },
            "type": "scatter3d"
           }
          ],
          "scattercarpet": [
           {
            "marker": {
             "colorbar": {
              "outlinewidth": 0,
              "ticks": ""
             }
            },
            "type": "scattercarpet"
           }
          ],
          "scattergeo": [
           {
            "marker": {
             "colorbar": {
              "outlinewidth": 0,
              "ticks": ""
             }
            },
            "type": "scattergeo"
           }
          ],
          "scattergl": [
           {
            "marker": {
             "colorbar": {
              "outlinewidth": 0,
              "ticks": ""
             }
            },
            "type": "scattergl"
           }
          ],
          "scattermapbox": [
           {
            "marker": {
             "colorbar": {
              "outlinewidth": 0,
              "ticks": ""
             }
            },
            "type": "scattermapbox"
           }
          ],
          "scatterpolar": [
           {
            "marker": {
             "colorbar": {
              "outlinewidth": 0,
              "ticks": ""
             }
            },
            "type": "scatterpolar"
           }
          ],
          "scatterpolargl": [
           {
            "marker": {
             "colorbar": {
              "outlinewidth": 0,
              "ticks": ""
             }
            },
            "type": "scatterpolargl"
           }
          ],
          "scatterternary": [
           {
            "marker": {
             "colorbar": {
              "outlinewidth": 0,
              "ticks": ""
             }
            },
            "type": "scatterternary"
           }
          ],
          "surface": [
           {
            "colorbar": {
             "outlinewidth": 0,
             "ticks": ""
            },
            "colorscale": [
             [
              0,
              "#0d0887"
             ],
             [
              0.1111111111111111,
              "#46039f"
             ],
             [
              0.2222222222222222,
              "#7201a8"
             ],
             [
              0.3333333333333333,
              "#9c179e"
             ],
             [
              0.4444444444444444,
              "#bd3786"
             ],
             [
              0.5555555555555556,
              "#d8576b"
             ],
             [
              0.6666666666666666,
              "#ed7953"
             ],
             [
              0.7777777777777778,
              "#fb9f3a"
             ],
             [
              0.8888888888888888,
              "#fdca26"
             ],
             [
              1,
              "#f0f921"
             ]
            ],
            "type": "surface"
           }
          ],
          "table": [
           {
            "cells": {
             "fill": {
              "color": "#EBF0F8"
             },
             "line": {
              "color": "white"
             }
            },
            "header": {
             "fill": {
              "color": "#C8D4E3"
             },
             "line": {
              "color": "white"
             }
            },
            "type": "table"
           }
          ]
         },
         "layout": {
          "annotationdefaults": {
           "arrowcolor": "#2a3f5f",
           "arrowhead": 0,
           "arrowwidth": 1
          },
          "autotypenumbers": "strict",
          "coloraxis": {
           "colorbar": {
            "outlinewidth": 0,
            "ticks": ""
           }
          },
          "colorscale": {
           "diverging": [
            [
             0,
             "#8e0152"
            ],
            [
             0.1,
             "#c51b7d"
            ],
            [
             0.2,
             "#de77ae"
            ],
            [
             0.3,
             "#f1b6da"
            ],
            [
             0.4,
             "#fde0ef"
            ],
            [
             0.5,
             "#f7f7f7"
            ],
            [
             0.6,
             "#e6f5d0"
            ],
            [
             0.7,
             "#b8e186"
            ],
            [
             0.8,
             "#7fbc41"
            ],
            [
             0.9,
             "#4d9221"
            ],
            [
             1,
             "#276419"
            ]
           ],
           "sequential": [
            [
             0,
             "#0d0887"
            ],
            [
             0.1111111111111111,
             "#46039f"
            ],
            [
             0.2222222222222222,
             "#7201a8"
            ],
            [
             0.3333333333333333,
             "#9c179e"
            ],
            [
             0.4444444444444444,
             "#bd3786"
            ],
            [
             0.5555555555555556,
             "#d8576b"
            ],
            [
             0.6666666666666666,
             "#ed7953"
            ],
            [
             0.7777777777777778,
             "#fb9f3a"
            ],
            [
             0.8888888888888888,
             "#fdca26"
            ],
            [
             1,
             "#f0f921"
            ]
           ],
           "sequentialminus": [
            [
             0,
             "#0d0887"
            ],
            [
             0.1111111111111111,
             "#46039f"
            ],
            [
             0.2222222222222222,
             "#7201a8"
            ],
            [
             0.3333333333333333,
             "#9c179e"
            ],
            [
             0.4444444444444444,
             "#bd3786"
            ],
            [
             0.5555555555555556,
             "#d8576b"
            ],
            [
             0.6666666666666666,
             "#ed7953"
            ],
            [
             0.7777777777777778,
             "#fb9f3a"
            ],
            [
             0.8888888888888888,
             "#fdca26"
            ],
            [
             1,
             "#f0f921"
            ]
           ]
          },
          "colorway": [
           "#636efa",
           "#EF553B",
           "#00cc96",
           "#ab63fa",
           "#FFA15A",
           "#19d3f3",
           "#FF6692",
           "#B6E880",
           "#FF97FF",
           "#FECB52"
          ],
          "font": {
           "color": "#2a3f5f"
          },
          "geo": {
           "bgcolor": "white",
           "lakecolor": "white",
           "landcolor": "#E5ECF6",
           "showlakes": true,
           "showland": true,
           "subunitcolor": "white"
          },
          "hoverlabel": {
           "align": "left"
          },
          "hovermode": "closest",
          "mapbox": {
           "style": "light"
          },
          "paper_bgcolor": "white",
          "plot_bgcolor": "#E5ECF6",
          "polar": {
           "angularaxis": {
            "gridcolor": "white",
            "linecolor": "white",
            "ticks": ""
           },
           "bgcolor": "#E5ECF6",
           "radialaxis": {
            "gridcolor": "white",
            "linecolor": "white",
            "ticks": ""
           }
          },
          "scene": {
           "xaxis": {
            "backgroundcolor": "#E5ECF6",
            "gridcolor": "white",
            "gridwidth": 2,
            "linecolor": "white",
            "showbackground": true,
            "ticks": "",
            "zerolinecolor": "white"
           },
           "yaxis": {
            "backgroundcolor": "#E5ECF6",
            "gridcolor": "white",
            "gridwidth": 2,
            "linecolor": "white",
            "showbackground": true,
            "ticks": "",
            "zerolinecolor": "white"
           },
           "zaxis": {
            "backgroundcolor": "#E5ECF6",
            "gridcolor": "white",
            "gridwidth": 2,
            "linecolor": "white",
            "showbackground": true,
            "ticks": "",
            "zerolinecolor": "white"
           }
          },
          "shapedefaults": {
           "line": {
            "color": "#2a3f5f"
           }
          },
          "ternary": {
           "aaxis": {
            "gridcolor": "white",
            "linecolor": "white",
            "ticks": ""
           },
           "baxis": {
            "gridcolor": "white",
            "linecolor": "white",
            "ticks": ""
           },
           "bgcolor": "#E5ECF6",
           "caxis": {
            "gridcolor": "white",
            "linecolor": "white",
            "ticks": ""
           }
          },
          "title": {
           "x": 0.05
          },
          "xaxis": {
           "automargin": true,
           "gridcolor": "white",
           "linecolor": "white",
           "ticks": "",
           "title": {
            "standoff": 15
           },
           "zerolinecolor": "white",
           "zerolinewidth": 2
          },
          "yaxis": {
           "automargin": true,
           "gridcolor": "white",
           "linecolor": "white",
           "ticks": "",
           "title": {
            "standoff": 15
           },
           "zerolinecolor": "white",
           "zerolinewidth": 2
          }
         }
        },
        "xaxis": {
         "anchor": "y",
         "domain": [
          0,
          1
         ],
         "title": {
          "text": "Estado"
         }
        },
        "yaxis": {
         "anchor": "x",
         "domain": [
          0,
          1
         ],
         "title": {
          "text": "Quantidade de Pessoas pobres ou vulneráveis"
         }
        }
       }
      }
     },
     "metadata": {},
     "output_type": "display_data"
    }
   ],
   "source": [
    "dataframeBase = pd.read_excel(\"Agregações GR UF Brasil/UF.ods\",engine='odf')\n",
    "\n",
    "newDataframe = dataframeBase[[\"cod_local\", \"qtd_pes\", \"qtd_pes_pobres\", \"qtd_pes_vulneraveis\", \"qtd_pes_pob_vul\",\"qtd_0a11\"]].copy()\n",
    "\n",
    "mapeamento = {\n",
    "11: \"Rondônia\",\n",
    "12: \"Acre\",\n",
    "13: \"Amazonas\",\n",
    "14: \"Roraima\",\n",
    "15: \"Pará\",\n",
    "16: \"Amapá\",\n",
    "17: \"Tocantins\",\n",
    "21: \"Maranhão\",\n",
    "22: \"Piauí\",\n",
    "23: \"Ceará\",\n",
    "24: \"Rio Grande do Norte\",\n",
    "25: \"Paraíba\",\n",
    "26: \"Pernambuco\",\n",
    "27: \"Alagoas\",\n",
    "28: \"Sergipe\",\n",
    "29: \"Bahia\",\n",
    "31: \"Minas Gerais\",\n",
    "32: \"Espírito Santo\",\n",
    "33: \"Rio de Janeiro\",\n",
    "35: \"São Paulo\",\n",
    "41: \"Paraná\",\n",
    "42: \"Santa Catarina\",\n",
    "43: \"Rio Grande do Sul\",\n",
    "50: \"Mato Grosso do Sul\",\n",
    "51: \"Mato Grosso\",\n",
    "52: \"Goiás\",\n",
    "53: \"Distrito Federal\",\n",
    "}\n",
    "\n",
    "newDataframe['cod_local'] = newDataframe['cod_local'].replace(mapeamento)\n",
    "\n",
    "\n",
    "fig1 = px.bar(newDataframe, x = 'cod_local', y = 'qtd_pes')\n",
    "fig1.update_yaxes(title_text='Quantidade de Pessoas')\n",
    "fig1.update_xaxes(title_text='Estado')\n",
    "\n",
    "fig1.show()\n",
    "\n",
    "\n",
    "fig1 = px.bar(newDataframe, x = 'cod_local', y = 'qtd_pes_pob_vul')\n",
    "fig1.update_yaxes(title_text='Quantidade de Pessoas pobres ou vulneráveis')\n",
    "fig1.update_xaxes(title_text='Estado')\n",
    "\n",
    "\n",
    "fig1.show()\n"
   ]
  },
  {
   "cell_type": "code",
   "execution_count": 86,
   "metadata": {},
   "outputs": [
    {
     "data": {
      "application/vnd.plotly.v1+json": {
       "config": {
        "plotlyServerURL": "https://plot.ly"
       },
       "data": [
        {
         "alignmentgroup": "True",
         "hovertemplate": "nom_mun=%{x}<br>qtd_pes_pob_vul=%{y}<extra></extra>",
         "legendgroup": "",
         "marker": {
          "color": "#636efa",
          "pattern": {
           "shape": ""
          }
         },
         "name": "",
         "offsetgroup": "",
         "orientation": "v",
         "showlegend": false,
         "textposition": "auto",
         "type": "bar",
         "x": [
          "São Paulo",
          "Manaus",
          "Fortaleza",
          "Rio de Janeiro",
          "Belém",
          "Salvador",
          "Recife",
          "São Luís",
          "Maceió",
          "Brasília",
          "Teresina",
          "Ananindeua",
          "Jaboatão dos Guararapes",
          "Duque de Caxias",
          "Macapá",
          "Porto Velho",
          "São Gonçalo",
          "Feira de Santana",
          "Natal",
          "Goiânia"
         ],
         "xaxis": "x",
         "y": [
          1234387.28444765,
          778668.028825495,
          757474.57481405,
          686480.876986804,
          647973.379716564,
          559293.386332277,
          456869.897192416,
          424947.897038018,
          407487.780028685,
          385275.713963804,
          363743.283607606,
          285379.71999105,
          278559.882932605,
          272630.467660187,
          254404.285375648,
          247327.264631502,
          240004.398101361,
          236320.610859035,
          234712.384294888,
          223791.314831388
         ],
         "yaxis": "y"
        }
       ],
       "layout": {
        "barmode": "relative",
        "legend": {
         "tracegroupgap": 0
        },
        "template": {
         "data": {
          "bar": [
           {
            "error_x": {
             "color": "#2a3f5f"
            },
            "error_y": {
             "color": "#2a3f5f"
            },
            "marker": {
             "line": {
              "color": "#E5ECF6",
              "width": 0.5
             },
             "pattern": {
              "fillmode": "overlay",
              "size": 10,
              "solidity": 0.2
             }
            },
            "type": "bar"
           }
          ],
          "barpolar": [
           {
            "marker": {
             "line": {
              "color": "#E5ECF6",
              "width": 0.5
             },
             "pattern": {
              "fillmode": "overlay",
              "size": 10,
              "solidity": 0.2
             }
            },
            "type": "barpolar"
           }
          ],
          "carpet": [
           {
            "aaxis": {
             "endlinecolor": "#2a3f5f",
             "gridcolor": "white",
             "linecolor": "white",
             "minorgridcolor": "white",
             "startlinecolor": "#2a3f5f"
            },
            "baxis": {
             "endlinecolor": "#2a3f5f",
             "gridcolor": "white",
             "linecolor": "white",
             "minorgridcolor": "white",
             "startlinecolor": "#2a3f5f"
            },
            "type": "carpet"
           }
          ],
          "choropleth": [
           {
            "colorbar": {
             "outlinewidth": 0,
             "ticks": ""
            },
            "type": "choropleth"
           }
          ],
          "contour": [
           {
            "colorbar": {
             "outlinewidth": 0,
             "ticks": ""
            },
            "colorscale": [
             [
              0,
              "#0d0887"
             ],
             [
              0.1111111111111111,
              "#46039f"
             ],
             [
              0.2222222222222222,
              "#7201a8"
             ],
             [
              0.3333333333333333,
              "#9c179e"
             ],
             [
              0.4444444444444444,
              "#bd3786"
             ],
             [
              0.5555555555555556,
              "#d8576b"
             ],
             [
              0.6666666666666666,
              "#ed7953"
             ],
             [
              0.7777777777777778,
              "#fb9f3a"
             ],
             [
              0.8888888888888888,
              "#fdca26"
             ],
             [
              1,
              "#f0f921"
             ]
            ],
            "type": "contour"
           }
          ],
          "contourcarpet": [
           {
            "colorbar": {
             "outlinewidth": 0,
             "ticks": ""
            },
            "type": "contourcarpet"
           }
          ],
          "heatmap": [
           {
            "colorbar": {
             "outlinewidth": 0,
             "ticks": ""
            },
            "colorscale": [
             [
              0,
              "#0d0887"
             ],
             [
              0.1111111111111111,
              "#46039f"
             ],
             [
              0.2222222222222222,
              "#7201a8"
             ],
             [
              0.3333333333333333,
              "#9c179e"
             ],
             [
              0.4444444444444444,
              "#bd3786"
             ],
             [
              0.5555555555555556,
              "#d8576b"
             ],
             [
              0.6666666666666666,
              "#ed7953"
             ],
             [
              0.7777777777777778,
              "#fb9f3a"
             ],
             [
              0.8888888888888888,
              "#fdca26"
             ],
             [
              1,
              "#f0f921"
             ]
            ],
            "type": "heatmap"
           }
          ],
          "heatmapgl": [
           {
            "colorbar": {
             "outlinewidth": 0,
             "ticks": ""
            },
            "colorscale": [
             [
              0,
              "#0d0887"
             ],
             [
              0.1111111111111111,
              "#46039f"
             ],
             [
              0.2222222222222222,
              "#7201a8"
             ],
             [
              0.3333333333333333,
              "#9c179e"
             ],
             [
              0.4444444444444444,
              "#bd3786"
             ],
             [
              0.5555555555555556,
              "#d8576b"
             ],
             [
              0.6666666666666666,
              "#ed7953"
             ],
             [
              0.7777777777777778,
              "#fb9f3a"
             ],
             [
              0.8888888888888888,
              "#fdca26"
             ],
             [
              1,
              "#f0f921"
             ]
            ],
            "type": "heatmapgl"
           }
          ],
          "histogram": [
           {
            "marker": {
             "pattern": {
              "fillmode": "overlay",
              "size": 10,
              "solidity": 0.2
             }
            },
            "type": "histogram"
           }
          ],
          "histogram2d": [
           {
            "colorbar": {
             "outlinewidth": 0,
             "ticks": ""
            },
            "colorscale": [
             [
              0,
              "#0d0887"
             ],
             [
              0.1111111111111111,
              "#46039f"
             ],
             [
              0.2222222222222222,
              "#7201a8"
             ],
             [
              0.3333333333333333,
              "#9c179e"
             ],
             [
              0.4444444444444444,
              "#bd3786"
             ],
             [
              0.5555555555555556,
              "#d8576b"
             ],
             [
              0.6666666666666666,
              "#ed7953"
             ],
             [
              0.7777777777777778,
              "#fb9f3a"
             ],
             [
              0.8888888888888888,
              "#fdca26"
             ],
             [
              1,
              "#f0f921"
             ]
            ],
            "type": "histogram2d"
           }
          ],
          "histogram2dcontour": [
           {
            "colorbar": {
             "outlinewidth": 0,
             "ticks": ""
            },
            "colorscale": [
             [
              0,
              "#0d0887"
             ],
             [
              0.1111111111111111,
              "#46039f"
             ],
             [
              0.2222222222222222,
              "#7201a8"
             ],
             [
              0.3333333333333333,
              "#9c179e"
             ],
             [
              0.4444444444444444,
              "#bd3786"
             ],
             [
              0.5555555555555556,
              "#d8576b"
             ],
             [
              0.6666666666666666,
              "#ed7953"
             ],
             [
              0.7777777777777778,
              "#fb9f3a"
             ],
             [
              0.8888888888888888,
              "#fdca26"
             ],
             [
              1,
              "#f0f921"
             ]
            ],
            "type": "histogram2dcontour"
           }
          ],
          "mesh3d": [
           {
            "colorbar": {
             "outlinewidth": 0,
             "ticks": ""
            },
            "type": "mesh3d"
           }
          ],
          "parcoords": [
           {
            "line": {
             "colorbar": {
              "outlinewidth": 0,
              "ticks": ""
             }
            },
            "type": "parcoords"
           }
          ],
          "pie": [
           {
            "automargin": true,
            "type": "pie"
           }
          ],
          "scatter": [
           {
            "fillpattern": {
             "fillmode": "overlay",
             "size": 10,
             "solidity": 0.2
            },
            "type": "scatter"
           }
          ],
          "scatter3d": [
           {
            "line": {
             "colorbar": {
              "outlinewidth": 0,
              "ticks": ""
             }
            },
            "marker": {
             "colorbar": {
              "outlinewidth": 0,
              "ticks": ""
             }
            },
            "type": "scatter3d"
           }
          ],
          "scattercarpet": [
           {
            "marker": {
             "colorbar": {
              "outlinewidth": 0,
              "ticks": ""
             }
            },
            "type": "scattercarpet"
           }
          ],
          "scattergeo": [
           {
            "marker": {
             "colorbar": {
              "outlinewidth": 0,
              "ticks": ""
             }
            },
            "type": "scattergeo"
           }
          ],
          "scattergl": [
           {
            "marker": {
             "colorbar": {
              "outlinewidth": 0,
              "ticks": ""
             }
            },
            "type": "scattergl"
           }
          ],
          "scattermapbox": [
           {
            "marker": {
             "colorbar": {
              "outlinewidth": 0,
              "ticks": ""
             }
            },
            "type": "scattermapbox"
           }
          ],
          "scatterpolar": [
           {
            "marker": {
             "colorbar": {
              "outlinewidth": 0,
              "ticks": ""
             }
            },
            "type": "scatterpolar"
           }
          ],
          "scatterpolargl": [
           {
            "marker": {
             "colorbar": {
              "outlinewidth": 0,
              "ticks": ""
             }
            },
            "type": "scatterpolargl"
           }
          ],
          "scatterternary": [
           {
            "marker": {
             "colorbar": {
              "outlinewidth": 0,
              "ticks": ""
             }
            },
            "type": "scatterternary"
           }
          ],
          "surface": [
           {
            "colorbar": {
             "outlinewidth": 0,
             "ticks": ""
            },
            "colorscale": [
             [
              0,
              "#0d0887"
             ],
             [
              0.1111111111111111,
              "#46039f"
             ],
             [
              0.2222222222222222,
              "#7201a8"
             ],
             [
              0.3333333333333333,
              "#9c179e"
             ],
             [
              0.4444444444444444,
              "#bd3786"
             ],
             [
              0.5555555555555556,
              "#d8576b"
             ],
             [
              0.6666666666666666,
              "#ed7953"
             ],
             [
              0.7777777777777778,
              "#fb9f3a"
             ],
             [
              0.8888888888888888,
              "#fdca26"
             ],
             [
              1,
              "#f0f921"
             ]
            ],
            "type": "surface"
           }
          ],
          "table": [
           {
            "cells": {
             "fill": {
              "color": "#EBF0F8"
             },
             "line": {
              "color": "white"
             }
            },
            "header": {
             "fill": {
              "color": "#C8D4E3"
             },
             "line": {
              "color": "white"
             }
            },
            "type": "table"
           }
          ]
         },
         "layout": {
          "annotationdefaults": {
           "arrowcolor": "#2a3f5f",
           "arrowhead": 0,
           "arrowwidth": 1
          },
          "autotypenumbers": "strict",
          "coloraxis": {
           "colorbar": {
            "outlinewidth": 0,
            "ticks": ""
           }
          },
          "colorscale": {
           "diverging": [
            [
             0,
             "#8e0152"
            ],
            [
             0.1,
             "#c51b7d"
            ],
            [
             0.2,
             "#de77ae"
            ],
            [
             0.3,
             "#f1b6da"
            ],
            [
             0.4,
             "#fde0ef"
            ],
            [
             0.5,
             "#f7f7f7"
            ],
            [
             0.6,
             "#e6f5d0"
            ],
            [
             0.7,
             "#b8e186"
            ],
            [
             0.8,
             "#7fbc41"
            ],
            [
             0.9,
             "#4d9221"
            ],
            [
             1,
             "#276419"
            ]
           ],
           "sequential": [
            [
             0,
             "#0d0887"
            ],
            [
             0.1111111111111111,
             "#46039f"
            ],
            [
             0.2222222222222222,
             "#7201a8"
            ],
            [
             0.3333333333333333,
             "#9c179e"
            ],
            [
             0.4444444444444444,
             "#bd3786"
            ],
            [
             0.5555555555555556,
             "#d8576b"
            ],
            [
             0.6666666666666666,
             "#ed7953"
            ],
            [
             0.7777777777777778,
             "#fb9f3a"
            ],
            [
             0.8888888888888888,
             "#fdca26"
            ],
            [
             1,
             "#f0f921"
            ]
           ],
           "sequentialminus": [
            [
             0,
             "#0d0887"
            ],
            [
             0.1111111111111111,
             "#46039f"
            ],
            [
             0.2222222222222222,
             "#7201a8"
            ],
            [
             0.3333333333333333,
             "#9c179e"
            ],
            [
             0.4444444444444444,
             "#bd3786"
            ],
            [
             0.5555555555555556,
             "#d8576b"
            ],
            [
             0.6666666666666666,
             "#ed7953"
            ],
            [
             0.7777777777777778,
             "#fb9f3a"
            ],
            [
             0.8888888888888888,
             "#fdca26"
            ],
            [
             1,
             "#f0f921"
            ]
           ]
          },
          "colorway": [
           "#636efa",
           "#EF553B",
           "#00cc96",
           "#ab63fa",
           "#FFA15A",
           "#19d3f3",
           "#FF6692",
           "#B6E880",
           "#FF97FF",
           "#FECB52"
          ],
          "font": {
           "color": "#2a3f5f"
          },
          "geo": {
           "bgcolor": "white",
           "lakecolor": "white",
           "landcolor": "#E5ECF6",
           "showlakes": true,
           "showland": true,
           "subunitcolor": "white"
          },
          "hoverlabel": {
           "align": "left"
          },
          "hovermode": "closest",
          "mapbox": {
           "style": "light"
          },
          "paper_bgcolor": "white",
          "plot_bgcolor": "#E5ECF6",
          "polar": {
           "angularaxis": {
            "gridcolor": "white",
            "linecolor": "white",
            "ticks": ""
           },
           "bgcolor": "#E5ECF6",
           "radialaxis": {
            "gridcolor": "white",
            "linecolor": "white",
            "ticks": ""
           }
          },
          "scene": {
           "xaxis": {
            "backgroundcolor": "#E5ECF6",
            "gridcolor": "white",
            "gridwidth": 2,
            "linecolor": "white",
            "showbackground": true,
            "ticks": "",
            "zerolinecolor": "white"
           },
           "yaxis": {
            "backgroundcolor": "#E5ECF6",
            "gridcolor": "white",
            "gridwidth": 2,
            "linecolor": "white",
            "showbackground": true,
            "ticks": "",
            "zerolinecolor": "white"
           },
           "zaxis": {
            "backgroundcolor": "#E5ECF6",
            "gridcolor": "white",
            "gridwidth": 2,
            "linecolor": "white",
            "showbackground": true,
            "ticks": "",
            "zerolinecolor": "white"
           }
          },
          "shapedefaults": {
           "line": {
            "color": "#2a3f5f"
           }
          },
          "ternary": {
           "aaxis": {
            "gridcolor": "white",
            "linecolor": "white",
            "ticks": ""
           },
           "baxis": {
            "gridcolor": "white",
            "linecolor": "white",
            "ticks": ""
           },
           "bgcolor": "#E5ECF6",
           "caxis": {
            "gridcolor": "white",
            "linecolor": "white",
            "ticks": ""
           }
          },
          "title": {
           "x": 0.05
          },
          "xaxis": {
           "automargin": true,
           "gridcolor": "white",
           "linecolor": "white",
           "ticks": "",
           "title": {
            "standoff": 15
           },
           "zerolinecolor": "white",
           "zerolinewidth": 2
          },
          "yaxis": {
           "automargin": true,
           "gridcolor": "white",
           "linecolor": "white",
           "ticks": "",
           "title": {
            "standoff": 15
           },
           "zerolinecolor": "white",
           "zerolinewidth": 2
          }
         }
        },
        "title": {
         "text": "Top 20 Municipios com maior quantidade de pessoas pobres ou vulneráveis "
        },
        "xaxis": {
         "anchor": "y",
         "domain": [
          0,
          1
         ],
         "title": {
          "text": "Municipio"
         }
        },
        "yaxis": {
         "anchor": "x",
         "domain": [
          0,
          1
         ],
         "title": {
          "text": "Quantidade de Pessoas pobres ou vulneráveis"
         }
        }
       }
      }
     },
     "metadata": {},
     "output_type": "display_data"
    }
   ],
   "source": [
    "\n",
    "dataframeBase = pd.read_excel(\"MunicipioBrasil_20230102.xlsx\",)\n",
    "\n",
    "newDataframe = dataframeBase[[\"nom_mun\", \"qtd_pes_pob_vul\"]].copy()\n",
    "\n",
    "top_10 = newDataframe.nlargest(20,'qtd_pes_pob_vul')\n",
    "\n",
    "fig1 = px.bar(top_10, x = 'nom_mun', y = 'qtd_pes_pob_vul', title=\"Top 20 Municipios com maior quantidade de pessoas pobres ou vulneráveis \")\n",
    "fig1.update_yaxes(title_text='Quantidade de Pessoas pobres ou vulneráveis')\n",
    "fig1.update_xaxes(title_text='Municipio')\n",
    "fig1.show()"
   ]
  },
  {
   "cell_type": "code",
   "execution_count": 94,
   "metadata": {},
   "outputs": [
    {
     "data": {
      "application/vnd.plotly.v1+json": {
       "config": {
        "plotlyServerURL": "https://plot.ly"
       },
       "data": [
        {
         "alignmentgroup": "True",
         "hovertemplate": "nom_mun=%{x}<br>proporcao=%{y}<extra></extra>",
         "legendgroup": "",
         "marker": {
          "color": "#636efa",
          "pattern": {
           "shape": ""
          }
         },
         "name": "",
         "offsetgroup": "",
         "orientation": "v",
         "showlegend": false,
         "textposition": "auto",
         "type": "bar",
         "x": [
          "Chaves",
          "Santo Amaro do Maranhão",
          "Tonantins",
          "Jutaí",
          "Limoeiro do Ajuru",
          "Marajá do Sena",
          "São Paulo de Olivença",
          "Melgaço",
          "Anapu",
          "Brejo de Areia",
          "São Sebastião da Boa Vista",
          "Primeira Cruz",
          "Prainha",
          "Nova União",
          "Uiramutã",
          "Pedro do Rosário",
          "Placas",
          "Centro Novo do Maranhão",
          "São Benedito do Rio Preto",
          "Envira"
         ],
         "xaxis": "x",
         "y": [
          98.73,
          98.54,
          98.3,
          98.13,
          97.96,
          97.87,
          97.76,
          97.74,
          97.61,
          97.58,
          97.56,
          97.53,
          97.39,
          97.38,
          97.22,
          97.21,
          97.16,
          97.12,
          97,
          97
         ],
         "yaxis": "y"
        }
       ],
       "layout": {
        "annotations": [
         {
          "font": {
           "size": 10
          },
          "showarrow": true,
          "text": "98.73",
          "x": "Chaves",
          "y": 98.73
         },
         {
          "font": {
           "size": 10
          },
          "showarrow": true,
          "text": "98.54",
          "x": "Santo Amaro do Maranhão",
          "y": 98.54
         },
         {
          "font": {
           "size": 10
          },
          "showarrow": true,
          "text": "98.3",
          "x": "Tonantins",
          "y": 98.3
         },
         {
          "font": {
           "size": 10
          },
          "showarrow": true,
          "text": "98.13",
          "x": "Jutaí",
          "y": 98.13
         },
         {
          "font": {
           "size": 10
          },
          "showarrow": true,
          "text": "97.96",
          "x": "Limoeiro do Ajuru",
          "y": 97.96
         },
         {
          "font": {
           "size": 10
          },
          "showarrow": true,
          "text": "97.87",
          "x": "Marajá do Sena",
          "y": 97.87
         },
         {
          "font": {
           "size": 10
          },
          "showarrow": true,
          "text": "97.76",
          "x": "São Paulo de Olivença",
          "y": 97.76
         },
         {
          "font": {
           "size": 10
          },
          "showarrow": true,
          "text": "97.74",
          "x": "Melgaço",
          "y": 97.74
         },
         {
          "font": {
           "size": 10
          },
          "showarrow": true,
          "text": "97.61",
          "x": "Anapu",
          "y": 97.61
         },
         {
          "font": {
           "size": 10
          },
          "showarrow": true,
          "text": "97.58",
          "x": "Brejo de Areia",
          "y": 97.58
         },
         {
          "font": {
           "size": 10
          },
          "showarrow": true,
          "text": "97.56",
          "x": "São Sebastião da Boa Vista",
          "y": 97.56
         },
         {
          "font": {
           "size": 10
          },
          "showarrow": true,
          "text": "97.53",
          "x": "Primeira Cruz",
          "y": 97.53
         },
         {
          "font": {
           "size": 10
          },
          "showarrow": true,
          "text": "97.39",
          "x": "Prainha",
          "y": 97.39
         },
         {
          "font": {
           "size": 10
          },
          "showarrow": true,
          "text": "97.38",
          "x": "Nova União",
          "y": 97.38
         },
         {
          "font": {
           "size": 10
          },
          "showarrow": true,
          "text": "97.22",
          "x": "Uiramutã",
          "y": 97.22
         },
         {
          "font": {
           "size": 10
          },
          "showarrow": true,
          "text": "97.21",
          "x": "Pedro do Rosário",
          "y": 97.21
         },
         {
          "font": {
           "size": 10
          },
          "showarrow": true,
          "text": "97.16",
          "x": "Placas",
          "y": 97.16
         },
         {
          "font": {
           "size": 10
          },
          "showarrow": true,
          "text": "97.12",
          "x": "Centro Novo do Maranhão",
          "y": 97.12
         },
         {
          "font": {
           "size": 10
          },
          "showarrow": true,
          "text": "97.0",
          "x": "São Benedito do Rio Preto",
          "y": 97
         },
         {
          "font": {
           "size": 10
          },
          "showarrow": true,
          "text": "97.0",
          "x": "Envira",
          "y": 97
         }
        ],
        "barmode": "relative",
        "legend": {
         "tracegroupgap": 0
        },
        "template": {
         "data": {
          "bar": [
           {
            "error_x": {
             "color": "#2a3f5f"
            },
            "error_y": {
             "color": "#2a3f5f"
            },
            "marker": {
             "line": {
              "color": "#E5ECF6",
              "width": 0.5
             },
             "pattern": {
              "fillmode": "overlay",
              "size": 10,
              "solidity": 0.2
             }
            },
            "type": "bar"
           }
          ],
          "barpolar": [
           {
            "marker": {
             "line": {
              "color": "#E5ECF6",
              "width": 0.5
             },
             "pattern": {
              "fillmode": "overlay",
              "size": 10,
              "solidity": 0.2
             }
            },
            "type": "barpolar"
           }
          ],
          "carpet": [
           {
            "aaxis": {
             "endlinecolor": "#2a3f5f",
             "gridcolor": "white",
             "linecolor": "white",
             "minorgridcolor": "white",
             "startlinecolor": "#2a3f5f"
            },
            "baxis": {
             "endlinecolor": "#2a3f5f",
             "gridcolor": "white",
             "linecolor": "white",
             "minorgridcolor": "white",
             "startlinecolor": "#2a3f5f"
            },
            "type": "carpet"
           }
          ],
          "choropleth": [
           {
            "colorbar": {
             "outlinewidth": 0,
             "ticks": ""
            },
            "type": "choropleth"
           }
          ],
          "contour": [
           {
            "colorbar": {
             "outlinewidth": 0,
             "ticks": ""
            },
            "colorscale": [
             [
              0,
              "#0d0887"
             ],
             [
              0.1111111111111111,
              "#46039f"
             ],
             [
              0.2222222222222222,
              "#7201a8"
             ],
             [
              0.3333333333333333,
              "#9c179e"
             ],
             [
              0.4444444444444444,
              "#bd3786"
             ],
             [
              0.5555555555555556,
              "#d8576b"
             ],
             [
              0.6666666666666666,
              "#ed7953"
             ],
             [
              0.7777777777777778,
              "#fb9f3a"
             ],
             [
              0.8888888888888888,
              "#fdca26"
             ],
             [
              1,
              "#f0f921"
             ]
            ],
            "type": "contour"
           }
          ],
          "contourcarpet": [
           {
            "colorbar": {
             "outlinewidth": 0,
             "ticks": ""
            },
            "type": "contourcarpet"
           }
          ],
          "heatmap": [
           {
            "colorbar": {
             "outlinewidth": 0,
             "ticks": ""
            },
            "colorscale": [
             [
              0,
              "#0d0887"
             ],
             [
              0.1111111111111111,
              "#46039f"
             ],
             [
              0.2222222222222222,
              "#7201a8"
             ],
             [
              0.3333333333333333,
              "#9c179e"
             ],
             [
              0.4444444444444444,
              "#bd3786"
             ],
             [
              0.5555555555555556,
              "#d8576b"
             ],
             [
              0.6666666666666666,
              "#ed7953"
             ],
             [
              0.7777777777777778,
              "#fb9f3a"
             ],
             [
              0.8888888888888888,
              "#fdca26"
             ],
             [
              1,
              "#f0f921"
             ]
            ],
            "type": "heatmap"
           }
          ],
          "heatmapgl": [
           {
            "colorbar": {
             "outlinewidth": 0,
             "ticks": ""
            },
            "colorscale": [
             [
              0,
              "#0d0887"
             ],
             [
              0.1111111111111111,
              "#46039f"
             ],
             [
              0.2222222222222222,
              "#7201a8"
             ],
             [
              0.3333333333333333,
              "#9c179e"
             ],
             [
              0.4444444444444444,
              "#bd3786"
             ],
             [
              0.5555555555555556,
              "#d8576b"
             ],
             [
              0.6666666666666666,
              "#ed7953"
             ],
             [
              0.7777777777777778,
              "#fb9f3a"
             ],
             [
              0.8888888888888888,
              "#fdca26"
             ],
             [
              1,
              "#f0f921"
             ]
            ],
            "type": "heatmapgl"
           }
          ],
          "histogram": [
           {
            "marker": {
             "pattern": {
              "fillmode": "overlay",
              "size": 10,
              "solidity": 0.2
             }
            },
            "type": "histogram"
           }
          ],
          "histogram2d": [
           {
            "colorbar": {
             "outlinewidth": 0,
             "ticks": ""
            },
            "colorscale": [
             [
              0,
              "#0d0887"
             ],
             [
              0.1111111111111111,
              "#46039f"
             ],
             [
              0.2222222222222222,
              "#7201a8"
             ],
             [
              0.3333333333333333,
              "#9c179e"
             ],
             [
              0.4444444444444444,
              "#bd3786"
             ],
             [
              0.5555555555555556,
              "#d8576b"
             ],
             [
              0.6666666666666666,
              "#ed7953"
             ],
             [
              0.7777777777777778,
              "#fb9f3a"
             ],
             [
              0.8888888888888888,
              "#fdca26"
             ],
             [
              1,
              "#f0f921"
             ]
            ],
            "type": "histogram2d"
           }
          ],
          "histogram2dcontour": [
           {
            "colorbar": {
             "outlinewidth": 0,
             "ticks": ""
            },
            "colorscale": [
             [
              0,
              "#0d0887"
             ],
             [
              0.1111111111111111,
              "#46039f"
             ],
             [
              0.2222222222222222,
              "#7201a8"
             ],
             [
              0.3333333333333333,
              "#9c179e"
             ],
             [
              0.4444444444444444,
              "#bd3786"
             ],
             [
              0.5555555555555556,
              "#d8576b"
             ],
             [
              0.6666666666666666,
              "#ed7953"
             ],
             [
              0.7777777777777778,
              "#fb9f3a"
             ],
             [
              0.8888888888888888,
              "#fdca26"
             ],
             [
              1,
              "#f0f921"
             ]
            ],
            "type": "histogram2dcontour"
           }
          ],
          "mesh3d": [
           {
            "colorbar": {
             "outlinewidth": 0,
             "ticks": ""
            },
            "type": "mesh3d"
           }
          ],
          "parcoords": [
           {
            "line": {
             "colorbar": {
              "outlinewidth": 0,
              "ticks": ""
             }
            },
            "type": "parcoords"
           }
          ],
          "pie": [
           {
            "automargin": true,
            "type": "pie"
           }
          ],
          "scatter": [
           {
            "fillpattern": {
             "fillmode": "overlay",
             "size": 10,
             "solidity": 0.2
            },
            "type": "scatter"
           }
          ],
          "scatter3d": [
           {
            "line": {
             "colorbar": {
              "outlinewidth": 0,
              "ticks": ""
             }
            },
            "marker": {
             "colorbar": {
              "outlinewidth": 0,
              "ticks": ""
             }
            },
            "type": "scatter3d"
           }
          ],
          "scattercarpet": [
           {
            "marker": {
             "colorbar": {
              "outlinewidth": 0,
              "ticks": ""
             }
            },
            "type": "scattercarpet"
           }
          ],
          "scattergeo": [
           {
            "marker": {
             "colorbar": {
              "outlinewidth": 0,
              "ticks": ""
             }
            },
            "type": "scattergeo"
           }
          ],
          "scattergl": [
           {
            "marker": {
             "colorbar": {
              "outlinewidth": 0,
              "ticks": ""
             }
            },
            "type": "scattergl"
           }
          ],
          "scattermapbox": [
           {
            "marker": {
             "colorbar": {
              "outlinewidth": 0,
              "ticks": ""
             }
            },
            "type": "scattermapbox"
           }
          ],
          "scatterpolar": [
           {
            "marker": {
             "colorbar": {
              "outlinewidth": 0,
              "ticks": ""
             }
            },
            "type": "scatterpolar"
           }
          ],
          "scatterpolargl": [
           {
            "marker": {
             "colorbar": {
              "outlinewidth": 0,
              "ticks": ""
             }
            },
            "type": "scatterpolargl"
           }
          ],
          "scatterternary": [
           {
            "marker": {
             "colorbar": {
              "outlinewidth": 0,
              "ticks": ""
             }
            },
            "type": "scatterternary"
           }
          ],
          "surface": [
           {
            "colorbar": {
             "outlinewidth": 0,
             "ticks": ""
            },
            "colorscale": [
             [
              0,
              "#0d0887"
             ],
             [
              0.1111111111111111,
              "#46039f"
             ],
             [
              0.2222222222222222,
              "#7201a8"
             ],
             [
              0.3333333333333333,
              "#9c179e"
             ],
             [
              0.4444444444444444,
              "#bd3786"
             ],
             [
              0.5555555555555556,
              "#d8576b"
             ],
             [
              0.6666666666666666,
              "#ed7953"
             ],
             [
              0.7777777777777778,
              "#fb9f3a"
             ],
             [
              0.8888888888888888,
              "#fdca26"
             ],
             [
              1,
              "#f0f921"
             ]
            ],
            "type": "surface"
           }
          ],
          "table": [
           {
            "cells": {
             "fill": {
              "color": "#EBF0F8"
             },
             "line": {
              "color": "white"
             }
            },
            "header": {
             "fill": {
              "color": "#C8D4E3"
             },
             "line": {
              "color": "white"
             }
            },
            "type": "table"
           }
          ]
         },
         "layout": {
          "annotationdefaults": {
           "arrowcolor": "#2a3f5f",
           "arrowhead": 0,
           "arrowwidth": 1
          },
          "autotypenumbers": "strict",
          "coloraxis": {
           "colorbar": {
            "outlinewidth": 0,
            "ticks": ""
           }
          },
          "colorscale": {
           "diverging": [
            [
             0,
             "#8e0152"
            ],
            [
             0.1,
             "#c51b7d"
            ],
            [
             0.2,
             "#de77ae"
            ],
            [
             0.3,
             "#f1b6da"
            ],
            [
             0.4,
             "#fde0ef"
            ],
            [
             0.5,
             "#f7f7f7"
            ],
            [
             0.6,
             "#e6f5d0"
            ],
            [
             0.7,
             "#b8e186"
            ],
            [
             0.8,
             "#7fbc41"
            ],
            [
             0.9,
             "#4d9221"
            ],
            [
             1,
             "#276419"
            ]
           ],
           "sequential": [
            [
             0,
             "#0d0887"
            ],
            [
             0.1111111111111111,
             "#46039f"
            ],
            [
             0.2222222222222222,
             "#7201a8"
            ],
            [
             0.3333333333333333,
             "#9c179e"
            ],
            [
             0.4444444444444444,
             "#bd3786"
            ],
            [
             0.5555555555555556,
             "#d8576b"
            ],
            [
             0.6666666666666666,
             "#ed7953"
            ],
            [
             0.7777777777777778,
             "#fb9f3a"
            ],
            [
             0.8888888888888888,
             "#fdca26"
            ],
            [
             1,
             "#f0f921"
            ]
           ],
           "sequentialminus": [
            [
             0,
             "#0d0887"
            ],
            [
             0.1111111111111111,
             "#46039f"
            ],
            [
             0.2222222222222222,
             "#7201a8"
            ],
            [
             0.3333333333333333,
             "#9c179e"
            ],
            [
             0.4444444444444444,
             "#bd3786"
            ],
            [
             0.5555555555555556,
             "#d8576b"
            ],
            [
             0.6666666666666666,
             "#ed7953"
            ],
            [
             0.7777777777777778,
             "#fb9f3a"
            ],
            [
             0.8888888888888888,
             "#fdca26"
            ],
            [
             1,
             "#f0f921"
            ]
           ]
          },
          "colorway": [
           "#636efa",
           "#EF553B",
           "#00cc96",
           "#ab63fa",
           "#FFA15A",
           "#19d3f3",
           "#FF6692",
           "#B6E880",
           "#FF97FF",
           "#FECB52"
          ],
          "font": {
           "color": "#2a3f5f"
          },
          "geo": {
           "bgcolor": "white",
           "lakecolor": "white",
           "landcolor": "#E5ECF6",
           "showlakes": true,
           "showland": true,
           "subunitcolor": "white"
          },
          "hoverlabel": {
           "align": "left"
          },
          "hovermode": "closest",
          "mapbox": {
           "style": "light"
          },
          "paper_bgcolor": "white",
          "plot_bgcolor": "#E5ECF6",
          "polar": {
           "angularaxis": {
            "gridcolor": "white",
            "linecolor": "white",
            "ticks": ""
           },
           "bgcolor": "#E5ECF6",
           "radialaxis": {
            "gridcolor": "white",
            "linecolor": "white",
            "ticks": ""
           }
          },
          "scene": {
           "xaxis": {
            "backgroundcolor": "#E5ECF6",
            "gridcolor": "white",
            "gridwidth": 2,
            "linecolor": "white",
            "showbackground": true,
            "ticks": "",
            "zerolinecolor": "white"
           },
           "yaxis": {
            "backgroundcolor": "#E5ECF6",
            "gridcolor": "white",
            "gridwidth": 2,
            "linecolor": "white",
            "showbackground": true,
            "ticks": "",
            "zerolinecolor": "white"
           },
           "zaxis": {
            "backgroundcolor": "#E5ECF6",
            "gridcolor": "white",
            "gridwidth": 2,
            "linecolor": "white",
            "showbackground": true,
            "ticks": "",
            "zerolinecolor": "white"
           }
          },
          "shapedefaults": {
           "line": {
            "color": "#2a3f5f"
           }
          },
          "ternary": {
           "aaxis": {
            "gridcolor": "white",
            "linecolor": "white",
            "ticks": ""
           },
           "baxis": {
            "gridcolor": "white",
            "linecolor": "white",
            "ticks": ""
           },
           "bgcolor": "#E5ECF6",
           "caxis": {
            "gridcolor": "white",
            "linecolor": "white",
            "ticks": ""
           }
          },
          "title": {
           "x": 0.05
          },
          "xaxis": {
           "automargin": true,
           "gridcolor": "white",
           "linecolor": "white",
           "ticks": "",
           "title": {
            "standoff": 15
           },
           "zerolinecolor": "white",
           "zerolinewidth": 2
          },
          "yaxis": {
           "automargin": true,
           "gridcolor": "white",
           "linecolor": "white",
           "ticks": "",
           "title": {
            "standoff": 15
           },
           "zerolinecolor": "white",
           "zerolinewidth": 2
          }
         }
        },
        "title": {
         "text": "Top 20 Municipios com maior quantidade de pessoas pobres ou vulneráveis"
        },
        "xaxis": {
         "anchor": "y",
         "domain": [
          0,
          1
         ],
         "title": {
          "text": "Municipio"
         }
        },
        "yaxis": {
         "anchor": "x",
         "domain": [
          0,
          1
         ],
         "title": {
          "text": "% de Pessoas pobres ou vulneráveis"
         }
        }
       }
      }
     },
     "metadata": {},
     "output_type": "display_data"
    }
   ],
   "source": [
    "\n",
    "dataframeBase['proporcao'] = (dataframeBase['qtd_pes_pob_vul'] / dataframeBase['qtd_pes']) * 100\n",
    "\n",
    "\n",
    "top_20_cidades_df = dataframeBase.nlargest(20, 'proporcao').round(2)\n",
    "\n",
    "fig1 = px.bar(top_20_cidades_df, x = 'nom_mun', y = 'proporcao', title=\"Top 20 Municipios com maior quantidade de pessoas pobres ou vulneráveis\")\n",
    "fig1.update_yaxes(title_text='% de Pessoas pobres ou vulneráveis')\n",
    "fig1.update_xaxes(title_text='Municipio')\n",
    "\n",
    "for i, v in enumerate(top_20_cidades_df['proporcao']):\n",
    "    fig1.add_annotation(dict(x=top_20_cidades_df['nom_mun'].iloc[i], y=v,\n",
    "                             text=str(v),\n",
    "                             showarrow=True,\n",
    "                             font=dict(size=10)\n",
    "                            )\n",
    "                       )\n",
    "fig1.show()"
   ]
  },
  {
   "cell_type": "code",
   "execution_count": 96,
   "metadata": {},
   "outputs": [
    {
     "data": {
      "application/vnd.plotly.v1+json": {
       "config": {
        "plotlyServerURL": "https://plot.ly"
       },
       "data": [
        {
         "coloraxis": "coloraxis",
         "geo": "geo",
         "geojson": "brasil",
         "hovertemplate": "cod_mun=%{location}<br>Quantidade de Pessoas em Situação de Vulnerabilidade=%{z}<extra></extra>",
         "locations": [
          1100015,
          1100023,
          1100031,
          1100049,
          1100056,
          1100064,
          1100072,
          1100080,
          1100098,
          1100106,
          1100114,
          1100122,
          1100130,
          1100148,
          1100155,
          1100189,
          1100205,
          1100254,
          1100262,
          1100288,
          1100296,
          1100304,
          1100320,
          1100338,
          1100346,
          1100379,
          1100403,
          1100452,
          1100502,
          1100601,
          1100700,
          1100809,
          1100908,
          1100924,
          1100940,
          1101005,
          1101104,
          1101203,
          1101302,
          1101401,
          1101435,
          1101450,
          1101468,
          1101476,
          1101484,
          1101492,
          1101500,
          1101559,
          1101609,
          1101708,
          1101757,
          1101807,
          1200013,
          1200054,
          1200104,
          1200138,
          1200179,
          1200203,
          1200252,
          1200302,
          1200328,
          1200336,
          1200344,
          1200351,
          1200385,
          1200393,
          1200401,
          1200427,
          1200435,
          1200450,
          1200500,
          1200609,
          1200708,
          1200807,
          1300029,
          1300060,
          1300086,
          1300102,
          1300144,
          1300201,
          1300300,
          1300409,
          1300508,
          1300607,
          1300631,
          1300680,
          1300706,
          1300805,
          1300839,
          1300904,
          1301001,
          1301100,
          1301159,
          1301209,
          1301308,
          1301407,
          1301506,
          1301605,
          1301654,
          1301704,
          1301803,
          1301852,
          1301902,
          1301951,
          1302009,
          1302108,
          1302207,
          1302306,
          1302405,
          1302504,
          1302553,
          1302603,
          1302702,
          1302801,
          1302900,
          1303007,
          1303106,
          1303205,
          1303304,
          1303403,
          1303502,
          1303536,
          1303569,
          1303601,
          1303700,
          1303809,
          1303908,
          1303957,
          1304005,
          1304062,
          1304104,
          1304203,
          1304237,
          1304260,
          1304302,
          1304401,
          1400027,
          1400050,
          1400100,
          1400159,
          1400175,
          1400209,
          1400233,
          1400282,
          1400308,
          1400407,
          1400456,
          1400472,
          1400506,
          1400605,
          1400704,
          1500107,
          1500131,
          1500206,
          1500305,
          1500347,
          1500404,
          1500503,
          1500602,
          1500701,
          1500800,
          1500859,
          1500909,
          1500958,
          1501006,
          1501105,
          1501204,
          1501253,
          1501303,
          1501402,
          1501451,
          1501501,
          1501576,
          1501600,
          1501709,
          1501725,
          1501758,
          1501782,
          1501808,
          1501907,
          1501956,
          1502004,
          1502103,
          1502152,
          1502202,
          1502301,
          1502400,
          1502509,
          1502608,
          1502707,
          1502756,
          1502764,
          1502772,
          1502806,
          1502855,
          1502905,
          1502939,
          1502954,
          1503002,
          1503044,
          1503077,
          1503093,
          1503101,
          1503200,
          1503309,
          1503408,
          1503457,
          1503507,
          1503606,
          1503705,
          1503754,
          1503804,
          1503903,
          1504000,
          1504059,
          1504109,
          1504208,
          1504307,
          1504406,
          1504422,
          1504455,
          1504505,
          1504604,
          1504703,
          1504802,
          1504901,
          1504950,
          1504976,
          1505007,
          1505031,
          1505064,
          1505106,
          1505205,
          1505304,
          1505403,
          1505437,
          1505486,
          1505494,
          1505502,
          1505536,
          1505551,
          1505601,
          1505635,
          1505650,
          1505700,
          1505809,
          1505908,
          1506005,
          1506104,
          1506112,
          1506138,
          1506161,
          1506187,
          1506195,
          1506203,
          1506302,
          1506351,
          1506401,
          1506500,
          1506559,
          1506583,
          1506609,
          1506708,
          1506807,
          1506906,
          1507003,
          1507102,
          1507151,
          1507201,
          1507300,
          1507409,
          1507458,
          1507466,
          1507474,
          1507508,
          1507607,
          1507706,
          1507755,
          1507805,
          1507904,
          1507953,
          1507961,
          1507979,
          1508001,
          1508035,
          1508050,
          1508084,
          1508100,
          1508126,
          1508159,
          1508209,
          1508308,
          1508357,
          1508407,
          1600055,
          1600105,
          1600154,
          1600204,
          1600212,
          1600238,
          1600253,
          1600279,
          1600303,
          1600402,
          1600501,
          1600535,
          1600550,
          1600600,
          1600709,
          1600808,
          1700251,
          1700301,
          1700350,
          1700400,
          1700707,
          1701002,
          1701051,
          1701101,
          1701309,
          1701903,
          1702000,
          1702109,
          1702158,
          1702208,
          1702307,
          1702406,
          1702554,
          1702703,
          1702901,
          1703008,
          1703057,
          1703073,
          1703107,
          1703206,
          1703305,
          1703602,
          1703701,
          1703800,
          1703826,
          1703842,
          1703867,
          1703883,
          1703891,
          1703909,
          1704105,
          1704600,
          1705102,
          1705508,
          1705557,
          1705607,
          1706001,
          1706100,
          1706258,
          1706506,
          1707009,
          1707108,
          1707207,
          1707306,
          1707405,
          1707553,
          1707652,
          1707702,
          1708205,
          1708254,
          1708304,
          1709005,
          1709302,
          1709500,
          1709807,
          1710508,
          1710706,
          1710904,
          1711100,
          1711506,
          1711803,
          1711902,
          1711951,
          1712009,
          1712157,
          1712405,
          1712454,
          1712504,
          1712702,
          1712801,
          1713205,
          1713304,
          1713601,
          1713700,
          1713809,
          1713957,
          1714203,
          1714302,
          1714880,
          1715002,
          1715101,
          1715150,
          1715259,
          1715507,
          1715705,
          1715754,
          1716109,
          1716208,
          1716307,
          1716505,
          1716604,
          1716653,
          1716703,
          1717008,
          1717206,
          1717503,
          1717800,
          1717909,
          1718006,
          1718204,
          1718303,
          1718402,
          1718451,
          1718501,
          1718550,
          1718659,
          1718709,
          1718758,
          1718808,
          1718840,
          1718865,
          1718881,
          1718899,
          1718907,
          1719004,
          1720002,
          1720101,
          1720150,
          1720200,
          1720259,
          1720309,
          1720499,
          1720655,
          1720804,
          1720853,
          1720903,
          1720937,
          1720978,
          1721000,
          1721109,
          1721208,
          1721257,
          1721307,
          1722081,
          1722107,
          2100055,
          2100105,
          2100154,
          2100204,
          2100303,
          2100402,
          2100436,
          2100477,
          2100501,
          2100550,
          2100600,
          2100709,
          2100808,
          2100832,
          2100873,
          2100907,
          2100956,
          2101004,
          2101103,
          2101202,
          2101251,
          2101301,
          2101350,
          2101400,
          2101509,
          2101608,
          2101707,
          2101731,
          2101772,
          2101806,
          2101905,
          2101939,
          2101970,
          2102002,
          2102036,
          2102077,
          2102101,
          2102150,
          2102200,
          2102309,
          2102325,
          2102358,
          2102374,
          2102408,
          2102507,
          2102556,
          2102606,
          2102705,
          2102754,
          2102804,
          2102903,
          2103000,
          2103109,
          2103125,
          2103158,
          2103174,
          2103208,
          2103257,
          2103307,
          2103406,
          2103505,
          2103554,
          2103604,
          2103703,
          2103752,
          2103802,
          2103901,
          2104008,
          2104057,
          2104073,
          2104081,
          2104099,
          2104107,
          2104206,
          2104305,
          2104404,
          2104503,
          2104552,
          2104602,
          2104628,
          2104651,
          2104677,
          2104701,
          2104800,
          2104909,
          2105005,
          2105104,
          2105153,
          2105203,
          2105302,
          2105351,
          2105401,
          2105427,
          2105450,
          2105476,
          2105500,
          2105609,
          2105658,
          2105708,
          2105807,
          2105906,
          2105922,
          2105948,
          2105963,
          2105989,
          2106003,
          2106102,
          2106201,
          2106300,
          2106326,
          2106359,
          2106375,
          2106409,
          2106508,
          2106607,
          2106631,
          2106672,
          2106706,
          2106755,
          2106805,
          2106904,
          2107001,
          2107100,
          2107209,
          2107258,
          2107308,
          2107357,
          2107407,
          2107456,
          2107506,
          2107605,
          2107704,
          2107803,
          2107902,
          2108009,
          2108058,
          2108108,
          2108207,
          2108256,
          2108306,
          2108405,
          2108454,
          2108504,
          2108603,
          2108702,
          2108801,
          2108900,
          2109007,
          2109056,
          2109106,
          2109205,
          2109239,
          2109270,
          2109304,
          2109403,
          2109452,
          2109502,
          2109551,
          2109601,
          2109700,
          2109759,
          2109809,
          2109908,
          2110005,
          2110039,
          2110104,
          2110203,
          2110237,
          2110278,
          2110302,
          2110401,
          2110500,
          2110609,
          2110658,
          2110708,
          2110807,
          2110856,
          2110906,
          2111003,
          2111029,
          2111052,
          2111078,
          2111102,
          2111201,
          2111250,
          2111300,
          2111409,
          2111508,
          2111532,
          2111573,
          2111607,
          2111631,
          2111672,
          2111706,
          2111722,
          2111748,
          2111763,
          2111789,
          2111805,
          2111904,
          2111953,
          2112001,
          2112100,
          2112209,
          2112233,
          2112274,
          2112308,
          2112407,
          2112456,
          2112506,
          2112605,
          2112704,
          2112803,
          2112852,
          2112902,
          2113009,
          2114007,
          2200053,
          2200103,
          2200202,
          2200251,
          2200277,
          2200301,
          2200400,
          2200459,
          2200509,
          2200608,
          2200707,
          2200806,
          2200905,
          2200954,
          2201002,
          2201051,
          2201101,
          2201150,
          2201176,
          2201200,
          2201309,
          2201408,
          2201507,
          2201556,
          2201572,
          2201606,
          2201705,
          2201739,
          2201770,
          2201804,
          2201903,
          2201919,
          2201929,
          2201945,
          2201960,
          2201988,
          2202000,
          2202026,
          2202059,
          2202075,
          2202083,
          2202091,
          2202109,
          2202117,
          2202133,
          2202174,
          2202208,
          2202251,
          2202307,
          2202406,
          2202455,
          2202505,
          2202539,
          2202554,
          2202604,
          2202653,
          2202703,
          2202711,
          2202729,
          2202737,
          2202752,
          2202778,
          2202802,
          2202851,
          2202901,
          2203008,
          2203107,
          2203206,
          2203230,
          2203255,
          2203271,
          2203305,
          2203354,
          2203404,
          2203420,
          2203453,
          2203503,
          2203602,
          2203701,
          2203750,
          2203800,
          2203859,
          2203909,
          2204006,
          2204105,
          2204154,
          2204204,
          2204303,
          2204352,
          2204402,
          2204501,
          2204550,
          2204600,
          2204659,
          2204709,
          2204808,
          2204907,
          2205003,
          2205102,
          2205151,
          2205201,
          2205250,
          2205276,
          2205300,
          2205359,
          2205409,
          2205458,
          2205508,
          2205516,
          2205524,
          2205532,
          2205540,
          2205557,
          2205565,
          2205573,
          2205581,
          2205599,
          2205607,
          2205706,
          2205805,
          2205854,
          2205904,
          2205953,
          2206001,
          2206050,
          2206100,
          2206209,
          2206308,
          2206357,
          2206407,
          2206506,
          2206605,
          2206654,
          2206670,
          2206696,
          2206704,
          2206720,
          2206753,
          2206803,
          2206902,
          2206951,
          2207009,
          2207108,
          2207207,
          2207306,
          2207355,
          2207405,
          2207504,
          2207553,
          2207603,
          2207702,
          2207751,
          2207777,
          2207793,
          2207801,
          2207850,
          2207900,
          2207934,
          2207959,
          2208007,
          2208106,
          2208205,
          2208304,
          2208403,
          2208502,
          2208551,
          2208601,
          2208650,
          2208700,
          2208809,
          2208858,
          2208874,
          2208908,
          2209005,
          2209104,
          2209153,
          2209203,
          2209302,
          2209351,
          2209377,
          2209401,
          2209450,
          2209500,
          2209559,
          2209609,
          2209658,
          2209708,
          2209757,
          2209807,
          2209856,
          2209872,
          2209906,
          2209955,
          2209971,
          2210003,
          2210052,
          2210102,
          2210201,
          2210300,
          2210359,
          2210375,
          2210383,
          2210391,
          2210409,
          2210508,
          2210607,
          2210623,
          2210631,
          2210656,
          2210706,
          2210805,
          2210904,
          2210938,
          2210953,
          2210979,
          2211001,
          2211100,
          2211209,
          2211308,
          2211357,
          2211407,
          2211506,
          2211605,
          2211704,
          2300101,
          2300150,
          2300200,
          2300309,
          2300408,
          2300507,
          2300606,
          2300705,
          2300754,
          2300804,
          2300903,
          2301000,
          2301109,
          2301208,
          2301257,
          2301307,
          2301406,
          2301505,
          2301604,
          2301703,
          2301802,
          2301851,
          2301901,
          2301950,
          2302008,
          2302057,
          2302107,
          2302206,
          2302305,
          2302404,
          2302503,
          2302602,
          2302701,
          2302800,
          2302909,
          2303006,
          2303105,
          2303204,
          2303303,
          2303402,
          2303501,
          2303600,
          2303659,
          2303709,
          2303808,
          2303907,
          2303931,
          2303956,
          2304004,
          2304103,
          2304202,
          2304236,
          2304251,
          2304269,
          2304277,
          2304285,
          2304301,
          2304350,
          2304400,
          2304459,
          2304509,
          2304608,
          2304657,
          2304707,
          2304806,
          2304905,
          2304954,
          2305001,
          2305100,
          2305209,
          2305233,
          2305266,
          2305308,
          2305332,
          2305357,
          2305407,
          2305506,
          2305605,
          2305654,
          2305704,
          2305803,
          2305902,
          2306009,
          2306108,
          2306207,
          2306256,
          2306306,
          2306405,
          2306504,
          2306553,
          2306603,
          2306702,
          2306801,
          2306900,
          2307007,
          2307106,
          2307205,
          2307254,
          2307304,
          2307403,
          2307502,
          2307601,
          2307635,
          2307650,
          2307700,
          2307809,
          2307908,
          2308005,
          2308104,
          2308203,
          2308302,
          2308351,
          2308377,
          2308401,
          2308500,
          2308609,
          2308708,
          2308807,
          2308906,
          2309003,
          2309102,
          2309201,
          2309300,
          2309409,
          2309458,
          2309508,
          2309607,
          2309706,
          2309805,
          2309904,
          2310001,
          2310100,
          2310209,
          2310258,
          2310308,
          2310407,
          2310506,
          2310605,
          2310704,
          2310803,
          2310852,
          2310902,
          2310951,
          2311009,
          2311108,
          2311207,
          2311231,
          2311264,
          2311306,
          2311355,
          2311405,
          2311504,
          2311603,
          2311702,
          2311801,
          2311900,
          2311959,
          2312007,
          2312106,
          2312205,
          2312304,
          2312403,
          2312502,
          2312601,
          2312700,
          2312809,
          2312908,
          2313005,
          2313104,
          2313203,
          2313252,
          2313302,
          2313351,
          2313401,
          2313500,
          2313559,
          2313609,
          2313708,
          2313757,
          2313807,
          2313906,
          2313955,
          2314003,
          2314102,
          2400109,
          2400208,
          2400307,
          2400406,
          2400505,
          2400604,
          2400703,
          2400802,
          2400901,
          2401008,
          2401107,
          2401206,
          2401305,
          2401404,
          2401453,
          2401503,
          2401602,
          2401651,
          2401701,
          2401800,
          2401859,
          2401909,
          2402006,
          2402105,
          2402204,
          2402303,
          2402402,
          2402501,
          2402600,
          2402709,
          2402808,
          2402907,
          2403004,
          2403103,
          2403202,
          2403251,
          2403301,
          2403400,
          2403509,
          2403608,
          2403707,
          2403756,
          2403806,
          2403905,
          2404002,
          2404101,
          2404200,
          2404309,
          2404408,
          2404507,
          2404606,
          2404705,
          2404804,
          2404853,
          2404903,
          2405009,
          2405108,
          2405207,
          2405306,
          2405405,
          2405504,
          2405603,
          2405702,
          2405801,
          2405900,
          2406007,
          2406106,
          2406155,
          2406205,
          2406304,
          2406403,
          2406502,
          2406601,
          2406700,
          2406809,
          2406908,
          2407005,
          2407104,
          2407203,
          2407252,
          2407302,
          2407401,
          2407500,
          2407609,
          2407708,
          2407807,
          2407906,
          2408003,
          2408102,
          2408201,
          2408300,
          2408409,
          2408508,
          2408607,
          2408706,
          2408805,
          2408904,
          2408953,
          2409100,
          2409209,
          2409308,
          2409332,
          2409407,
          2409506,
          2409605,
          2409704,
          2409803,
          2409902,
          2410009,
          2410108,
          2410207,
          2410256,
          2410306,
          2410405,
          2410504,
          2410603,
          2410702,
          2410801,
          2410900,
          2411007,
          2411056,
          2411106,
          2411205,
          2411403,
          2411429,
          2411502,
          2411601,
          2411700,
          2411809,
          2411908,
          2412005,
          2412104,
          2412203,
          2412302,
          2412401,
          2412500,
          2412559,
          2412609,
          2412708,
          2412807,
          2412906,
          2413003,
          2413102,
          2413201,
          2413300,
          2413359,
          2413409,
          2413508,
          2413557,
          2413607,
          2413706,
          2413805,
          2413904,
          2414001,
          2414100,
          2414159,
          2414209,
          2414308,
          2414407,
          2414456,
          2414506,
          2414605,
          2414704,
          2414753,
          2414803,
          2414902,
          2415008,
          2500106,
          2500205,
          2500304,
          2500403,
          2500502,
          2500536,
          2500577,
          2500601,
          2500700,
          2500734,
          2500775,
          2500809,
          2500908,
          2501005,
          2501104,
          2501153,
          2501203,
          2501302,
          2501351,
          2501401,
          2501500,
          2501534,
          2501575,
          2501609,
          2501708,
          2501807,
          2501906,
          2502003,
          2502052,
          2502102,
          2502151,
          2502201,
          2502300,
          2502409,
          2502508,
          2502607,
          2502706,
          2502805,
          2502904,
          2503001,
          2503100,
          2503209,
          2503308,
          2503407,
          2503506,
          2503555,
          2503605,
          2503704,
          2503753,
          2503803,
          2503902,
          2504009,
          2504033,
          2504074,
          2504108,
          2504157,
          2504207,
          2504306,
          2504355,
          2504405,
          2504504,
          2504603,
          2504702,
          2504801,
          2504850,
          2504900,
          2505006,
          2505105,
          2505204,
          2505238,
          2505279,
          2505303,
          2505352,
          2505402,
          2505501,
          2505600,
          2505709,
          2505808,
          2505907,
          2506004,
          2506103,
          2506202,
          2506251,
          2506301,
          2506400,
          2506509,
          2506608,
          2506707,
          2506806,
          2506905,
          2507002,
          2507101,
          2507200,
          2507309,
          2507408,
          2507507,
          2507606,
          2507705,
          2507804,
          2507903,
          2508000,
          2508109,
          2508208,
          2508307,
          2508406,
          2508505,
          2508554,
          2508604,
          2508703,
          2508802,
          2508901,
          2509008,
          2509057,
          2509107,
          2509156,
          2509206,
          2509305,
          2509339,
          2509370,
          2509396,
          2509404,
          2509503,
          2509602,
          2509701,
          2509800,
          2509909,
          2510006,
          2510105,
          2510204,
          2510303,
          2510402,
          2510501,
          2510600,
          2510659,
          2510709,
          2510808,
          2510907,
          2511004,
          2511103,
          2511202,
          2511301,
          2511400,
          2511509,
          2511608,
          2511707,
          2511806,
          2511905,
          2512002,
          2512036,
          2512077,
          2512101,
          2512200,
          2512309,
          2512408,
          2512507,
          2512606,
          2512705,
          2512721,
          2512747,
          2512754,
          2512762,
          2512788,
          2512804,
          2512903,
          2513000,
          2513109,
          2513158,
          2513208,
          2513307,
          2513356,
          2513406,
          2513505,
          2513604,
          2513653,
          2513703,
          2513802,
          2513851,
          2513901,
          2513927,
          2513943,
          2513968,
          2513984,
          2514008,
          2514107,
          2514206,
          2514305,
          2514404,
          2514453,
          2514503,
          2514552,
          2514602,
          2514651,
          2514701,
          2514800,
          2514909,
          2515005,
          2515104,
          2515203,
          2515302,
          2515401,
          2515500,
          2515609,
          2515708,
          2515807,
          2515906,
          2515930,
          2515971,
          2516003,
          2516102,
          2516151,
          2516201,
          2516300,
          2516409,
          2516508,
          2516607,
          2516706,
          2516755,
          2516805,
          2516904,
          2517001,
          2517100,
          2517209,
          2517407,
          2600054,
          2600104,
          2600203,
          2600302,
          2600401,
          2600500,
          2600609,
          2600708,
          2600807,
          2600906,
          2601003,
          2601052,
          2601102,
          2601201,
          2601300,
          2601409,
          2601508,
          2601607,
          2601706,
          2601805,
          2601904,
          2602001,
          2602100,
          2602209,
          2602308,
          2602407,
          2602506,
          2602605,
          2602704,
          2602803,
          2602902,
          2603009,
          2603108,
          2603207,
          2603306,
          2603405,
          2603454,
          2603504,
          2603603,
          2603702,
          2603801,
          2603900,
          2603926,
          2604007,
          2604106,
          2604155,
          2604205,
          2604304,
          2604403,
          2604502,
          2604601,
          2604700,
          2604809,
          2604908,
          2605004,
          2605103,
          2605152,
          2605202,
          2605301,
          2605400,
          2605459,
          2605509,
          2605608,
          2605707,
          2605806,
          2605905,
          2606002,
          2606101,
          2606200,
          2606309,
          2606408,
          2606507,
          2606606,
          2606705,
          2606804,
          2606903,
          2607000,
          2607109,
          2607208,
          2607307,
          2607406,
          2607505,
          2607604,
          2607653,
          2607703,
          2607752,
          2607802,
          2607901,
          2607950,
          2608008,
          2608057,
          2608107,
          2608206,
          2608255,
          2608305,
          2608404,
          2608453,
          2608503,
          2608602,
          2608701,
          2608750,
          2608800,
          2608909,
          2609006,
          2609105,
          2609154,
          2609204,
          2609303,
          2609402,
          2609501,
          2609600,
          2609709,
          2609808,
          2609907,
          2610004,
          2610103,
          2610202,
          2610301,
          2610400,
          2610509,
          2610608,
          2610707,
          2610806,
          2610905,
          2611002,
          2611101,
          2611200,
          2611309,
          2611408,
          2611507,
          2611533,
          2611606,
          2611705,
          2611804,
          2611903,
          2612000,
          2612109,
          2612208,
          2612307,
          2612406,
          2612455,
          2612471,
          2612505,
          2612554,
          2612604,
          2612703,
          2612802,
          2612901,
          2613008,
          2613107,
          2613206,
          2613305,
          2613404,
          2613503,
          2613602,
          2613701,
          2613800,
          2613909,
          2614006,
          2614105,
          2614204,
          2614303,
          2614402,
          2614501,
          2614600,
          2614709,
          2614808,
          2614857,
          2615003,
          2615102,
          2615201,
          2615300,
          2615409,
          2615508,
          2615607,
          2615706,
          2615805,
          2615904,
          2616001,
          2616100,
          2616183,
          2616209,
          2616308,
          2616407,
          2616506,
          2700102,
          2700201,
          2700300,
          2700409,
          2700508,
          2700607,
          2700706,
          2700805,
          2700904,
          2701001,
          2701100,
          2701209,
          2701308,
          2701357,
          2701407,
          2701506,
          2701605,
          2701704,
          2701803,
          2701902,
          2702009,
          2702108,
          2702207,
          2702306,
          2702355,
          2702405,
          2702504,
          2702553,
          2702603,
          2702702,
          2702801,
          2702900,
          2703007,
          2703106,
          2703205,
          2703304,
          2703403,
          2703502,
          2703601,
          2703700,
          2703759,
          2703809,
          2703908,
          2704005,
          2704104,
          2704203,
          2704302,
          2704401,
          2704500,
          2704609,
          2704708,
          2704807,
          2704906,
          2705002,
          2705101,
          2705200,
          2705309,
          2705408,
          2705507,
          2705606,
          2705705,
          2705804,
          2705903,
          2706000,
          2706109,
          2706208,
          2706307,
          2706406,
          2706422,
          2706448,
          2706505,
          2706604,
          2706703,
          2706802,
          2706901,
          2707008,
          2707107,
          2707206,
          2707305,
          2707404,
          2707503,
          2707602,
          2707701,
          2707800,
          2707909,
          2708006,
          2708105,
          2708204,
          2708303,
          2708402,
          2708501,
          2708600,
          2708709,
          2708808,
          2708907,
          2708956,
          2709004,
          2709103,
          2709152,
          2709202,
          2709301,
          2709400,
          2800100,
          2800209,
          2800308,
          2800407,
          2800506,
          2800605,
          2800670,
          2800704,
          2801009,
          2801108,
          2801207,
          2801306,
          2801405,
          2801504,
          2801603,
          2801702,
          2801900,
          2802007,
          2802106,
          2802205,
          2802304,
          2802403,
          2802502,
          2802601,
          2802700,
          2802809,
          2802908,
          2803005,
          2803104,
          2803203,
          2803302,
          2803401,
          2803500,
          2803609,
          2803708,
          2803807,
          2803906,
          2804003,
          2804102,
          2804201,
          2804300,
          2804409,
          2804458,
          2804508,
          2804607,
          2804706,
          2804805,
          2804904,
          2805000,
          2805109,
          2805208,
          2805307,
          2805406,
          2805505,
          2805604,
          2805703,
          2805802,
          2805901,
          2806008,
          2806107,
          2806206,
          2806305,
          2806404,
          2806503,
          2806602,
          2806701,
          2806800,
          2806909,
          2807006,
          2807105,
          2807204,
          2807303,
          2807402,
          2807501,
          2807600,
          2900108,
          2900207,
          2900306,
          2900355,
          2900405,
          2900504,
          2900603,
          2900702,
          2900801,
          2900900,
          2901007,
          2901106,
          2901155,
          2901205,
          2901304,
          2901353,
          2901403,
          2901502,
          2901601,
          2901700,
          2901809,
          2901908,
          2901957,
          2902005,
          2902054,
          2902104,
          2902203,
          2902252,
          2902302,
          2902401,
          2902500,
          2902609,
          2902658,
          2902708,
          2902807,
          2902906,
          2903003,
          2903102,
          2903201,
          2903235,
          2903276,
          2903300,
          2903409,
          2903508,
          2903607,
          2903706,
          2903805,
          2903904,
          2903953,
          2904001,
          2904050,
          2904100,
          2904209,
          2904308,
          2904407,
          2904506,
          2904605,
          2904704,
          2904753,
          2904803,
          2904852,
          2904902,
          2905008,
          2905107,
          2905156,
          2905206,
          2905305,
          2905404,
          2905503,
          2905602,
          2905701,
          2905800,
          2905909,
          2906006,
          2906105,
          2906204,
          2906303,
          2906402,
          2906501,
          2906600,
          2906709,
          2906808,
          2906824,
          2906857,
          2906873,
          2906899,
          2906907,
          2907004,
          2907103,
          2907202,
          2907301,
          2907400,
          2907509,
          2907558,
          2907608,
          2907707,
          2907806,
          2907905,
          2908002,
          2908101,
          2908200,
          2908309,
          2908408,
          2908507,
          2908606,
          2908705,
          2908804,
          2908903,
          2909000,
          2909109,
          2909208,
          2909307,
          2909406,
          2909505,
          2909604,
          2909703,
          2909802,
          2909901,
          2910008,
          2910057,
          2910107,
          2910206,
          2910305,
          2910404,
          2910503,
          2910602,
          2910701,
          2910727,
          2910750,
          2910776,
          2910800,
          2910859,
          2910909,
          2911006,
          2911105,
          2911204,
          2911253,
          2911303,
          2911402,
          2911501,
          2911600,
          2911659,
          2911709,
          2911808,
          2911857,
          2911907,
          2912004,
          2912103,
          2912202,
          2912301,
          2912400,
          2912509,
          2912608,
          2912707,
          2912806,
          2912905,
          2913002,
          2913101,
          2913200,
          2913309,
          2913408,
          2913457,
          2913507,
          2913606,
          2913705,
          2913804,
          2913903,
          2914000,
          2914109,
          2914208,
          2914307,
          2914406,
          2914505,
          2914604,
          2914653,
          2914703,
          2914802,
          2914901,
          2915007,
          2915106,
          2915205,
          2915304,
          2915353,
          2915403,
          2915502,
          2915601,
          2915700,
          2915809,
          2915908,
          2916005,
          2916104,
          2916203,
          2916302,
          2916401,
          2916500,
          2916609,
          2916708,
          2916807,
          2916856,
          2916906,
          2917003,
          2917102,
          2917201,
          2917300,
          2917334,
          2917359,
          2917409,
          2917508,
          2917607,
          2917706,
          2917805,
          2917904,
          2918001,
          2918100,
          2918209,
          2918308,
          2918357,
          2918407,
          2918456,
          2918506,
          2918555,
          2918605,
          2918704,
          2918753,
          2918803,
          2918902,
          2919009,
          2919058,
          2919108,
          2919157,
          2919207,
          2919306,
          2919405,
          2919504,
          2919553,
          2919603,
          2919702,
          2919801,
          2919900,
          2919926,
          2919959,
          2920007,
          2920106,
          2920205,
          2920304,
          2920403,
          2920452,
          2920502,
          2920601,
          2920700,
          2920809,
          2920908,
          2921005,
          2921054,
          2921104,
          2921203,
          2921302,
          2921401,
          2921450,
          2921500,
          2921609,
          2921708,
          2921807,
          2921906,
          2922003,
          2922052,
          2922102,
          2922201,
          2922250,
          2922300,
          2922409,
          2922508,
          2922607,
          2922656,
          2922706,
          2922730,
          2922755,
          2922805,
          2922854,
          2922904,
          2923001,
          2923035,
          2923050,
          2923100,
          2923209,
          2923308,
          2923357,
          2923407,
          2923506,
          2923605,
          2923704,
          2923803,
          2923902,
          2924009,
          2924058,
          2924108,
          2924207,
          2924306,
          2924405,
          2924504,
          2924603,
          2924652,
          2924678,
          2924702,
          2924801,
          2924900,
          2925006,
          2925105,
          2925204,
          2925253,
          2925303,
          2925402,
          2925501,
          2925600,
          2925709,
          2925758,
          2925808,
          2925907,
          2925931,
          2925956,
          2926004,
          2926103,
          2926202,
          2926301,
          2926400,
          2926509,
          2926608,
          2926657,
          2926707,
          2926806,
          2926905,
          2927002,
          2927101,
          2927200,
          2927309,
          2927408,
          2927507,
          2927606,
          2927705,
          2927804,
          2927903,
          2928000,
          2928059,
          2928109,
          2928208,
          2928307,
          2928406,
          2928505,
          2928604,
          2928703,
          2928802,
          2928901,
          2928950,
          2929008,
          2929057,
          2929107,
          2929206,
          2929255,
          2929305,
          2929354,
          2929370,
          2929404,
          2929503,
          2929602,
          2929701,
          2929750,
          2929800,
          2929909,
          2930006,
          2930105,
          2930154,
          2930204,
          2930303,
          2930402,
          2930501,
          2930600,
          2930709,
          2930758,
          2930766,
          2930774,
          2930808,
          2930907,
          2931004,
          2931053,
          2931103,
          2931202,
          2931301,
          2931350,
          2931400,
          2931509,
          2931608,
          2931707,
          2931806,
          2931905,
          2932002,
          2932101,
          2932200,
          2932309,
          2932408,
          2932457,
          2932507,
          2932606,
          2932705,
          2932804,
          2932903,
          2933000,
          2933059,
          2933109,
          2933158,
          2933174,
          2933208,
          2933257,
          2933307,
          2933406,
          2933455,
          2933505,
          2933604,
          3100104,
          3100203,
          3100302,
          3100401,
          3100500,
          3100609,
          3100708,
          3100807,
          3100906,
          3101003,
          3101102,
          3101201,
          3101300,
          3101409,
          3101508,
          3101607,
          3101631,
          3101706,
          3101805,
          3101904,
          3102001,
          3102050,
          3102100,
          3102209,
          3102308,
          3102407,
          3102506,
          3102605,
          3102704,
          3102803,
          3102852,
          3102902,
          3103009,
          3103108,
          3103207,
          3103306,
          3103405,
          3103504,
          3103603,
          3103702,
          3103751,
          3103801,
          3103900,
          3104007,
          3104106,
          3104205,
          3104304,
          3104403,
          3104452,
          3104502,
          3104601,
          3104700,
          3104809,
          3104908,
          3105004,
          3105103,
          3105202,
          3105301,
          3105400,
          3105509,
          3105608,
          3105707,
          3105905,
          3106002,
          3106101,
          3106200,
          3106309,
          3106408,
          3106507,
          3106606,
          3106655,
          3106705,
          3106804,
          3106903,
          3107000,
          3107109,
          3107208,
          3107307,
          3107406,
          3107505,
          3107604,
          3107703,
          3107802,
          3107901,
          3108008,
          3108107,
          3108206,
          3108255,
          3108305,
          3108404,
          3108503,
          3108552,
          3108602,
          3108701,
          3108800,
          3108909,
          3109006,
          3109105,
          3109204,
          3109253,
          3109303,
          3109402,
          3109451,
          3109501,
          3109600,
          3109709,
          3109808,
          3109907,
          3110004,
          3110103,
          3110202,
          3110301,
          3110400,
          3110509,
          3110608,
          3110707,
          3110806,
          3110905,
          3111002,
          3111101,
          3111150,
          3111200,
          3111309,
          3111408,
          3111507,
          3111606,
          3111705,
          3111804,
          3111903,
          3112000,
          3112059,
          3112109,
          3112208,
          3112307,
          3112406,
          3112505,
          3112604,
          3112653,
          3112703,
          3112802,
          3112901,
          3113008,
          3113107,
          3113206,
          3113305,
          3113404,
          3113503,
          3113602,
          3113701,
          3113800,
          3113909,
          3114006,
          3114105,
          3114204,
          3114303,
          3114402,
          3114501,
          3114550,
          3114600,
          3114709,
          3114808,
          3114907,
          3115003,
          3115102,
          3115201,
          3115300,
          3115359,
          3115409,
          3115458,
          3115474,
          3115508,
          3115607,
          3115706,
          3115805,
          3115904,
          3116001,
          3116100,
          3116159,
          3116209,
          3116308,
          3116407,
          3116506,
          3116605,
          3116704,
          3116803,
          3116902,
          3117009,
          3117108,
          3117207,
          3117306,
          3117405,
          3117504,
          3117603,
          3117702,
          3117801,
          3117836,
          3117876,
          3117900,
          3118007,
          3118106,
          3118205,
          3118304,
          3118403,
          3118502,
          3118601,
          3118700,
          3118809,
          3118908,
          3119005,
          3119104,
          3119203,
          3119302,
          3119401,
          3119500,
          3119609,
          3119708,
          3119807,
          3119906,
          3119955,
          3120003,
          3120102,
          3120151,
          3120201,
          3120300,
          3120409,
          3120508,
          3120607,
          3120706,
          3120805,
          3120839,
          3120870,
          3120904,
          3121001,
          3121100,
          3121209,
          3121258,
          3121308,
          3121407,
          3121506,
          3121605,
          3121704,
          3121803,
          3121902,
          3122009,
          3122108,
          3122207,
          3122306,
          3122355,
          3122405,
          3122454,
          3122470,
          3122504,
          3122603,
          3122702,
          3122801,
          3122900,
          3123007,
          3123106,
          3123205,
          3123304,
          3123403,
          3123502,
          3123528,
          3123601,
          3123700,
          3123809,
          3123858,
          3123908,
          3124005,
          3124104,
          3124203,
          3124302,
          3124401,
          3124500,
          3124609,
          3124708,
          3124807,
          3124906,
          3125002,
          3125101,
          3125200,
          3125309,
          3125408,
          3125507,
          3125606,
          3125705,
          3125804,
          3125903,
          3125952,
          3126000,
          3126109,
          3126208,
          3126307,
          3126406,
          3126505,
          3126604,
          3126703,
          3126752,
          3126802,
          3126901,
          3126950,
          3127008,
          3127057,
          3127073,
          3127107,
          3127206,
          3127305,
          3127339,
          3127354,
          3127370,
          3127388,
          3127404,
          3127503,
          3127602,
          3127701,
          3127800,
          3127909,
          3128006,
          3128105,
          3128204,
          3128253,
          3128303,
          3128402,
          3128501,
          3128600,
          3128709,
          3128808,
          3128907,
          3129004,
          3129103,
          3129202,
          3129301,
          3129400,
          3129509,
          3129608,
          3129657,
          3129707,
          3129806,
          3129905,
          3130002,
          3130051,
          3130101,
          3130200,
          3130309,
          3130408,
          3130507,
          3130556,
          3130606,
          3130655,
          3130705,
          3130804,
          3130903,
          3131000,
          3131109,
          3131158,
          3131208,
          3131307,
          3131406,
          3131505,
          3131604,
          3131703,
          3131802,
          3131901,
          3132008,
          3132107,
          3132206,
          3132305,
          3132404,
          3132503,
          3132602,
          3132701,
          3132800,
          3132909,
          3133006,
          3133105,
          3133204,
          3133303,
          3133402,
          3133501,
          3133600,
          3133709,
          3133758,
          3133808,
          3133907,
          3134004,
          3134103,
          3134202,
          3134301,
          3134400,
          3134509,
          3134608,
          3134707,
          3134806,
          3134905,
          3135001,
          3135050,
          3135076,
          3135100,
          3135209,
          3135308,
          3135357,
          3135407,
          3135456,
          3135506,
          3135605,
          3135704,
          3135803,
          3135902,
          3136009,
          3136108,
          3136207,
          3136306,
          3136405,
          3136504,
          3136520,
          3136553,
          3136579,
          3136603,
          3136652,
          3136702,
          3136801,
          3136900,
          3136959,
          3137007,
          3137106,
          3137205,
          3137304,
          3137403,
          3137502,
          3137536,
          3137601,
          3137700,
          3137809,
          3137908,
          3138005,
          3138104,
          3138203,
          3138302,
          3138351,
          3138401,
          3138500,
          3138609,
          3138625,
          3138658,
          3138674,
          3138682,
          3138708,
          3138807,
          3138906,
          3139003,
          3139102,
          3139201,
          3139250,
          3139300,
          3139409,
          3139508,
          3139607,
          3139706,
          3139805,
          3139904,
          3140001,
          3140100,
          3140159,
          3140209,
          3140308,
          3140407,
          3140506,
          3140530,
          3140555,
          3140605,
          3140704,
          3140803,
          3140852,
          3140902,
          3141009,
          3141108,
          3141207,
          3141306,
          3141405,
          3141504,
          3141603,
          3141702,
          3141801,
          3141900,
          3142007,
          3142106,
          3142205,
          3142254,
          3142304,
          3142403,
          3142502,
          3142601,
          3142700,
          3142809,
          3142908,
          3143005,
          3143104,
          3143153,
          3143203,
          3143302,
          3143401,
          3143450,
          3143500,
          3143609,
          3143708,
          3143807,
          3143906,
          3144003,
          3144102,
          3144201,
          3144300,
          3144359,
          3144375,
          3144409,
          3144508,
          3144607,
          3144656,
          3144672,
          3144706,
          3144805,
          3144904,
          3145000,
          3145059,
          3145109,
          3145208,
          3145307,
          3145356,
          3145372,
          3145406,
          3145455,
          3145505,
          3145604,
          3145703,
          3145802,
          3145851,
          3145877,
          3145901,
          3146008,
          3146107,
          3146206,
          3146255,
          3146305,
          3146404,
          3146503,
          3146552,
          3146602,
          3146701,
          3146750,
          3146909,
          3147006,
          3147105,
          3147204,
          3147303,
          3147402,
          3147501,
          3147600,
          3147709,
          3147808,
          3147907,
          3147956,
          3148004,
          3148103,
          3148202,
          3148301,
          3148400,
          3148509,
          3148608,
          3148707,
          3148756,
          3148806,
          3148905,
          3149002,
          3149101,
          3149150,
          3149200,
          3149309,
          3149408,
          3149507,
          3149606,
          3149705,
          3149804,
          3149903,
          3149952,
          3150000,
          3150109,
          3150158,
          3150208,
          3150307,
          3150406,
          3150505,
          3150539,
          3150570,
          3150604,
          3150703,
          3150802,
          3150901,
          3151008,
          3151107,
          3151206,
          3151305,
          3151404,
          3151503,
          3151602,
          3151701,
          3151800,
          3151909,
          3152006,
          3152105,
          3152131,
          3152170,
          3152204,
          3152303,
          3152402,
          3152501,
          3152600,
          3152709,
          3152808,
          3152907,
          3153004,
          3153103,
          3153202,
          3153301,
          3153400,
          3153509,
          3153608,
          3153707,
          3153806,
          3153905,
          3154002,
          3154101,
          3154150,
          3154200,
          3154309,
          3154408,
          3154457,
          3154507,
          3154606,
          3154705,
          3154804,
          3154903,
          3155009,
          3155108,
          3155207,
          3155306,
          3155405,
          3155504,
          3155603,
          3155702,
          3155801,
          3155900,
          3156007,
          3156106,
          3156205,
          3156304,
          3156403,
          3156452,
          3156502,
          3156601,
          3156700,
          3156809,
          3156908,
          3157005,
          3157104,
          3157203,
          3157252,
          3157278,
          3157302,
          3157336,
          3157377,
          3157401,
          3157500,
          3157609,
          3157658,
          3157708,
          3157807,
          3157906,
          3158003,
          3158102,
          3158201,
          3158300,
          3158409,
          3158508,
          3158607,
          3158706,
          3158805,
          3158904,
          3158953,
          3159001,
          3159100,
          3159209,
          3159308,
          3159357,
          3159407,
          3159506,
          3159605,
          3159704,
          3159803,
          3159902,
          3160009,
          3160108,
          3160207,
          3160306,
          3160405,
          3160454,
          3160504,
          3160603,
          3160702,
          3160801,
          3160900,
          3160959,
          3161007,
          3161056,
          3161106,
          3161205,
          3161304,
          3161403,
          3161502,
          3161601,
          3161650,
          3161700,
          3161809,
          3161908,
          3162005,
          3162104,
          3162203,
          3162252,
          3162302,
          3162401,
          3162450,
          3162500,
          3162559,
          3162575,
          3162609,
          3162658,
          3162708,
          3162807,
          3162906,
          3162922,
          3162948,
          3162955,
          3163003,
          3163102,
          3163201,
          3163300,
          3163409,
          3163508,
          3163607,
          3163706,
          3163805,
          3163904,
          3164001,
          3164100,
          3164209,
          3164308,
          3164407,
          3164431,
          3164472,
          3164506,
          3164605,
          3164704,
          3164803,
          3164902,
          3165008,
          3165107,
          3165206,
          3165305,
          3165404,
          3165503,
          3165537,
          3165552,
          3165560,
          3165578,
          3165602,
          3165701,
          3165800,
          3165909,
          3166006,
          3166105,
          3166204,
          3166303,
          3166402,
          3166501,
          3166600,
          3166709,
          3166808,
          3166907,
          3166956,
          3167004,
          3167103,
          3167202,
          3167301,
          3167400,
          3167509,
          3167608,
          3167707,
          3167806,
          3167905,
          3168002,
          3168051,
          3168101,
          3168200,
          3168309,
          3168408,
          3168507,
          3168606,
          3168705,
          3168804,
          3168903,
          3169000,
          3169059,
          3169109,
          3169208,
          3169307,
          3169356,
          3169406,
          3169505,
          3169604,
          3169703,
          3169802,
          3169901,
          3170008,
          3170057,
          3170107,
          3170206,
          3170305,
          3170404,
          3170438,
          3170479,
          3170503,
          3170529,
          3170578,
          3170602,
          3170651,
          3170701,
          3170750,
          3170800,
          3170909,
          3171006,
          3171030,
          3171071,
          3171105,
          3171154,
          3171204,
          3171303,
          3171402,
          3171501,
          3171600,
          3171709,
          3171808,
          3171907,
          3172004,
          3172103,
          3172202,
          3200102,
          3200136,
          3200169,
          3200201,
          3200300,
          3200359,
          3200409,
          3200508,
          3200607,
          3200706,
          3200805,
          3200904,
          3201001,
          3201100,
          3201159,
          3201209,
          3201308,
          3201407,
          3201506,
          3201605,
          3201704,
          3201803,
          3201902,
          3202009,
          3202108,
          3202207,
          3202256,
          3202306,
          3202405,
          3202454,
          3202504,
          3202553,
          3202603,
          3202652,
          3202702,
          3202801,
          3202900,
          3203007,
          3203056,
          3203106,
          3203130,
          3203163,
          3203205,
          3203304,
          3203320,
          3203346,
          3203353,
          3203403,
          3203502,
          3203601,
          3203700,
          3203809,
          3203908,
          3204005,
          3204054,
          3204104,
          3204203,
          3204252,
          3204302,
          3204351,
          3204401,
          3204500,
          3204559,
          3204609,
          3204658,
          3204708,
          3204807,
          3204906,
          3204955,
          3205002,
          3205010,
          3205036,
          3205069,
          3205101,
          3205150,
          3205176,
          3205200,
          3205309,
          3300100,
          3300159,
          3300209,
          3300225,
          3300233,
          3300258,
          3300308,
          3300407,
          3300456,
          3300506,
          3300605,
          3300704,
          3300803,
          3300902,
          3300936,
          3300951,
          3301009,
          3301108,
          3301157,
          3301207,
          3301306,
          3301405,
          3301504,
          3301603,
          3301702,
          3301801,
          3301850,
          3301876,
          3301900,
          3302007,
          3302056,
          3302106,
          3302205,
          3302254,
          3302270,
          3302304,
          3302403,
          3302452,
          3302502,
          3302601,
          3302700,
          3302809,
          3302858,
          3302908,
          3303005,
          3303104,
          3303203,
          3303302,
          3303401,
          3303500,
          3303609,
          3303708,
          3303807,
          3303856,
          3303906,
          3303955,
          3304003,
          3304102,
          3304110,
          3304128,
          3304144,
          3304151,
          3304201,
          3304300,
          3304409,
          3304508,
          3304524,
          3304557,
          3304607,
          3304706,
          3304755,
          3304805,
          3304904,
          3305000,
          3305109,
          3305133,
          3305158,
          3305208,
          3305307,
          3305406,
          3305505,
          3305554,
          3305604,
          3305703,
          3305752,
          3305802,
          3305901,
          3306008,
          3306107,
          3306156,
          3306206,
          3306305,
          3500105,
          3500204,
          3500303,
          3500402,
          3500501,
          3500550,
          3500600,
          3500709,
          3500758,
          3500808,
          3500907,
          3501004,
          3501103,
          3501152,
          3501202,
          3501301,
          3501400,
          3501509,
          3501608,
          3501707,
          3501806,
          3501905,
          3502002,
          3502101,
          3502200,
          3502309,
          3502408,
          3502507,
          3502606,
          3502705,
          3502754,
          3502804,
          3502903,
          3503000,
          3503109,
          3503158,
          3503208,
          3503307,
          3503356,
          3503406,
          3503505,
          3503604,
          3503703,
          3503802,
          3503901,
          3503950,
          3504008,
          3504107,
          3504206,
          3504305,
          3504404,
          3504503,
          3504602,
          3504701,
          3504800,
          3504909,
          3505005,
          3505104,
          3505203,
          3505302,
          3505351,
          3505401,
          3505500,
          3505609,
          3505708,
          3505807,
          3505906,
          3506003,
          3506102,
          3506201,
          3506300,
          3506359,
          3506409,
          3506508,
          3506607,
          3506706,
          3506805,
          3506904,
          3507001,
          3507100,
          3507159,
          3507209,
          3507308,
          3507407,
          3507456,
          3507506,
          3507605,
          3507704,
          3507753,
          3507803,
          3507902,
          3508009,
          3508108,
          3508207,
          3508306,
          3508405,
          3508504,
          3508603,
          3508702,
          3508801,
          3508900,
          3509007,
          3509106,
          3509205,
          3509254,
          3509304,
          3509403,
          3509452,
          3509502,
          3509601,
          3509700,
          3509809,
          3509908,
          3509957,
          3510005,
          3510104,
          3510153,
          3510203,
          3510302,
          3510401,
          3510500,
          3510609,
          3510708,
          3510807,
          3510906,
          3511003,
          3511102,
          3511201,
          3511300,
          3511409,
          3511508,
          3511607,
          3511706,
          3511904,
          3512001,
          3512100,
          3512209,
          3512308,
          3512407,
          3512506,
          3512605,
          3512704,
          3512803,
          3512902,
          3513009,
          3513108,
          3513207,
          3513306,
          3513405,
          3513504,
          3513603,
          3513702,
          3513801,
          3513850,
          3513900,
          3514007,
          3514106,
          3514205,
          3514304,
          3514403,
          3514502,
          3514601,
          3514700,
          3514809,
          3514908,
          3514924,
          3514957,
          3515004,
          3515103,
          3515129,
          3515152,
          3515186,
          3515194,
          3515202,
          3515301,
          3515350,
          3515400,
          3515509,
          3515608,
          3515657,
          3515707,
          3515806,
          3515905,
          3516002,
          3516101,
          3516200,
          3516309,
          3516408,
          3516507,
          3516606,
          3516705,
          3516804,
          3516853,
          3516903,
          3517000,
          3517109,
          3517208,
          3517307,
          3517406,
          3517505,
          3517604,
          3517703,
          3517802,
          3517901,
          3518008,
          3518107,
          3518206,
          3518305,
          3518404,
          3518503,
          3518602,
          3518701,
          3518800,
          3518859,
          3518909,
          3519006,
          3519055,
          3519071,
          3519105,
          3519204,
          3519253,
          3519303,
          3519402,
          3519501,
          3519600,
          3519709,
          3519808,
          3519907,
          3520004,
          3520103,
          3520202,
          3520301,
          3520400,
          3520426,
          3520442,
          3520509,
          3520608,
          3520707,
          3520806,
          3520905,
          3521002,
          3521101,
          3521150,
          3521200,
          3521309,
          3521408,
          3521507,
          3521606,
          3521705,
          3521804,
          3521903,
          3522000,
          3522109,
          3522158,
          3522208,
          3522307,
          3522406,
          3522505,
          3522604,
          3522653,
          3522703,
          3522802,
          3522901,
          3523008,
          3523107,
          3523206,
          3523305,
          3523404,
          3523503,
          3523602,
          3523701,
          3523800,
          3523909,
          3524006,
          3524105,
          3524204,
          3524303,
          3524402,
          3524501,
          3524600,
          3524709,
          3524808,
          3524907,
          3525003,
          3525102,
          3525201,
          3525300,
          3525409,
          3525508,
          3525607,
          3525706,
          3525805,
          3525854,
          3525904,
          3526001,
          3526100,
          3526209,
          3526308,
          3526407,
          3526506,
          3526605,
          3526704,
          3526803,
          3526902,
          3527009,
          3527108,
          3527207,
          3527256,
          3527306,
          3527405,
          3527504,
          3527603,
          3527702,
          3527801,
          3527900,
          3528007,
          3528106,
          3528205,
          3528304,
          3528403,
          3528502,
          3528601,
          3528700,
          3528809,
          3528858,
          3528908,
          3529005,
          3529104,
          3529203,
          3529302,
          3529401,
          3529500,
          3529609,
          3529658,
          3529708,
          3529807,
          3529906,
          3530003,
          3530102,
          3530201,
          3530300,
          3530409,
          3530508,
          3530607,
          3530706,
          3530805,
          3530904,
          3531001,
          3531100,
          3531209,
          3531308,
          3531407,
          3531506,
          3531605,
          3531704,
          3531803,
          3531902,
          3532009,
          3532058,
          3532108,
          3532157,
          3532207,
          3532306,
          3532405,
          3532504,
          3532603,
          3532702,
          3532801,
          3532827,
          3532843,
          3532868,
          3532900,
          3533007,
          3533106,
          3533205,
          3533254,
          3533304,
          3533403,
          3533502,
          3533601,
          3533700,
          3533809,
          3533908,
          3534005,
          3534104,
          3534203,
          3534302,
          3534401,
          3534500,
          3534609,
          3534708,
          3534757,
          3534807,
          3534906,
          3535002,
          3535101,
          3535200,
          3535309,
          3535408,
          3535507,
          3535606,
          3535705,
          3535804,
          3535903,
          3536000,
          3536109,
          3536208,
          3536257,
          3536307,
          3536406,
          3536505,
          3536570,
          3536604,
          3536703,
          3536802,
          3536901,
          3537008,
          3537107,
          3537156,
          3537206,
          3537305,
          3537404,
          3537503,
          3537602,
          3537701,
          3537800,
          3537909,
          3538006,
          3538105,
          3538204,
          3538303,
          3538501,
          3538600,
          3538709,
          3538808,
          3538907,
          3539004,
          3539103,
          3539202,
          3539301,
          3539400,
          3539509,
          3539608,
          3539707,
          3539806,
          3539905,
          3540002,
          3540101,
          3540200,
          3540259,
          3540309,
          3540408,
          3540507,
          3540606,
          3540705,
          3540754,
          3540804,
          3540853,
          3540903,
          3541000,
          3541059,
          3541109,
          3541208,
          3541307,
          3541406,
          3541505,
          3541604,
          3541653,
          3541703,
          3541802,
          3541901,
          3542008,
          3542107,
          3542206,
          3542305,
          3542404,
          3542503,
          3542602,
          3542701,
          3542800,
          3542909,
          3543006,
          3543105,
          3543204,
          3543238,
          3543253,
          3543303,
          3543402,
          3543501,
          3543600,
          3543709,
          3543808,
          3543907,
          3544004,
          3544103,
          3544202,
          3544251,
          3544301,
          3544400,
          3544509,
          3544608,
          3544707,
          3544806,
          3544905,
          3545001,
          3545100,
          3545159,
          3545209,
          3545308,
          3545407,
          3545506,
          3545605,
          3545704,
          3545803,
          3546009,
          3546108,
          3546207,
          3546256,
          3546306,
          3546405,
          3546504,
          3546603,
          3546702,
          3546801,
          3546900,
          3547007,
          3547106,
          3547205,
          3547304,
          3547403,
          3547502,
          3547601,
          3547650,
          3547700,
          3547809,
          3547908,
          3548005,
          3548054,
          3548104,
          3548203,
          3548302,
          3548401,
          3548500,
          3548609,
          3548708,
          3548807,
          3548906,
          3549003,
          3549102,
          3549201,
          3549250,
          3549300,
          3549409,
          3549508,
          3549607,
          3549706,
          3549805,
          3549904,
          3549953,
          3550001,
          3550100,
          3550209,
          3550308,
          3550407,
          3550506,
          3550605,
          3550704,
          3550803,
          3550902,
          3551009,
          3551108,
          3551207,
          3551306,
          3551405,
          3551504,
          3551603,
          3551702,
          3551801,
          3551900,
          3552007,
          3552106,
          3552205,
          3552304,
          3552403,
          3552502,
          3552551,
          3552601,
          3552700,
          3552809,
          3552908,
          3553005,
          3553104,
          3553203,
          3553302,
          3553401,
          3553500,
          3553609,
          3553658,
          3553708,
          3553807,
          3553856,
          3553906,
          3553955,
          3554003,
          3554102,
          3554201,
          3554300,
          3554409,
          3554508,
          3554607,
          3554656,
          3554706,
          3554755,
          3554805,
          3554904,
          3554953,
          3555000,
          3555109,
          3555208,
          3555307,
          3555356,
          3555406,
          3555505,
          3555604,
          3555703,
          3555802,
          3555901,
          3556008,
          3556107,
          3556206,
          3556305,
          3556354,
          3556404,
          3556453,
          3556503,
          3556602,
          3556701,
          3556800,
          3556909,
          3556958,
          3557006,
          3557105,
          3557154,
          3557204,
          3557303,
          4100103,
          4100202,
          4100301,
          4100400,
          4100459,
          4100509,
          4100608,
          4100707,
          4100806,
          4100905,
          4101002,
          4101051,
          4101101,
          4101150,
          4101200,
          4101309,
          4101408,
          4101507,
          4101606,
          4101655,
          4101705,
          4101804,
          4101853,
          4101903,
          4102000,
          4102109,
          4102208,
          4102307,
          4102406,
          4102505,
          4102604,
          4102703,
          4102752,
          4102802,
          4102901,
          4103008,
          4103024,
          4103040,
          4103057,
          4103107,
          4103156,
          4103206,
          4103222,
          4103305,
          4103354,
          4103370,
          4103404,
          4103453,
          4103479,
          4103503,
          4103602,
          4103701,
          4103800,
          4103909,
          4103958,
          4104006,
          4104055,
          4104105,
          4104204,
          4104253,
          4104303,
          4104402,
          4104428,
          4104451,
          4104501,
          4104600,
          4104659,
          4104709,
          4104808,
          4104907,
          4105003,
          4105102,
          4105201,
          4105300,
          4105409,
          4105508,
          4105607,
          4105706,
          4105805,
          4105904,
          4106001,
          4106100,
          4106209,
          4106308,
          4106407,
          4106456,
          4106506,
          4106555,
          4106571,
          4106605,
          4106704,
          4106803,
          4106852,
          4106902,
          4107009,
          4107108,
          4107124,
          4107157,
          4107207,
          4107256,
          4107306,
          4107405,
          4107504,
          4107520,
          4107538,
          4107546,
          4107553,
          4107603,
          4107652,
          4107702,
          4107736,
          4107751,
          4107801,
          4107850,
          4107900,
          4108007,
          4108106,
          4108205,
          4108304,
          4108320,
          4108403,
          4108452,
          4108502,
          4108551,
          4108601,
          4108650,
          4108700,
          4108809,
          4108908,
          4108957,
          4109005,
          4109104,
          4109203,
          4109302,
          4109401,
          4109500,
          4109609,
          4109658,
          4109708,
          4109757,
          4109807,
          4109906,
          4110003,
          4110052,
          4110078,
          4110102,
          4110201,
          4110300,
          4110409,
          4110508,
          4110607,
          4110656,
          4110706,
          4110805,
          4110904,
          4110953,
          4111001,
          4111100,
          4111209,
          4111258,
          4111308,
          4111407,
          4111506,
          4111555,
          4111605,
          4111704,
          4111803,
          4111902,
          4112009,
          4112108,
          4112207,
          4112306,
          4112405,
          4112504,
          4112603,
          4112702,
          4112751,
          4112801,
          4112900,
          4112959,
          4113007,
          4113106,
          4113205,
          4113254,
          4113304,
          4113403,
          4113429,
          4113452,
          4113502,
          4113601,
          4113700,
          4113734,
          4113759,
          4113809,
          4113908,
          4114005,
          4114104,
          4114203,
          4114302,
          4114351,
          4114401,
          4114500,
          4114609,
          4114708,
          4114807,
          4114906,
          4115002,
          4115101,
          4115200,
          4115309,
          4115358,
          4115408,
          4115457,
          4115507,
          4115606,
          4115705,
          4115739,
          4115754,
          4115804,
          4115853,
          4115903,
          4116000,
          4116059,
          4116109,
          4116208,
          4116307,
          4116406,
          4116505,
          4116604,
          4116703,
          4116802,
          4116901,
          4116950,
          4117008,
          4117057,
          4117107,
          4117206,
          4117214,
          4117222,
          4117255,
          4117271,
          4117297,
          4117305,
          4117404,
          4117453,
          4117503,
          4117602,
          4117701,
          4117800,
          4117909,
          4118006,
          4118105,
          4118204,
          4118303,
          4118402,
          4118451,
          4118501,
          4118600,
          4118709,
          4118808,
          4118857,
          4118907,
          4119004,
          4119103,
          4119152,
          4119202,
          4119251,
          4119301,
          4119400,
          4119509,
          4119608,
          4119657,
          4119707,
          4119806,
          4119905,
          4119954,
          4120002,
          4120101,
          4120150,
          4120200,
          4120309,
          4120333,
          4120358,
          4120408,
          4120507,
          4120606,
          4120655,
          4120705,
          4120804,
          4120853,
          4120903,
          4121000,
          4121109,
          4121208,
          4121257,
          4121307,
          4121356,
          4121406,
          4121505,
          4121604,
          4121703,
          4121752,
          4121802,
          4121901,
          4122008,
          4122107,
          4122156,
          4122172,
          4122206,
          4122305,
          4122404,
          4122503,
          4122602,
          4122651,
          4122701,
          4122800,
          4122909,
          4123006,
          4123105,
          4123204,
          4123303,
          4123402,
          4123501,
          4123600,
          4123709,
          4123808,
          4123824,
          4123857,
          4123907,
          4123956,
          4124004,
          4124020,
          4124053,
          4124103,
          4124202,
          4124301,
          4124400,
          4124509,
          4124608,
          4124707,
          4124806,
          4124905,
          4125001,
          4125100,
          4125209,
          4125308,
          4125357,
          4125407,
          4125456,
          4125506,
          4125555,
          4125605,
          4125704,
          4125753,
          4125803,
          4125902,
          4126009,
          4126108,
          4126207,
          4126256,
          4126272,
          4126306,
          4126355,
          4126405,
          4126504,
          4126603,
          4126652,
          4126678,
          4126702,
          4126801,
          4126900,
          4127007,
          4127106,
          4127205,
          4127304,
          4127403,
          4127502,
          4127601,
          4127700,
          4127809,
          4127858,
          4127882,
          4127908,
          4127957,
          4127965,
          4128005,
          4128104,
          4128203,
          4128302,
          4128401,
          4128500,
          4128534,
          4128559,
          4128609,
          4128625,
          4128633,
          4128658,
          4128708,
          4128807,
          4200051,
          4200101,
          4200200,
          4200309,
          4200408,
          4200507,
          4200556,
          4200606,
          4200705,
          4200754,
          4200804,
          4200903,
          4201000,
          4201109,
          4201208,
          4201257,
          4201273,
          4201307,
          4201406,
          4201505,
          4201604,
          4201653,
          4201703,
          4201802,
          4201901,
          4201950,
          4202008,
          4202057,
          4202073,
          4202081,
          4202099,
          4202107,
          4202131,
          4202156,
          4202206,
          4202305,
          4202404,
          4202438,
          4202453,
          4202503,
          4202537,
          4202578,
          4202602,
          4202701,
          4202800,
          4202859,
          4202875,
          4202909,
          4203006,
          4203105,
          4203154,
          4203204,
          4203253,
          4203303,
          4203402,
          4203501,
          4203600,
          4203709,
          4203808,
          4203907,
          4203956,
          4204004,
          4204103,
          4204152,
          4204178,
          4204194,
          4204202,
          4204251,
          4204301,
          4204350,
          4204400,
          4204459,
          4204509,
          4204558,
          4204608,
          4204707,
          4204756,
          4204806,
          4204905,
          4205001,
          4205100,
          4205159,
          4205175,
          4205191,
          4205209,
          4205308,
          4205357,
          4205407,
          4205431,
          4205456,
          4205506,
          4205555,
          4205605,
          4205704,
          4205803,
          4205902,
          4206009,
          4206108,
          4206207,
          4206306,
          4206405,
          4206504,
          4206603,
          4206652,
          4206702,
          4206751,
          4206801,
          4206900,
          4207007,
          4207106,
          4207205,
          4207304,
          4207403,
          4207502,
          4207577,
          4207601,
          4207650,
          4207684,
          4207700,
          4207759,
          4207809,
          4207858,
          4207908,
          4208005,
          4208104,
          4208203,
          4208302,
          4208401,
          4208450,
          4208500,
          4208609,
          4208708,
          4208807,
          4208906,
          4208955,
          4209003,
          4209102,
          4209151,
          4209177,
          4209201,
          4209300,
          4209409,
          4209458,
          4209508,
          4209607,
          4209706,
          4209805,
          4209854,
          4209904,
          4210001,
          4210035,
          4210050,
          4210100,
          4210209,
          4210308,
          4210407,
          4210506,
          4210555,
          4210605,
          4210704,
          4210803,
          4210852,
          4210902,
          4211009,
          4211058,
          4211108,
          4211207,
          4211256,
          4211306,
          4211405,
          4211454,
          4211504,
          4211603,
          4211652,
          4211702,
          4211751,
          4211801,
          4211850,
          4211876,
          4211892,
          4211900,
          4212007,
          4212056,
          4212106,
          4212205,
          4212239,
          4212254,
          4212270,
          4212304,
          4212403,
          4212502,
          4212601,
          4212700,
          4212809,
          4212908,
          4213005,
          4213104,
          4213153,
          4213203,
          4213302,
          4213351,
          4213401,
          4213500,
          4213609,
          4213708,
          4213807,
          4213906,
          4214003,
          4214102,
          4214151,
          4214201,
          4214300,
          4214409,
          4214508,
          4214607,
          4214706,
          4214805,
          4214904,
          4215000,
          4215059,
          4215075,
          4215109,
          4215208,
          4215307,
          4215356,
          4215406,
          4215455,
          4215505,
          4215554,
          4215604,
          4215653,
          4215679,
          4215687,
          4215695,
          4215703,
          4215752,
          4215802,
          4215901,
          4216008,
          4216057,
          4216107,
          4216206,
          4216255,
          4216305,
          4216354,
          4216404,
          4216503,
          4216602,
          4216701,
          4216800,
          4216909,
          4217006,
          4217105,
          4217154,
          4217204,
          4217253,
          4217303,
          4217402,
          4217501,
          4217550,
          4217600,
          4217709,
          4217758,
          4217808,
          4217907,
          4217956,
          4218004,
          4218103,
          4218202,
          4218251,
          4218301,
          4218350,
          4218400,
          4218509,
          4218608,
          4218707,
          4218756,
          4218806,
          4218855,
          4218905,
          4218954,
          4219002,
          4219101,
          4219150,
          4219176,
          4219200,
          4219309,
          4219358,
          4219408,
          4219507,
          4219606,
          4219705,
          4219853,
          4300034,
          4300059,
          4300109,
          4300208,
          4300307,
          4300406,
          4300455,
          4300471,
          4300505,
          4300554,
          4300570,
          4300604,
          4300638,
          4300646,
          4300661,
          4300703,
          4300802,
          4300851,
          4300877,
          4300901,
          4301008,
          4301057,
          4301073,
          4301107,
          4301206,
          4301305,
          4301404,
          4301503,
          4301552,
          4301602,
          4301636,
          4301651,
          4301701,
          4301750,
          4301800,
          4301859,
          4301875,
          4301909,
          4301925,
          4301958,
          4302006,
          4302055,
          4302105,
          4302154,
          4302204,
          4302220,
          4302238,
          4302253,
          4302303,
          4302352,
          4302378,
          4302402,
          4302451,
          4302501,
          4302584,
          4302600,
          4302659,
          4302709,
          4302808,
          4302907,
          4303004,
          4303103,
          4303202,
          4303301,
          4303400,
          4303509,
          4303558,
          4303608,
          4303673,
          4303707,
          4303806,
          4303905,
          4304002,
          4304101,
          4304200,
          4304309,
          4304358,
          4304408,
          4304507,
          4304606,
          4304614,
          4304622,
          4304630,
          4304655,
          4304663,
          4304671,
          4304689,
          4304697,
          4304705,
          4304713,
          4304804,
          4304853,
          4304903,
          4304952,
          4305009,
          4305108,
          4305116,
          4305124,
          4305132,
          4305157,
          4305173,
          4305207,
          4305306,
          4305355,
          4305371,
          4305405,
          4305439,
          4305447,
          4305454,
          4305504,
          4305587,
          4305603,
          4305702,
          4305801,
          4305835,
          4305850,
          4305871,
          4305900,
          4305934,
          4305959,
          4305975,
          4306007,
          4306056,
          4306072,
          4306106,
          4306130,
          4306205,
          4306304,
          4306320,
          4306353,
          4306379,
          4306403,
          4306429,
          4306452,
          4306502,
          4306551,
          4306601,
          4306700,
          4306734,
          4306759,
          4306767,
          4306809,
          4306908,
          4306924,
          4306932,
          4306957,
          4306973,
          4307005,
          4307054,
          4307104,
          4307203,
          4307302,
          4307401,
          4307450,
          4307500,
          4307559,
          4307609,
          4307708,
          4307807,
          4307815,
          4307831,
          4307864,
          4307906,
          4308003,
          4308052,
          4308078,
          4308102,
          4308201,
          4308250,
          4308300,
          4308409,
          4308433,
          4308458,
          4308508,
          4308607,
          4308656,
          4308706,
          4308805,
          4308854,
          4308904,
          4309001,
          4309050,
          4309100,
          4309126,
          4309159,
          4309209,
          4309258,
          4309308,
          4309407,
          4309506,
          4309555,
          4309571,
          4309605,
          4309654,
          4309704,
          4309753,
          4309803,
          4309902,
          4309951,
          4310009,
          4310108,
          4310207,
          4310306,
          4310330,
          4310363,
          4310405,
          4310413,
          4310439,
          4310462,
          4310504,
          4310538,
          4310553,
          4310579,
          4310603,
          4310652,
          4310702,
          4310751,
          4310801,
          4310850,
          4310876,
          4310900,
          4311007,
          4311106,
          4311122,
          4311130,
          4311155,
          4311205,
          4311239,
          4311254,
          4311270,
          4311304,
          4311403,
          4311429,
          4311502,
          4311601,
          4311627,
          4311643,
          4311700,
          4311718,
          4311734,
          4311759,
          4311775,
          4311791,
          4311809,
          4311908,
          4311981,
          4312005,
          4312054,
          4312104,
          4312138,
          4312153,
          4312179,
          4312203,
          4312252,
          4312302,
          4312351,
          4312377,
          4312385,
          4312401,
          4312427,
          4312443,
          4312450,
          4312476,
          4312500,
          4312609,
          4312617,
          4312625,
          4312658,
          4312674,
          4312708,
          4312757,
          4312807,
          4312906,
          4312955,
          4313003,
          4313011,
          4313037,
          4313060,
          4313086,
          4313102,
          4313201,
          4313300,
          4313334,
          4313359,
          4313375,
          4313391,
          4313409,
          4313425,
          4313441,
          4313466,
          4313490,
          4313508,
          4313607,
          4313656,
          4313706,
          4313805,
          4313904,
          4313953,
          4314001,
          4314027,
          4314035,
          4314050,
          4314068,
          4314076,
          4314100,
          4314134,
          4314159,
          4314175,
          4314209,
          4314308,
          4314407,
          4314423,
          4314456,
          4314464,
          4314472,
          4314498,
          4314506,
          4314555,
          4314605,
          4314704,
          4314753,
          4314779,
          4314787,
          4314803,
          4314902,
          4315008,
          4315057,
          4315073,
          4315107,
          4315131,
          4315149,
          4315156,
          4315172,
          4315206,
          4315305,
          4315313,
          4315321,
          4315354,
          4315404,
          4315453,
          4315503,
          4315552,
          4315602,
          4315701,
          4315750,
          4315800,
          4315909,
          4315958,
          4316006,
          4316105,
          4316204,
          4316303,
          4316402,
          4316428,
          4316436,
          4316451,
          4316477,
          4316501,
          4316600,
          4316709,
          4316733,
          4316758,
          4316808,
          4316907,
          4316956,
          4316972,
          4317004,
          4317103,
          4317202,
          4317251,
          4317301,
          4317400,
          4317509,
          4317558,
          4317608,
          4317707,
          4317756,
          4317806,
          4317905,
          4317954,
          4318002,
          4318051,
          4318101,
          4318200,
          4318309,
          4318408,
          4318424,
          4318432,
          4318440,
          4318457,
          4318465,
          4318481,
          4318499,
          4318507,
          4318606,
          4318614,
          4318622,
          4318705,
          4318804,
          4318903,
          4319000,
          4319109,
          4319125,
          4319158,
          4319208,
          4319307,
          4319356,
          4319364,
          4319372,
          4319406,
          4319505,
          4319604,
          4319703,
          4319711,
          4319737,
          4319752,
          4319802,
          4319901,
          4320008,
          4320107,
          4320206,
          4320230,
          4320263,
          4320305,
          4320321,
          4320354,
          4320404,
          4320453,
          4320503,
          4320552,
          4320578,
          4320602,
          4320651,
          4320677,
          4320701,
          4320800,
          4320859,
          4320909,
          4321006,
          4321105,
          4321204,
          4321303,
          4321329,
          4321352,
          4321402,
          4321436,
          4321451,
          4321469,
          4321477,
          4321493,
          4321501,
          4321600,
          4321626,
          4321634,
          4321667,
          4321709,
          4321808,
          4321832,
          4321857,
          4321907,
          4321956,
          4322004,
          4322103,
          4322152,
          4322186,
          4322202,
          4322251,
          4322301,
          4322327,
          4322343,
          4322350,
          4322376,
          4322400,
          4322509,
          4322525,
          4322533,
          4322541,
          4322558,
          4322608,
          4322707,
          4322806,
          4322855,
          4322905,
          4323002,
          4323101,
          4323200,
          4323309,
          4323358,
          4323408,
          4323457,
          4323507,
          4323606,
          4323705,
          4323754,
          4323770,
          4323804,
          5000203,
          5000252,
          5000609,
          5000708,
          5000807,
          5000856,
          5000906,
          5001003,
          5001102,
          5001243,
          5001508,
          5001904,
          5002001,
          5002100,
          5002159,
          5002209,
          5002308,
          5002407,
          5002605,
          5002704,
          5002803,
          5002902,
          5002951,
          5003108,
          5003157,
          5003207,
          5003256,
          5003306,
          5003454,
          5003488,
          5003504,
          5003702,
          5003751,
          5003801,
          5003900,
          5004007,
          5004106,
          5004304,
          5004403,
          5004502,
          5004601,
          5004700,
          5004809,
          5004908,
          5005004,
          5005103,
          5005152,
          5005202,
          5005251,
          5005400,
          5005608,
          5005681,
          5005707,
          5005806,
          5006002,
          5006200,
          5006259,
          5006309,
          5006358,
          5006408,
          5006606,
          5006903,
          5007109,
          5007208,
          5007307,
          5007406,
          5007505,
          5007554,
          5007695,
          5007703,
          5007802,
          5007901,
          5007935,
          5007950,
          5007976,
          5008008,
          5008305,
          5008404,
          5100102,
          5100201,
          5100250,
          5100300,
          5100359,
          5100409,
          5100508,
          5100607,
          5100805,
          5101001,
          5101209,
          5101258,
          5101308,
          5101407,
          5101605,
          5101704,
          5101803,
          5101852,
          5101902,
          5102504,
          5102603,
          5102637,
          5102678,
          5102686,
          5102694,
          5102702,
          5102793,
          5102850,
          5103007,
          5103056,
          5103106,
          5103205,
          5103254,
          5103304,
          5103353,
          5103361,
          5103379,
          5103403,
          5103437,
          5103452,
          5103502,
          5103601,
          5103700,
          5103809,
          5103858,
          5103908,
          5103957,
          5104104,
          5104203,
          5104500,
          5104526,
          5104542,
          5104559,
          5104609,
          5104807,
          5104906,
          5105002,
          5105101,
          5105150,
          5105176,
          5105200,
          5105234,
          5105259,
          5105309,
          5105507,
          5105580,
          5105606,
          5105622,
          5105903,
          5106000,
          5106109,
          5106158,
          5106174,
          5106182,
          5106190,
          5106208,
          5106216,
          5106224,
          5106232,
          5106240,
          5106257,
          5106265,
          5106273,
          5106281,
          5106299,
          5106307,
          5106315,
          5106372,
          5106422,
          5106455,
          5106505,
          5106653,
          5106703,
          5106752,
          5106778,
          5106802,
          5106828,
          5106851,
          5107008,
          5107040,
          5107065,
          5107107,
          5107156,
          5107180,
          5107198,
          5107206,
          5107248,
          5107263,
          5107297,
          5107305,
          5107354,
          5107404,
          5107578,
          5107602,
          5107701,
          5107743,
          5107750,
          5107768,
          5107776,
          5107792,
          5107800,
          5107859,
          5107875,
          5107883,
          5107909,
          5107925,
          5107941,
          5107958,
          5108006,
          5108055,
          5108105,
          5108204,
          5108303,
          5108352,
          5108402,
          5108501,
          5108600,
          5108808,
          5108857,
          5108907,
          5108956,
          5200050,
          5200100,
          5200134,
          5200159,
          5200175,
          5200209,
          5200258,
          5200308,
          5200506,
          5200555,
          5200605,
          5200803,
          5200829,
          5200852,
          5200902,
          5201108,
          5201207,
          5201306,
          5201405,
          5201454,
          5201504,
          5201603,
          5201702,
          5201801,
          5202155,
          5202353,
          5202502,
          5202601,
          5202809,
          5203104,
          5203203,
          5203302,
          5203401,
          5203500,
          5203559,
          5203575,
          5203609,
          5203807,
          5203906,
          5203939,
          5203962,
          5204003,
          5204102,
          5204201,
          5204250,
          5204300,
          5204409,
          5204508,
          5204557,
          5204607,
          5204656,
          5204706,
          5204805,
          5204854,
          5204904,
          5204953,
          5205000,
          5205059,
          5205109,
          5205208,
          5205307,
          5205406,
          5205455,
          5205471,
          5205497,
          5205513,
          5205521,
          5205703,
          5205802,
          5205901,
          5206206,
          5206305,
          5206404,
          5206503,
          5206602,
          5206701,
          5206800,
          5206909,
          5207105,
          5207253,
          5207352,
          5207402,
          5207501,
          5207535,
          5207600,
          5207808,
          5207907,
          5208004,
          5208103,
          5208152,
          5208301,
          5208400,
          5208509,
          5208608,
          5208707,
          5208806,
          5208905,
          5209101,
          5209150,
          5209200,
          5209291,
          5209408,
          5209457,
          5209606,
          5209705,
          5209804,
          5209903,
          5209937,
          5209952,
          5210000,
          5210109,
          5210158,
          5210208,
          5210307,
          5210406,
          5210562,
          5210604,
          5210802,
          5210901,
          5211008,
          5211206,
          5211305,
          5211404,
          5211503,
          5211602,
          5211701,
          5211800,
          5211909,
          5212006,
          5212055,
          5212105,
          5212204,
          5212253,
          5212303,
          5212501,
          5212600,
          5212709,
          5212808,
          5212907,
          5212956,
          5213004,
          5213053,
          5213087,
          5213103,
          5213400,
          5213509,
          5213707,
          5213756,
          5213772,
          5213806,
          5213855,
          5213905,
          5214002,
          5214051,
          5214101,
          5214408,
          5214507,
          5214606,
          5214705,
          5214804,
          5214838,
          5214861,
          5214879,
          5214903,
          5215009,
          5215207,
          5215231,
          5215256,
          5215306,
          5215405,
          5215504,
          5215603,
          5215652,
          5215702,
          5215801,
          5215900,
          5216007,
          5216304,
          5216403,
          5216452,
          5216809,
          5216908,
          5217104,
          5217203,
          5217302,
          5217401,
          5217609,
          5217708,
          5218003,
          5218052,
          5218102,
          5218300,
          5218391,
          5218508,
          5218607,
          5218706,
          5218789,
          5218805,
          5218904,
          5219001,
          5219100,
          5219209,
          5219258,
          5219308,
          5219357,
          5219407,
          5219456,
          5219506,
          5219605,
          5219704,
          5219712,
          5219738,
          5219753,
          5219803,
          5219902,
          5220009,
          5220058,
          5220108,
          5220157,
          5220207,
          5220264,
          5220280,
          5220405,
          5220454,
          5220504,
          5220603,
          5220686,
          5220702,
          5221007,
          5221080,
          5221197,
          5221304,
          5221403,
          5221452,
          5221502,
          5221551,
          5221577,
          5221601,
          5221700,
          5221809,
          5221858,
          5221908,
          5222005,
          5222054,
          5222203,
          5222302,
          5300108
         ],
         "name": "",
         "type": "choropleth",
         "z": [
          21334.8298522169,
          63601.1121884359,
          5695.75724796629,
          39662.2663025965,
          13307.7027745735,
          13499.996558294,
          7868.16247476982,
          11967.314653157,
          22731.2723846615,
          28799.6005811916,
          41604.5617585253,
          75039.6271607901,
          27825.6558989612,
          17391.7324461796,
          27582.2474370749,
          20564.6355147812,
          247327.264631502,
          17703.3321808567,
          3156.78970933855,
          36590.5331084352,
          7767.92432967736,
          35075.6554064201,
          20371.8578636432,
          20533.2752737175,
          12545.6437223145,
          11839.9317954015,
          16112.0057991631,
          30847.4040884989,
          9234.14720936406,
          5435.33901813492,
          11847.2944549038,
          14360.8773342304,
          3313.29722350609,
          6411.10596973939,
          14824.0360753388,
          9705.10895625535,
          7677.82099007361,
          9111.08558355254,
          10770.6971416193,
          11964.2769098924,
          7296.62170739168,
          4307.15118288052,
          1787.72039888739,
          2991.14338048518,
          5427.38201156344,
          15240.488556537,
          10625.6406411065,
          4379.47297960776,
          9807.28659473773,
          11677.2180524424,
          8792.8147015611,
          7611.26097605373,
          11486.6921565754,
          5349.89729381658,
          16811.8533171445,
          7497.59122395644,
          8030.41444600012,
          63288.1182593833,
          12450.0894678093,
          30433.2732639141,
          6155.8937234999,
          13573.0670423985,
          6916.20981388271,
          13504.4141032503,
          14972.356558045,
          8626.55628576898,
          183187.537226469,
          13006.8809986341,
          4269.05431449956,
          16676.055092577,
          32813.7694941449,
          33196.6397455278,
          12974.7630375158,
          13869.9721975915,
          13052.8014563787,
          7975.66680870621,
          9654.47034583271,
          14845.5040373004,
          16790.5622961305,
          14537.9220815399,
          29426.2342431761,
          18849.6961656792,
          26187.1900252264,
          30217.9531708584,
          14705.1403919227,
          13770.4993970349,
          27670.1162014829,
          30707.0747621283,
          10620.882295168,
          11083.9481721057,
          21454.9795353767,
          30034.9540434561,
          23206.6965517915,
          62911.8358555273,
          19654.5370003226,
          28467.334126037,
          15847.9887737889,
          20941.0950106935,
          12764.1686772232,
          34197.6997537902,
          20766.2596067265,
          34015.1740082895,
          64858.9795278214,
          7344.6796566316,
          6705.14552448786,
          6935.04297476925,
          10162.7314676667,
          17655.5439666985,
          35175.8200046778,
          70681.5762775718,
          21150.2643769555,
          778668.028825495,
          42200.160961662,
          16837.8920075313,
          46152.2456576366,
          16525.6450393495,
          27033.8875988364,
          12576.8279547573,
          19624.9365641605,
          80869.2890681873,
          17407.0213001921,
          18276.1675995477,
          21512.3839726214,
          16215.9810965615,
          23150.916832353,
          32805.629951238,
          30717.1029675661,
          9720.21741605907,
          7383.05377699544,
          42683.386850554,
          17290.2665336221,
          48100.0167643672,
          16788.1579618378,
          10948.384841496,
          14550.8900681221,
          15584.5425304341,
          8492.50842272337,
          14250.7345751702,
          115068.793361556,
          9228.46837014603,
          11557.7451697034,
          12185.4893957209,
          6569.14125922931,
          6655.68887573325,
          11025.3283608384,
          7920.0959832161,
          8317.56026255976,
          20493.9240412822,
          5085.66926394502,
          4825.04830732539,
          8142.22536883961,
          125039.376048632,
          5544.03028156279,
          51775.6349089191,
          33417.3307151138,
          23299.7282734623,
          48296.9325529091,
          24225.1495478563,
          78434.8518280086,
          24015.9352338988,
          285379.71999105,
          20052.0971322567,
          38223.2320380937,
          24232.9436380977,
          15022.4707317846,
          22091.8053837123,
          32447.6505742141,
          3186.94980637387,
          75242.8575339087,
          647973.379716564,
          14888.9338550146,
          34571.9280733682,
          13026.7542586959,
          11989.0188871833,
          94693.7072367465,
          13722.6404690054,
          6391.32408944132,
          48165.5482514905,
          87381.7481748025,
          24164.1362555165,
          25577.2157053163,
          18857.0176875064,
          107876.124065734,
          19717.4250355787,
          52441.9929243439,
          45391.9200685092,
          119506.350337858,
          20738.0159852144,
          9453.17001593996,
          34779.8971035763,
          26748.4560276179,
          9457.24519969964,
          16752.4765164532,
          27158.0942106455,
          11548.8950818581,
          27992.4889841879,
          41036.4422452213,
          29186.9451329708,
          7390.92695829117,
          17225.4576034138,
          23895.9365367471,
          28269.1810529713,
          27878.9759659617,
          29065.1477717363,
          55288.9112418815,
          8504.68082227933,
          46337.3862680802,
          29010.4540049869,
          85318.8793322601,
          48471.7933359527,
          12133.1927258185,
          46113.1976236706,
          41761.8784384031,
          24510.19072505,
          24463.2276833406,
          7034.59832001237,
          175221.070454025,
          26116.3799437218,
          22474.9365096034,
          74487.3980469781,
          25843.6097965175,
          24247.6831644486,
          24155.0265220923,
          64895.4017978462,
          48391.1823045215,
          32179.0911352936,
          19432.1743861754,
          13957.1042200591,
          10752.3168005864,
          22028.9245080118,
          58852.828379838,
          43491.5405159519,
          27142.0290335431,
          50146.4456983179,
          14055.9780976579,
          20615.8701506163,
          38564.3696200782,
          6454.34471558736,
          74981.9907518972,
          94090.3419684487,
          5311.45099225706,
          6456.64147473586,
          12032.0000799855,
          23254.4814838925,
          22908.4798977217,
          49976.2994558109,
          32027.6551908221,
          28584.20994226,
          8982.29551140969,
          10992.6648334877,
          60908.7055454749,
          15650.2258949592,
          37891.7407970833,
          36831.7543105352,
          30645.5062116724,
          17069.4836775141,
          13878.8235176959,
          7651.27761991907,
          39694.1714801314,
          17633.1000298369,
          16121.6497245417,
          17728.2999390098,
          50993.4710196528,
          214816.747341977,
          5138.91524231769,
          20359.0596275702,
          14417.6365975201,
          19985.7659279301,
          27665.2933025618,
          84563.4869225544,
          12142.6601824375,
          20206.9204337044,
          4273.2494422668,
          18688.5452256222,
          12516.1403886596,
          44488.3393105097,
          22345.6382987167,
          3686.32817512268,
          11927.9767837029,
          17479.8803211954,
          72285.4268526282,
          7956.46587726942,
          14259.9106989239,
          48918.1968219037,
          25449.0193378509,
          16235.5380688403,
          28276.6250367411,
          67266.8482284011,
          39937.3158808141,
          42302.1689976337,
          41393.198635263,
          53580.6980644104,
          12914.2712942272,
          33775.6411820279,
          2624.59711162926,
          7381.86021381562,
          9207.16405291417,
          8192.13878359659,
          3994.81346344111,
          4650.90828519929,
          3623.75233532832,
          30046.9885358633,
          254404.285375648,
          15464.7006772575,
          17746.3771323972,
          14056.717150704,
          3381.08724628724,
          74216.7079171772,
          11414.7724065373,
          10781.299280741,
          1691.32901939193,
          3180.42521374074,
          3671.86318741636,
          5530.64195369917,
          4528.28256991033,
          6246.23016952016,
          2493.33313291076,
          2870.0413519077,
          4533.32759461601,
          4511.3284130189,
          5519.90659949184,
          66398.2983304752,
          3351.58133232933,
          22581.8609721892,
          4426.10997829659,
          7158.46576221251,
          10355.0869273249,
          2064.22321301884,
          5837.07377527171,
          8239.90342863891,
          2306.16557260561,
          3111.49754153901,
          3380.92921986034,
          3108.48320792289,
          2693.63054341007,
          1284.36647293173,
          3335.11113158987,
          7373.63626616514,
          1669.65544978271,
          6970.21370881682,
          2285.61457398185,
          1600.28632166379,
          2689.17923560843,
          3018.63721257845,
          1938.71720281033,
          978.281349770663,
          2663.56308979665,
          16601.3298086016,
          2799.34173143503,
          3113.30228313859,
          3965.85904353818,
          4184.95182274474,
          1112.94896326514,
          3754.19817789958,
          10497.8658894784,
          4099.36102678328,
          5735.66959969499,
          3158.86708346599,
          7753.52562224784,
          2285.5241492309,
          3415.73998752375,
          6390.486176497,
          12502.2166709472,
          1362.24449369909,
          4080.40321377957,
          9834.00535773647,
          11615.6009052469,
          28945.3053521749,
          1063.74353797534,
          4751.77591150124,
          4264.4007678381,
          2907.42692138271,
          1641.84092311629,
          2351.07554270164,
          1645.96503447454,
          7566.59105598262,
          2703.48536602069,
          1779.5402989519,
          1075.27714025999,
          3166.96791194608,
          1802.81937102369,
          3222.53263033832,
          1688.89797636654,
          2333.88179966788,
          10971.7256885295,
          7204.96916866048,
          5132.48796179157,
          1705.21505604825,
          4494.93944830473,
          2315.5516155347,
          5761.80401958954,
          3515.99158829703,
          7138.84732684691,
          2542.91242961711,
          2500.72890954965,
          1299.18555124062,
          1721.73145325116,
          636.953451791816,
          4397.02628631536,
          4488.01578125432,
          18457.8046701217,
          8126.35518658884,
          3501.22700913135,
          5592.33082198035,
          6910.44014302742,
          3834.12489379358,
          5250.72592847943,
          3210.82842821352,
          2357.0701276485,
          4811.26578987828,
          3439.33438225716,
          4898.03598692989,
          1911.2682998111,
          20828.3494371155,
          5923.78867052468,
          2341.94283422934,
          1519.40630154645,
          3052.80989580423,
          3519.21604560277,
          1143.18512823695,
          1941.14135096639,
          4983.10403885979,
          2648.72729093439,
          2451.87439628442,
          5170.4075144624,
          2068.21510276022,
          1581.43891888656,
          3803.80165837199,
          1610.91493092114,
          1690.31316935853,
          3752.15767013138,
          1154.74935063516,
          8575.13463456479,
          1975.56846228069,
          3188.55837846896,
          2979.79455720881,
          3535.21097015767,
          7202.84775544889,
          1235.89980867137,
          10288.0523328196,
          1385.20856274812,
          1543.48050415257,
          66485.0606080775,
          5088.86197392572,
          12835.526231516,
          1042.9832347782,
          1498.16451206805,
          7307.1235874938,
          7212.85082561648,
          69191.0768821733,
          5313.22006361382,
          10678.293811474,
          18703.6280964357,
          22217.3237721621,
          9331.28045759911,
          21485.9924589612,
          27182.689733401,
          8389.30425673237,
          6033.61202028791,
          32418.0904314252,
          21868.6052968934,
          12952.4092023753,
          14103.0502052998,
          12741.5970243176,
          38189.5535638494,
          27785.8752609491,
          22259.8354365556,
          9933.44082745986,
          67886.9646356939,
          12130.21246781,
          15508.2875779846,
          5018.14450397562,
          53373.8043045369,
          12925.1726601521,
          65679.4404366864,
          48467.1159767769,
          6192.17271291151,
          10599.5226154278,
          4426.7540344322,
          19392.7285373136,
          5056.75013414887,
          7127.98657746479,
          34358.3852795291,
          24059.8843794688,
          13961.5686705794,
          31204.9130854341,
          5441.77578245054,
          25284.2133680373,
          18725.6967782736,
          57752.0645356106,
          12421.121483203,
          8182.98501353675,
          10202.023291209,
          17323.9921521619,
          9363.25118502599,
          16851.5551706191,
          17363.1640824599,
          8912.40979821372,
          15836.676604965,
          20331.0580349668,
          111961.572626426,
          9127.18394531675,
          7422.56528035639,
          11792.9782338238,
          17115.2464138728,
          61304.4173094641,
          11125.021952648,
          89637.9513636234,
          38934.27462724,
          32849.3159548459,
          13160.385783133,
          48021.1033792084,
          28138.641079128,
          10095.4624638879,
          16491.769510864,
          9650.20009272659,
          15171.022056079,
          22533.7766592816,
          7225.89113608711,
          8790.40572778309,
          16265.6398376624,
          9300.19247861942,
          11820.1384404939,
          9401.6194884374,
          14607.2538118843,
          7952.52239986765,
          11764.8558519736,
          13044.8153911197,
          6399.42343574406,
          11050.2745116064,
          23095.9963279986,
          5010.33406106199,
          48239.5774086141,
          10559.4898485825,
          24802.2550707104,
          23541.6565155311,
          11279.4888107915,
          8667.40314597481,
          110877.171022471,
          13477.9595365685,
          49361.1574390171,
          18661.7639230282,
          7785.1272085607,
          14303.410676355,
          14992.0380549879,
          12933.1210540992,
          3656.7240458099,
          40576.2828221899,
          9003.81656897574,
          14100.3132851414,
          8814.69232595835,
          6061.432273159,
          9151.77890856929,
          5346.60953019964,
          8730.64157601871,
          9305.68388512881,
          6092.2691380789,
          14789.5126906938,
          17571.3551139391,
          7879.38149311438,
          12887.6007237244,
          13634.3808119333,
          19331.0663039787,
          27917.693775854,
          12941.596390255,
          7469.9635647399,
          18524.0145002021,
          18884.3512722826,
          12734.7694786097,
          29922.284963023,
          7385.40863471719,
          16205.7741550607,
          11209.7983329354,
          3922.99046858042,
          3696.17645608256,
          16745.3963866413,
          16238.6458240431,
          11713.8244110149,
          62575.004919382,
          17443.6486299509,
          15817.192085514,
          30147.6032403359,
          14387.4294700562,
          14444.7813803812,
          13958.2668180631,
          17946.4568274948,
          22031.0187379033,
          22097.5241106018,
          30819.7249452749,
          12555.7018372196,
          18434.1029802697,
          23589.1597172758,
          63974.9821358253,
          17990.426303983,
          14960.1312229637,
          16356.070797300301,
          13985.0279874991,
          4954.13020333665,
          31859.8490290297,
          10332.1575874363,
          5059.20363714966,
          16486.1081060423,
          9858.67485778967,
          13609.1054134219,
          21562.2146257255,
          15838.5094113373,
          5912.60238226726,
          31576.2005162601,
          4755.73440331591,
          5974.44002084937,
          36781.7404006134,
          45777.9961439512,
          64584.5392067556,
          19774.2036125598,
          26453.8954932923,
          27354.4298625033,
          10438.7531914146,
          13618.0975593423,
          11584.5861343916,
          17265.5945237968,
          34109.6146036597,
          24012.1268889708,
          5877.9929676204,
          26375.4487686089,
          4423.81596007658,
          8204.85154907003,
          10433.7698526265,
          18275.0821543104,
          11461.9722326175,
          8527.48368839684,
          16401.8956489879,
          18281.0990106453,
          102904.798406131,
          6383.56069180937,
          424947.897038018,
          16979.7666182195,
          32613.7289935263,
          9751.15896788148,
          3214.70871866841,
          12979.7562958471,
          5256.51117759524,
          5334.87322450827,
          19378.8003139748,
          11378.3560006201,
          9314.58653433653,
          14486.7405734632,
          10588.2361405263,
          14395.168873709,
          9522.33052492653,
          4193.87770306658,
          5630.19405756885,
          24790.6857996263,
          103446.912073307,
          12877.5335074678,
          4943.36252564789,
          31989.4256349541,
          32430.6774767593,
          21632.6808430086,
          50042.0393148507,
          22396.7145932544,
          44200.7144535395,
          43191.8726687962,
          9425.75360218138,
          23984.6148593349,
          27896.2056607139,
          40499.9302570102,
          6127.4790987034,
          4064.96733031981,
          10827.9413391496,
          5707.06828595894,
          3554.55992886617,
          11071.3951180977,
          31434.0519305249,
          4398.42228367112,
          13531.719717551,
          4373.1476178632,
          7345.87455874799,
          2287.30038862559,
          4704.25586659113,
          2198.84644480378,
          3802.82093493194,
          6580.87401638562,
          8400.88167362553,
          7545.88859600562,
          2723.13489417001,
          37044.846756541,
          2620.15180248815,
          4577.60609277188,
          21370.2743891267,
          2931.03589846621,
          2672.08854758363,
          8036.75798741795,
          4709.05324019118,
          5803.37153358945,
          5782.81625851638,
          3184.12403516799,
          14799.2919043904,
          4811.57756176398,
          4932.82798115963,
          5131.44442484469,
          6345.01837841745,
          3354.38797653511,
          15917.7193218278,
          6951.83240883116,
          8593.22829356453,
          2642.32948386331,
          6780.87587126788,
          5373.65751063561,
          4429.96786644243,
          4214.53458115961,
          4952.17793094519,
          6259.2383963629,
          29637.6865871071,
          3296.70331578029,
          14932.8576113061,
          9502.79268674823,
          3329.40774929229,
          8997.17685215411,
          5060.14225841756,
          4261.89796861185,
          14020.2465240063,
          4572.42627494928,
          23789.8696977451,
          3550.7183836923,
          5127.138697823,
          3448.66408980312,
          4684.0807897948,
          6189.4410049285,
          3464.06716502322,
          3666.44798029823,
          18114.2393211637,
          6686.01585200635,
          7652.07814076545,
          7935.95014593976,
          4236.78767678044,
          3830.35786488492,
          4355.61094243692,
          9352.25152183251,
          5569.3799141381,
          4226.76401787166,
          3729.67604343652,
          8410.59726252858,
          10153.1349768353,
          3245.52432582848,
          30442.6563844093,
          4491.17202992424,
          3249.57246158305,
          1989.96163155781,
          29855.1874786051,
          3822.64319837385,
          3307.39341595353,
          2269.81530229206,
          6841.59665780286,
          6722.40501186115,
          4471.22960994597,
          8980.02035993334,
          5734.07818859807,
          3657.70581503181,
          2409.30199828503,
          6976.3292459175,
          10757.6556413125,
          7312.80333086025,
          7218.10891436641,
          9554.84607472601,
          7915.71033710533,
          5106.49406718515,
          14413.085627532,
          3502.49293259631,
          4118.37488277017,
          3757.49342369648,
          2719.15268939635,
          11824.761991757,
          4610.03225531642,
          32704.614523481,
          4207.31346023902,
          4580.38789963387,
          3847.11126644857,
          1831.00333055283,
          7439.98887705746,
          4110.94505590044,
          5934.28531291128,
          3368.95964170419,
          4154.95002577189,
          3533.22549380815,
          25047.3387531361,
          20563.0517125363,
          6773.62237548247,
          3774.95447111589,
          7398.08795333259,
          3022.32025221064,
          5913.59506468227,
          9316.27918223625,
          29810.7682584844,
          1016.66813959744,
          6127.46577981679,
          8302.75078932628,
          5769.60650596522,
          8653.01268302919,
          3308.57466297474,
          5717.60050766404,
          7850.75707691112,
          5900.41337009821,
          6730.4676990434,
          4012.98198008278,
          7380.30861515954,
          5148.27738314454,
          2760.53238646786,
          24268.3550505868,
          2361.60534582033,
          5211.53080934634,
          3007.81973966483,
          2625.46086855467,
          4283.36007263749,
          11922.5223668446,
          3757.87421547103,
          9047.10081410167,
          88254.3259169028,
          3960.28714696699,
          4833.76553289147,
          3608.69916226533,
          14814.4556427344,
          3194.24709088091,
          30392.9609069891,
          2035.29511097388,
          3691.12929343815,
          35537.4076868818,
          9068.85298963313,
          14196.3930816182,
          20807.4105643308,
          42548.8553379392,
          10614.6504417599,
          1750.26619610696,
          2146.85264138491,
          7995.72733151266,
          6777.62873475147,
          13778.1521028897,
          3503.43820496062,
          3681.64286203145,
          4981.15651861352,
          4578.16493014445,
          3964.11270671209,
          2682.14070604775,
          5401.36281852684,
          4451.81811189974,
          3891.4654729842,
          3660.1067863113,
          4463.76643274236,
          1788.96774321732,
          2608.27404787322,
          4020.05206531537,
          2036.2998636483,
          4937.73418301184,
          5239.44578987372,
          2340.4410808199,
          3025.67104239132,
          3356.02092654189,
          4780.37223740133,
          4712.6865398183,
          4058.22023047259,
          6905.57088681676,
          13277.2026660168,
          4335.10023230716,
          2787.02766010443,
          5266.01450652997,
          3956.54279023405,
          3855.47967318113,
          2166.60312817351,
          1627.18028573753,
          2549.57646585972,
          14293.3885440467,
          11209.1181423765,
          21073.2648409249,
          3274.89563314996,
          3437.49533210096,
          7869.89232970588,
          10736.6098725418,
          8764.23940616759,
          3576.70659847119,
          4862.40011890145,
          2189.76677997481,
          1823.41767131587,
          363743.283607606,
          36340.9543436147,
          13819.5002667306,
          12551.7404312106,
          4381.38358042589,
          2825.80033491132,
          2626.89272795504,
          2787.62689189514,
          3582.04555554694,
          9183.24914884551,
          9932.85123390603,
          48465.6902724828,
          39375.0295787994,
          12497.7952001288,
          8497.31786505014,
          4312.45099376498,
          13063.6076489172,
          34437.0894480591,
          4475.75010074186,
          11132.5765722792,
          56929.2308277981,
          45244.7732425399,
          19786.3889101967,
          7943.15167419332,
          15883.5124516803,
          9267.97792863643,
          5556.40948672908,
          16931.6240153221,
          19166.1525257331,
          4473.30399416743,
          12732.109061054,
          36026.6041573703,
          14900.4014475377,
          15957.3314545302,
          11677.4829746923,
          19600.8049569161,
          41476.7971252264,
          26196.0528796286,
          36419.2375136965,
          26426.2959114128,
          40209.0852949953,
          17247.720463987,
          53630.8374248455,
          14266.2479258779,
          16006.210516559,
          14388.8763250058,
          21365.1627434409,
          14378.273541333,
          13469.0232629974,
          50810.2400284281,
          13342.1390926043,
          7883.28168964262,
          171334.345553748,
          17371.3601391089,
          9910.60043357645,
          11381.1549642863,
          14542.6211282523,
          16811.5376171712,
          43726.8725826811,
          61499.215088741,
          12416.2149293344,
          18023.3145562875,
          6512.19657965736,
          5128.78886383164,
          28186.5014183757,
          14036.6664022949,
          10953.8653877247,
          757474.57481405,
          10982.0524312,
          9476.65163872282,
          4984.97193542555,
          12342.740533031,
          45179.9779681085,
          3779.53927816359,
          6701.35350467048,
          16840.1070627337,
          30009.7056383245,
          3066.7779601174,
          13905.4840162547,
          32820.4602519372,
          11618.1733702962,
          19240.0399170904,
          8239.26102589554,
          12171.8937896093,
          44682.4665532895,
          54502.467826291,
          18116.8701253119,
          8999.84155181063,
          8291.95363117214,
          29875.779808486,
          29025.7383961788,
          8794.13562078819,
          15035.0437489537,
          5373.04467405494,
          22008.0988889661,
          34166.0983969232,
          80680.2675206174,
          15266.3625977286,
          33113.035735112,
          16148.3105269738,
          13293.2440198652,
          5416.59543762514,
          20711.172455794,
          22475.6603102074,
          20773.581922358,
          5560.53923455974,
          12389.0141960536,
          125315.541258639,
          16604.8602805308,
          23015.9504782835,
          31211.8860189679,
          13773.0372910949,
          79900.6939793644,
          65129.8260120335,
          19556.5072212569,
          8011.66524530951,
          23524.6865953756,
          34359.4961630531,
          11325.4845857733,
          21508.3041874636,
          9569.24648574605,
          10368.9277096502,
          27964.8481318991,
          31635.3742328414,
          13052.4873214556,
          44982.3215777947,
          6318.49843004007,
          15956.5385262545,
          9746.31530635232,
          9459.64037367196,
          9515.10914965936,
          20073.810336538,
          20554.8729698348,
          19569.6041584572,
          12552.2542629438,
          42362.5520856433,
          28663.588317746,
          7811.4505327644,
          3713.18256606906,
          6244.4915917623,
          9671.54752469724,
          23836.0726416696,
          22563.0036399638,
          24154.0231476401,
          9077.20815577749,
          27413.5389394029,
          4780.01684393116,
          25242.0118903021,
          12293.5698739389,
          14924.1493434732,
          12187.7432818239,
          8691.52828577272,
          9305.22108435368,
          12000.7482357629,
          7957.28251490995,
          5159.07242883549,
          16158.6128697608,
          46136.5757701282,
          11012.2205122777,
          44600.3907822271,
          13259.349150606,
          19854.7287514337,
          14532.5228612604,
          40253.6040616423,
          12127.033900493,
          14404.1889615914,
          23234.0087867545,
          13650.5035557204,
          33018.1404485028,
          33259.0875067674,
          30047.3052473255,
          5188.68751888318,
          9305.0363742709,
          18020.4008922065,
          5540.450193273,
          69564.7426434849,
          12888.890245813,
          19293.4266785909,
          20010.5108239402,
          7671.3446245251,
          36381.5034943983,
          14723.3765962188,
          43181.8023260184,
          46465.2007793787,
          11146.690683284,
          23108.4161495942,
          5661.08490404418,
          15006.9767188148,
          13844.6424845187,
          9911.72372305432,
          12161.0335747304,
          27657.0669528292,
          48580.7368701042,
          3310.08979382811,
          31935.9930254556,
          6832.80518170875,
          2091.1622092617,
          7865.43277283101,
          3340.51228866746,
          5859.5623591894,
          6676.61128772599,
          4833.35218823869,
          24990.251814426,
          11701.1880428434,
          8172.00582462532,
          7246.52766305344,
          5182.07042305228,
          16869.9330776765,
          2971.01652486214,
          3804.17630602888,
          1625.49498095485,
          6421.56385186573,
          7773.59109280563,
          4307.63907702632,
          1750.90539567861,
          19257.2271737937,
          6787.39531529332,
          21670.9105500853,
          12826.7762512839,
          4103.33870532969,
          6263.00242429984,
          43035.4551960189,
          8034.87204952851,
          4209.6029482465,
          3765.10119023976,
          3656.70357171722,
          12563.8860723428,
          4655.28418481819,
          62449.9726150527,
          3740.91632601269,
          3137.67177568667,
          7693.85489121067,
          15462.9416223018,
          3599.17557244096,
          1717.21222643807,
          4172.05725297834,
          1908.97005274815,
          2948.91164374833,
          1875.15965146976,
          13976.9978027253,
          9575.30868508116,
          5558.11796544264,
          6469.96561054367,
          10543.2928177141,
          9248.18666690675,
          1051.54453450551,
          4249.17833198164,
          3520.15411121518,
          6424.82777989335,
          5110.80748401559,
          3264.70277398934,
          6793.63065710548,
          3380.32400506376,
          2101.80658992942,
          9080.24275080893,
          4716.93106674762,
          21582.1376022699,
          1899.66811204602,
          4230.61281155474,
          10571.875408233,
          2776.85950107156,
          4518.56400575197,
          5778.69848286769,
          1864.83778894843,
          9235.3116993555,
          5521.04276870284,
          5337.34003495474,
          2770.44454843777,
          1758.19046577609,
          6716.90031767613,
          41517.7323555799,
          9917.84036039583,
          2399.22283796777,
          5800.04219528468,
          5654.31305684806,
          7394.87630317654,
          3050.09595369795,
          7751.56374274345,
          14156.9152963907,
          1310.13950015226,
          94265.6284521078,
          234712.384294888,
          16142.7785529947,
          22137.9856229606,
          3014.86367237238,
          2724.21706264291,
          2887.9447746882,
          2137.66434613543,
          3211.36153101304,
          7292.75800205011,
          7128.06743776923,
          6171.76298303164,
          2124.84840933256,
          7769.30709807424,
          3347.46324192386,
          11732.1554096475,
          2725.71391080718,
          2045.52545585132,
          4449.68297687303,
          8905.69291082132,
          6783.42537917701,
          2261.35938115651,
          10202.5795067175,
          5772.28041070941,
          4118.38100632142,
          6188.64254170838,
          7067.87032606573,
          3357.73259152611,
          2268.86532223245,
          1845.58236601124,
          3099.61654651172,
          4080.25808519513,
          2986.52906933075,
          2553.84410755111,
          2801.08367880238,
          14751.0770712868,
          8878.7246572928,
          1282.64134672658,
          14997.3227258275,
          2365.12172524417,
          2253.97896799276,
          1712.74628810348,
          2327.35903758346,
          36851.6503411592,
          3067.64575553059,
          28115.5550296548,
          7393.55486882189,
          1494.70772218795,
          16460.7864499885,
          6826.88342232935,
          8118.56783006025,
          4716.56147614203,
          4191.55537422212,
          7242.42937621412,
          2739.3841816246,
          4220.34025292038,
          2504.24393789741,
          4160.25837119037,
          8363.56258583768,
          4331.50498795467,
          5351.1017730337,
          3078.30296823509,
          4363.10696303335,
          3689.57944293614,
          1611.65202424112,
          9360.13191788801,
          6779.68158260617,
          6446.98140457368,
          3946.45024335914,
          6735.08776883068,
          974.429282423464,
          23518.9813495586,
          2347.06082123941,
          7014.87399890961,
          9918.808528458,
          3076.13779714943,
          3335.08169801829,
          7430.81759553833,
          685.016849506813,
          2043.66485567388,
          6904.74886107689,
          4114.3862447401,
          17523.4171826285,
          14409.1241695388,
          9627.28441100704,
          4787.03671173605,
          2000.95096669733,
          12672.3999255068,
          12805.2186346496,
          1526.72881694024,
          6112.10459272371,
          13218.4263749781,
          7459.54905674731,
          12899.641452817,
          15311.8512513317,
          1437.35837785391,
          3648.64755922858,
          15525.5527846747,
          2689.49417630481,
          6504.58872013701,
          16681.1799387919,
          3470.11707831115,
          7677.01327393688,
          9158.85377038578,
          4425.09318618327,
          47831.5815266106,
          8089.48349808279,
          4520.92558623375,
          2590.41051151077,
          4222.45786513439,
          4159.76352676555,
          1831.36294947708,
          3570.68851828074,
          6706.43939477219,
          9922.93743390918,
          4173.70577407228,
          3243.09018829071,
          8045.76229943355,
          4249.76859186863,
          13598.2017831551,
          3368.2647017397,
          22802.435034582,
          7762.3823021984,
          2466.00364158748,
          12386.7186189549,
          5312.2263097854,
          4144.46136022774,
          29083.1261036208,
          2549.01668880167,
          3851.06241392472,
          4115.12586391821,
          109119.223852476,
          4435.98998797722,
          2903.46723585398,
          1698.8931870477,
          5194.07291856855,
          3360.30317231395,
          16153.6932125058,
          3201.88382096211,
          13074.6692975416,
          3987.81356079256,
          16400.9067075468,
          2900.68028675421,
          8773.09276806053,
          1082.98729758981,
          12804.5333978175,
          4612.60531729596,
          13621.51802843,
          4811.95032223389,
          5387.93732462938,
          4772.89465708918,
          1802.15946705528,
          4370.33482804815,
          5409.13068703385,
          2661.1662417855,
          4612.07443349015,
          8164.40127505525,
          2281.11149510955,
          2005.14191800505,
          15943.3866236663,
          8817.33594212549,
          1376.42519472737,
          7877.45794712117,
          19502.6847263573,
          10089.7210536311,
          1799.14741200588,
          4159.73651363601,
          8120.37254709622,
          12947.9453874411,
          14871.339087475,
          12276.6424835872,
          12845.9486849044,
          7793.86902574937,
          10988.3340531684,
          4891.8374389442,
          184050.811963066,
          5165.17679358657,
          11114.5730929319,
          3362.61274188107,
          7109.10220933207,
          7150.88790615135,
          3418.12971280885,
          5426.07063962865,
          18322.7539842171,
          2372.71358404828,
          5414.0446225027,
          2519.51677043143,
          8573.47429650701,
          2554.91410927875,
          2779.56753845279,
          29641.1085557408,
          7967.39913800614,
          6584.90540182801,
          14686.8353785274,
          3892.23306293509,
          9636.5820210935,
          5156.33714588136,
          4005.22280764344,
          1849.26097696277,
          4157.05720343982,
          10591.7883715252,
          3206.3086351813,
          2834.02470013923,
          16594.0215963808,
          7245.07095349474,
          9312.83616504132,
          5508.42676235017,
          7468.53651389385,
          4255.16643623629,
          2371.05025194534,
          4709.22924112303,
          2204.76221599291,
          1845.9267952999,
          872.027947766335,
          1247.47878559203,
          34423.0733928183,
          8732.09472172379,
          2345.53918750792,
          5244.35058582955,
          21152.9469837029,
          8822.98694712238,
          9486.30724096616,
          7996.96007442543,
          5660.54144130252,
          3933.22652247535,
          5662.89642021026,
          13299.4285364658,
          11556.1245923024,
          2905.38577392104,
          2930.36850521706,
          16178.9610689086,
          2807.05502580069,
          12189.6235305054,
          9024.3634155971,
          24134.5355611585,
          1329.53729558177,
          9417.82366627176,
          4870.49741097085,
          2108.85863637075,
          3280.68343026595,
          3929.34475237337,
          1206.75131277228,
          6290.78708248356,
          15938.5473790369,
          2999.54889567208,
          9633.67363231861,
          6328.50963636005,
          3848.94615408593,
          3537.65402668312,
          2916.95130045677,
          5374.24422584483,
          4425.16764698457,
          5698.05496425957,
          1825.71746531161,
          69291.5843548023,
          3070.16579602615,
          2445.77303306991,
          18328.8573778243,
          2622.33261290753,
          1644.41183646215,
          2264.14240585864,
          2562.52014740222,
          2617.06530450623,
          3604.73281998464,
          5752.43474937627,
          4941.44645783383,
          3736.94249714549,
          4729.38909962402,
          11569.6934215224,
          3898.89860284873,
          2377.93548232461,
          1594.9150695664,
          2124.47765210795,
          2713.76078021512,
          3222.67851128999,
          5125.00449402205,
          8317.37433113366,
          2143.44769242897,
          34017.4849960376,
          8590.81591090845,
          7866.3085848408,
          2204.74425810543,
          2013.94299461843,
          5093.14847114283,
          4676.74324776178,
          2532.41931899238,
          6661.9615239976,
          17804.8420659945,
          7774.03901866315,
          2624.28229558784,
          30561.7759820451,
          9048.06552130257,
          7673.0869039601,
          9251.70454032057,
          10342.4124256498,
          9325.0550891928,
          2641.49970400372,
          7093.37060052581,
          7746.79243758635,
          7458.23559160882,
          975.205740744356,
          4192.77551376952,
          1182.29963894526,
          35120.9245078442,
          15137.5216249465,
          14290.2186194046,
          11383.6289381164,
          22040.3502302234,
          29124.8794980999,
          9208.38232743703,
          20567.3860156807,
          13350.2955513563,
          13062.647343746,
          6231.75519254454,
          13892.4467304473,
          51516.522797108,
          25225.7401491763,
          7221.38251645294,
          24191.9108942438,
          7839.90311777237,
          13618.3718013853,
          28946.7566081379,
          9496.44278489296,
          26367.2585171824,
          27894.5177559018,
          28210.1385938212,
          28831.1148242962,
          21027.0580138658,
          6995.34559973702,
          4689.18733455243,
          29714.2451765025,
          8472.67880639502,
          41444.7965219661,
          78994.7124727401,
          19000.743759018,
          9597.82675357368,
          23241.5147533726,
          8569.64499733088,
          3906.43058829538,
          63692.6625314732,
          8388.436071445,
          4770.36814878493,
          15078.9717357997,
          15411.7174851454,
          12694.7737991041,
          10099.2096713914,
          40021.5295900714,
          104013.397100415,
          12367.1298930944,
          19557.3662865116,
          6754.41525099713,
          8001.59003881444,
          13110.3695709819,
          16595.4815800728,
          11843.6949019862,
          6528.40534872554,
          13481.8159990148,
          10091.9916661819,
          20560.1190479968,
          13396.5017722908,
          33891.7918024896,
          25841.8895147235,
          13450.309825863,
          669.816073612503,
          5803.21758626768,
          16188.7117504427,
          18924.0498564846,
          11278.7578509953,
          17835.4000891119,
          56438.0264128079,
          19717.5161723078,
          44962.3769282204,
          4950.59477385275,
          35622.5802057885,
          14119.4345445421,
          19530.207976595,
          5220.86500144369,
          52950.6014892804,
          8051.79025753287,
          16274.6022941489,
          2893.71964500915,
          47298.958556169,
          22076.2824406222,
          2058.40542105276,
          20407.2501850287,
          12185.0387091215,
          23618.7980516594,
          7967.11804583136,
          12947.4506531183,
          9720.55868000345,
          278559.882932605,
          8705.92219359123,
          12063.6762076994,
          6628.64716134011,
          22205.5048335847,
          9455.73057384493,
          8209.06584910663,
          9803.7476134876,
          8904.3059734537,
          11185.5667753653,
          14243.5731987074,
          8392.19602084832,
          10577.2919320024,
          13897.3264026705,
          18736.85252031,
          28259.1640812823,
          13237.8873944818,
          10283.1761696308,
          16789.9087294485,
          9251.15467389457,
          9562.24840177719,
          28887.4032582362,
          11428.9765478173,
          128061.30942389,
          17302.3972158864,
          9346.11452135212,
          44505.2468544398,
          28401.7338240714,
          5502.23178258329,
          17364.8648340826,
          9333.81248872862,
          14581.3135265287,
          22138.7307315595,
          33055.7048379342,
          94730.6057335928,
          15297.0213769413,
          34571.6932223303,
          16995.228839663,
          120247.486211611,
          8020.6596771217,
          14127.5361056885,
          8742.20339974435,
          16603.0670002952,
          4958.43796922445,
          456869.897192416,
          12762.3688035024,
          21989.4776189699,
          14617.6611672534,
          7916.95006999165,
          7842.52522072511,
          27011.7159945629,
          10779.7988069668,
          13923.3038138077,
          10953.3177007744,
          8128.3413084186,
          35651.2166080789,
          11213.5095281678,
          29628.4238630867,
          10661.8561365027,
          6941.63990788221,
          10300.8886626474,
          36111.8219743945,
          19539.575304316,
          16777.1129532648,
          11115.3372302864,
          12631.0244149218,
          22316.1306345739,
          16032.2513979897,
          54840.1341358075,
          11618.0475453918,
          36289.7865254416,
          14095.5143786255,
          20681.4873417834,
          26294.21771031,
          8169.67131688782,
          4417.72999989513,
          27114.9398207264,
          12969.1818688788,
          7953.66807978823,
          18145.9122958837,
          15416.1005095322,
          16709.0256980188,
          5072.80883601605,
          6017.00832685567,
          28308.2142487451,
          17771.9254955009,
          7848.61397282963,
          16922.0839115682,
          10435.8693136421,
          20047.943494511,
          3662.7744337184,
          9702.78474824923,
          6777.20089783754,
          7434.77261997325,
          12251.9622633727,
          18542.7567818976,
          60288.858247927,
          8103.96211893685,
          14721.5913277667,
          12805.7142284423,
          128001.047060643,
          31450.1511476897,
          9675.99705569987,
          4630.49962966922,
          12492.6187895747,
          3934.73729499965,
          6151.81505516675,
          13864.1002451154,
          6766.99134464955,
          9096.2646646267,
          13952.2110349484,
          4011.55825890464,
          35590.0456412181,
          7109.09142351019,
          15575.5557528018,
          10770.3178103433,
          6735.62210087569,
          5252.19300735229,
          9529.56038547849,
          12164.8069584289,
          3110.23654146263,
          32674.0855200014,
          19639.8404074272,
          22123.0191206183,
          9493.88125418037,
          15777.7003503796,
          18523.5883992478,
          3403.56475325573,
          8114.88842164954,
          31187.5384623089,
          9109.23943936996,
          21402.0129121436,
          19170.9401545689,
          14974.8428784573,
          4269.56156674513,
          5128.3326233573,
          6161.51316024947,
          4406.77723130956,
          9199.44326793781,
          18402.4725796036,
          3339.60243507071,
          19631.5713650066,
          14497.9267096272,
          23541.313484635,
          407487.780028685,
          15554.8896930932,
          20548.8666562569,
          8760.62257742048,
          26910.327709972,
          7750.00575720148,
          2908.17398429058,
          21255.7993334037,
          17994.9719958664,
          9473.26257375629,
          4516.27488379892,
          5972.21217267648,
          15619.9560238487,
          9235.77303583853,
          14447.8286455057,
          6568.47074731845,
          4225.78225610261,
          9231.08714352656,
          9471.71544463885,
          3576.72894374757,
          44393.4903274947,
          17524.8224957627,
          7971.71683135261,
          8197.29685121654,
          11647.0154263436,
          5190.41600445344,
          35080.4915455917,
          11629.4676939136,
          20863.2380164883,
          2396.15551746277,
          14600.8654932548,
          12471.489988888,
          17665.7009668653,
          7185.24729868473,
          14314.6531907627,
          8328.18325936737,
          36961.4776476103,
          5205.03551219281,
          4701.65120029562,
          33163.6272209913,
          9093.04437079495,
          4596.22101304637,
          13202.8134442749,
          25660.7994574494,
          26646.331154752,
          26208.1818557636,
          4985.38513053634,
          28846.9839036207,
          6342.45004460613,
          11336.4263339039,
          5008.84130184266,
          16618.5442917005,
          25793.4417628542,
          22435.3405791442,
          31665.6994861793,
          16869.5790527693,
          1322.41681750953,
          13229.7485465573,
          127840.537100773,
          8739.10577141987,
          11614.1706643364,
          11833.1908287418,
          19066.5476060019,
          6281.78366310528,
          10646.9464375616,
          3221.53846096337,
          15921.3944060844,
          21636.6719639378,
          14247.6200607738,
          4993.53662418642,
          2789.41601247009,
          13363.1171615016,
          2475.7449688766,
          2430.24244653023,
          37466.2327330817,
          3693.74859931537,
          8766.30265249748,
          8889.72827929253,
          1336.03428354694,
          3992.10221427199,
          6023.19758889951,
          12582.7396679237,
          41306.9826208974,
          26603.3248051492,
          2912.24142191247,
          21468.0054698665,
          10492.3322581709,
          9937.51331461756,
          61739.0616605274,
          14801.0917671291,
          4198.79840656002,
          2171.08467639789,
          8782.27314641869,
          8322.30926149936,
          7403.50083955068,
          9777.29230768614,
          4784.44577566929,
          11471.9723357188,
          4966.43155662965,
          19997.2169740488,
          16578.8470538804,
          3996.21899932014,
          63491.5978414649,
          11624.5683509617,
          1990.68796772301,
          7561.27707780443,
          4179.03218729383,
          5849.24218825584,
          23524.7655117279,
          14336.4081643857,
          18387.4747055026,
          11558.0321407298,
          16402.4266027459,
          4794.16418849419,
          8631.35313387073,
          4413.15779589202,
          14928.6935356677,
          11508.1128489714,
          4730.72716271496,
          2425.96079092188,
          7618.92376271573,
          39170.1179594431,
          7120.26270480438,
          2094.9364803854,
          2556.50600598255,
          25228.7683626967,
          5592.89292182527,
          1568.85024055197,
          27757.935405419,
          10924.7556222448,
          19169.71637706,
          5559.54608249067,
          12274.8161080671,
          11393.5802276231,
          11774.9440491892,
          12766.9723070398,
          9021.61274650643,
          2679.40484962917,
          58285.1823033854,
          14245.6457608167,
          3014.31518152388,
          21524.3603172413,
          16107.5008261037,
          12145.7125897125,
          21881.4624078866,
          10701.5236526608,
          9314.91468903197,
          11289.0533437222,
          7836.16971041756,
          10018.4039936301,
          9453.65286573534,
          8336.00769949487,
          14312.3688724215,
          5256.5188257215,
          12241.6797373559,
          9104.8457311589,
          39962.9122734118,
          7510.72448458986,
          8051.67091033199,
          6073.61683732809,
          8602.96863393318,
          11316.873124463,
          15599.3263908133,
          8171.8081133078,
          38448.3747627748,
          13722.5510381297,
          24006.2667594292,
          10440.8246461995,
          3825.01543846627,
          60603.6089563527,
          10529.6698572395,
          9675.19980540425,
          3094.81288225491,
          12368.8572835157,
          14771.2719098445,
          11949.4048678597,
          10415.9281837641,
          14171.7908195215,
          41030.9372377539,
          8971.66970816736,
          11043.8314950849,
          12086.2991256527,
          17849.9434633861,
          8353.89994535648,
          9404.57495360754,
          9704.87836672397,
          8292.70282700314,
          30480.6435876695,
          10235.5213997906,
          16561.3364854508,
          6607.1365121497,
          15136.2636804745,
          17981.752683564,
          15105.7483778917,
          8109.54708186476,
          12679.3734916031,
          31436.6861189943,
          13128.3778942434,
          9344.98303410378,
          9307.13300570567,
          17513.2544259366,
          93408.8301267092,
          24549.5542981766,
          26697.1364278706,
          51756.9321606491,
          6743.49799210609,
          18782.0829435271,
          19203.8397433899,
          7205.32748860897,
          28487.5547951487,
          10057.1387705466,
          21547.5481595142,
          26105.3416086417,
          11585.1826721885,
          6737.70543537102,
          16383.5836309991,
          8791.24535071317,
          13372.3990857978,
          6892.09343380364,
          22637.4770270766,
          44579.7307410454,
          15345.6178820968,
          2157.47180746267,
          20248.6638359508,
          6774.95234733527,
          12889.8271154942,
          7927.57190067654,
          19576.2947688965,
          11266.6439359773,
          8784.75981634813,
          14593.8496190055,
          13138.8706549229,
          13757.6528115598,
          39870.6310512638,
          19603.9289027695,
          18747.6452354876,
          12873.7827006936,
          3833.28878401722,
          18428.4631448789,
          6762.60143223629,
          10754.7360868249,
          12624.654171406,
          23238.9617125051,
          10846.4702418937,
          2748.18891075528,
          16526.6638552813,
          10438.9262054268,
          30332.6476289586,
          23117.8807601278,
          9173.07350647331,
          28296.2388605107,
          10013.7293663939,
          2935.2902407175,
          6107.0545111521,
          17692.7135000568,
          27496.9777993985,
          24430.4366487987,
          42647.2613092034,
          48884.5197796901,
          11899.1312895069,
          4915.47719777903,
          236320.610859035,
          12293.008438165,
          2835.13356097371,
          5535.94409929283,
          16990.8883542959,
          17684.0117318066,
          3269.72136878843,
          8467.69041718545,
          11889.1239655132,
          5241.9424189493,
          15226.2298210578,
          9085.23400318555,
          37682.9907877474,
          14498.9092008802,
          10140.6359760721,
          17314.6349892013,
          7419.67548853052,
          10952.7678958786,
          11298.2731389871,
          8917.71305568213,
          13603.8246037169,
          11734.9398195167,
          3755.12950127956,
          16198.3789259511,
          4553.26048332219,
          9294.29769379167,
          12170.8480898573,
          12950.5039961154,
          15750.8245400136,
          3626.41182163644,
          11153.6355172065,
          10690.6295253147,
          16593.0952511755,
          78808.0522487888,
          26656.4236998239,
          13436.3341320038,
          19358.0244423275,
          40185.1998702743,
          6644.96017748621,
          5517.05617954276,
          9963.85249737663,
          18304.4555446812,
          22602.9701918278,
          31223.9223728765,
          19116.3294467224,
          31967.0387799496,
          61854.6422650091,
          17357.854135949,
          11781.3815778018,
          7543.09682882295,
          8074.54052231752,
          3304.99322521555,
          10894.6024892651,
          3878.57061319336,
          10905.7023334115,
          31250.3071445865,
          5342.29277202147,
          10850.9252593843,
          5781.73165277188,
          10036.9294190194,
          11397.9758797868,
          6005.11190910586,
          7016.79679402202,
          18876.6917895915,
          27993.9679963917,
          5358.76970661199,
          4935.5009437302,
          8849.04335442191,
          10608.9799242142,
          7701.75993399637,
          29774.119359392,
          8486.25012578921,
          14901.7651547881,
          17090.0706829305,
          8846.63522073966,
          6403.80555834119,
          11017.1067206258,
          39006.3151051943,
          33359.8800831354,
          15122.1795444547,
          13944.695966951,
          8470.41811194286,
          54683.5165716355,
          25857.1580835453,
          10964.5600355265,
          8614.18220505574,
          15156.7486629126,
          90660.7294300179,
          7423.07419412527,
          11943.1461204867,
          3605.74915043673,
          5950.6993418338,
          2579.43449541891,
          12723.1681654898,
          16935.3963902124,
          2328.73961166492,
          3232.08818984728,
          6468.60096097651,
          8301.06379641329,
          20208.8159510195,
          45189.2745592201,
          6121.90731758288,
          9628.09912907713,
          29992.170040079,
          29132.18816314,
          7822.00900500421,
          7026.79968221738,
          35475.3495579994,
          6917.97457105071,
          3807.53880253459,
          5208.41861075039,
          4396.81680444495,
          12242.7493867013,
          13014.7485076002,
          6575.4637844512,
          11604.2585050839,
          10698.2957598394,
          18082.1483073733,
          27314.8213178067,
          16514.8345099051,
          7831.69738625022,
          9304.36223054741,
          21426.1258739265,
          9157.05678659974,
          12311.7554292303,
          18036.5160082614,
          6547.76968806865,
          12887.4812526098,
          9156.17680475706,
          46556.1929244424,
          6198.58444290435,
          26569.2502915035,
          9832.84100899281,
          6464.85016312947,
          21596.9425172037,
          11144.2502748331,
          17723.1647440955,
          5304.04690444643,
          9047.97717762887,
          17475.1332917853,
          14478.9819673491,
          14090.2199968344,
          9655.22671621021,
          10241.0111540913,
          11821.0670753068,
          3364.78043343599,
          5046.33748888393,
          5823.98302914763,
          6397.94427012907,
          18481.9292626927,
          25895.1159428669,
          8502.53582460481,
          9273.94811891767,
          16470.3910125903,
          17257.9729890076,
          6125.81592638814,
          13128.0753902882,
          17493.7150666859,
          4975.85218991881,
          14931.7846872314,
          24896.185796262,
          22622.4478266345,
          6150.16778440334,
          38056.8456054066,
          10687.6758151707,
          6107.08878903096,
          15053.8807720891,
          14005.8760083428,
          28259.8996627486,
          13091.2326549269,
          14929.4061131504,
          6523.93291277682,
          7966.70073942664,
          10116.5552485657,
          14271.0242061919,
          7592.42890915871,
          19010.3499076087,
          24929.8103295345,
          11580.8972705884,
          11402.7668405599,
          63300.5850445571,
          4981.22662160631,
          19367.3304398227,
          8895.79876653405,
          11016.2726151151,
          18010.075205827,
          16734.8815646617,
          22092.7660983391,
          6935.80834387797,
          17996.8354956796,
          24648.8501220658,
          8182.58301645261,
          17278.1986751898,
          16209.9801850572,
          24917.0677960155,
          11999.2905134762,
          31665.2753031439,
          6236.24150142806,
          8608.44969224555,
          11371.3949789291,
          8845.69457556317,
          28968.5466193875,
          3383.16980051298,
          17177.4901618481,
          8115.62089996039,
          559293.386332277,
          14286.6016059087,
          11386.294040366,
          15559.2860527135,
          3195.68711314525,
          4830.94623109461,
          20950.2994963526,
          9648.8154538376,
          28353.4925751868,
          18394.0416780199,
          7208.78049283287,
          18713.828923905,
          7472.21703575383,
          28362.82595224,
          35053.6933109136,
          36498.2753746268,
          19386.6651552076,
          4391.95571376272,
          7850.63042571583,
          8260.93320501405,
          16121.9565326367,
          14821.5243972103,
          12856.6332093961,
          22540.5644842988,
          3145.37916952953,
          6968.07712579724,
          8605.43182563252,
          21526.9933715227,
          12799.9224171917,
          14801.0011082845,
          5690.71608131114,
          8207.0433567615,
          30824.1768675148,
          8212.46790780273,
          33804.4313617394,
          27097.3999235369,
          27023.0060265666,
          15207.8420283807,
          12308.7048453087,
          43419.6100659314,
          8299.60551097552,
          49265.8149814004,
          9648.91478940822,
          9042.70781875305,
          8636.2134109492,
          12826.7852226161,
          8730.54309609333,
          15610.8316521751,
          12881.371946466,
          4651.77907686233,
          13364.7564518562,
          13034.0288472499,
          50703.6100850897,
          5178.71754521704,
          15998.3586819256,
          11857.5044961011,
          6524.05547927314,
          14915.5475566233,
          35287.1145308081,
          18798.2881748641,
          13803.0308416303,
          10663.9598713253,
          15144.8914533973,
          9029.70563495321,
          14569.3773767687,
          17757.0925045512,
          12046.0648542631,
          10780.3091442923,
          13615.3373526391,
          48470.4702835307,
          12424.409380184,
          10444.5781601053,
          5118.29550982345,
          9724.22888848916,
          7216.29369915997,
          22627.1499559866,
          4435.50183970207,
          132878.515419675,
          6314.81614505864,
          9580.56789520952,
          17204.3115410916,
          31769.7404406299,
          2975.93542576364,
          5849.44137221873,
          7565.13915999059,
          1707.83905718587,
          7585.39702052644,
          10850.1631385962,
          653.625638881843,
          1523.99701033289,
          9411.22770598737,
          8412.43508956325,
          8102.1199885011,
          3626.16172976863,
          1430.67468460022,
          1194.89839491583,
          7659.88306691072,
          11917.8437955334,
          2491.04673634565,
          17238.508864653,
          3063.25730236604,
          4919.07804013081,
          4960.91796313161,
          2119.15553375562,
          8003.85760232617,
          2613.14754519391,
          5876.60763361421,
          2848.66342477431,
          3157.53153450792,
          10249.1223623208,
          6815.63886720437,
          3566.65968954622,
          5528.25568614235,
          3908.5551922486,
          5808.36659180816,
          682.536549508109,
          770.462080716037,
          657.775113683411,
          21350.7041756859,
          19751.2603744955,
          403.444357913609,
          6278.30638445595,
          721.529055510145,
          778.500249112585,
          1761.92379229061,
          8889.80335285924,
          2136.62018308998,
          4064.77837562654,
          3195.55746837794,
          1030.57632287786,
          3709.15304365451,
          11063.5390776229,
          4397.5857180757,
          9136.31652908291,
          3483.39742494379,
          6709.78559378592,
          3535.00088819725,
          4923.03213186003,
          3138.65636890631,
          989.683262311903,
          5839.80163481731,
          2126.17340521858,
          23452.2059631623,
          3924.94430709082,
          3013.08195139666,
          2363.63759156145,
          1777.98789535901,
          194679.744327865,
          8199.54106871683,
          4547.02869709178,
          8824.01399905431,
          2930.54378416872,
          3231.63545369655,
          63623.9996922489,
          2131.8334361227,
          2164.80975761131,
          1631.56657804696,
          9878.8857548681,
          2938.84852721318,
          18290.5698113262,
          7032.23641257412,
          1765.41698636107,
          1391.55545221426,
          2711.66491141973,
          8076.98338151519,
          5497.08680891409,
          4617.40833948313,
          4091.89632337648,
          2398.19929727674,
          8489.59165920495,
          4616.08077451994,
          4212.76348216783,
          4832.27966225172,
          7362.89899521652,
          18539.342776215,
          2822.27347027803,
          3634.5597794126,
          5782.56524515943,
          10703.9415225939,
          5553.96741142688,
          5970.99077673247,
          2884.85875201879,
          13312.5833423593,
          15909.1785584913,
          3769.19159818966,
          6090.98556470912,
          385.313161826959,
          4018.84559905424,
          351.876092497241,
          3000.38257820626,
          10649.4722171917,
          2795.61207389473,
          2021.70365157069,
          6525.73784342209,
          1706.326787719,
          7691.81178254731,
          4754.82188558969,
          4201.52447794178,
          1746.29335197474,
          5111.17121504249,
          9544.48571178457,
          5893.86537495316,
          2875.61161873517,
          8527.02364905227,
          2798.52199726843,
          2695.71246153093,
          3225.25661572565,
          11959.3345750288,
          3025.47653515882,
          2436.37814866046,
          1686.29922860789,
          5803.46449168115,
          2956.7622841422,
          3411.22569515964,
          3068.17000634823,
          17689.7984166911,
          2003.66195931365,
          3587.25085105925,
          2955.47728432298,
          2332.97193680343,
          8957.34934927831,
          2030.28728618441,
          5432.26112290497,
          17072.6108021975,
          2125.9947526245,
          7248.93696145818,
          9347.08264670142,
          26328.0458230493,
          3690.73801771346,
          1799.68267083406,
          8593.38388410496,
          1222.3406549457,
          4437.34435810231,
          2910.58171041363,
          4996.27860430637,
          4124.27505276274,
          7353.88292840403,
          6296.96284982088,
          6095.1471681477,
          3387.09582956473,
          1658.07316085239,
          859.0995540949,
          2574.43848679694,
          1229.46094364483,
          1477.86068189579,
          4518.91477593622,
          1905.62485424478,
          10971.77106117,
          1266.90373022094,
          2415.69016716803,
          5159.22098953427,
          3622.51135634075,
          4047.01510988436,
          596.746003710469,
          2492.47427557574,
          5228.98050046968,
          998.153383004974,
          3213.70997629843,
          11749.9200762805,
          8138.95994292407,
          1030.58977713153,
          4532.52927575493,
          2346.0865279734,
          4563.54370123827,
          5753.28736705455,
          2899.45556169925,
          6453.84335752934,
          1575.2879025835,
          6277.96305013899,
          4354.89647909229,
          1126.64472283884,
          5823.29893646665,
          2959.24853017248,
          10921.5411713177,
          1966.50502340081,
          4041.17321969545,
          2549.13517225212,
          5890.39059176656,
          1895.63101407443,
          3385.26165053617,
          8710.26207523253,
          3234.15961749235,
          1318.44107694432,
          17471.5181812698,
          7849.96813553462,
          920.814281742627,
          69434.7932231852,
          3550.94053760377,
          19882.5813030143,
          5141.96704557789,
          972.517638649376,
          8872.798576745,
          7047.94308367119,
          9502.54882118734,
          19624.4852186971,
          5457.17024044941,
          1182.08635035482,
          1599.45738147307,
          1596.56532103301,
          1773.51765320025,
          2762.28495765131,
          1356.58459011832,
          1404.55698420162,
          3750.41092101825,
          3684.08968529426,
          4036.03215897638,
          1833.05418621991,
          4952.98170744447,
          2273.41984757026,
          1145.58016176045,
          4086.92611721891,
          1654.70519468013,
          4389.73083024884,
          23055.8691930374,
          2608.42455957293,
          4353.44908820822,
          1889.71646023641,
          1683.70632094656,
          1322.39329098045,
          3982.26959220859,
          1865.08636201632,
          17151.0585930454,
          2901.80246393171,
          3107.76310207877,
          1453.76705838017,
          10531.566823359,
          1961.10160831239,
          3901.67649502797,
          22188.8054562871,
          3569.38410859305,
          2017.71396274483,
          6311.46865993985,
          2287.68908636237,
          1459.82684782283,
          2523.34302549392,
          2227.03719071894,
          1368.37747290414,
          2198.72885616349,
          2064.83166680989,
          3788.68326521337,
          2658.81829433957,
          3027.86471124889,
          469.17238955656,
          700.224705850457,
          5256.04424093869,
          7744.53812710751,
          4422.27932963285,
          4325.869718848,
          2619.37034524239,
          5098.64660560172,
          9975.86088673709,
          30796.9128393414,
          10848.2113630007,
          23215.8431409898,
          2253.77906274983,
          5560.14606568333,
          1013.84503798877,
          1531.0977868475,
          2629.81309387011,
          3791.6059444792,
          620.426059962905,
          6100.63328260282,
          899.348596369606,
          1312.68994242807,
          3958.2431533375,
          1960.18757281329,
          3788.71949690852,
          8277.46456849475,
          1536.56922525512,
          8525.46199602062,
          6870.18601456284,
          2025.43172836627,
          9948.37558441562,
          5915.18006161753,
          1128.00816416278,
          1364.95517523396,
          7837.12951651358,
          3518.0588509302,
          15133.9997621128,
          3877.71087281891,
          3726.50750787236,
          3878.51620047622,
          2878.95926662867,
          2816.71281910664,
          2790.22354735653,
          4978.41949844139,
          11704.6392875446,
          1840.91772696104,
          2811.74247286068,
          4208.42261828442,
          2194.50943193289,
          1102.21126726175,
          1051.02882555424,
          2455.88615539347,
          3789.38065490194,
          4420.87281168531,
          47420.3443796794,
          10936.7528423267,
          461.592212955596,
          12692.2301209793,
          5380.03822981957,
          7088.71777040336,
          2692.24280560484,
          3645.59439338556,
          3061.49164718044,
          1036.97587191016,
          3262.55450880411,
          7817.41923875904,
          2643.82314348041,
          2246.66831022235,
          4825.17470883427,
          3526.81919960952,
          1889.08772345663,
          4831.21923697088,
          2224.43544115834,
          5318.64815655135,
          5827.96073230901,
          4394.91003484887,
          4031.71035166958,
          30170.9320560896,
          1352.9141511419,
          698.305624849006,
          8385.66232008126,
          11045.5311243173,
          2938.69339746525,
          1871.99569324884,
          1456.34811340665,
          3211.54395839008,
          4934.79901634239,
          2916.76048385766,
          5854.6070291404,
          2881.25340357935,
          1202.85933556388,
          14795.3978278696,
          2729.07499620861,
          3409.2533465992,
          5665.26703544954,
          7057.96533163822,
          27198.6483065092,
          671.777038284294,
          4260.11957705195,
          2176.96522425907,
          22257.5156907926,
          4985.38960409553,
          6433.37830645145,
          4156.89938785298,
          11204.4187818353,
          3615.22694966171,
          8845.73552605877,
          11529.6243634511,
          18259.2970203643,
          1400.91738121837,
          13012.773959983,
          1498.18690309138,
          3520.72066554033,
          5178.23562053288,
          2629.54971447173,
          4793.8612894721,
          12683.1829343349,
          4675.50341993827,
          6083.13311763264,
          3714.88596064791,
          3993.40745075442,
          1648.15537021119,
          7627.1191006985,
          4309.10968151021,
          9927.13339549983,
          3031.81954830776,
          15783.0932961512,
          2149.32275016647,
          6275.46544573559,
          1773.8279064443,
          10056.9613262599,
          6352.50517765562,
          3204.78947898382,
          4778.24866195,
          769.459991011429,
          22033.7300226199,
          3195.43439393433,
          38091.3492476578,
          43549.1603466043,
          1316.56304433673,
          5942.95933258716,
          3033.17727427944,
          5274.47701786472,
          7642.3130756288,
          5658.76625068826,
          3715.28168182953,
          14853.1884783007,
          1755.07716010726,
          8568.72213311902,
          4007.90458019052,
          8885.61024544978,
          15873.4221035033,
          2730.77888335934,
          5787.82033194386,
          3101.13474715918,
          3246.84016150098,
          3124.05273886891,
          2585.09695348792,
          7368.15999695168,
          60034.2063728469,
          2432.2012361029,
          4648.48944578697,
          4293.67127591324,
          13777.3796562403,
          2640.04256456651,
          6790.41010891343,
          3053.73604281107,
          5818.2729436377,
          5469.73384186467,
          3987.29298813158,
          13603.560846916,
          11212.603980331,
          6433.88702214326,
          2407.95125879042,
          1940.02967051117,
          4310.63640444286,
          11449.5697417455,
          1340.07988377731,
          2358.96625940528,
          12311.6480796665,
          2168.52814393171,
          4844.58071586113,
          2665.63657525919,
          5967.99850489709,
          4644.31596778643,
          5096.92598903425,
          1605.33487577804,
          4066.74999139882,
          2769.32846309769,
          11268.8414630287,
          1682.61048199302,
          10845.190956003,
          4624.93628024917,
          14628.3884623703,
          26356.0188234549,
          7959.53055746453,
          8734.01493722298,
          2908.42700400636,
          2480.68060592581,
          6151.93926836519,
          13684.1398548896,
          1728.21878793809,
          4927.68142056501,
          917.274674575329,
          1637.83310895598,
          1516.93360582898,
          5481.98524563781,
          4634.19823360677,
          3494.18454044831,
          3219.19289480672,
          9478.42332049458,
          2715.71137852023,
          7842.66537831525,
          8197.06610110166,
          8362.78571085448,
          8355.74653748854,
          1245.78870124647,
          1769.89927751238,
          9972.23104350149,
          3691.58813211955,
          4206.66476728174,
          3488.41316710513,
          23806.2575463388,
          1391.13861945751,
          9099.31086881038,
          4631.48433179475,
          4167.30327353046,
          3668.41066730591,
          2641.97689023874,
          1950.97939428442,
          1682.04559204207,
          2417.40479799745,
          11228.9854296856,
          7022.34714423424,
          14454.3048378924,
          5003.66051682414,
          9843.91469283951,
          3546.57327372455,
          6328.07178416641,
          78625.0268947855,
          6287.50632363346,
          5194.75014149065,
          4391.8278824119,
          1645.43800916164,
          1972.1281321633,
          3084.418451957,
          18688.4436926723,
          16563.8996802329,
          5867.43288102862,
          1795.26411684452,
          12388.0185603834,
          2120.08457315891,
          1479.73527916189,
          1786.37707750322,
          2439.49757854042,
          9504.93863335114,
          7835.67482922252,
          2825.94662635848,
          4544.27793337099,
          9104.06132927597,
          2248.9906479833,
          3234.26976310347,
          5136.03877870951,
          8474.68094552502,
          13590.2714459735,
          23862.3865939891,
          6682.21634553238,
          3600.94961192437,
          794.09239051961,
          3683.09559201673,
          540.508500139363,
          8330.03342328045,
          1124.59962285546,
          1886.83327152718,
          2012.87915000734,
          5477.17333070212,
          6186.91163180541,
          8697.45986736424,
          16698.8934236416,
          3620.30941966373,
          4184.86798737823,
          11799.071568368,
          2642.62462633836,
          1551.93750084222,
          4571.96163395796,
          505.72705257103,
          2365.57911402965,
          4404.92867575141,
          7043.59533546567,
          25945.346964586,
          10222.0474769057,
          5139.5465102863,
          4938.23198398835,
          6988.55032569259,
          1153.75964071766,
          4308.65678398327,
          3006.87056011158,
          923.348701173588,
          13865.2997520779,
          4469.02476822649,
          20545.4306689501,
          20195.1238808974,
          1471.54812605875,
          4778.7732167794,
          3463.31794004869,
          4984.04085711221,
          11285.9765033587,
          10223.7133220893,
          5098.6184872664,
          1615.6516541996,
          1596.28311983199,
          1220.73240905479,
          6241.66971767757,
          7829.56557686348,
          908.934725026306,
          14003.633833605,
          957.01447490691,
          732.93094255742,
          1847.58825025597,
          2222.87994511196,
          4871.9395159428,
          3955.97855220728,
          2780.85876343188,
          1835.73345250166,
          1391.91696257155,
          4119.43375602169,
          1444.87277172887,
          1957.32467747033,
          3436.66456861109,
          2415.53436551823,
          980.631954564849,
          5589.75033664998,
          3203.57671510516,
          1074.10612619757,
          12879.3031291152,
          2434.45055933501,
          2971.12334051839,
          2652.84050199471,
          21502.3303738586,
          3672.59024292481,
          5526.91325000924,
          5572.96965847826,
          1552.19976975103,
          7717.92107018352,
          11638.9818729552,
          4421.16504362162,
          10197.8428811282,
          13463.4749465985,
          3076.82071248652,
          9225.27095183066,
          26083.1943021389,
          6460.9883305401,
          10714.9487146972,
          18241.7156361328,
          2787.05414402014,
          2490.88141085486,
          7985.68263256233,
          1459.88310438765,
          1593.36971622395,
          3661.43716627703,
          2546.7837956514,
          1198.09822858959,
          6972.96705423423,
          4395.94131333995,
          3400.19959929508,
          1714.25816518409,
          1009.424211935,
          2282.99193611996,
          12022.7463617119,
          2709.45868670618,
          3555.44861747578,
          5598.24930825713,
          6431.10170768917,
          2677.4194143712,
          5846.98440723421,
          7170.98083022895,
          70937.364478313,
          598.840980145439,
          2384.95208420758,
          5494.70205016725,
          870.213129735296,
          2995.59241254119,
          4176.33658637552,
          3594.78555445963,
          2720.16681678829,
          5090.61023961704,
          22301.2272418396,
          4201.90875512947,
          4257.90249377385,
          1891.75877264893,
          10443.7618184095,
          2568.70063423423,
          734.330239945188,
          1315.98038306786,
          1047.28407870342,
          2289.79659073349,
          5677.77538122506,
          5091.11785296405,
          22612.7240652877,
          8514.06211709584,
          6095.58392781478,
          17216.4283811861,
          3630.36485778403,
          7122.84315308322,
          4987.43741339746,
          1248.95516680121,
          2725.64347869051,
          1059.28284300474,
          3126.38325943833,
          3112.55456140749,
          2964.96535009215,
          3254.2555440367,
          3618.33823845622,
          2643.64313217815,
          38084.8486141625,
          9619.43123344423,
          5780.13565399497,
          2605.57416308307,
          8236.90021511722,
          2621.13790681934,
          1086.75996426418,
          5543.62265609969,
          1069.01507398401,
          944.654652032155,
          1108.18415800798,
          5643.61317489382,
          9014.5740257943,
          2509.397489406,
          2175.53419315897,
          4246.86779151301,
          1934.62967670213,
          2852.55866127275,
          1749.68760321222,
          3982.05102161821,
          7983.69343433228,
          1326.30342512541,
          5408.41820209271,
          3975.73094414005,
          1879.11870927024,
          1533.15911677724,
          3254.33360947571,
          8147.56230009254,
          5406.06117018311,
          5336.71032084469,
          1121.01408400623,
          2050.82167291736,
          11154.5460568228,
          993.04489055525,
          1797.48503970169,
          3193.62243946319,
          8393.97828760254,
          2037.89416913442,
          37947.8064028032,
          2421.87619687233,
          1927.59566830161,
          2538.55300275713,
          3666.61886573808,
          2881.38460226068,
          1607.31590532862,
          2440.46171797474,
          2846.45280148585,
          3839.11985378864,
          5947.94822701385,
          6797.70285390003,
          1565.31991312312,
          3459.90276588266,
          1254.21575675519,
          21518.7195285186,
          10455.8950438582,
          13132.5508570066,
          6261.17002647786,
          1668.6041800637,
          2929.26259740045,
          3298.67387219932,
          15523.2002969482,
          8276.78406799086,
          5822.63033781559,
          9313.90162953502,
          1916.82626170335,
          4008.03216022295,
          2293.80449965498,
          1898.97649551948,
          1273.60280097609,
          2059.78120619218,
          2267.42437226172,
          5044.12679101154,
          1428.964030572,
          5328.82406687712,
          3787.15610044223,
          2429.74313331829,
          2999.75149760634,
          3792.50773725207,
          7867.7174714489,
          3177.70945080248,
          1828.1244112614,
          1471.43902254794,
          3446.15721922277,
          8744.09147612628,
          2980.9604188036,
          10384.6476273018,
          1100.90682068649,
          885.577938458642,
          3623.23541619872,
          2494.42999877469,
          2844.24520319741,
          1906.35854588634,
          2458.31748638379,
          4152.96475229528,
          4864.85806158664,
          9655.64943126103,
          1607.52070796035,
          2472.66818538739,
          783.501195098891,
          3270.40769159138,
          1104.31499759958,
          3124.78409808671,
          2723.2164664385,
          2740.03423691317,
          6059.66179860245,
          4554.00375423401,
          555.115626374212,
          3219.10284062484,
          323.195666174738,
          4580.18859175703,
          4005.28045872743,
          2039.59595623124,
          3582.43485032018,
          767.608245742427,
          13782.4863648937,
          35582.2388958644,
          974.331411294232,
          2778.8107360875,
          980.342558434852,
          12600.8426602368,
          3073.27324322383,
          2143.8122345377,
          1420.93943349754,
          19103.1285395832,
          1495.74171013095,
          1948.39654661063,
          958.601999613179,
          2518.05486301568,
          8275.11798023645,
          4994.53697977019,
          46157.9380075158,
          9518.89153672375,
          1623.58559541364,
          2654.58601065163,
          4616.63086023618,
          2223.55465487282,
          2972.67829037821,
          3070.30072152998,
          15395.8274568665,
          6707.81882345035,
          12968.5775030127,
          3311.84268298092,
          5746.07790879723,
          8279.16059462388,
          2194.66604652807,
          18193.8995063914,
          9334.81431723592,
          7316.93672496466,
          29184.4383031342,
          53057.9437277765,
          1122.10235303075,
          24501.9798207339,
          1811.42174866946,
          1975.95761656488,
          4424.63702146574,
          11024.8435703936,
          2382.06317327233,
          825.081788773979,
          3709.08119328237,
          14507.5058898431,
          1421.86493943764,
          18121.292524459,
          15000.4837133665,
          4504.0814785057,
          6450.14806964163,
          2753.13640110054,
          1623.39084084957,
          3346.11092785958,
          21477.0996405653,
          12626.3515093454,
          1906.57475168497,
          1755.83737998972,
          8518.74819337504,
          4707.03368062014,
          5811.04278786177,
          3315.84137950432,
          9534.74979240153,
          2020.80937805575,
          1392.22763777137,
          17540.7578789707,
          6748.84505721849,
          6718.75309057271,
          11283.1153822083,
          7337.74582185105,
          3970.52315505617,
          9085.73583385503,
          3535.66938910298,
          21531.5402027442,
          3526.40125921979,
          10438.678378592,
          18683.04231727,
          6826.80001847192,
          1875.0624789595,
          8781.50456795813,
          33589.511734758,
          76736.9714822423,
          12651.30983872,
          21912.1502610136,
          14564.708377224,
          6464.32886178382,
          3047.07077525679,
          20563.3031424897,
          3234.35258650652,
          12109.590818247,
          6500.38057393412,
          7115.28361088748,
          10738.6047386048,
          33916.4042468989,
          12566.5210194583,
          3188.08047280642,
          6054.83056926562,
          5042.61636537489,
          8038.6172242168,
          7786.73799550467,
          16813.1682192759,
          6288.33438951069,
          14450.9482510626,
          12702.2702193914,
          3592.24086188716,
          3230.00489006948,
          7510.59239832146,
          46141.9535208453,
          6497.97190979873,
          14128.9430191362,
          7410.93650454133,
          5023.69322585823,
          13095.8460997988,
          6798.57469864192,
          2768.96908198741,
          12319.76602586,
          6893.27136414295,
          20041.6032428162,
          13972.9160515669,
          9755.23635970216,
          9261.96707870497,
          5521.86951023424,
          2624.10735865603,
          6332.79030176571,
          11794.2035388596,
          5233.72948647534,
          9551.31435245613,
          23708.8410449214,
          9810.68091160236,
          4950.08822409422,
          11864.2529233927,
          3637.39960934029,
          41412.8325342861,
          6002.54831979729,
          77311.1370448224,
          12673.1426404771,
          12201.2055175511,
          7593.70212527088,
          19546.8724418477,
          5574.6179112398,
          9873.63317445915,
          53567.1863529749,
          24520.5345246113,
          38132.059443151,
          2612.61448179605,
          43670.2226105026,
          4781.98293773806,
          9820.06088859533,
          7432.97599333028,
          23349.3018377537,
          30833.8717456359,
          154837.895579198,
          9899.27645779984,
          9217.67834704394,
          65640.4849286451,
          20844.1594538019,
          5704.33135210494,
          5645.2076892802,
          1619.6962603682,
          189741.353736446,
          6340.31755664622,
          5372.08924735065,
          3964.09565575135,
          11355.2834594302,
          8966.64388267203,
          3483.30651828743,
          5024.98943237863,
          272630.467660187,
          5447.49957054597,
          22863.5019836285,
          6593.52704371378,
          109578.405063875,
          30890.502958566,
          3809.98736326732,
          7386.24013584055,
          18069.0719238149,
          6410.05487568684,
          36874.1438477393,
          2933.25369514598,
          49412.3322522607,
          932.350314077696,
          105736.998622354,
          14365.2933136884,
          58472.5677976206,
          5825.98426100104,
          31470.9581857389,
          9376.20803034107,
          7789.73215371227,
          3969.51539230054,
          19758.7910911717,
          44932.748133333,
          35369.7123386066,
          220263.875727948,
          11333.0583472953,
          10532.9373667326,
          17239.2353208762,
          14099.5851886969,
          75448.4116086836,
          4490.39904185386,
          6324.28859869225,
          6525.08768318642,
          3094.46767380324,
          3258.17569359602,
          44569.2089549977,
          6535.23555395933,
          15626.338397347,
          19852.5211650548,
          6639.84622478248,
          2980.4398411928,
          36927.2463008856,
          686480.876986804,
          5021.97664674819,
          11443.3549939767,
          32504.9764286311,
          10723.0773348038,
          240004.398101361,
          15849.414054915,
          85285.3691521891,
          3569.27044130048,
          10764.2729535077,
          28934.1673719045,
          4880.33334698763,
          5847.77307881037,
          38298.003250242,
          22397.3260828343,
          11894.6990752255,
          10626.029724088,
          15682.9595629758,
          55551.0524937651,
          6135.72454821154,
          15024.9083719721,
          19658.7193581537,
          5020.68010565985,
          11240.741607802,
          21727.6097864212,
          3775.04557205617,
          443.73446323238,
          7000.95416010543,
          1525.42507579489,
          2363.90699039753,
          1519.21345048553,
          71.5344896639997,
          5256.4446347899,
          1526.00591439798,
          773.225600663633,
          1036.61494066823,
          3245.50692576074,
          1148.02228740269,
          2582.0302104296,
          1238.04754487713,
          4767.09410125023,
          757.806739942557,
          485.27520842416,
          10430.5994275969,
          3324.34144324245,
          1270.84461621709,
          10695.9307696308,
          1204.69458005667,
          7568.13621830574,
          5630.96944198358,
          1466.44171022272,
          935.2520155732,
          5380.61472667667,
          1160.82768795551,
          11549.0468720359,
          6770.80892940136,
          15317.8336061358,
          8862.26389750283,
          840.573132612596,
          1724.49794072622,
          976.678534933529,
          15920.671175292,
          11288.4303955685,
          792.750980293463,
          1975.38694151855,
          1477.59729903716,
          1403.11930455788,
          1109.59936308175,
          6345.30208835354,
          18312.870891487,
          549.971573245254,
          8915.30471864857,
          37186.0479549268,
          1919.19152500893,
          1773.37407930072,
          2046.61453283244,
          10879.8390616513,
          1086.47115466959,
          221.343939384258,
          1068.01011122781,
          3233.41142850565,
          1287.22755241484,
          1394.48732966359,
          3955.57268341085,
          2549.26716452951,
          3778.38372471709,
          5107.83067347323,
          12738.2384343411,
          4560.95892329892,
          27754.3371272737,
          5104.59520002223,
          6828.02391762887,
          33287.3704811156,
          9299.23617563631,
          414.985821080225,
          2270.73819038453,
          16160.3776074811,
          944.285271955232,
          8022.92210320143,
          11208.7197212059,
          2885.74565525157,
          1630.99832960855,
          3073.13115886934,
          9374.1804313134,
          4684.22108747652,
          1945.5965463219,
          172.561423615067,
          741.402355074889,
          2546.54471812407,
          392.13946319715,
          14307.9102579147,
          27299.0147172539,
          936.654757830643,
          492.878569752713,
          2773.57498907696,
          3315.36422298793,
          6358.45568246135,
          2380.30530330603,
          792.614178443572,
          853.28617945804,
          8159.88106677746,
          14297.3777506635,
          5946.39786220897,
          7507.47080360437,
          3468.29426712999,
          1024.78033032438,
          12775.3376362931,
          2627.95677129633,
          13854.2032395837,
          10015.3293963601,
          1398.6952952107,
          5418.39965301072,
          1296.91573329598,
          114505.355387014,
          14154.4249422912,
          9962.6592757521,
          1443.46943200011,
          4007.00056898409,
          1184.03604081691,
          4042.14670082243,
          488.057131635585,
          916.877727563618,
          14276.2592533372,
          5248.19381643054,
          7257.67595931817,
          22629.5010613912,
          57227.998359917,
          2400.23751530648,
          5478.11759447741,
          1046.00650963415,
          5189.98790721802,
          8579.26037107228,
          751.862631144497,
          1525.66938260303,
          2767.02594168203,
          3280.56743115845,
          3812.27995258747,
          2657.48411493356,
          922.06327054288,
          2386.39971770224,
          1571.76420057827,
          4895.91855501156,
          4026.91817596622,
          3248.56641335227,
          1139.98136415397,
          1794.28493275692,
          1238.95427108537,
          8504.67264128374,
          2123.61323873298,
          43797.5808880765,
          4272.91870580592,
          2239.99107303189,
          577.472946281719,
          11114.1503005068,
          32503.1290713597,
          11609.472167798,
          5097.34378019024,
          40886.3013263369,
          442.750585091662,
          4255.03577494267,
          850.272412300184,
          3435.37267791226,
          233.722388335974,
          1068.47478060899,
          4413.38795645699,
          2208.73532356122,
          1238.90431271632,
          1607.1981631595,
          8206.38421759659,
          4094.33616108825,
          374.920574388819,
          491.509078749617,
          47014.4635127166,
          20705.3433732223,
          642.014344159691,
          4191.74673079366,
          6719.63782107644,
          1032.32963992565,
          1592.34110493351,
          648.40974375649,
          4289.65841063805,
          3744.62102599374,
          5577.37772806312,
          1173.36316592261,
          660.704206770442,
          28423.9308754445,
          434.377976310706,
          641.933814832007,
          2273.6921781525,
          460.717287457544,
          29134.8637812421,
          47294.1065173372,
          27415.7862495028,
          481.2435273116,
          2108.16502636996,
          8256.52331646889,
          826.27175242616,
          825.228056549949,
          1996.60995719252,
          2228.71435539165,
          1330.50179351308,
          1867.35913722723,
          1379.71731457011,
          4716.6297757093,
          3513.32295594565,
          9989.23799262841,
          3723.83621596376,
          2153.92908051128,
          2024.58322942157,
          324.258725659197,
          1622.53946653639,
          2979.16277835422,
          8611.80716308599,
          17658.6990085248,
          3779.78014527124,
          6127.74976668118,
          63160.0233387229,
          198077.194101083,
          1757.44807148287,
          1128.57105759194,
          1794.04750910526,
          2299.73268899508,
          38262.8969159892,
          1910.56316448628,
          2016.73571100251,
          2090.25029058449,
          4815.49666030526,
          2016.07813797034,
          1199.02956159962,
          6009.27824875486,
          40627.494334977,
          1336.26102454628,
          1704.79359951118,
          2340.85363233905,
          4883.51552400014,
          4043.99927542212,
          10714.6904494257,
          9385.95977469128,
          2992.36774113562,
          2476.87266738205,
          18231.4118251666,
          1352.03265135793,
          788.040736057172,
          602.351340813216,
          1796.77274789187,
          8111.8464781737,
          1336.45289770421,
          1337.44001266802,
          2335.88853633976,
          2190.55896075265,
          1778.11772428334,
          1555.95376748215,
          1635.51279610938,
          7810.00601230539,
          6201.149213449,
          3164.40246640058,
          937.918551563186,
          28410.0948184479,
          1795.1894929175,
          44535.952164069,
          26844.5240888023,
          24471.5947908707,
          45545.0695697836,
          9149.602495366,
          2396.34569909086,
          5751.47356119399,
          5545.53293501258,
          2378.69888379566,
          1455.60607414614,
          86693.3968261608,
          13659.442731809,
          7791.1335332057,
          13465.0525107596,
          4171.19527434357,
          2722.28867211942,
          1809.29268811251,
          1742.83828507388,
          21488.2974755334,
          9502.67002343668,
          4141.85646157212,
          1087.7022262902,
          8174.47668718497,
          26350.1091267328,
          1039.58397608499,
          7031.09772146075,
          4780.39171060845,
          5300.12088748617,
          1648.51284247835,
          14017.9776705271,
          5873.87061238043,
          11805.3326933703,
          12596.7354440916,
          753.043919480563,
          3643.46175569518,
          955.438569223498,
          5016.0109589471,
          797.41238033409,
          814.998057493821,
          28799.4475993829,
          3207.46701754447,
          8333.55243817165,
          13737.2902875877,
          1962.37204129062,
          4946.11108340294,
          1294.80257878031,
          1698.55864531024,
          11014.6011101567,
          5847.17331733553,
          29783.7754570433,
          1154.64411268172,
          5816.16032281091,
          12540.315222164,
          433.679297080407,
          5467.38891043252,
          3111.97605772867,
          524.866901912373,
          1674.31908790584,
          837.878110443973,
          963.511122997126,
          749.007748022231,
          1851.26311594108,
          1231.17966674172,
          1163.23505221262,
          738.245446825389,
          11630.4727521417,
          27647.3465618634,
          1578.98113681745,
          1622.69711694094,
          2206.61492309781,
          542.570132817234,
          1151.59652578996,
          22291.293864462,
          599.233358408436,
          4990.26122266266,
          6657.89611372821,
          50330.1879628836,
          941.864652056365,
          1131.05083694685,
          521.059053702168,
          4893.36612839205,
          2005.27635392332,
          11128.9640175002,
          683.164315594788,
          5717.37947667104,
          8432.2080860959,
          5538.21411398344,
          1015.5804171096,
          10206.0038619924,
          76857.8185044807,
          13895.1832356195,
          9736.46213153081,
          896.28272366736,
          392.642002646655,
          13376.5919113071,
          2119.51233593726,
          5876.51082818694,
          3219.55308265702,
          3420.17449670572,
          1155.35066089546,
          1778.62009620215,
          12598.2586267224,
          4862.23815023091,
          3148.64857439441,
          1249.43561623947,
          1482.39596179985,
          423.964109518651,
          1475.82283184055,
          3400.14574124204,
          9146.49858360387,
          1269.53039152172,
          2189.53213201323,
          949.578014042513,
          1173.03784488187,
          4572.92690779231,
          1005.14018394673,
          345.228597096117,
          1253.89939792654,
          2965.23180113813,
          439.235097148434,
          848.782764721804,
          994.867143764097,
          550.630629200772,
          3663.77337668875,
          5042.82178184418,
          1244.40619575443,
          1126.70222431697,
          992.56272686374,
          6807.68421056934,
          901.525614162624,
          873.675129873805,
          770.031630375204,
          4625.71756508139,
          91202.9382115899,
          551.197290856047,
          3681.23004456645,
          11990.2704293335,
          1211.32661442729,
          1906.49565865401,
          2434.38646142476,
          2832.89682656376,
          1198.73495989323,
          2693.40260776025,
          3280.26758325437,
          2729.4171532988,
          5663.00262952609,
          7233.05154649157,
          981.627349215021,
          5202.39623275592,
          705.04106026601,
          2690.10450222223,
          1523.32518517027,
          6940.19455853288,
          431.489336334561,
          2942.35441439483,
          1798.01269621456,
          7324.80533824805,
          692.327690321661,
          1671.74308994887,
          7476.89166347326,
          3706.18281256612,
          917.267971972538,
          3639.0857538927,
          3466.67099930999,
          443.538226046935,
          4435.4972944044,
          5788.52580950548,
          4130.13735817565,
          2194.57598609438,
          21401.6622115787,
          797.597204762217,
          28036.9277960492,
          8362.23081005634,
          21765.050469586,
          1976.29426074154,
          4859.86186522054,
          1145.31527478458,
          2723.84868752754,
          8364.7606664975,
          38351.8300298436,
          4841.48647397468,
          2826.54429658729,
          1577.78604845952,
          4200.75306076432,
          4443.2909526265,
          8182.28747738337,
          1992.44531962038,
          6626.96908154919,
          982.766251349287,
          940.07231471716,
          13678.7322476428,
          1067.65813703276,
          2629.95172549655,
          656.658205566998,
          6143.08263046112,
          1046.18900515985,
          347.217583538533,
          910.704167076233,
          3182.91068158545,
          8655.48422937713,
          6108.03767291694,
          3463.7355949797,
          2637.51507969672,
          463.315466452287,
          2547.51877665826,
          47619.388838703,
          1132.52516366723,
          1009.01009756515,
          4013.50344147449,
          7729.78343942213,
          17568.4526825616,
          4677.94003918853,
          8088.91611891096,
          1725.28535580255,
          1844.60959242071,
          581.032800247343,
          3782.56659910564,
          1033.14292753292,
          940.970337631505,
          5644.58165464883,
          2167.87320893856,
          2976.12204048406,
          1171.44099860968,
          13761.6453869961,
          1844.09366972002,
          2075.66041849459,
          1708.67782286148,
          10813.2336178067,
          1361.86014413071,
          1302.17340097197,
          498.922390807857,
          3144.56742656289,
          14638.1621324243,
          47966.127048383,
          2640.06589611089,
          717.93725610217,
          1904.94972759756,
          2417.9211803806,
          13616.8712247227,
          3898.32282280272,
          9485.13447538319,
          2222.26293764191,
          5062.97928181552,
          1756.12444613183,
          417.961515318121,
          649.220893497847,
          680.691492444037,
          614.051126919005,
          1024.38449906992,
          1859.49568619573,
          5936.50426403609,
          1047.89941238219,
          1062.65416771947,
          9342.08954408626,
          9117.76779069695,
          3257.39387392963,
          1462.83023179833,
          1668.60569434513,
          1194.8079335458,
          13292.3656205268,
          4022.17467387171,
          523.561390257986,
          953.489673577929,
          658.479913362252,
          4406.69806920296,
          7706.8392336429,
          875.839488563098,
          2989.1920093181,
          2358.02766252074,
          17754.4065400269,
          1197.2280446682,
          1112.11163826875,
          720.17693380026,
          472.248446822982,
          26391.6191480878,
          771.527418358265,
          3776.06457594163,
          2529.03984623014,
          520.771954677223,
          3555.43165565078,
          56310.1597963698,
          1885.82180836662,
          5114.25446002526,
          1769.53384592419,
          2453.918240034,
          3037.64056953187,
          707.719122572929,
          514.976630811434,
          30743.3158383026,
          3710.33799256101,
          74630.835613571,
          4031.53617709524,
          16835.5020079697,
          572.470455325622,
          8869.19843791739,
          471.052594967324,
          396.157668144498,
          447.904315938056,
          4730.88451299225,
          1748.00090483532,
          1677.36389908659,
          8693.6358681206,
          34194.462775725,
          61215.6063617043,
          5601.46985679172,
          4524.69657324885,
          4992.91052708356,
          11679.2736406021,
          1234387.28444765,
          6263.76154703464,
          2315.29074665562,
          21954.7273508905,
          23236.5185819721,
          4260.44301504073,
          2186.68107161203,
          47641.7534814394,
          3513.07821071314,
          1040.21157470008,
          703.61669440867,
          2305.71394167807,
          4188.77504060628,
          6266.9439551018,
          13220.078028377,
          6059.42969233166,
          2312.3690751327,
          2799.7515021297,
          12150.1548697557,
          53522.0241456297,
          1147.95539215169,
          25498.9308664073,
          54791.8913792947,
          1158.43440711385,
          1387.87011296682,
          2634.19142446476,
          30356.2826836562,
          1291.78214387732,
          2599.08583857773,
          1388.24355798128,
          739.689881115757,
          4291.20699598578,
          4610.86662994223,
          3631.57821414366,
          2197.26179564057,
          292.70307121555,
          7264.83562961788,
          6399.81171266833,
          2431.27582550903,
          1173.84734276992,
          1683.95366182711,
          16283.8581163894,
          29975.2980063791,
          2484.69464214017,
          6319.7572613407,
          1047.54901666439,
          5026.89872825935,
          971.384812341645,
          548.478019906778,
          2095.02554319817,
          229.086050247786,
          8042.54346115452,
          1004.01349757993,
          2605.74632939189,
          7993.59426192382,
          2755.49878335137,
          318.372121520489,
          593.91180151908,
          955.073692226958,
          32383.560505314,
          1627.6679274223,
          1548.76308711948,
          374.76089560104,
          1846.12808587789,
          163.761513105714,
          1753.55035978701,
          1708.52607278052,
          9861.44558310358,
          3169.82198179887,
          3786.43452849499,
          6640.71980480787,
          10042.2215072197,
          14644.9296724559,
          2299.99095267139,
          5026.38137189066,
          2304.8274072478,
          1273.62501860927,
          407.481451177843,
          13438.4547839447,
          7631.42098343225,
          471.248054266626,
          1898.28382507251,
          1639.60485590541,
          4335.84394150949,
          4475.12751229545,
          6107.13705772741,
          33760.0367446889,
          3344.20561278949,
          10925.4810926368,
          5862.65362613168,
          5384.3451500319,
          4512.64915964512,
          3041.22525787889,
          9088.494372957,
          1811.901158905,
          5094.4134106079,
          1463.06201506828,
          8242.44780622575,
          6134.16715317456,
          34303.3991984457,
          21150.215322422,
          10696.0608915997,
          2737.99256112736,
          6597.21376513239,
          28065.3544636029,
          1889.62320638596,
          6230.21965652174,
          13194.1679474164,
          6941.41778170214,
          1861.31969204281,
          4978.11748810589,
          6976.5517210388,
          7376.9687314127,
          5260.20183221702,
          1350.70082954188,
          3300.84546135872,
          5562.0513075513,
          9922.74971749837,
          2371.10804618007,
          2244.6277016339,
          5449.67766066231,
          5652.16769392862,
          6212.35404036151,
          2968.34809482349,
          3412.94394318958,
          2357.83359500589,
          4712.90753777386,
          3854.58850130214,
          1956.32812233775,
          1276.90696295187,
          3668.79512300076,
          2760.3410420832,
          4111.41032978092,
          4940.11093059369,
          16599.3077967367,
          3139.07935792789,
          9457.75889434093,
          3477.04024338281,
          10877.1229552044,
          3238.91091235654,
          4578.87072014635,
          33492.6564348208,
          10079.2172396195,
          18907.2865925453,
          13031.5733353979,
          10312.1532014604,
          8950.40965432109,
          10823.9467534815,
          8863.70760420683,
          6186.34955692394,
          5996.68239018911,
          59903.0912310313,
          29069.0390388368,
          7396.54282222617,
          5302.29974975202,
          13170.9487586388,
          4079.28616519068,
          10853.7459327887,
          17661.7545511071,
          3076.19171872877,
          8821.97720166989,
          44412.1339577214,
          5262.89660736079,
          5105.16675168581,
          1521.48631479564,
          9791.26812129432,
          6439.57464363667,
          7592.12267473152,
          5805.6951078876,
          11312.973763115,
          2753.33920113115,
          3017.23155112386,
          8082.24835449873,
          2360.31879267298,
          14817.7046049854,
          2208.04571539123,
          120648.722967312,
          8685.88800308404,
          2812.58391731759,
          2917.75568165208,
          3716.9667181794,
          14375.0034257248,
          3673.31791966619,
          2331.68118924472,
          4461.5282209024,
          6160.18138385766,
          1447.95553793712,
          1747.1563572157,
          4002.50419230035,
          2100.93230176933,
          7394.25828125554,
          22646.9834968969,
          2693.02238653176,
          4550.55405769969,
          3464.08077361557,
          1882.09236035922,
          3805.02587777146,
          1756.5168888559,
          4192.25824999211,
          1099.37905351619,
          4622.28336577317,
          55308.6864744265,
          3771.71178009884,
          24264.452158961,
          4021.69524392993,
          8304.60887883746,
          2567.57580624625,
          10299.273510569,
          6561.75495541638,
          4927.82349984178,
          11681.5096499727,
          3479.21317856047,
          5911.263207281,
          1985.79786811137,
          1134.80020065008,
          2445.00013505732,
          9759.65958867528,
          54084.2401356041,
          5771.7017414653,
          10594.5181620001,
          4865.5613552135,
          13075.6120758217,
          3716.69233834475,
          7227.01595700288,
          5093.8830683594,
          1670.84701204598,
          1533.6007969861,
          7538.85254072138,
          15077.0826521838,
          8260.89094382293,
          1467.42284786121,
          2075.12928434714,
          9721.00242447727,
          7983.32615937659,
          1737.16602758854,
          21692.3153283833,
          6727.65017914981,
          2238.19242083782,
          2985.40811139949,
          2807.5778269918,
          1217.30078148942,
          6436.25664148626,
          13172.4936067922,
          1690.29640139732,
          9654.47078418702,
          14892.3769101094,
          3143.74209076305,
          746.179707885943,
          2750.39534129207,
          8363.99465012469,
          2836.32836817625,
          12744.5596079579,
          5886.21371235427,
          4025.51391089716,
          3165.85309746031,
          3704.50032703035,
          8018.21990258927,
          703.696752868664,
          2984.56758436119,
          5610.0194818391,
          3367.88737321138,
          2305.00048848937,
          4564.74839068747,
          1772.32639947785,
          2283.60836219057,
          21228.7773001244,
          5488.27721349644,
          16579.056780164,
          2509.93743937455,
          2729.79814472415,
          3995.53594958043,
          6832.77780665749,
          663.623577816963,
          67499.6582997993,
          4811.75100470343,
          3662.31722411609,
          1970.37795934744,
          8393.6886378724,
          6537.36784135124,
          5925.97132715593,
          8242.30239790844,
          13460.1636270545,
          2808.97724270694,
          10934.2053338443,
          9130.6961745807,
          14043.5643588467,
          3604.63276028005,
          10359.3444942516,
          5420.4179893348,
          4077.22258565288,
          4914.21846271432,
          30430.3479386474,
          3977.9178538961,
          2784.34094398986,
          8723.28386535144,
          4447.30769861691,
          2424.32482722394,
          6495.70884941193,
          7848.54357796985,
          3270.13183747079,
          4798.31129149132,
          13914.631357946,
          2800.20150358313,
          1158.0441238514,
          664.787890772358,
          5834.08904727575,
          6483.53847209526,
          8764.76962976968,
          1848.52495319763,
          1438.66476536529,
          690.408064147025,
          1854.08852130422,
          5938.14720460199,
          5687.48998296252,
          10193.2840055455,
          3972.83493051828,
          4547.70630234536,
          9538.73103528183,
          4950.65816175772,
          2570.56017176374,
          2179.58065817096,
          3712.31310300724,
          7466.58212833293,
          6102.6606593169,
          1817.02204195723,
          17240.7491995765,
          1468.81525769397,
          3390.36271205626,
          8179.37299122634,
          21479.5482227771,
          15178.4820670033,
          11229.9650990019,
          9626.12008703363,
          4180.81397539381,
          3060.93882950913,
          37168.1889815317,
          1118.81295921677,
          16762.6816539167,
          1865.10394647042,
          14484.1678880721,
          3507.74993034494,
          4952.525446306,
          6201.73627340059,
          3479.86302761293,
          5449.99861780953,
          4908.92619996348,
          6453.82004115589,
          12461.3896140716,
          4112.95909732965,
          2211.42765916639,
          20478.9871322461,
          11337.6948684888,
          23719.0901748363,
          19077.5355883875,
          1648.16781270162,
          2603.56362731755,
          9954.11434202844,
          62749.5100063406,
          7487.06438443849,
          2923.97561304293,
          1245.68423150274,
          3256.03642933044,
          1464.29627408389,
          2506.87918872172,
          1470.61266723026,
          3102.46837784717,
          1854.16895370666,
          4525.3388869858,
          30015.7843241712,
          3035.48036005085,
          1874.30425505354,
          4479.17169321608,
          1566.95700292951,
          17713.8369696964,
          7403.40203449591,
          2875.28806460359,
          12142.2311341391,
          3017.03066817913,
          1601.92685591295,
          1485.18045532964,
          9488.74728008971,
          8614.79243728876,
          4340.93872244253,
          17189.2711963916,
          5336.02296556201,
          3679.91568312105,
          5356.43884578143,
          9423.73369248118,
          1969.34165259459,
          11850.9350545402,
          2645.88505858435,
          14521.9339319753,
          11275.1343067613,
          13559.0339848474,
          7856.54936013813,
          3518.64263325253,
          3758.70421291751,
          2845.25914707235,
          3463.89896225292,
          2880.26290489352,
          9374.89714086651,
          2288.20535168553,
          1885.52648123222,
          5009.63573822338,
          4535.2541223991,
          9174.25876289619,
          663.733959643373,
          3713.96027312542,
          8637.47299395844,
          2893.16253120142,
          9799.49648885134,
          5166.90304714407,
          1987.0139047893,
          3483.20821961199,
          4626.09898548902,
          6865.07252433403,
          12822.293807494,
          1353.46616865891,
          1104.08283195303,
          10326.4062593764,
          2253.52804036563,
          2777.73064494965,
          7604.52336335216,
          6115.57944298258,
          2524.7825652901,
          6326.79432819313,
          10705.5516742351,
          5816.98958199285,
          1134.2498884324,
          4315.56236501669,
          3828.24974549989,
          2065.19840776696,
          51225.3912173865,
          1092.76741603611,
          22502.3448121681,
          12139.6307642168,
          4180.53991397234,
          3300.55691325573,
          1398.26396824073,
          3711.06185183301,
          2437.50006237475,
          4294.2359958212,
          27231.17903158,
          3798.55746061918,
          9879.01666689655,
          2532.43474446295,
          2330.41284403143,
          5199.52240329477,
          6117.54055115146,
          2663.54068741469,
          8493.97502425661,
          2244.46314794084,
          3473.78544477542,
          3802.00095453406,
          6490.92296187115,
          17337.065822944,
          6218.21489467792,
          6383.62402897099,
          8908.18120387583,
          10547.3318637069,
          10597.840644044,
          27474.1230934364,
          5726.32896319145,
          8910.32948758923,
          4702.91880173649,
          3679.67972367487,
          4090.79786310175,
          10454.5815911402,
          9360.28651296086,
          19868.1150814413,
          16146.8153984373,
          1248.27575077947,
          4300.91312753663,
          9185.55320110203,
          6271.70742680666,
          5212.4440026752,
          5791.25625101886,
          2114.91547243689,
          5159.85417765966,
          2990.5565855089,
          4186.54579636543,
          3807.15064396693,
          1828.48611385363,
          11349.0014724105,
          4261.71798677044,
          2994.28922124239,
          3931.1387998177,
          3796.71118917962,
          1564.68268840955,
          3081.56331735074,
          7020.23971645394,
          1291.98976937561,
          4693.37596720797,
          3478.60144015862,
          4876.64745590888,
          2177.46719436646,
          2348.05632729318,
          4667.79370973614,
          3256.95385405693,
          9907.98300835083,
          20251.5329690832,
          3588.00669700635,
          1152.38714482198,
          1899.73880594255,
          1755.10899000018,
          1746.67557667757,
          4001.27955468667,
          2809.17992246278,
          8235.39344016156,
          2703.26375923793,
          4141.07972618808,
          2595.83604607441,
          1435.55536899992,
          7386.53637107239,
          5427.61160697117,
          2036.9790350433,
          5735.6677743187,
          13937.1813225277,
          38345.5250938296,
          2718.77173334597,
          3722.25691027623,
          3049.71221215069,
          1357.00543681621,
          1557.82375822646,
          4551.36151689571,
          2289.69822915689,
          9098.26413140386,
          1473.67067211573,
          2299.85489876669,
          16634.6123281381,
          25549.1905575575,
          3782.90097837481,
          2595.59668880283,
          16580.6798631753,
          2048.04489913575,
          6817.50319192395,
          4457.6419521127,
          6146.46076944644,
          10190.3218899739,
          4923.18783279446,
          23076.1318090757,
          6603.8221136923,
          4378.6670910122,
          3333.71980468561,
          3366.01979108836,
          1473.97596077931,
          3010.50892569957,
          2228.98777794994,
          50211.3186476114,
          2718.48410652552,
          20280.4468431786,
          2562.39473066362,
          6310.30622012507,
          1953.77831717467,
          5064.34822198446,
          5085.38591403516,
          23701.2042341597,
          6147.43389769259,
          1436.96386271198,
          15114.457749825,
          5832.98042295251,
          9018.02930857619,
          2272.85991440938,
          1672.16787575837,
          2614.62805717418,
          1208.09660894967,
          2369.67880721351,
          3710.95273648509,
          1277.63645984595,
          39595.4853938254,
          1718.79349978506,
          7827.07129520446,
          12472.862296856,
          2033.66837035219,
          2327.76105964178,
          5276.86318127105,
          6211.26664778694,
          12564.7960589337,
          2626.26743275166,
          3437.7728689796,
          4665.73488772232,
          6478.52670402111,
          6954.25125791303,
          11529.8626043782,
          2839.11439066875,
          3534.19279410648,
          5095.69895814135,
          1285.66957791315,
          2101.61105884646,
          5798.93862274547,
          17707.3261895883,
          4793.87771344952,
          6987.82276333561,
          10755.2827033856,
          3338.13188759681,
          11675.2369693096,
          1387.44315236719,
          2498.71133999208,
          5048.86726879427,
          5581.66742878207,
          3915.91711844766,
          3437.86406243718,
          4654.50601594789,
          1505.5327991484,
          7998.87462731785,
          2916.17450233657,
          13044.9415308861,
          33505.2878286268,
          9997.71936218742,
          6089.54465923701,
          4682.41702378818,
          11448.2839029364,
          2896.63874916618,
          6438.66577549286,
          7723.11442836247,
          17697.1514153629,
          1281.2808411466,
          6036.67555956883,
          69934.1858962905,
          3190.72080886912,
          1684.93857401379,
          1013.62750694562,
          36241.5598359409,
          16159.3054169577,
          911.24683373371,
          1976.27121955272,
          4506.82976610582,
          7557.64066056075,
          2556.57089702422,
          2670.92624133189,
          3711.02147309352,
          5431.81098713062,
          1765.30319160229,
          1386.61026577948,
          22985.9963267699,
          1872.69757479272,
          5839.46527738918,
          2432.24452067557,
          8289.1316522545,
          1809.82201947339,
          5833.57125219959,
          2067.53594210626,
          4078.73476963007,
          1579.14089449606,
          2064.05405846927,
          5730.41849766576,
          5465.30246628857,
          6039.33448769965,
          5268.91783746175,
          1996.01833716664,
          16681.3023895345,
          1835.24471263469,
          3482.70498714505,
          4368.73758656085,
          3901.79108356797,
          2239.32107658438,
          7845.74694469186,
          4278.49465920427,
          2952.54016163656,
          1652.34497813965,
          1518.30827943378,
          1784.64181136883,
          27214.2942086667,
          4807.15210457457,
          1554.07352740313,
          9344.50384761712,
          11332.7465198123,
          3449.51998563613,
          3467.43734826094,
          3451.83910563853,
          2846.20969675905,
          2410.12119483833,
          8169.68253759882,
          1614.48865127678,
          4123.8181123384,
          5627.71073758355,
          5649.52998479284,
          1606.20774583695,
          2372.74400752777,
          2088.58996905898,
          4852.52878126092,
          2582.24188207707,
          1640.38763554044,
          5343.32582247369,
          5111.96125008096,
          12465.5350501937,
          8236.86143034603,
          3727.82376783358,
          1324.12989583574,
          5708.58497805201,
          1423.6199961673,
          2177.86144887175,
          6601.75117416469,
          1643.42932480821,
          4089.06795566999,
          3419.8556537769,
          3833.9554736656,
          4868.69334249867,
          12945.8987656046,
          2737.66796928956,
          13201.5971573119,
          1631.76688690255,
          3707.20184032332,
          3216.95698128539,
          4399.40290900408,
          3713.56716673984,
          3390.43833237725,
          1912.98094482378,
          5783.46473813232,
          6040.55153514634,
          1766.95176000579,
          1447.82400922424,
          4712.89878609269,
          7283.42973347539,
          2662.14251987663,
          1086.21541641644,
          4284.19431033128,
          2253.4446049056,
          15950.9748182935,
          2040.2028233245,
          4869.36995066115,
          2140.30216139102,
          5925.65099911226,
          11921.7683321048,
          4191.35763664287,
          7110.1405607655,
          2414.23577713055,
          5210.97631904754,
          11282.0383831626,
          19580.9603977274,
          7385.97920099802,
          8123.63937655994,
          10505.5318485924,
          3038.78679308726,
          1919.11083808976,
          1499.78141980485,
          13007.8181720555,
          1081.05317861491,
          4690.49868119498,
          3844.97821794141,
          8543.66884931229,
          2044.09189152086,
          3724.22811470996,
          13162.6406550902,
          2224.39699161574,
          8645.12197006983,
          5315.19961245863,
          1193.95315954741,
          6540.3460137263,
          3053.4210682319,
          6874.85090609242,
          4983.25996907374,
          9088.62220292443,
          1118.99606400156,
          4259.88486295142,
          2543.32254483468,
          2834.89711660608,
          16608.9310005038,
          3032.80494506098,
          5600.73590956977,
          2426.84045371653,
          5771.06947989755,
          1528.99225141463,
          5769.82599655999,
          2286.20154190655,
          2465.71333522378,
          2257.45000557894,
          4469.83228975629,
          10264.0494938096,
          3718.27381795452,
          2564.72447889326,
          15980.3721150479,
          2937.26386237847,
          10970.761470434,
          1262.02944755699,
          3255.32777152984,
          2427.71778588656,
          9803.53829964542,
          4330.76449953739,
          5296.43357817514,
          22412.1656832607,
          3115.70324716881,
          1192.52791352728,
          6611.62396637389,
          1310.39343748217,
          943.834205230431,
          46334.2971500375,
          3848.0872380126,
          4374.43226977816,
          785.172552582831,
          2911.57736872661,
          3638.89364647152,
          1283.0261650296,
          2457.62494957696,
          3696.64391745826,
          3524.35473057138,
          3387.78300384282,
          2400.67971648539,
          4044.52036362363,
          8276.63645371266,
          6914.91719693026,
          5578.30740368201,
          4376.77917045348,
          2709.08286101434,
          26927.5014424526,
          5401.33319678607,
          1671.74845281556,
          3776.05103741005,
          6232.39911631495,
          3331.69586705601,
          2057.36459657436,
          2015.49176698857,
          3387.44314399219,
          1690.27497825187,
          1327.54817465011,
          8543.89190937767,
          1982.86616841767,
          12972.344373816,
          1313.92209876606,
          2442.89771151958,
          1705.66388304894,
          1714.82048578449,
          1315.93526195438,
          5423.10291741848,
          3000.9716940091,
          1533.5236465198,
          2921.52280250168,
          5697.52755001299,
          3925.37078462294,
          1763.62754384259,
          2591.51290674397,
          1793.15267757046,
          7623.56776121279,
          11613.5509975057,
          6819.88407492624,
          26930.5681038205,
          13422.6433071874,
          3497.75831449778,
          3132.90309491379,
          3791.03660693567,
          17947.5794984523,
          1440.6208643656,
          2833.78404275757,
          1677.77352813302,
          2924.02135887306,
          1444.49781950992,
          10283.453059229,
          3100.23992458084,
          2146.02240273495,
          15534.0387137903,
          3640.90433838661,
          3165.07356999177,
          9454.05500194921,
          35430.6829991002,
          49421.1264196016,
          1312.85022099456,
          1497.06051935701,
          13507.946236945,
          2352.8406497263,
          8726.03838723185,
          1353.89702626143,
          5636.03208381615,
          1450.43441196988,
          16437.3523153827,
          4423.16718053668,
          4006.36476373687,
          1330.74014675197,
          2877.96117470036,
          1895.02884135301,
          5665.28351939786,
          44878.3838969926,
          2249.93566809482,
          3857.77627175479,
          2436.7516033269,
          1894.85759692682,
          6689.46296998052,
          3885.47692845937,
          5439.10286646769,
          5372.07037813732,
          3074.81774070005,
          2577.10514298083,
          1982.42070940392,
          4235.33119955636,
          3983.8825423769,
          2831.28174840487,
          516.074073139108,
          1728.28894036824,
          3026.19855573335,
          4873.32098055332,
          1243.05033647809,
          1555.65562920776,
          1759.86685295052,
          4431.24949065071,
          1229.19229560809,
          1938.94157404153,
          1443.79157306033,
          8885.34227278864,
          3468.3839799722,
          2377.57697213649,
          19088.8048523004,
          1536.86827640484,
          4800.78745541192,
          2442.91978981936,
          2621.10103037564,
          1924.99840060002,
          2478.51460390139,
          2001.11935528654,
          1531.85085211566,
          1805.13902512247,
          11415.7819201009,
          1071.58726010116,
          9955.3363734955,
          1499.76322382307,
          3436.50095454845,
          1294.33578430319,
          9457.52399852882,
          4000.34145420654,
          10679.6659078622,
          1063.80358012626,
          5959.75827109134,
          1783.23723838065,
          1930.16830191908,
          14696.1959638061,
          1473.31761693484,
          3463.54915705859,
          3498.52248418185,
          5352.26817703243,
          1787.31939423279,
          2837.94093065954,
          6137.35149932532,
          2557.83749945356,
          11730.3987985302,
          10600.5011944746,
          4269.58394221394,
          2811.66818303541,
          1945.17214539708,
          1246.0335319008,
          11011.3288983536,
          2461.45657556262,
          1918.72540390898,
          1899.78968597745,
          1868.32595577758,
          5926.8708928052,
          1713.30397153539,
          7945.57893307917,
          4202.02216074358,
          1583.3458161756,
          2562.98965303274,
          10108.4011196604,
          5886.62430280759,
          2335.14785906727,
          3183.15142724705,
          4516.12573910358,
          1138.18376944137,
          6666.67743069525,
          8467.53753830625,
          3085.08487862466,
          6500.86297499147,
          1627.99858041818,
          3255.84625792429,
          58542.3455913653,
          890.635790006949,
          16081.8608194489,
          4206.47476960342,
          4941.43500014126,
          821.47380296443,
          2474.82809693514,
          6146.76202566064,
          3720.38177672486,
          2317.93251437424,
          2662.57917838031,
          2322.98997437473,
          3713.62917119348,
          2412.34966391803,
          8641.23190514074,
          9804.23557529653,
          24529.0953479972,
          2519.76218305387,
          4574.09452246879,
          1256.62795376812,
          3967.32910672658,
          1627.51339319395,
          2377.69253886613,
          1409.9002095801,
          5199.83133035804,
          1866.59751044521,
          2358.72078331057,
          1863.27030802801,
          11538.9213204544,
          1486.79748834487,
          3163.59428233858,
          1312.98506936656,
          3553.54272583727,
          2987.16850587052,
          2150.68215796907,
          1728.51982497971,
          7029.22488908449,
          6170.86501716435,
          2457.59825728668,
          2987.19292520456,
          6424.58112852188,
          8096.82391004214,
          1997.68157579275,
          4954.85876917209,
          736.609697954342,
          7552.0544093799,
          13802.0555616151,
          2132.6609695797,
          2782.06495773842,
          4749.04175237609,
          1498.26600207293,
          538.386423278764,
          3214.01527461716,
          3057.44707741311,
          2415.55478147132,
          3773.95299093868,
          4199.50561387462,
          1197.78498173715,
          8528.72216553965,
          3236.69701145213,
          2143.96262640175,
          1638.51521140162,
          2085.44643869072,
          3532.61331830123,
          1631.54314732739,
          1248.98899014444,
          1243.47261176415,
          2888.08701391026,
          2301.98392691866,
          3483.17338810807,
          996.303008732669,
          2740.26493921343,
          829.248485610541,
          13911.7807274852,
          1588.16957824581,
          1684.00099928657,
          3127.17772716842,
          1186.3557633525,
          6807.96888632121,
          1185.50120073733,
          2112.02260833448,
          1349.33741188133,
          4995.40240493603,
          1108.64944168828,
          6420.80572580756,
          1537.4548008925,
          1318.43687615179,
          3353.46440921658,
          1307.44563098556,
          1612.45589411386,
          1897.06073259231,
          1856.192930151,
          7915.90185094009,
          584.218618178343,
          3069.61104019876,
          4736.37940689098,
          5771.04191989554,
          1934.84724748054,
          1241.03689571961,
          9031.03292684785,
          1942.9795330803,
          50076.763197907,
          3125.77721446845,
          1910.00673913978,
          1138.55910846102,
          2886.6698608285,
          11079.9101929407,
          2798.59429194642,
          4965.00047338161,
          14481.2869257662,
          4132.17604540671,
          10943.4377976701,
          3223.7323815659,
          1955.75907452393,
          4530.34381801687,
          1629.67631379429,
          16718.5693321391,
          4360.30610527706,
          3083.53480406385,
          35714.7858182923,
          1435.33806841741,
          4235.42353726261,
          1568.77648128209,
          2369.81212786814,
          2105.99970824987,
          74635.8219951032,
          1117.81805623919,
          1611.73937204165,
          1460.53968236205,
          2831.00451131055,
          3375.95420831625,
          4286.48196806268,
          1736.29901389066,
          11128.0768602317,
          6584.07471657432,
          735.461571545001,
          2513.40257671911,
          1307.61994080765,
          11873.3838159455,
          149281.320891036,
          3442.91489445955,
          1649.44529129466,
          1220.55377339031,
          4342.43889219259,
          1364.18005479789,
          472.751351950435,
          4434.65981868915,
          977.982083376996,
          2692.78672014902,
          6696.67789792705,
          1296.51748303417,
          2055.71852246231,
          1567.83058321889,
          8061.93505805293,
          1442.98986999206,
          6254.5783452894,
          3269.51760601218,
          52206.2679383373,
          13233.4866848593,
          2433.223557224,
          3914.12860606469,
          3511.95376221894,
          2083.23038705781,
          8763.65680858931,
          6040.19291161342,
          3459.06854194785,
          4512.24153394704,
          13617.1415024591,
          1917.54144662317,
          1327.31977143966,
          5502.07394748438,
          823.580279047458,
          1790.28908730119,
          6145.02168000688,
          3688.66451605856,
          1149.92861095142,
          1859.88077336889,
          20728.5255953562,
          45348.2755721517,
          2573.05496826894,
          1544.18818054166,
          5096.01300801636,
          30940.6051051321,
          20541.5425048303,
          798.041371839348,
          10855.9004844225,
          9023.08882296396,
          22853.5982148812,
          1218.48355767037,
          18558.183579326,
          7206.66548722467,
          948.853154296377,
          6465.14292361602,
          7466.44164823861,
          1789.57971189097,
          19950.7125014065,
          1389.40360254146,
          10203.3085337026,
          9271.74337193914,
          19121.6315711437,
          9589.37321782774,
          2795.25163802084,
          1060.31588735627,
          1121.28729734641,
          2273.83627416431,
          1504.57854751123,
          1256.11731326172,
          1071.58406308833,
          14500.6541154184,
          3422.54585011488,
          788.930745280918,
          2135.13233290273,
          35796.3615739488,
          25090.6146299973,
          10738.3389430248,
          3482.80539306562,
          3317.36322448838,
          2291.32988475257,
          5644.01739846435,
          3553.26436997565,
          4039.79044909312,
          1165.14102563882,
          1482.53871810019,
          818.637530996851,
          7496.77411934438,
          6730.24921303071,
          8085.52460216918,
          2437.50112052294,
          1258.26217792971,
          2178.3956123553,
          362.936207346189,
          4072.60604755591,
          19095.0680367014,
          23675.246460748,
          7008.61604414883,
          6831.6905949372,
          2112.84057191905,
          5593.89534507693,
          2389.99301896498,
          2267.36648658311,
          3386.32162619068,
          3785.07162785524,
          1657.55457790982,
          3836.07601792658,
          3823.35272740065,
          1590.42302091818,
          2705.71925239684,
          957.216887929467,
          7765.6453438242,
          5561.33346606957,
          10164.3262802283,
          2628.23847866254,
          6036.58110077241,
          3362.12152894668,
          4758.08012188853,
          19502.3760269348,
          8039.37905985476,
          1954.98126599147,
          3876.14881425593,
          8639.50685913433,
          5448.87670005652,
          5700.02703050662,
          1337.23881238316,
          5265.3180937971,
          2227.70705310438,
          7657.1933211,
          15031.8243352365,
          1220.57668764871,
          1525.76196521961,
          5333.04805174257,
          9364.15339695643,
          8788.787468614,
          1824.61469495468,
          2970.452667881,
          10027.5103154833,
          3713.87934562904,
          11323.2591856399,
          2957.95342085073,
          3498.41954824816,
          916.972908806833,
          9300.38146385819,
          1300.14474917127,
          4749.93192266239,
          2533.25052144845,
          1870.46440485908,
          1126.67801561108,
          1669.39576123172,
          43197.6870032141,
          12242.371159544,
          2227.56498682587,
          6882.69287921591,
          1101.75155102575,
          1063.44330160376,
          24197.0431060473,
          6691.23924296412,
          2741.16965331158,
          817.435606699384,
          3716.10446074267,
          59952.1790514909,
          4325.25525463623,
          1629.34580230971,
          1381.82304667716,
          1323.1008750631,
          1992.39841065114,
          2098.86951682467,
          2048.0157038886,
          1006.9116006427,
          1980.02279527151,
          2567.47648368178,
          773.987166302163,
          4289.75103225371,
          9107.19896456928,
          2933.38414183162,
          19895.0615851489,
          12861.9603214066,
          5787.42346858222,
          5007.30083852208,
          5593.84885248338,
          9525.86025239181,
          23960.1897030042,
          8144.22101763852,
          4057.09149257752,
          8708.80453801688,
          6170.96801441313,
          13373.9923711738,
          4212.6755060441,
          7994.04782893951,
          5703.2084366286,
          15641.6026123991,
          6201.18029857826,
          185256.974710796,
          3787.92790432207,
          7004.63474039132,
          7347.29874479337,
          3072.88464036963,
          10824.9852286844,
          56882.3076102237,
          8249.11405764321,
          15360.583309453,
          6959.99171103532,
          7302.97751440027,
          3504.30693442173,
          66425.9645996971,
          7722.08043262825,
          9703.23271492624,
          2016.10445331223,
          5863.20204279329,
          5998.67800419019,
          9120.13517871573,
          4467.89575725376,
          13082.0673554672,
          10930.1759089407,
          12643.2907635794,
          6806.74229579334,
          4763.38725575352,
          12032.8364861248,
          2390.91726541605,
          4040.4977568247,
          9788.07672430377,
          4751.67046223911,
          18272.0921444461,
          15779.1349603026,
          9917.50325390038,
          19736.1770058571,
          10228.014187539,
          8917.20118114923,
          19266.6545221768,
          3619.26126679584,
          17682.1083871993,
          10438.0796764012,
          4373.27171801409,
          45837.5359989436,
          8589.23488332245,
          12160.4985792283,
          15902.8390933247,
          2910.84466573958,
          10723.2507348423,
          3214.671265633,
          4884.43192829648,
          7201.70762221637,
          8054.64325334622,
          3090.85157280367,
          25801.3597787636,
          7042.80378897239,
          8070.37427523397,
          1980.59546852455,
          11556.7012083292,
          28086.3659783503,
          3536.73093976219,
          4079.07769496168,
          10070.129511916,
          30068.6657286678,
          6397.10372503624,
          3923.8803987367,
          4981.78011347403,
          6319.24381467183,
          3224.73672948035,
          7330.93532492874,
          1986.70724054218,
          498.313169705813,
          7403.74290766414,
          5377.77899524701,
          14746.2615870556,
          5505.51157235772,
          16814.408187806,
          18960.2059126511,
          4426.37076792055,
          11505.3043851463,
          45417.263542284,
          11941.8016811224,
          9959.13303585561,
          12860.8437228434,
          2516.54198118566,
          4109.61689268745,
          10768.358814662,
          9400.53028503347,
          6727.50289669077,
          10506.198222338,
          7730.16418792958,
          3895.24079645769,
          17512.1078445653,
          24150.9122064399,
          12277.50363031,
          19863.6573653279,
          1851.7630907711,
          13947.3251235248,
          125957.744373453,
          3336.58082910607,
          4420.57238880827,
          11033.473559415,
          4036.98227925636,
          9197.05106681354,
          2901.81749514781,
          4729.65865425502,
          3251.92442865156,
          2198.51265580992,
          22849.249109293,
          5833.61035230614,
          1624.32239499312,
          2873.55361632148,
          3819.17104487357,
          3220.78083828046,
          5202.75226255453,
          10125.9011612117,
          5964.55429239141,
          7180.30217091476,
          22912.0071651352,
          31665.9792655276,
          9228.1467627657,
          5285.13306992931,
          3828.33692160395,
          14349.2075601111,
          1164.14840512933,
          12457.4350198646,
          9775.45368540191,
          10118.4053488624,
          13692.6265783329,
          7303.20815757236,
          3620.12643636513,
          8971.56329994291,
          10008.366748825,
          2255.89867924712,
          4054.77920843941,
          2451.62802627069,
          2786.32863148649,
          9733.86620994349,
          12796.8754150834,
          9239.89060220441,
          6706.01697844229,
          10074.3113554187,
          6573.44536641995,
          3116.55319141376,
          4026.76543158158,
          9114.98636189952,
          10176.0678903834,
          1689.44414045187,
          7673.37027094934,
          24568.7591822022,
          1129.672514033,
          21178.5273251517,
          2266.51161727321,
          776.396626243911,
          23985.8872268708,
          7834.41626391011,
          3615.89374438309,
          8388.12358702664,
          2596.00527321126,
          10417.1573296884,
          19243.5925139638,
          8816.36935849493,
          10883.8862830154,
          1347.84389699703,
          6118.6500817574,
          987.579038583788,
          2627.22099653786,
          2812.05816985666,
          2193.94911257911,
          1803.30058591532,
          11676.9723547058,
          4260.56668706631,
          1846.38765922891,
          3450.11161381592,
          55896.2636817049,
          12330.9873752416,
          1228.52658447497,
          2616.42337657178,
          1372.0299213267,
          5857.33959162377,
          2190.83263719518,
          13539.0853646994,
          7572.58037678793,
          8122.3128326279,
          1009.73722912115,
          54980.1632799897,
          30676.4837303071,
          7028.24782314646,
          34146.6522965521,
          5871.0640873852,
          8654.97262926954,
          2045.57881486809,
          1791.02900317628,
          2830.40768278464,
          2573.69362774503,
          96438.6694028097,
          7550.64406780665,
          17427.0418273201,
          4132.52535206394,
          1992.549334032,
          4930.02841609749,
          7335.92749981166,
          2916.62517768459,
          5992.45004273756,
          11274.8424778581,
          1125.794030458,
          3669.99660408235,
          946.539530065994,
          81327.9515523414,
          12531.8241036188,
          810.575520175194,
          2171.5433129889,
          3846.42739866551,
          5073.36551832649,
          2816.23178756292,
          2686.80518388168,
          2233.75198225816,
          92350.9900530071,
          333.348806374377,
          7671.54441565892,
          211704.516381476,
          748.141783615185,
          2215.07501357906,
          1587.78770394517,
          6596.27627335504,
          4938.43986895427,
          3904.436492345,
          2104.03473401348,
          4850.82291205542,
          1717.4708015982,
          1160.92714383535,
          2969.91227416233,
          3821.67032814354,
          11902.1433513838,
          5164.23940479843,
          9376.10785481093,
          3635.00180314501,
          2203.86212093068,
          1501.80618431842,
          2999.28897919031,
          3549.66708346782,
          1196.98624449656,
          2243.93918203027,
          4365.07600513552,
          3601.49252797185,
          752.357484054196,
          3105.78155259404,
          3986.20821355707,
          6824.52644846506,
          19833.7757682373,
          2080.14691572954,
          1916.76531295007,
          2464.76964626144,
          5739.32439698293,
          3038.66081025809,
          3887.79675512432,
          7922.1816126103,
          3505.59174797319,
          3295.15425046622,
          1928.3468270051,
          19285.2935489822,
          2647.24887678868,
          7066.43512508193,
          5076.28546599193,
          3166.87993272886,
          1748.17039823729,
          20986.0886059044,
          11338.109521451,
          2177.287088383,
          1354.30075477043,
          6269.83073802052,
          3924.57274133974,
          23479.9147613744,
          1303.15081710683,
          8116.98346382814,
          1647.5905600184,
          809.343600461756,
          2071.40666216779,
          1281.26302425802,
          1090.28168360101,
          1506.94654138098,
          4889.59558818939,
          2070.45793781098,
          5574.94984339747,
          1835.15174353012,
          4943.17022797128,
          3734.79672588612,
          5421.30960276806,
          8937.30425263565,
          40468.9739703206,
          2829.66332392495,
          2525.58005859766,
          2860.23007649161,
          6140.69366664882,
          1968.5915670663,
          21645.2562394608,
          223791.314831388,
          16821.9158457921,
          10414.2486875451,
          13417.4724793144,
          3124.00086616161,
          6081.13081685666,
          1545.54201081016,
          3077.07562675428,
          1574.95315932631,
          1895.67961897932,
          9920.74876299111,
          2253.56588248789,
          8893.83270026527,
          3264.36250612561,
          6361.91998338753,
          17443.1043738351,
          8255.2362543213,
          1835.39599145165,
          12367.2529380721,
          1525.20428481173,
          17830.8883204804,
          2420.08358174255,
          2645.81097837284,
          1919.75741571964,
          9079.24651983413,
          4753.56483968414,
          10030.0423307473,
          2956.07976885689,
          3051.12097874697,
          20015.3199607233,
          1902.89137220224,
          3079.08655146869,
          22012.3682443068,
          25814.3456880188,
          1652.29564300615,
          1512.87173036215,
          2158.42183901094,
          6384.44709650782,
          701.919756651932,
          4445.54202892518,
          93509.0477839034,
          1347.73338887156,
          4059.82941266031,
          5397.74895798121,
          906.140565781199,
          2827.16186256258,
          5317.88874828013,
          1834.21323460085,
          11541.1290783145,
          13085.9176883499,
          901.419844638027,
          5872.75023104544,
          4928.77906007816,
          4804.83203606235,
          2946.46834055696,
          11619.7421770692,
          1296.11101800757,
          2981.8644622218,
          6695.11983592779,
          4727.37898799068,
          2564.81828672933,
          3032.53820414176,
          10519.9625086053,
          19361.8141856591,
          1211.45628182713,
          854.552449376453,
          8585.7972772247,
          4740.85330876201,
          1621.58611623065,
          2432.24843198587,
          4315.38886574004,
          2029.72716632822,
          45750.1711793283,
          2661.19275011231,
          8730.10152012335,
          2618.25369409439,
          1720.49984396187,
          18941.0884842559,
          1968.75261243934,
          9381.98301950487,
          859.419811824668,
          1965.39950185866,
          1386.7134637305,
          1700.78996065048,
          4413.75296088246,
          1796.21909119368,
          6075.23187488612,
          1974.41235054429,
          11137.0901798938,
          5401.62828905194,
          13025.9322429496,
          8682.776400243,
          40366.5325350609,
          7452.7649397549,
          21228.7766018072,
          1381.30096995579,
          1852.39970946746,
          16249.530230554,
          1822.5836067906,
          11857.7712972524,
          3581.31623918696,
          2058.37814434488,
          1264.74700508134,
          57135.4263987255,
          8166.31915268944,
          3035.82761669371,
          2354.02100016458,
          2314.83719292389,
          2353.27553257811,
          11349.317791125,
          1980.84286593878,
          3014.75349777469,
          2256.84781310338,
          1680.16521961763,
          2193.04477456149,
          6703.18020972874,
          2483.7293524411,
          1847.25181943105,
          31293.8602553262,
          7990.00434352229,
          3835.1032966487,
          7112.32796206387,
          549.639164614024,
          8742.8490039983,
          3011.35338961105,
          13125.666388617,
          2177.23866141835,
          1184.49155600815,
          2890.42979221996,
          41357.0171357605,
          3979.57613169905,
          9023.41458399194,
          4229.83395220648,
          2062.49710618895,
          1891.46359341499,
          1962.54468289519,
          3581.70920489973,
          1014.34100467859,
          38705.8017354492,
          2229.60235999824,
          2237.60575152581,
          2587.66769656895,
          1917.95926918509,
          15132.8239507402,
          7848.85492892251,
          1510.98522010247,
          43883.2754645419,
          1958.75254586162,
          6447.49509952117,
          3723.82644920695,
          2765.02167954696,
          3586.44370554922,
          385275.713963804
         ]
        }
       ],
       "layout": {
        "coloraxis": {
         "colorbar": {
          "title": {
           "text": "Quantidade de Pessoas em Situação de Vulnerabilidade"
          }
         },
         "colorscale": [
          [
           0,
           "#440154"
          ],
          [
           0.1111111111111111,
           "#482878"
          ],
          [
           0.2222222222222222,
           "#3e4989"
          ],
          [
           0.3333333333333333,
           "#31688e"
          ],
          [
           0.4444444444444444,
           "#26828e"
          ],
          [
           0.5555555555555556,
           "#1f9e89"
          ],
          [
           0.6666666666666666,
           "#35b779"
          ],
          [
           0.7777777777777778,
           "#6ece58"
          ],
          [
           0.8888888888888888,
           "#b5de2b"
          ],
          [
           1,
           "#fde725"
          ]
         ]
        },
        "geo": {
         "center": {},
         "domain": {
          "x": [
           0,
           1
          ],
          "y": [
           0,
           1
          ]
         },
         "fitbounds": "locations",
         "showcoastlines": true,
         "showcountries": false,
         "showland": true
        },
        "legend": {
         "tracegroupgap": 0
        },
        "margin": {
         "t": 60
        },
        "template": {
         "data": {
          "bar": [
           {
            "error_x": {
             "color": "#2a3f5f"
            },
            "error_y": {
             "color": "#2a3f5f"
            },
            "marker": {
             "line": {
              "color": "#E5ECF6",
              "width": 0.5
             },
             "pattern": {
              "fillmode": "overlay",
              "size": 10,
              "solidity": 0.2
             }
            },
            "type": "bar"
           }
          ],
          "barpolar": [
           {
            "marker": {
             "line": {
              "color": "#E5ECF6",
              "width": 0.5
             },
             "pattern": {
              "fillmode": "overlay",
              "size": 10,
              "solidity": 0.2
             }
            },
            "type": "barpolar"
           }
          ],
          "carpet": [
           {
            "aaxis": {
             "endlinecolor": "#2a3f5f",
             "gridcolor": "white",
             "linecolor": "white",
             "minorgridcolor": "white",
             "startlinecolor": "#2a3f5f"
            },
            "baxis": {
             "endlinecolor": "#2a3f5f",
             "gridcolor": "white",
             "linecolor": "white",
             "minorgridcolor": "white",
             "startlinecolor": "#2a3f5f"
            },
            "type": "carpet"
           }
          ],
          "choropleth": [
           {
            "colorbar": {
             "outlinewidth": 0,
             "ticks": ""
            },
            "type": "choropleth"
           }
          ],
          "contour": [
           {
            "colorbar": {
             "outlinewidth": 0,
             "ticks": ""
            },
            "colorscale": [
             [
              0,
              "#0d0887"
             ],
             [
              0.1111111111111111,
              "#46039f"
             ],
             [
              0.2222222222222222,
              "#7201a8"
             ],
             [
              0.3333333333333333,
              "#9c179e"
             ],
             [
              0.4444444444444444,
              "#bd3786"
             ],
             [
              0.5555555555555556,
              "#d8576b"
             ],
             [
              0.6666666666666666,
              "#ed7953"
             ],
             [
              0.7777777777777778,
              "#fb9f3a"
             ],
             [
              0.8888888888888888,
              "#fdca26"
             ],
             [
              1,
              "#f0f921"
             ]
            ],
            "type": "contour"
           }
          ],
          "contourcarpet": [
           {
            "colorbar": {
             "outlinewidth": 0,
             "ticks": ""
            },
            "type": "contourcarpet"
           }
          ],
          "heatmap": [
           {
            "colorbar": {
             "outlinewidth": 0,
             "ticks": ""
            },
            "colorscale": [
             [
              0,
              "#0d0887"
             ],
             [
              0.1111111111111111,
              "#46039f"
             ],
             [
              0.2222222222222222,
              "#7201a8"
             ],
             [
              0.3333333333333333,
              "#9c179e"
             ],
             [
              0.4444444444444444,
              "#bd3786"
             ],
             [
              0.5555555555555556,
              "#d8576b"
             ],
             [
              0.6666666666666666,
              "#ed7953"
             ],
             [
              0.7777777777777778,
              "#fb9f3a"
             ],
             [
              0.8888888888888888,
              "#fdca26"
             ],
             [
              1,
              "#f0f921"
             ]
            ],
            "type": "heatmap"
           }
          ],
          "heatmapgl": [
           {
            "colorbar": {
             "outlinewidth": 0,
             "ticks": ""
            },
            "colorscale": [
             [
              0,
              "#0d0887"
             ],
             [
              0.1111111111111111,
              "#46039f"
             ],
             [
              0.2222222222222222,
              "#7201a8"
             ],
             [
              0.3333333333333333,
              "#9c179e"
             ],
             [
              0.4444444444444444,
              "#bd3786"
             ],
             [
              0.5555555555555556,
              "#d8576b"
             ],
             [
              0.6666666666666666,
              "#ed7953"
             ],
             [
              0.7777777777777778,
              "#fb9f3a"
             ],
             [
              0.8888888888888888,
              "#fdca26"
             ],
             [
              1,
              "#f0f921"
             ]
            ],
            "type": "heatmapgl"
           }
          ],
          "histogram": [
           {
            "marker": {
             "pattern": {
              "fillmode": "overlay",
              "size": 10,
              "solidity": 0.2
             }
            },
            "type": "histogram"
           }
          ],
          "histogram2d": [
           {
            "colorbar": {
             "outlinewidth": 0,
             "ticks": ""
            },
            "colorscale": [
             [
              0,
              "#0d0887"
             ],
             [
              0.1111111111111111,
              "#46039f"
             ],
             [
              0.2222222222222222,
              "#7201a8"
             ],
             [
              0.3333333333333333,
              "#9c179e"
             ],
             [
              0.4444444444444444,
              "#bd3786"
             ],
             [
              0.5555555555555556,
              "#d8576b"
             ],
             [
              0.6666666666666666,
              "#ed7953"
             ],
             [
              0.7777777777777778,
              "#fb9f3a"
             ],
             [
              0.8888888888888888,
              "#fdca26"
             ],
             [
              1,
              "#f0f921"
             ]
            ],
            "type": "histogram2d"
           }
          ],
          "histogram2dcontour": [
           {
            "colorbar": {
             "outlinewidth": 0,
             "ticks": ""
            },
            "colorscale": [
             [
              0,
              "#0d0887"
             ],
             [
              0.1111111111111111,
              "#46039f"
             ],
             [
              0.2222222222222222,
              "#7201a8"
             ],
             [
              0.3333333333333333,
              "#9c179e"
             ],
             [
              0.4444444444444444,
              "#bd3786"
             ],
             [
              0.5555555555555556,
              "#d8576b"
             ],
             [
              0.6666666666666666,
              "#ed7953"
             ],
             [
              0.7777777777777778,
              "#fb9f3a"
             ],
             [
              0.8888888888888888,
              "#fdca26"
             ],
             [
              1,
              "#f0f921"
             ]
            ],
            "type": "histogram2dcontour"
           }
          ],
          "mesh3d": [
           {
            "colorbar": {
             "outlinewidth": 0,
             "ticks": ""
            },
            "type": "mesh3d"
           }
          ],
          "parcoords": [
           {
            "line": {
             "colorbar": {
              "outlinewidth": 0,
              "ticks": ""
             }
            },
            "type": "parcoords"
           }
          ],
          "pie": [
           {
            "automargin": true,
            "type": "pie"
           }
          ],
          "scatter": [
           {
            "fillpattern": {
             "fillmode": "overlay",
             "size": 10,
             "solidity": 0.2
            },
            "type": "scatter"
           }
          ],
          "scatter3d": [
           {
            "line": {
             "colorbar": {
              "outlinewidth": 0,
              "ticks": ""
             }
            },
            "marker": {
             "colorbar": {
              "outlinewidth": 0,
              "ticks": ""
             }
            },
            "type": "scatter3d"
           }
          ],
          "scattercarpet": [
           {
            "marker": {
             "colorbar": {
              "outlinewidth": 0,
              "ticks": ""
             }
            },
            "type": "scattercarpet"
           }
          ],
          "scattergeo": [
           {
            "marker": {
             "colorbar": {
              "outlinewidth": 0,
              "ticks": ""
             }
            },
            "type": "scattergeo"
           }
          ],
          "scattergl": [
           {
            "marker": {
             "colorbar": {
              "outlinewidth": 0,
              "ticks": ""
             }
            },
            "type": "scattergl"
           }
          ],
          "scattermapbox": [
           {
            "marker": {
             "colorbar": {
              "outlinewidth": 0,
              "ticks": ""
             }
            },
            "type": "scattermapbox"
           }
          ],
          "scatterpolar": [
           {
            "marker": {
             "colorbar": {
              "outlinewidth": 0,
              "ticks": ""
             }
            },
            "type": "scatterpolar"
           }
          ],
          "scatterpolargl": [
           {
            "marker": {
             "colorbar": {
              "outlinewidth": 0,
              "ticks": ""
             }
            },
            "type": "scatterpolargl"
           }
          ],
          "scatterternary": [
           {
            "marker": {
             "colorbar": {
              "outlinewidth": 0,
              "ticks": ""
             }
            },
            "type": "scatterternary"
           }
          ],
          "surface": [
           {
            "colorbar": {
             "outlinewidth": 0,
             "ticks": ""
            },
            "colorscale": [
             [
              0,
              "#0d0887"
             ],
             [
              0.1111111111111111,
              "#46039f"
             ],
             [
              0.2222222222222222,
              "#7201a8"
             ],
             [
              0.3333333333333333,
              "#9c179e"
             ],
             [
              0.4444444444444444,
              "#bd3786"
             ],
             [
              0.5555555555555556,
              "#d8576b"
             ],
             [
              0.6666666666666666,
              "#ed7953"
             ],
             [
              0.7777777777777778,
              "#fb9f3a"
             ],
             [
              0.8888888888888888,
              "#fdca26"
             ],
             [
              1,
              "#f0f921"
             ]
            ],
            "type": "surface"
           }
          ],
          "table": [
           {
            "cells": {
             "fill": {
              "color": "#EBF0F8"
             },
             "line": {
              "color": "white"
             }
            },
            "header": {
             "fill": {
              "color": "#C8D4E3"
             },
             "line": {
              "color": "white"
             }
            },
            "type": "table"
           }
          ]
         },
         "layout": {
          "annotationdefaults": {
           "arrowcolor": "#2a3f5f",
           "arrowhead": 0,
           "arrowwidth": 1
          },
          "autotypenumbers": "strict",
          "coloraxis": {
           "colorbar": {
            "outlinewidth": 0,
            "ticks": ""
           }
          },
          "colorscale": {
           "diverging": [
            [
             0,
             "#8e0152"
            ],
            [
             0.1,
             "#c51b7d"
            ],
            [
             0.2,
             "#de77ae"
            ],
            [
             0.3,
             "#f1b6da"
            ],
            [
             0.4,
             "#fde0ef"
            ],
            [
             0.5,
             "#f7f7f7"
            ],
            [
             0.6,
             "#e6f5d0"
            ],
            [
             0.7,
             "#b8e186"
            ],
            [
             0.8,
             "#7fbc41"
            ],
            [
             0.9,
             "#4d9221"
            ],
            [
             1,
             "#276419"
            ]
           ],
           "sequential": [
            [
             0,
             "#0d0887"
            ],
            [
             0.1111111111111111,
             "#46039f"
            ],
            [
             0.2222222222222222,
             "#7201a8"
            ],
            [
             0.3333333333333333,
             "#9c179e"
            ],
            [
             0.4444444444444444,
             "#bd3786"
            ],
            [
             0.5555555555555556,
             "#d8576b"
            ],
            [
             0.6666666666666666,
             "#ed7953"
            ],
            [
             0.7777777777777778,
             "#fb9f3a"
            ],
            [
             0.8888888888888888,
             "#fdca26"
            ],
            [
             1,
             "#f0f921"
            ]
           ],
           "sequentialminus": [
            [
             0,
             "#0d0887"
            ],
            [
             0.1111111111111111,
             "#46039f"
            ],
            [
             0.2222222222222222,
             "#7201a8"
            ],
            [
             0.3333333333333333,
             "#9c179e"
            ],
            [
             0.4444444444444444,
             "#bd3786"
            ],
            [
             0.5555555555555556,
             "#d8576b"
            ],
            [
             0.6666666666666666,
             "#ed7953"
            ],
            [
             0.7777777777777778,
             "#fb9f3a"
            ],
            [
             0.8888888888888888,
             "#fdca26"
            ],
            [
             1,
             "#f0f921"
            ]
           ]
          },
          "colorway": [
           "#636efa",
           "#EF553B",
           "#00cc96",
           "#ab63fa",
           "#FFA15A",
           "#19d3f3",
           "#FF6692",
           "#B6E880",
           "#FF97FF",
           "#FECB52"
          ],
          "font": {
           "color": "#2a3f5f"
          },
          "geo": {
           "bgcolor": "white",
           "lakecolor": "white",
           "landcolor": "#E5ECF6",
           "showlakes": true,
           "showland": true,
           "subunitcolor": "white"
          },
          "hoverlabel": {
           "align": "left"
          },
          "hovermode": "closest",
          "mapbox": {
           "style": "light"
          },
          "paper_bgcolor": "white",
          "plot_bgcolor": "#E5ECF6",
          "polar": {
           "angularaxis": {
            "gridcolor": "white",
            "linecolor": "white",
            "ticks": ""
           },
           "bgcolor": "#E5ECF6",
           "radialaxis": {
            "gridcolor": "white",
            "linecolor": "white",
            "ticks": ""
           }
          },
          "scene": {
           "xaxis": {
            "backgroundcolor": "#E5ECF6",
            "gridcolor": "white",
            "gridwidth": 2,
            "linecolor": "white",
            "showbackground": true,
            "ticks": "",
            "zerolinecolor": "white"
           },
           "yaxis": {
            "backgroundcolor": "#E5ECF6",
            "gridcolor": "white",
            "gridwidth": 2,
            "linecolor": "white",
            "showbackground": true,
            "ticks": "",
            "zerolinecolor": "white"
           },
           "zaxis": {
            "backgroundcolor": "#E5ECF6",
            "gridcolor": "white",
            "gridwidth": 2,
            "linecolor": "white",
            "showbackground": true,
            "ticks": "",
            "zerolinecolor": "white"
           }
          },
          "shapedefaults": {
           "line": {
            "color": "#2a3f5f"
           }
          },
          "ternary": {
           "aaxis": {
            "gridcolor": "white",
            "linecolor": "white",
            "ticks": ""
           },
           "baxis": {
            "gridcolor": "white",
            "linecolor": "white",
            "ticks": ""
           },
           "bgcolor": "#E5ECF6",
           "caxis": {
            "gridcolor": "white",
            "linecolor": "white",
            "ticks": ""
           }
          },
          "title": {
           "x": 0.05
          },
          "xaxis": {
           "automargin": true,
           "gridcolor": "white",
           "linecolor": "white",
           "ticks": "",
           "title": {
            "standoff": 15
           },
           "zerolinecolor": "white",
           "zerolinewidth": 2
          },
          "yaxis": {
           "automargin": true,
           "gridcolor": "white",
           "linecolor": "white",
           "ticks": "",
           "title": {
            "standoff": 15
           },
           "zerolinecolor": "white",
           "zerolinewidth": 2
          }
         }
        }
       }
      }
     },
     "metadata": {},
     "output_type": "display_data"
    }
   ],
   "source": [
    "fig = px.choropleth(dataframeBase, geojson=brasil, locations='cod_mun', color='qtd_pes_pob_vul',\n",
    "                           color_continuous_scale=\"Viridis\",\n",
    "                           labels={'qtd_pes_pob_vul':'Quantidade de Pessoas em Situação de Vulnerabilidade'}\n",
    "                          )\n",
    "\n",
    "fig.update_geos(showcountries=False, showcoastlines=True, showland=True, fitbounds=\"locations\")\n",
    "\n",
    "fig.show()"
   ]
  }
 ],
 "metadata": {
  "kernelspec": {
   "display_name": "base",
   "language": "python",
   "name": "python3"
  },
  "language_info": {
   "codemirror_mode": {
    "name": "ipython",
    "version": 3
   },
   "file_extension": ".py",
   "mimetype": "text/x-python",
   "name": "python",
   "nbconvert_exporter": "python",
   "pygments_lexer": "ipython3",
   "version": "3.11.4"
  },
  "orig_nbformat": 4,
  "vscode": {
   "interpreter": {
    "hash": "ec6f25a0c8e777c9fed21a2560497e0f7c4746909b19b4c7c2dc2a840bd776e8"
   }
  }
 },
 "nbformat": 4,
 "nbformat_minor": 2
}
